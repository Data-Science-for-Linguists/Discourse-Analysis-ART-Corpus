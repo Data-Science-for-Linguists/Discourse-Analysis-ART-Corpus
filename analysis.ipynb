{
 "cells": [
  {
   "cell_type": "markdown",
   "metadata": {},
   "source": [
    "Alicia Sigmon\n",
    "\n",
    "als333@pitt.edu \n",
    "\n",
    "12/03/17\n",
    "\n",
    "# Discourse Analysis of the Australian Radio Talkback Corpus\n",
    "\n",
    "This file starts where [process-art-corpus.ipynb](https://github.com/Data-Science-for-Linguists/Discourse-Analysis-ART-Corpus/blob/master/process-art-corpus.ipynb) left off, and is the analysis portion of this project.\n",
    "\n",
    "### Table of Contents\n",
    "- [About the Data](#About-the-Data)\n",
    "- [Plan](#Plan)\n",
    "- [Resource for Gender Analysis](#Resource-for-Gender-Analysis)\n",
    "- [Reading in Data Frames](#Reading-in-Data-Frames)\n",
    "    - [Data Frames Summary](#Data-Frames-Summary)\n",
    "    - [Splitting Speakers by Role](#Splitting-Speakers-by-Role)\n",
    "    - [All Presenters](#All-Presenters)\n",
    "- [Distribution of Speakers](#Distribution-of-Speakers)\n",
    "    - [How many Speakers are there for each Role?](#How-many-Speakers-are-there-for-each-Role?)\n",
    "    - [How many Males vs. Females?](#How-many-Males-vs.-Females?)\n",
    "    - [How are Males and Females distributed across Roles?](#How-are-Males-and-Females-distributed-across-Roles?)\n",
    "        - [Gender Equality](#Gender-Equality)\n",
    "- [Comparison by Speaker Type](#Comparison-by-Speaker-Type)\n",
    "    - [Analysis](#Analysis)\n",
    "- [Comparison by Gender](#Comparison-by-Gender)\n",
    "- [Back Channels](#Back-Channels)\n",
    "    - [What are the Back Channels? Which ones are most common?](#What-are-the-Back-Channels?-Which-ones-are-most-common?)\n",
    "    - [What Speaker Type has the most Back Channels?](#What-Speaker-Type-has-the-most-Back-Channels?)\n",
    "    - [What Speaker Type has the most number of Back Channels uttered during their lines?](#What-Speaker-Type-has-the-most-number-of-Back-Channels-uttered-during-their-lines?)\n",
    "    - [What Gender utters the most Back Channels?](#What-Gender-utters-the-most-Back-Channels?)\n",
    "    - [What Gender has the most Back Channels uttered while they are speaking?](#What-Gender-has-the-most-Back-Channels-uttered-while-they-are-speaking?)\n",
    "    - [Are Men more likely to utter Back Channels when a Women or Man is speaking? How about the other way around?](#Are-Men-more-likely-to-utter-Back-Channels-when-a-Women-or-Man-is-speaking?-How-about-the-other-way-around?)\n",
    "    - [How do Male and Female Most Common Back Channels Compare?](#How-do-Male-and-Female-Most-Common-Back-Channels-Compare?)\n",
    "- [Presenter Gender Analysis](#Presenter-Gender-Analysis)"
   ]
  },
  {
   "cell_type": "markdown",
   "metadata": {},
   "source": [
    "## About the Data\n",
    "- 27 transcribed recordings of samples of national, regional and commercial Australian talkback radio from 2004 to 2006.\n",
    "- *raw files* and text files\n",
    "- Closed Data\n",
    "\n",
    "\n",
    "## Plan \n",
    "- Original Format\n",
    "- Formatting\n",
    "- Speaker Analyses\n",
    "- Gender Analyses \n",
    "- Back Channel Analyses\n",
    "\n",
    "## Resource for Gender Analysis\n",
    "Language Log Article: [Men Interrupt More than Women](http://languagelog.ldc.upenn.edu/nll/?p=13422)\n",
    "*Discuss this article here, and then use in analysis for final_report.md.*"
   ]
  },
  {
   "cell_type": "code",
   "execution_count": 1,
   "metadata": {},
   "outputs": [
    {
     "name": "stdout",
     "output_type": "stream",
     "text": [
      "Pretty printing has been turned OFF\n"
     ]
    }
   ],
   "source": [
    "%pprint"
   ]
  },
  {
   "cell_type": "code",
   "execution_count": 2,
   "metadata": {},
   "outputs": [],
   "source": [
    "from IPython.core.interactiveshell import InteractiveShell\n",
    "InteractiveShell.ast_node_interactivity = \"all\""
   ]
  },
  {
   "cell_type": "code",
   "execution_count": 3,
   "metadata": {},
   "outputs": [],
   "source": [
    "import nltk\n",
    "import pandas as pd\n",
    "\n",
    "# visualization tools\n",
    "import matplotlib as mpl\n",
    "import matplotlib.pyplot as plt\n",
    "plt.style.use('classic')"
   ]
  },
  {
   "cell_type": "markdown",
   "metadata": {},
   "source": [
    "## Reading in Data Frames"
   ]
  },
  {
   "cell_type": "code",
   "execution_count": 4,
   "metadata": {},
   "outputs": [],
   "source": [
    "# reading in data frames\n",
    "speaker_df=pd.read_csv(\"data_files/Speakers.csv\")\n",
    "art_df=pd.read_csv(\"data_files/Texts.csv\")\n",
    "bk_df=pd.read_csv(\"data_files/Back_Channels.csv\")\n",
    "\n",
    "# speaker_df.head()\n",
    "# art_df.head()\n",
    "# bk_df.head()"
   ]
  },
  {
   "cell_type": "markdown",
   "metadata": {},
   "source": [
    "### Data Frames Summary\n",
    "\n",
    "- speaker_df\n",
    "    - data frame of all unique speakers\n",
    "- art_df\n",
    "    - data frame of each line of text\n",
    "- bk_df\n",
    "    - data frame of all back channels"
   ]
  },
  {
   "cell_type": "code",
   "execution_count": 5,
   "metadata": {},
   "outputs": [
    {
     "name": "stdout",
     "output_type": "stream",
     "text": [
      "Speaker Data Frame:\n"
     ]
    },
    {
     "data": {
      "text/html": [
       "<div>\n",
       "<style scoped>\n",
       "    .dataframe tbody tr th:only-of-type {\n",
       "        vertical-align: middle;\n",
       "    }\n",
       "\n",
       "    .dataframe tbody tr th {\n",
       "        vertical-align: top;\n",
       "    }\n",
       "\n",
       "    .dataframe thead th {\n",
       "        text-align: right;\n",
       "    }\n",
       "</style>\n",
       "<table border=\"1\" class=\"dataframe\">\n",
       "  <thead>\n",
       "    <tr style=\"text-align: right;\">\n",
       "      <th></th>\n",
       "      <th>Segment</th>\n",
       "      <th>Speaker_Type</th>\n",
       "      <th>Gender</th>\n",
       "      <th>Name</th>\n",
       "      <th>Number_of_Utterances</th>\n",
       "    </tr>\n",
       "    <tr>\n",
       "      <th>Speaker</th>\n",
       "      <th></th>\n",
       "      <th></th>\n",
       "      <th></th>\n",
       "      <th></th>\n",
       "      <th></th>\n",
       "    </tr>\n",
       "  </thead>\n",
       "  <tbody>\n",
       "    <tr>\n",
       "      <th>ABCE1-C1</th>\n",
       "      <td>ABCE1</td>\n",
       "      <td>C</td>\n",
       "      <td>F</td>\n",
       "      <td>Suzanne</td>\n",
       "      <td>17</td>\n",
       "    </tr>\n",
       "    <tr>\n",
       "      <th>ABCE1-C10</th>\n",
       "      <td>ABCE1</td>\n",
       "      <td>C</td>\n",
       "      <td>F</td>\n",
       "      <td>Beth</td>\n",
       "      <td>17</td>\n",
       "    </tr>\n",
       "    <tr>\n",
       "      <th>ABCE1-C11</th>\n",
       "      <td>ABCE1</td>\n",
       "      <td>C</td>\n",
       "      <td>F</td>\n",
       "      <td>Lynne</td>\n",
       "      <td>10</td>\n",
       "    </tr>\n",
       "    <tr>\n",
       "      <th>ABCE1-C12</th>\n",
       "      <td>ABCE1</td>\n",
       "      <td>C</td>\n",
       "      <td>M</td>\n",
       "      <td>Jack</td>\n",
       "      <td>12</td>\n",
       "    </tr>\n",
       "    <tr>\n",
       "      <th>ABCE1-C2</th>\n",
       "      <td>ABCE1</td>\n",
       "      <td>C</td>\n",
       "      <td>F</td>\n",
       "      <td>Lisa</td>\n",
       "      <td>13</td>\n",
       "    </tr>\n",
       "  </tbody>\n",
       "</table>\n",
       "</div>"
      ],
      "text/plain": [
       "          Segment Speaker_Type Gender     Name  Number_of_Utterances\n",
       "Speaker                                                             \n",
       "ABCE1-C1    ABCE1            C      F  Suzanne                    17\n",
       "ABCE1-C10   ABCE1            C      F     Beth                    17\n",
       "ABCE1-C11   ABCE1            C      F    Lynne                    10\n",
       "ABCE1-C12   ABCE1            C      M     Jack                    12\n",
       "ABCE1-C2    ABCE1            C      F     Lisa                    13"
      ]
     },
     "execution_count": 5,
     "metadata": {},
     "output_type": "execute_result"
    },
    {
     "name": "stdout",
     "output_type": "stream",
     "text": [
      "Lines of Text Data Frame:\n"
     ]
    },
    {
     "data": {
      "text/html": [
       "<div>\n",
       "<style scoped>\n",
       "    .dataframe tbody tr th:only-of-type {\n",
       "        vertical-align: middle;\n",
       "    }\n",
       "\n",
       "    .dataframe tbody tr th {\n",
       "        vertical-align: top;\n",
       "    }\n",
       "\n",
       "    .dataframe thead th {\n",
       "        text-align: right;\n",
       "    }\n",
       "</style>\n",
       "<table border=\"1\" class=\"dataframe\">\n",
       "  <thead>\n",
       "    <tr style=\"text-align: right;\">\n",
       "      <th></th>\n",
       "      <th></th>\n",
       "      <th>Segment</th>\n",
       "      <th>Speaker_Type</th>\n",
       "      <th>Gender</th>\n",
       "      <th>Text</th>\n",
       "      <th>Word_Toks</th>\n",
       "      <th>Num_Words</th>\n",
       "      <th>Avg_Word_Length</th>\n",
       "      <th>Sents</th>\n",
       "      <th>Num_Sents</th>\n",
       "    </tr>\n",
       "    <tr>\n",
       "      <th>Speaker</th>\n",
       "      <th>Utterance_Number</th>\n",
       "      <th></th>\n",
       "      <th></th>\n",
       "      <th></th>\n",
       "      <th></th>\n",
       "      <th></th>\n",
       "      <th></th>\n",
       "      <th></th>\n",
       "      <th></th>\n",
       "      <th></th>\n",
       "    </tr>\n",
       "  </thead>\n",
       "  <tbody>\n",
       "    <tr>\n",
       "      <th>ABCE1-P1</th>\n",
       "      <th>1</th>\n",
       "      <td>ABCE1</td>\n",
       "      <td>P</td>\n",
       "      <td>M</td>\n",
       "      <td>Thanks for that John Hall now John Hall will b...</td>\n",
       "      <td>['Thanks', 'for', 'that', 'John', 'Hall', 'now...</td>\n",
       "      <td>80</td>\n",
       "      <td>4.700000</td>\n",
       "      <td>[\"Thanks for that John Hall now John Hall will...</td>\n",
       "      <td>2</td>\n",
       "    </tr>\n",
       "    <tr>\n",
       "      <th>ABCE1-E1</th>\n",
       "      <th>2</th>\n",
       "      <td>ABCE1</td>\n",
       "      <td>E</td>\n",
       "      <td>M</td>\n",
       "      <td>I guess yeah yeah &lt;laughs&gt;.</td>\n",
       "      <td>['I', 'guess', 'yeah', 'yeah', '.']</td>\n",
       "      <td>5</td>\n",
       "      <td>3.000000</td>\n",
       "      <td>['I guess yeah yeah .']</td>\n",
       "      <td>1</td>\n",
       "    </tr>\n",
       "    <tr>\n",
       "      <th>ABCE1-P1</th>\n",
       "      <th>3</th>\n",
       "      <td>ABCE1</td>\n",
       "      <td>P</td>\n",
       "      <td>M</td>\n",
       "      <td>He's also known &lt;E1 sounds reasonable&gt; for his...</td>\n",
       "      <td>['He', \"'s\", 'also', 'known', 'for', 'his', 'a...</td>\n",
       "      <td>159</td>\n",
       "      <td>5.062893</td>\n",
       "      <td>[\"He's also known  for his ability to open cos...</td>\n",
       "      <td>3</td>\n",
       "    </tr>\n",
       "    <tr>\n",
       "      <th>ABCE1-E1</th>\n",
       "      <th>4</th>\n",
       "      <td>ABCE1</td>\n",
       "      <td>E</td>\n",
       "      <td>M</td>\n",
       "      <td>Okay.</td>\n",
       "      <td>['Okay', '.']</td>\n",
       "      <td>2</td>\n",
       "      <td>2.500000</td>\n",
       "      <td>['Okay.']</td>\n",
       "      <td>1</td>\n",
       "    </tr>\n",
       "    <tr>\n",
       "      <th>ABCE1-P1</th>\n",
       "      <th>5</th>\n",
       "      <td>ABCE1</td>\n",
       "      <td>P</td>\n",
       "      <td>M</td>\n",
       "      <td>Jeanne Villani does and we'll find out the sec...</td>\n",
       "      <td>['Jeanne', 'Villani', 'does', 'and', 'we', \"'l...</td>\n",
       "      <td>50</td>\n",
       "      <td>3.980000</td>\n",
       "      <td>[\"Jeanne Villani does and we'll find out the s...</td>\n",
       "      <td>1</td>\n",
       "    </tr>\n",
       "  </tbody>\n",
       "</table>\n",
       "</div>"
      ],
      "text/plain": [
       "                          Segment Speaker_Type Gender  \\\n",
       "Speaker  Utterance_Number                               \n",
       "ABCE1-P1 1                  ABCE1            P      M   \n",
       "ABCE1-E1 2                  ABCE1            E      M   \n",
       "ABCE1-P1 3                  ABCE1            P      M   \n",
       "ABCE1-E1 4                  ABCE1            E      M   \n",
       "ABCE1-P1 5                  ABCE1            P      M   \n",
       "\n",
       "                                                                        Text  \\\n",
       "Speaker  Utterance_Number                                                      \n",
       "ABCE1-P1 1                 Thanks for that John Hall now John Hall will b...   \n",
       "ABCE1-E1 2                                       I guess yeah yeah <laughs>.   \n",
       "ABCE1-P1 3                 He's also known <E1 sounds reasonable> for his...   \n",
       "ABCE1-E1 4                                                             Okay.   \n",
       "ABCE1-P1 5                 Jeanne Villani does and we'll find out the sec...   \n",
       "\n",
       "                                                                   Word_Toks  \\\n",
       "Speaker  Utterance_Number                                                      \n",
       "ABCE1-P1 1                 ['Thanks', 'for', 'that', 'John', 'Hall', 'now...   \n",
       "ABCE1-E1 2                               ['I', 'guess', 'yeah', 'yeah', '.']   \n",
       "ABCE1-P1 3                 ['He', \"'s\", 'also', 'known', 'for', 'his', 'a...   \n",
       "ABCE1-E1 4                                                     ['Okay', '.']   \n",
       "ABCE1-P1 5                 ['Jeanne', 'Villani', 'does', 'and', 'we', \"'l...   \n",
       "\n",
       "                           Num_Words  Avg_Word_Length  \\\n",
       "Speaker  Utterance_Number                               \n",
       "ABCE1-P1 1                        80         4.700000   \n",
       "ABCE1-E1 2                         5         3.000000   \n",
       "ABCE1-P1 3                       159         5.062893   \n",
       "ABCE1-E1 4                         2         2.500000   \n",
       "ABCE1-P1 5                        50         3.980000   \n",
       "\n",
       "                                                                       Sents  \\\n",
       "Speaker  Utterance_Number                                                      \n",
       "ABCE1-P1 1                 [\"Thanks for that John Hall now John Hall will...   \n",
       "ABCE1-E1 2                                           ['I guess yeah yeah .']   \n",
       "ABCE1-P1 3                 [\"He's also known  for his ability to open cos...   \n",
       "ABCE1-E1 4                                                         ['Okay.']   \n",
       "ABCE1-P1 5                 [\"Jeanne Villani does and we'll find out the s...   \n",
       "\n",
       "                           Num_Sents  \n",
       "Speaker  Utterance_Number             \n",
       "ABCE1-P1 1                         2  \n",
       "ABCE1-E1 2                         1  \n",
       "ABCE1-P1 3                         3  \n",
       "ABCE1-E1 4                         1  \n",
       "ABCE1-P1 5                         1  "
      ]
     },
     "execution_count": 5,
     "metadata": {},
     "output_type": "execute_result"
    },
    {
     "name": "stdout",
     "output_type": "stream",
     "text": [
      "Back Channel Data Frame:\n"
     ]
    },
    {
     "data": {
      "text/html": [
       "<div>\n",
       "<style scoped>\n",
       "    .dataframe tbody tr th:only-of-type {\n",
       "        vertical-align: middle;\n",
       "    }\n",
       "\n",
       "    .dataframe tbody tr th {\n",
       "        vertical-align: top;\n",
       "    }\n",
       "\n",
       "    .dataframe thead th {\n",
       "        text-align: right;\n",
       "    }\n",
       "</style>\n",
       "<table border=\"1\" class=\"dataframe\">\n",
       "  <thead>\n",
       "    <tr style=\"text-align: right;\">\n",
       "      <th></th>\n",
       "      <th>Speaker</th>\n",
       "      <th>Speaker_Type</th>\n",
       "      <th>Speaker_Gender</th>\n",
       "      <th>Back_Channel</th>\n",
       "      <th>Line_Speaker</th>\n",
       "      <th>Segment_Utterance_Number</th>\n",
       "      <th>Segment</th>\n",
       "      <th>Line_Speaker_Type</th>\n",
       "      <th>Line_Speaker_Gender</th>\n",
       "    </tr>\n",
       "    <tr>\n",
       "      <th></th>\n",
       "      <th></th>\n",
       "      <th></th>\n",
       "      <th></th>\n",
       "      <th></th>\n",
       "      <th></th>\n",
       "      <th></th>\n",
       "      <th></th>\n",
       "      <th></th>\n",
       "      <th></th>\n",
       "    </tr>\n",
       "  </thead>\n",
       "  <tbody>\n",
       "    <tr>\n",
       "      <th>0</th>\n",
       "      <td>ABCE1-E1</td>\n",
       "      <td>E</td>\n",
       "      <td>M</td>\n",
       "      <td>sounds reasonable</td>\n",
       "      <td>ABCE1-P1</td>\n",
       "      <td>3</td>\n",
       "      <td>ABCE1</td>\n",
       "      <td>P</td>\n",
       "      <td>M</td>\n",
       "    </tr>\n",
       "    <tr>\n",
       "      <th>1</th>\n",
       "      <td>ABCE1-C1</td>\n",
       "      <td>C</td>\n",
       "      <td>F</td>\n",
       "      <td>laughs</td>\n",
       "      <td>ABCE1-P1</td>\n",
       "      <td>10</td>\n",
       "      <td>ABCE1</td>\n",
       "      <td>P</td>\n",
       "      <td>M</td>\n",
       "    </tr>\n",
       "    <tr>\n",
       "      <th>2</th>\n",
       "      <td>ABCE1-P1</td>\n",
       "      <td>P</td>\n",
       "      <td>M</td>\n",
       "      <td>yes</td>\n",
       "      <td>ABCE1-C1</td>\n",
       "      <td>11</td>\n",
       "      <td>ABCE1</td>\n",
       "      <td>C</td>\n",
       "      <td>F</td>\n",
       "    </tr>\n",
       "    <tr>\n",
       "      <th>3</th>\n",
       "      <td>ABCE1-E1</td>\n",
       "      <td>E</td>\n",
       "      <td>M</td>\n",
       "      <td>mm</td>\n",
       "      <td>ABCE1-C1</td>\n",
       "      <td>11</td>\n",
       "      <td>ABCE1</td>\n",
       "      <td>C</td>\n",
       "      <td>F</td>\n",
       "    </tr>\n",
       "    <tr>\n",
       "      <th>4</th>\n",
       "      <td>ABCE1-E1</td>\n",
       "      <td>E</td>\n",
       "      <td>M</td>\n",
       "      <td>mm</td>\n",
       "      <td>ABCE1-C1</td>\n",
       "      <td>11</td>\n",
       "      <td>ABCE1</td>\n",
       "      <td>C</td>\n",
       "      <td>F</td>\n",
       "    </tr>\n",
       "  </tbody>\n",
       "</table>\n",
       "</div>"
      ],
      "text/plain": [
       "    Speaker Speaker_Type Speaker_Gender       Back_Channel Line_Speaker  \\\n",
       "                                                                          \n",
       "0  ABCE1-E1            E              M  sounds reasonable     ABCE1-P1   \n",
       "1  ABCE1-C1            C              F             laughs     ABCE1-P1   \n",
       "2  ABCE1-P1            P              M                yes     ABCE1-C1   \n",
       "3  ABCE1-E1            E              M                 mm     ABCE1-C1   \n",
       "4  ABCE1-E1            E              M                 mm     ABCE1-C1   \n",
       "\n",
       "   Segment_Utterance_Number Segment Line_Speaker_Type Line_Speaker_Gender  \n",
       "                                                                           \n",
       "0                         3   ABCE1                 P                   M  \n",
       "1                        10   ABCE1                 P                   M  \n",
       "2                        11   ABCE1                 C                   F  \n",
       "3                        11   ABCE1                 C                   F  \n",
       "4                        11   ABCE1                 C                   F  "
      ]
     },
     "execution_count": 5,
     "metadata": {},
     "output_type": "execute_result"
    }
   ],
   "source": [
    "# modifying data frame column names\n",
    "speaker_df.columns = [\"Speaker\",\"Segment\",\"Speaker_Type\",\"Gender\",\"Name\",\"Number_of_Utterances\"]\n",
    "speaker_df = speaker_df.set_index(\"Speaker\")\n",
    "\n",
    "print(\"Speaker Data Frame:\")\n",
    "speaker_df.head()\n",
    "\n",
    "art_df.columns = [\"Speaker\",\"Utterance_Number\",\"Segment\",\"Speaker_Type\",\"Gender\",\"Text\",\"Word_Toks\",\"Num_Words\",\"Avg_Word_Length\",\"Sents\",\"Num_Sents\"]\n",
    "art_df = art_df.set_index(keys=[\"Speaker\",\"Utterance_Number\"])\n",
    "\n",
    "print(\"Lines of Text Data Frame:\")\n",
    "art_df.head()\n",
    "\n",
    "bk_df.columns = [\"\",\"Speaker\",\"Speaker_Type\",\"Speaker_Gender\",\"Back_Channel\",\"Line_Speaker\",\"Segment_Utterance_Number\",\"Segment\",\"Line_Speaker_Type\",\"Line_Speaker_Gender\"]\n",
    "bk_df = bk_df.set_index(\"\")\n",
    "\n",
    "print(\"Back Channel Data Frame:\")\n",
    "bk_df.head()"
   ]
  },
  {
   "cell_type": "markdown",
   "metadata": {},
   "source": [
    "### Splitting Speakers by Role"
   ]
  },
  {
   "cell_type": "code",
   "execution_count": 6,
   "metadata": {},
   "outputs": [],
   "source": [
    "# dataframe of presenters\n",
    "P_df=speaker_df.loc[speaker_df[\"Speaker_Type\"]=='P',:]\n",
    "\n",
    "# dataframe of callers\n",
    "C_df=speaker_df.loc[speaker_df[\"Speaker_Type\"]=='C',:]\n",
    "\n",
    "# dataframe of experts\n",
    "E_df=speaker_df.loc[speaker_df[\"Speaker_Type\"]=='E',:]"
   ]
  },
  {
   "cell_type": "markdown",
   "metadata": {},
   "source": [
    "### All Presenters"
   ]
  },
  {
   "cell_type": "code",
   "execution_count": 7,
   "metadata": {},
   "outputs": [
    {
     "data": {
      "text/html": [
       "<div>\n",
       "<style scoped>\n",
       "    .dataframe tbody tr th:only-of-type {\n",
       "        vertical-align: middle;\n",
       "    }\n",
       "\n",
       "    .dataframe tbody tr th {\n",
       "        vertical-align: top;\n",
       "    }\n",
       "\n",
       "    .dataframe thead th {\n",
       "        text-align: right;\n",
       "    }\n",
       "</style>\n",
       "<table border=\"1\" class=\"dataframe\">\n",
       "  <thead>\n",
       "    <tr style=\"text-align: right;\">\n",
       "      <th></th>\n",
       "      <th>Segment</th>\n",
       "      <th>Speaker_Type</th>\n",
       "      <th>Gender</th>\n",
       "      <th>Name</th>\n",
       "      <th>Number_of_Utterances</th>\n",
       "    </tr>\n",
       "    <tr>\n",
       "      <th>Speaker</th>\n",
       "      <th></th>\n",
       "      <th></th>\n",
       "      <th></th>\n",
       "      <th></th>\n",
       "      <th></th>\n",
       "    </tr>\n",
       "  </thead>\n",
       "  <tbody>\n",
       "    <tr>\n",
       "      <th>ABCE1-P1</th>\n",
       "      <td>ABCE1</td>\n",
       "      <td>P</td>\n",
       "      <td>M</td>\n",
       "      <td>Simon Marnie</td>\n",
       "      <td>155</td>\n",
       "    </tr>\n",
       "    <tr>\n",
       "      <th>ABCE2-P1</th>\n",
       "      <td>ABCE2</td>\n",
       "      <td>P</td>\n",
       "      <td>M</td>\n",
       "      <td>Simon Marnie</td>\n",
       "      <td>233</td>\n",
       "    </tr>\n",
       "    <tr>\n",
       "      <th>ABCE3-P1</th>\n",
       "      <td>ABCE3</td>\n",
       "      <td>P</td>\n",
       "      <td>F</td>\n",
       "      <td>Lynne Haultain</td>\n",
       "      <td>129</td>\n",
       "    </tr>\n",
       "    <tr>\n",
       "      <th>ABCE3-P2</th>\n",
       "      <td>ABCE3</td>\n",
       "      <td>P</td>\n",
       "      <td>F</td>\n",
       "      <td>Jurate Sasnaitis</td>\n",
       "      <td>56</td>\n",
       "    </tr>\n",
       "    <tr>\n",
       "      <th>ABCE4-P1</th>\n",
       "      <td>ABCE4</td>\n",
       "      <td>P</td>\n",
       "      <td>F</td>\n",
       "      <td>Kelly Higgins-Devine</td>\n",
       "      <td>23</td>\n",
       "    </tr>\n",
       "    <tr>\n",
       "      <th>ABCNE1-P1</th>\n",
       "      <td>ABCNE1</td>\n",
       "      <td>P</td>\n",
       "      <td>M</td>\n",
       "      <td>Trevor Jackson</td>\n",
       "      <td>64</td>\n",
       "    </tr>\n",
       "    <tr>\n",
       "      <th>ABCNE2-P1</th>\n",
       "      <td>ABCNE2</td>\n",
       "      <td>P</td>\n",
       "      <td>M</td>\n",
       "      <td>Trevor Jackson</td>\n",
       "      <td>58</td>\n",
       "    </tr>\n",
       "    <tr>\n",
       "      <th>COME1-P1</th>\n",
       "      <td>COME1</td>\n",
       "      <td>P</td>\n",
       "      <td>M</td>\n",
       "      <td>Luke Bona</td>\n",
       "      <td>67</td>\n",
       "    </tr>\n",
       "    <tr>\n",
       "      <th>COME2-P1</th>\n",
       "      <td>COME2</td>\n",
       "      <td>P</td>\n",
       "      <td>M</td>\n",
       "      <td>Luke Bona</td>\n",
       "      <td>68</td>\n",
       "    </tr>\n",
       "    <tr>\n",
       "      <th>COME3-P1</th>\n",
       "      <td>COME3</td>\n",
       "      <td>P</td>\n",
       "      <td>M</td>\n",
       "      <td>Luke Bona</td>\n",
       "      <td>61</td>\n",
       "    </tr>\n",
       "    <tr>\n",
       "      <th>COME5-P1</th>\n",
       "      <td>COME5</td>\n",
       "      <td>P</td>\n",
       "      <td>M</td>\n",
       "      <td>Spencer</td>\n",
       "      <td>65</td>\n",
       "    </tr>\n",
       "    <tr>\n",
       "      <th>COME5-P2</th>\n",
       "      <td>COME5</td>\n",
       "      <td>P</td>\n",
       "      <td>F</td>\n",
       "      <td>Sharina</td>\n",
       "      <td>491</td>\n",
       "    </tr>\n",
       "    <tr>\n",
       "      <th>COME6-P1</th>\n",
       "      <td>COME6</td>\n",
       "      <td>P</td>\n",
       "      <td>M</td>\n",
       "      <td>Paul Murray</td>\n",
       "      <td>116</td>\n",
       "    </tr>\n",
       "    <tr>\n",
       "      <th>COME7-P1</th>\n",
       "      <td>COME7</td>\n",
       "      <td>P</td>\n",
       "      <td>M</td>\n",
       "      <td>Neil Mitchell</td>\n",
       "      <td>56</td>\n",
       "    </tr>\n",
       "    <tr>\n",
       "      <th>COMNE1-P1</th>\n",
       "      <td>COMNE1</td>\n",
       "      <td>P</td>\n",
       "      <td>M</td>\n",
       "      <td>Brad Hardie</td>\n",
       "      <td>143</td>\n",
       "    </tr>\n",
       "    <tr>\n",
       "      <th>COMNE1-P2</th>\n",
       "      <td>COMNE1</td>\n",
       "      <td>P</td>\n",
       "      <td>M</td>\n",
       "      <td>Adrian Barich</td>\n",
       "      <td>118</td>\n",
       "    </tr>\n",
       "    <tr>\n",
       "      <th>COMNE2-P1</th>\n",
       "      <td>COMNE2</td>\n",
       "      <td>P</td>\n",
       "      <td>M</td>\n",
       "      <td>Howard Sattler</td>\n",
       "      <td>79</td>\n",
       "    </tr>\n",
       "    <tr>\n",
       "      <th>COMNE3-P1</th>\n",
       "      <td>COMNE3</td>\n",
       "      <td>P</td>\n",
       "      <td>M</td>\n",
       "      <td>Harvey Deegan</td>\n",
       "      <td>43</td>\n",
       "    </tr>\n",
       "    <tr>\n",
       "      <th>COMNE4-P1</th>\n",
       "      <td>COMNE4</td>\n",
       "      <td>P</td>\n",
       "      <td>M</td>\n",
       "      <td>Harvey Deegan</td>\n",
       "      <td>155</td>\n",
       "    </tr>\n",
       "    <tr>\n",
       "      <th>COMNE5-P1</th>\n",
       "      <td>COMNE5</td>\n",
       "      <td>P</td>\n",
       "      <td>M</td>\n",
       "      <td>Leon Byner</td>\n",
       "      <td>36</td>\n",
       "    </tr>\n",
       "    <tr>\n",
       "      <th>COMNE6-P1</th>\n",
       "      <td>COMNE6</td>\n",
       "      <td>P</td>\n",
       "      <td>M</td>\n",
       "      <td>Graeme Goodings</td>\n",
       "      <td>52</td>\n",
       "    </tr>\n",
       "    <tr>\n",
       "      <th>COMNE7-P1</th>\n",
       "      <td>COMNE7</td>\n",
       "      <td>P</td>\n",
       "      <td>F</td>\n",
       "      <td>Nicole Haack</td>\n",
       "      <td>61</td>\n",
       "    </tr>\n",
       "    <tr>\n",
       "      <th>NAT1-P1</th>\n",
       "      <td>NAT1</td>\n",
       "      <td>P</td>\n",
       "      <td>M</td>\n",
       "      <td>Sandy McCutcheon</td>\n",
       "      <td>103</td>\n",
       "    </tr>\n",
       "    <tr>\n",
       "      <th>NAT2-P1</th>\n",
       "      <td>NAT2</td>\n",
       "      <td>P</td>\n",
       "      <td>M</td>\n",
       "      <td>Sandy McCutcheon</td>\n",
       "      <td>64</td>\n",
       "    </tr>\n",
       "    <tr>\n",
       "      <th>NAT2-P2</th>\n",
       "      <td>NAT2</td>\n",
       "      <td>P</td>\n",
       "      <td>F</td>\n",
       "      <td>Ramona Koval</td>\n",
       "      <td>46</td>\n",
       "    </tr>\n",
       "    <tr>\n",
       "      <th>NAT3-P1</th>\n",
       "      <td>NAT3</td>\n",
       "      <td>P</td>\n",
       "      <td>F</td>\n",
       "      <td>Julie McCrossin</td>\n",
       "      <td>103</td>\n",
       "    </tr>\n",
       "    <tr>\n",
       "      <th>NAT4-P1</th>\n",
       "      <td>NAT4</td>\n",
       "      <td>P</td>\n",
       "      <td>M</td>\n",
       "      <td>Tony Delroy</td>\n",
       "      <td>313</td>\n",
       "    </tr>\n",
       "    <tr>\n",
       "      <th>NAT5-P1</th>\n",
       "      <td>NAT5</td>\n",
       "      <td>P</td>\n",
       "      <td>M</td>\n",
       "      <td>John Cleary</td>\n",
       "      <td>71</td>\n",
       "    </tr>\n",
       "    <tr>\n",
       "      <th>NAT6-P1</th>\n",
       "      <td>NAT6</td>\n",
       "      <td>P</td>\n",
       "      <td>F</td>\n",
       "      <td>Mel Bampton</td>\n",
       "      <td>88</td>\n",
       "    </tr>\n",
       "    <tr>\n",
       "      <th>NAT7-P1</th>\n",
       "      <td>NAT7</td>\n",
       "      <td>P</td>\n",
       "      <td>F</td>\n",
       "      <td>Rosie Beaton</td>\n",
       "      <td>224</td>\n",
       "    </tr>\n",
       "    <tr>\n",
       "      <th>NAT8-P1</th>\n",
       "      <td>NAT8</td>\n",
       "      <td>P</td>\n",
       "      <td>F</td>\n",
       "      <td>Gaby Brown</td>\n",
       "      <td>188</td>\n",
       "    </tr>\n",
       "  </tbody>\n",
       "</table>\n",
       "</div>"
      ],
      "text/plain": [
       "          Segment Speaker_Type Gender                  Name  \\\n",
       "Speaker                                                       \n",
       "ABCE1-P1    ABCE1            P      M          Simon Marnie   \n",
       "ABCE2-P1    ABCE2            P      M          Simon Marnie   \n",
       "ABCE3-P1    ABCE3            P      F        Lynne Haultain   \n",
       "ABCE3-P2    ABCE3            P      F      Jurate Sasnaitis   \n",
       "ABCE4-P1    ABCE4            P      F  Kelly Higgins-Devine   \n",
       "ABCNE1-P1  ABCNE1            P      M        Trevor Jackson   \n",
       "ABCNE2-P1  ABCNE2            P      M        Trevor Jackson   \n",
       "COME1-P1    COME1            P      M             Luke Bona   \n",
       "COME2-P1    COME2            P      M             Luke Bona   \n",
       "COME3-P1    COME3            P      M             Luke Bona   \n",
       "COME5-P1    COME5            P      M               Spencer   \n",
       "COME5-P2    COME5            P      F               Sharina   \n",
       "COME6-P1    COME6            P      M           Paul Murray   \n",
       "COME7-P1    COME7            P      M         Neil Mitchell   \n",
       "COMNE1-P1  COMNE1            P      M           Brad Hardie   \n",
       "COMNE1-P2  COMNE1            P      M         Adrian Barich   \n",
       "COMNE2-P1  COMNE2            P      M        Howard Sattler   \n",
       "COMNE3-P1  COMNE3            P      M         Harvey Deegan   \n",
       "COMNE4-P1  COMNE4            P      M         Harvey Deegan   \n",
       "COMNE5-P1  COMNE5            P      M            Leon Byner   \n",
       "COMNE6-P1  COMNE6            P      M       Graeme Goodings   \n",
       "COMNE7-P1  COMNE7            P      F          Nicole Haack   \n",
       "NAT1-P1      NAT1            P      M      Sandy McCutcheon   \n",
       "NAT2-P1      NAT2            P      M      Sandy McCutcheon   \n",
       "NAT2-P2      NAT2            P      F          Ramona Koval   \n",
       "NAT3-P1      NAT3            P      F       Julie McCrossin   \n",
       "NAT4-P1      NAT4            P      M           Tony Delroy   \n",
       "NAT5-P1      NAT5            P      M           John Cleary   \n",
       "NAT6-P1      NAT6            P      F           Mel Bampton   \n",
       "NAT7-P1      NAT7            P      F          Rosie Beaton   \n",
       "NAT8-P1      NAT8            P      F            Gaby Brown   \n",
       "\n",
       "           Number_of_Utterances  \n",
       "Speaker                          \n",
       "ABCE1-P1                    155  \n",
       "ABCE2-P1                    233  \n",
       "ABCE3-P1                    129  \n",
       "ABCE3-P2                     56  \n",
       "ABCE4-P1                     23  \n",
       "ABCNE1-P1                    64  \n",
       "ABCNE2-P1                    58  \n",
       "COME1-P1                     67  \n",
       "COME2-P1                     68  \n",
       "COME3-P1                     61  \n",
       "COME5-P1                     65  \n",
       "COME5-P2                    491  \n",
       "COME6-P1                    116  \n",
       "COME7-P1                     56  \n",
       "COMNE1-P1                   143  \n",
       "COMNE1-P2                   118  \n",
       "COMNE2-P1                    79  \n",
       "COMNE3-P1                    43  \n",
       "COMNE4-P1                   155  \n",
       "COMNE5-P1                    36  \n",
       "COMNE6-P1                    52  \n",
       "COMNE7-P1                    61  \n",
       "NAT1-P1                     103  \n",
       "NAT2-P1                      64  \n",
       "NAT2-P2                      46  \n",
       "NAT3-P1                     103  \n",
       "NAT4-P1                     313  \n",
       "NAT5-P1                      71  \n",
       "NAT6-P1                      88  \n",
       "NAT7-P1                     224  \n",
       "NAT8-P1                     188  "
      ]
     },
     "execution_count": 7,
     "metadata": {},
     "output_type": "execute_result"
    }
   ],
   "source": [
    "P_df"
   ]
  },
  {
   "cell_type": "markdown",
   "metadata": {},
   "source": [
    "## Distribution of Speakers"
   ]
  },
  {
   "cell_type": "markdown",
   "metadata": {},
   "source": [
    "### How many Speakers are there for each Role?\n",
    "- 31 Presenters\n",
    "- 362 Callers\n",
    "- 37 Experts"
   ]
  },
  {
   "cell_type": "code",
   "execution_count": 8,
   "metadata": {},
   "outputs": [
    {
     "data": {
      "text/plain": [
       "P     31\n",
       "C    362\n",
       "E     37\n",
       "Name: Speaker_Type, dtype: int64"
      ]
     },
     "execution_count": 8,
     "metadata": {},
     "output_type": "execute_result"
    },
    {
     "data": {
      "text/plain": [
       "<matplotlib.text.Text object at 0x0B36F430>"
      ]
     },
     "execution_count": 8,
     "metadata": {},
     "output_type": "execute_result"
    },
    {
     "data": {
      "text/plain": [
       "<matplotlib.text.Text object at 0x0B34C930>"
      ]
     },
     "execution_count": 8,
     "metadata": {},
     "output_type": "execute_result"
    },
    {
     "data": {
      "text/plain": [
       "<matplotlib.text.Text object at 0x0B359E50>"
      ]
     },
     "execution_count": 8,
     "metadata": {},
     "output_type": "execute_result"
    },
    {
     "data": {
      "image/png": "[encoded data removed]",
      "text/plain": [
       "<matplotlib.figure.Figure object at 0x0B88FBF0>"
      ]
     },
     "metadata": {},
     "output_type": "display_data"
    }
   ],
   "source": [
    "# Number of Speakers per Role\n",
    "figure=speaker_df[\"Speaker_Type\"].value_counts().reindex([\"P\",\"C\",\"E\"]).plot.bar()\n",
    "speaker_df[\"Speaker_Type\"].value_counts().reindex([\"P\",\"C\",\"E\"])\n",
    "plt.title(\"Number of Speakers per Role\")\n",
    "plt.xlabel(\"Speaker Type\")\n",
    "plt.ylabel(\"Number of Speakers\")\n",
    "plt.show()\n",
    "\n",
    "# saving the figure\n",
    "figure.figure.savefig(\"images/role_totals.png\")"
   ]
  },
  {
   "cell_type": "markdown",
   "metadata": {},
   "source": [
    "### How many Males vs. Females?\n",
    "- 218 Males\n",
    "- 212 Females\n",
    "\n",
    "Number of Males and Females are about equal with slightly more Males."
   ]
  },
  {
   "cell_type": "code",
   "execution_count": 9,
   "metadata": {},
   "outputs": [
    {
     "data": {
      "text/plain": [
       "M    218\n",
       "F    212\n",
       "Name: Gender, dtype: int64"
      ]
     },
     "execution_count": 9,
     "metadata": {},
     "output_type": "execute_result"
    },
    {
     "data": {
      "text/plain": [
       "<matplotlib.text.Text object at 0x0B3E8A50>"
      ]
     },
     "execution_count": 9,
     "metadata": {},
     "output_type": "execute_result"
    },
    {
     "data": {
      "text/plain": [
       "<matplotlib.text.Text object at 0x0B3DBA10>"
      ]
     },
     "execution_count": 9,
     "metadata": {},
     "output_type": "execute_result"
    },
    {
     "data": {
      "text/plain": [
       "<matplotlib.text.Text object at 0x0B3DFAF0>"
      ]
     },
     "execution_count": 9,
     "metadata": {},
     "output_type": "execute_result"
    },
    {
     "data": {
      "image/png": "[encoded data removed]",
      "text/plain": [
       "<matplotlib.figure.Figure object at 0x0B3A4C50>"
      ]
     },
     "metadata": {},
     "output_type": "display_data"
    }
   ],
   "source": [
    "figure=speaker_df[\"Gender\"].value_counts().reindex([\"M\",\"F\"]).plot.bar()\n",
    "speaker_df[\"Gender\"].value_counts().reindex([\"M\",\"F\"])\n",
    "plt.title(\"Number of Males and Female Speakers in the Australian Radio Talkback Corpus\")\n",
    "plt.xlabel(\"Gender\")\n",
    "plt.ylabel(\"Number of Speakers\")\n",
    "plt.show()\n",
    "\n",
    "# saving the figure\n",
    "figure.figure.savefig(\"images/gender_totals.png\")"
   ]
  },
  {
   "cell_type": "markdown",
   "metadata": {},
   "source": [
    "### How are Males and Females distributed across Roles?"
   ]
  },
  {
   "cell_type": "code",
   "execution_count": 10,
   "metadata": {},
   "outputs": [
    {
     "data": {
      "text/plain": [
       "M    21\n",
       "F    10\n",
       "Name: Gender, dtype: int64"
      ]
     },
     "execution_count": 10,
     "metadata": {},
     "output_type": "execute_result"
    },
    {
     "data": {
      "text/plain": [
       "<matplotlib.text.Text object at 0x0B433050>"
      ]
     },
     "execution_count": 10,
     "metadata": {},
     "output_type": "execute_result"
    },
    {
     "data": {
      "text/plain": [
       "<matplotlib.text.Text object at 0x0B414F90>"
      ]
     },
     "execution_count": 10,
     "metadata": {},
     "output_type": "execute_result"
    },
    {
     "data": {
      "text/plain": [
       "<matplotlib.text.Text object at 0x0B423070>"
      ]
     },
     "execution_count": 10,
     "metadata": {},
     "output_type": "execute_result"
    },
    {
     "data": {
      "image/png": "[encoded data removed]",
      "text/plain": [
       "<matplotlib.figure.Figure object at 0x0B88F770>"
      ]
     },
     "metadata": {},
     "output_type": "display_data"
    },
    {
     "data": {
      "text/plain": [
       "M    171\n",
       "F    191\n",
       "Name: Gender, dtype: int64"
      ]
     },
     "execution_count": 10,
     "metadata": {},
     "output_type": "execute_result"
    },
    {
     "data": {
      "text/plain": [
       "<matplotlib.text.Text object at 0x0B5A1330>"
      ]
     },
     "execution_count": 10,
     "metadata": {},
     "output_type": "execute_result"
    },
    {
     "data": {
      "text/plain": [
       "<matplotlib.text.Text object at 0x0B455B50>"
      ]
     },
     "execution_count": 10,
     "metadata": {},
     "output_type": "execute_result"
    },
    {
     "data": {
      "text/plain": [
       "<matplotlib.text.Text object at 0x0B592310>"
      ]
     },
     "execution_count": 10,
     "metadata": {},
     "output_type": "execute_result"
    },
    {
     "data": {
      "image/png": "[encoded data removed]",
      "text/plain": [
       "<matplotlib.figure.Figure object at 0x0B44C3D0>"
      ]
     },
     "metadata": {},
     "output_type": "display_data"
    },
    {
     "data": {
      "text/plain": [
       "M    26\n",
       "F    11\n",
       "Name: Gender, dtype: int64"
      ]
     },
     "execution_count": 10,
     "metadata": {},
     "output_type": "execute_result"
    },
    {
     "data": {
      "text/plain": [
       "<matplotlib.text.Text object at 0x0B6EC190>"
      ]
     },
     "execution_count": 10,
     "metadata": {},
     "output_type": "execute_result"
    },
    {
     "data": {
      "text/plain": [
       "<matplotlib.text.Text object at 0x0B5C9A70>"
      ]
     },
     "execution_count": 10,
     "metadata": {},
     "output_type": "execute_result"
    },
    {
     "data": {
      "text/plain": [
       "<matplotlib.text.Text object at 0x0B45B050>"
      ]
     },
     "execution_count": 10,
     "metadata": {},
     "output_type": "execute_result"
    },
    {
     "data": {
      "image/png": "[encoded data removed]",
      "text/plain": [
       "<matplotlib.figure.Figure object at 0x0B42D690>"
      ]
     },
     "metadata": {},
     "output_type": "display_data"
    }
   ],
   "source": [
    "fig1 = P_df[\"Gender\"].value_counts().reindex([\"M\",\"F\"]).plot.bar()\n",
    "P_df[\"Gender\"].value_counts().reindex([\"M\",\"F\"])\n",
    "plt.title(\"Male vs. Female Presenters\")\n",
    "plt.xlabel(\"Gender\")\n",
    "plt.ylabel(\"Number of Speakers\")\n",
    "plt.show()\n",
    "\n",
    "# saving the figure\n",
    "fig1.figure.savefig(\"images/presenter_genders.png\")\n",
    "\n",
    "fig2 = C_df[\"Gender\"].value_counts().reindex([\"M\",\"F\"]).plot.bar()\n",
    "C_df[\"Gender\"].value_counts().reindex([\"M\",\"F\"])\n",
    "plt.title(\"Male vs. Female Callers\")\n",
    "plt.xlabel(\"Gender\")\n",
    "plt.ylabel(\"Number of Speakers\")\n",
    "plt.show()\n",
    "\n",
    "# saving the figure\n",
    "fig2.figure.savefig(\"images/caller_genders.png\")\n",
    "\n",
    "fig3 = E_df[\"Gender\"].value_counts().reindex([\"M\",\"F\"]).plot.bar()\n",
    "E_df[\"Gender\"].value_counts().reindex([\"M\",\"F\"])\n",
    "plt.title(\"Male vs. Female Callers\")\n",
    "plt.xlabel(\"Gender\")\n",
    "plt.ylabel(\"Number of Speakers\")\n",
    "plt.show()\n",
    "\n",
    "# saving the figure\n",
    "fig3.figure.savefig(\"images/expert_genders.png\")"
   ]
  },
  {
   "cell_type": "markdown",
   "metadata": {},
   "source": [
    "### Gender Equality\n",
    "\n",
    "**Ratio of Gender by Role (Male : Female):**\n",
    "- Presenters: 2.1 : 1\n",
    "- Callers: .895 : 1\n",
    "- Experts: 2.36: 1\n",
    "\n",
    "There are about twice as many Male Presenters and Experts as compared to Females, but about equal numbers of Male and Female Callers, with slightly more Females.\n",
    "\n",
    "**Conclusion:** Presenters and Experts are predominantly Male and Callers are more equally distributed but with more Females than Males.\n",
    "\n",
    "Presenters are the show's hosts, hired by the program. Experts are professionals talking about their line of work. Callers however can be anyone who calls the radio station. Presenters and Experts are the people chosen by the radio to talk, and they are mostly males. Why are there more men than women working in this radio station? Is radio a generally predominantly male industry across the US?\n",
    "\n",
    "**Further Analysis Needed:** I will do further research and analysis on gender equality before making conclusions about the Australian Radio Talkback Corpus."
   ]
  },
  {
   "cell_type": "markdown",
   "metadata": {},
   "source": [
    "## Comparison by Speaker Type\n",
    "- Number of Turns\n",
    "- Number of Sentences\n",
    "- Number of Words\n",
    "- Average Word Length\n",
    "- Average Sentence Length\n",
    "- Average Number of Turns"
   ]
  },
  {
   "cell_type": "code",
   "execution_count": 11,
   "metadata": {},
   "outputs": [
    {
     "data": {
      "text/html": [
       "<div>\n",
       "<style scoped>\n",
       "    .dataframe tbody tr th:only-of-type {\n",
       "        vertical-align: middle;\n",
       "    }\n",
       "\n",
       "    .dataframe tbody tr th {\n",
       "        vertical-align: top;\n",
       "    }\n",
       "\n",
       "    .dataframe thead th {\n",
       "        text-align: right;\n",
       "    }\n",
       "</style>\n",
       "<table border=\"1\" class=\"dataframe\">\n",
       "  <thead>\n",
       "    <tr style=\"text-align: right;\">\n",
       "      <th></th>\n",
       "      <th>Number_of_Utterances</th>\n",
       "    </tr>\n",
       "  </thead>\n",
       "  <tbody>\n",
       "    <tr>\n",
       "      <th>count</th>\n",
       "      <td>31.000000</td>\n",
       "    </tr>\n",
       "    <tr>\n",
       "      <th>mean</th>\n",
       "      <td>113.838710</td>\n",
       "    </tr>\n",
       "    <tr>\n",
       "      <th>std</th>\n",
       "      <td>96.088188</td>\n",
       "    </tr>\n",
       "    <tr>\n",
       "      <th>min</th>\n",
       "      <td>23.000000</td>\n",
       "    </tr>\n",
       "    <tr>\n",
       "      <th>25%</th>\n",
       "      <td>59.500000</td>\n",
       "    </tr>\n",
       "    <tr>\n",
       "      <th>50%</th>\n",
       "      <td>71.000000</td>\n",
       "    </tr>\n",
       "    <tr>\n",
       "      <th>75%</th>\n",
       "      <td>136.000000</td>\n",
       "    </tr>\n",
       "    <tr>\n",
       "      <th>max</th>\n",
       "      <td>491.000000</td>\n",
       "    </tr>\n",
       "  </tbody>\n",
       "</table>\n",
       "</div>"
      ],
      "text/plain": [
       "       Number_of_Utterances\n",
       "count             31.000000\n",
       "mean             113.838710\n",
       "std               96.088188\n",
       "min               23.000000\n",
       "25%               59.500000\n",
       "50%               71.000000\n",
       "75%              136.000000\n",
       "max              491.000000"
      ]
     },
     "execution_count": 11,
     "metadata": {},
     "output_type": "execute_result"
    },
    {
     "data": {
      "text/html": [
       "<div>\n",
       "<style scoped>\n",
       "    .dataframe tbody tr th:only-of-type {\n",
       "        vertical-align: middle;\n",
       "    }\n",
       "\n",
       "    .dataframe tbody tr th {\n",
       "        vertical-align: top;\n",
       "    }\n",
       "\n",
       "    .dataframe thead th {\n",
       "        text-align: right;\n",
       "    }\n",
       "</style>\n",
       "<table border=\"1\" class=\"dataframe\">\n",
       "  <thead>\n",
       "    <tr style=\"text-align: right;\">\n",
       "      <th></th>\n",
       "      <th>Number_of_Utterances</th>\n",
       "    </tr>\n",
       "  </thead>\n",
       "  <tbody>\n",
       "    <tr>\n",
       "      <th>count</th>\n",
       "      <td>362.000000</td>\n",
       "    </tr>\n",
       "    <tr>\n",
       "      <th>mean</th>\n",
       "      <td>8.627072</td>\n",
       "    </tr>\n",
       "    <tr>\n",
       "      <th>std</th>\n",
       "      <td>6.729160</td>\n",
       "    </tr>\n",
       "    <tr>\n",
       "      <th>min</th>\n",
       "      <td>1.000000</td>\n",
       "    </tr>\n",
       "    <tr>\n",
       "      <th>25%</th>\n",
       "      <td>4.000000</td>\n",
       "    </tr>\n",
       "    <tr>\n",
       "      <th>50%</th>\n",
       "      <td>7.000000</td>\n",
       "    </tr>\n",
       "    <tr>\n",
       "      <th>75%</th>\n",
       "      <td>12.000000</td>\n",
       "    </tr>\n",
       "    <tr>\n",
       "      <th>max</th>\n",
       "      <td>63.000000</td>\n",
       "    </tr>\n",
       "  </tbody>\n",
       "</table>\n",
       "</div>"
      ],
      "text/plain": [
       "       Number_of_Utterances\n",
       "count            362.000000\n",
       "mean               8.627072\n",
       "std                6.729160\n",
       "min                1.000000\n",
       "25%                4.000000\n",
       "50%                7.000000\n",
       "75%               12.000000\n",
       "max               63.000000"
      ]
     },
     "execution_count": 11,
     "metadata": {},
     "output_type": "execute_result"
    },
    {
     "data": {
      "text/html": [
       "<div>\n",
       "<style scoped>\n",
       "    .dataframe tbody tr th:only-of-type {\n",
       "        vertical-align: middle;\n",
       "    }\n",
       "\n",
       "    .dataframe tbody tr th {\n",
       "        vertical-align: top;\n",
       "    }\n",
       "\n",
       "    .dataframe thead th {\n",
       "        text-align: right;\n",
       "    }\n",
       "</style>\n",
       "<table border=\"1\" class=\"dataframe\">\n",
       "  <thead>\n",
       "    <tr style=\"text-align: right;\">\n",
       "      <th></th>\n",
       "      <th>Number_of_Utterances</th>\n",
       "    </tr>\n",
       "  </thead>\n",
       "  <tbody>\n",
       "    <tr>\n",
       "      <th>count</th>\n",
       "      <td>37.000000</td>\n",
       "    </tr>\n",
       "    <tr>\n",
       "      <th>mean</th>\n",
       "      <td>64.243243</td>\n",
       "    </tr>\n",
       "    <tr>\n",
       "      <th>std</th>\n",
       "      <td>76.512310</td>\n",
       "    </tr>\n",
       "    <tr>\n",
       "      <th>min</th>\n",
       "      <td>6.000000</td>\n",
       "    </tr>\n",
       "    <tr>\n",
       "      <th>25%</th>\n",
       "      <td>18.000000</td>\n",
       "    </tr>\n",
       "    <tr>\n",
       "      <th>50%</th>\n",
       "      <td>27.000000</td>\n",
       "    </tr>\n",
       "    <tr>\n",
       "      <th>75%</th>\n",
       "      <td>87.000000</td>\n",
       "    </tr>\n",
       "    <tr>\n",
       "      <th>max</th>\n",
       "      <td>294.000000</td>\n",
       "    </tr>\n",
       "  </tbody>\n",
       "</table>\n",
       "</div>"
      ],
      "text/plain": [
       "       Number_of_Utterances\n",
       "count             37.000000\n",
       "mean              64.243243\n",
       "std               76.512310\n",
       "min                6.000000\n",
       "25%               18.000000\n",
       "50%               27.000000\n",
       "75%               87.000000\n",
       "max              294.000000"
      ]
     },
     "execution_count": 11,
     "metadata": {},
     "output_type": "execute_result"
    },
    {
     "name": "stdout",
     "output_type": "stream",
     "text": [
      "Summary of Important Information:\n",
      "Presenters:\n",
      "Total Number of Turns:\t 3529\n",
      "Average Number of Turns: 113.838709677\n",
      "Standard Deviation:\t 96.0881875412\n",
      "\n",
      "Callers:\n",
      "Total Number of Turns:\t 3123\n",
      "Average Number of Turns: 8.6270718232\n",
      "Standard Deviation:\t 6.72915982542\n",
      "\n",
      "Experts:\n",
      "Total Number of Turns:\t 2377\n",
      "Average Number of Turns: 64.2432432432\n",
      "Standard Deviation:\t 76.5123103405\n"
     ]
    }
   ],
   "source": [
    "# Comparing Presenter, Caller, and Expert Data Frames\n",
    "\n",
    "# this gives a table of all the information\n",
    "P_df.describe()\n",
    "C_df.describe()\n",
    "E_df.describe()\n",
    "\n",
    "\n",
    "# SHOULD THIS SUMMARY BE HERE OR IN THE MARKDOWN CELL BELOW?\n",
    "print(\"Summary of Important Information:\")\n",
    "print(\"Presenters:\")\n",
    "print(\"Total Number of Turns:\\t\",str(P_df[\"Number_of_Utterances\"].sum())) # 1470\n",
    "print(\"Average Number of Turns:\",str(P_df[\"Number_of_Utterances\"].mean())) # 122.5\n",
    "print(\"Standard Deviation:\\t\",str(P_df[\"Number_of_Utterances\"].std())) # 129.38\n",
    "\n",
    "print(\"\\nCallers:\")\n",
    "print(\"Total Number of Turns:\\t\",C_df[\"Number_of_Utterances\"].sum()) # 1505\n",
    "print(\"Average Number of Turns:\",str(C_df[\"Number_of_Utterances\"].mean()))  # 11.23\n",
    "print(\"Standard Deviation:\\t\",str(C_df[\"Number_of_Utterances\"].std())) # 7.97\n",
    "\n",
    "      \n",
    "print(\"\\nExperts:\")\n",
    "print(\"Total Number of Turns:\\t\",str(E_df[\"Number_of_Utterances\"].sum())) # 1464\n",
    "print(\"Average Number of Turns:\",str(E_df[\"Number_of_Utterances\"].mean()))  # 91.5\n",
    "print(\"Standard Deviation:\\t\",str(E_df[\"Number_of_Utterances\"].std())) # 86.82"
   ]
  },
  {
   "cell_type": "code",
   "execution_count": 12,
   "metadata": {},
   "outputs": [],
   "source": [
    "# data frames for Presenter, Caller, and Expert Lines\n",
    "P_art_df=art_df.loc[art_df[\"Speaker_Type\"]=='P',:]\n",
    "C_art_df=art_df.loc[art_df[\"Speaker_Type\"]=='C',:]\n",
    "E_art_df=art_df.loc[art_df[\"Speaker_Type\"]=='E',:]"
   ]
  },
  {
   "cell_type": "code",
   "execution_count": 13,
   "metadata": {},
   "outputs": [
    {
     "name": "stdout",
     "output_type": "stream",
     "text": [
      "Turns:\n"
     ]
    },
    {
     "data": {
      "text/plain": [
       "P    3529\n",
       "C    3123\n",
       "E    2377\n",
       "Name: Speaker_Type, dtype: int64"
      ]
     },
     "execution_count": 13,
     "metadata": {},
     "output_type": "execute_result"
    },
    {
     "name": "stdout",
     "output_type": "stream",
     "text": [
      "Number of Sentences:\n"
     ]
    },
    {
     "data": {
      "text/plain": [
       "5276"
      ]
     },
     "execution_count": 13,
     "metadata": {},
     "output_type": "execute_result"
    },
    {
     "data": {
      "text/plain": [
       "4653"
      ]
     },
     "execution_count": 13,
     "metadata": {},
     "output_type": "execute_result"
    },
    {
     "data": {
      "text/plain": [
       "4064"
      ]
     },
     "execution_count": 13,
     "metadata": {},
     "output_type": "execute_result"
    },
    {
     "name": "stdout",
     "output_type": "stream",
     "text": [
      "Number of Words:\n"
     ]
    },
    {
     "data": {
      "text/plain": [
       "87282"
      ]
     },
     "execution_count": 13,
     "metadata": {},
     "output_type": "execute_result"
    },
    {
     "data": {
      "text/plain": [
       "82759"
      ]
     },
     "execution_count": 13,
     "metadata": {},
     "output_type": "execute_result"
    },
    {
     "data": {
      "text/plain": [
       "94808"
      ]
     },
     "execution_count": 13,
     "metadata": {},
     "output_type": "execute_result"
    },
    {
     "name": "stdout",
     "output_type": "stream",
     "text": [
      "Average Word Length:\n"
     ]
    },
    {
     "data": {
      "text/plain": [
       "3.507288378196753"
      ]
     },
     "execution_count": 13,
     "metadata": {},
     "output_type": "execute_result"
    },
    {
     "data": {
      "text/plain": [
       "3.2425688455302364"
      ]
     },
     "execution_count": 13,
     "metadata": {},
     "output_type": "execute_result"
    },
    {
     "data": {
      "text/plain": [
       "3.4460386862363968"
      ]
     },
     "execution_count": 13,
     "metadata": {},
     "output_type": "execute_result"
    },
    {
     "name": "stdout",
     "output_type": "stream",
     "text": [
      "Average Sentence Length:\n"
     ]
    },
    {
     "data": {
      "text/plain": [
       "16.543214556482184"
      ]
     },
     "execution_count": 13,
     "metadata": {},
     "output_type": "execute_result"
    },
    {
     "data": {
      "text/plain": [
       "17.786159467010531"
      ]
     },
     "execution_count": 13,
     "metadata": {},
     "output_type": "execute_result"
    },
    {
     "data": {
      "text/plain": [
       "23.328740157480315"
      ]
     },
     "execution_count": 13,
     "metadata": {},
     "output_type": "execute_result"
    },
    {
     "name": "stdout",
     "output_type": "stream",
     "text": [
      "Average Number of Turns:\n"
     ]
    },
    {
     "data": {
      "text/plain": [
       "113.83870967741936"
      ]
     },
     "execution_count": 13,
     "metadata": {},
     "output_type": "execute_result"
    },
    {
     "data": {
      "text/plain": [
       "8.6270718232044192"
      ]
     },
     "execution_count": 13,
     "metadata": {},
     "output_type": "execute_result"
    },
    {
     "data": {
      "text/plain": [
       "64.243243243243242"
      ]
     },
     "execution_count": 13,
     "metadata": {},
     "output_type": "execute_result"
    }
   ],
   "source": [
    "# Presenter vs. Caller vs. Experts\n",
    "\n",
    "# utterances\n",
    "print(\"Turns:\")\n",
    "art_df[\"Speaker_Type\"].value_counts().reindex([\"P\",\"C\",\"E\"])\n",
    "\n",
    "# sentences\n",
    "print(\"Number of Sentences:\")\n",
    "P_art_df[\"Num_Sents\"].sum()\n",
    "C_art_df[\"Num_Sents\"].sum() \n",
    "E_art_df[\"Num_Sents\"].sum()\n",
    "\n",
    "# words\n",
    "print(\"Number of Words:\")\n",
    "P_art_df[\"Num_Words\"].sum()\n",
    "C_art_df[\"Num_Words\"].sum() \n",
    "E_art_df[\"Num_Words\"].sum()\n",
    "\n",
    "# avg word length\n",
    "print(\"Average Word Length:\")\n",
    "P_art_df[\"Avg_Word_Length\"].mean()\n",
    "C_art_df[\"Avg_Word_Length\"].mean()\n",
    "E_art_df[\"Avg_Word_Length\"].mean()\n",
    "\n",
    "# avg sent length\n",
    "print(\"Average Sentence Length:\")\n",
    "P_art_df[\"Num_Words\"].sum()/P_art_df[\"Num_Sents\"].sum()\n",
    "C_art_df[\"Num_Words\"].sum()/C_art_df[\"Num_Sents\"].sum() \n",
    "E_art_df[\"Num_Words\"].sum()/E_art_df[\"Num_Sents\"].sum() \n",
    "\n",
    "print(\"Average Number of Turns:\")\n",
    "P_df[\"Number_of_Utterances\"].mean()\n",
    "C_df[\"Number_of_Utterances\"].mean()\n",
    "E_df[\"Number_of_Utterances\"].mean()"
   ]
  },
  {
   "cell_type": "markdown",
   "metadata": {},
   "source": [
    "### Analysis\n",
    "\n",
    "Summary of Numbers Above:\n",
    "- Total Number of Turns:\n",
    "    - Presenters > Callers > Experts \n",
    "- Total Number of Sentences:\n",
    "    - Presenters > Callers > Experts\n",
    "- Total Number of Words:\n",
    "    - Experts > Presenters > Callers\n",
    "- Average Word Length:\n",
    "    - About Equal\n",
    "- Average Sentence Length:\n",
    "    - Expert > Caller > Presenter \n",
    "        - Presenter and Callers are about equal \n",
    "- Average Number of Turns:\n",
    "    - Presenters > Experts > Callers\n",
    "\n",
    "Important Discoveries:\n",
    "- More Callers with fewer turns\n",
    "- Fewer Presenters with more turns\n",
    "- Experts have the longest sentences\n",
    "\n",
    "On average, Presenters speak the most throughout the Australian Radio Talkback Corpus. There are many Callers in each show, but they do not speak for very long. The Presenters probably talk the most because they are leading the show. \n",
    "\n",
    "Across the corpus, **the Presenters have the most turns and sentences, followed by Callers and then Experts.**\n",
    "    \n",
    "Average sentence length is much more indicative of speaker type than word length. Based on the Australian Radio Talkback Corpus, **Experts' sentences are the longest** with an average of about 23 words per sentence, while Callers have on average 17 words per sentence and Presenters about 16 words per sentence. Without a statistical analysis, I cannot be certain whether or not this finding is significant for this data. However, this finding makes sense, because Experts will talk at length about their topic, so they may have longer, more complicated sentences."
   ]
  },
  {
   "cell_type": "markdown",
   "metadata": {},
   "source": [
    "## Comparison by Gender\n",
    "- Number of Turns\n",
    "- Number of Sentences\n",
    "- Number of Words\n",
    "- Average Word Length\n",
    "- Average Sentence Length\n",
    "- Average Number of Turns"
   ]
  },
  {
   "cell_type": "code",
   "execution_count": 14,
   "metadata": {},
   "outputs": [
    {
     "name": "stdout",
     "output_type": "stream",
     "text": [
      "Utterances:\n"
     ]
    },
    {
     "data": {
      "text/plain": [
       "M    4995\n",
       "F    4034\n",
       "Name: Gender, dtype: int64"
      ]
     },
     "execution_count": 14,
     "metadata": {},
     "output_type": "execute_result"
    },
    {
     "name": "stdout",
     "output_type": "stream",
     "text": [
      "Number of Sentences:\n"
     ]
    },
    {
     "data": {
      "text/plain": [
       "8039"
      ]
     },
     "execution_count": 14,
     "metadata": {},
     "output_type": "execute_result"
    },
    {
     "data": {
      "text/plain": [
       "5954"
      ]
     },
     "execution_count": 14,
     "metadata": {},
     "output_type": "execute_result"
    },
    {
     "name": "stdout",
     "output_type": "stream",
     "text": [
      "Number of Words:\n"
     ]
    },
    {
     "data": {
      "text/plain": [
       "158401"
      ]
     },
     "execution_count": 14,
     "metadata": {},
     "output_type": "execute_result"
    },
    {
     "data": {
      "text/plain": [
       "106448"
      ]
     },
     "execution_count": 14,
     "metadata": {},
     "output_type": "execute_result"
    },
    {
     "name": "stdout",
     "output_type": "stream",
     "text": [
      "Average Word Length:\n"
     ]
    },
    {
     "data": {
      "text/plain": [
       "3.4604173885660998"
      ]
     },
     "execution_count": 14,
     "metadata": {},
     "output_type": "execute_result"
    },
    {
     "data": {
      "text/plain": [
       "3.3242965524401384"
      ]
     },
     "execution_count": 14,
     "metadata": {},
     "output_type": "execute_result"
    },
    {
     "name": "stdout",
     "output_type": "stream",
     "text": [
      "Average Sentence Length:\n"
     ]
    },
    {
     "data": {
      "text/plain": [
       "19.704067670108223"
      ]
     },
     "execution_count": 14,
     "metadata": {},
     "output_type": "execute_result"
    },
    {
     "data": {
      "text/plain": [
       "17.878401074907625"
      ]
     },
     "execution_count": 14,
     "metadata": {},
     "output_type": "execute_result"
    },
    {
     "name": "stdout",
     "output_type": "stream",
     "text": [
      "Average Number of Turns:\n"
     ]
    },
    {
     "data": {
      "text/plain": [
       "22.912844036697248"
      ]
     },
     "execution_count": 14,
     "metadata": {},
     "output_type": "execute_result"
    },
    {
     "data": {
      "text/plain": [
       "19.028301886792452"
      ]
     },
     "execution_count": 14,
     "metadata": {},
     "output_type": "execute_result"
    }
   ],
   "source": [
    "# Males vs. Females \n",
    "\n",
    "# utterances\n",
    "print(\"Utterances:\")\n",
    "art_df[\"Gender\"].value_counts().reindex([\"M\",\"F\"])\n",
    "\n",
    "# data frames for male and female lines\n",
    "M_art_df=art_df.loc[art_df[\"Gender\"]=='M',:]\n",
    "F_art_df=art_df.loc[art_df[\"Gender\"]=='F',:]\n",
    "\n",
    "# sentences\n",
    "print(\"Number of Sentences:\")\n",
    "M_art_df[\"Num_Sents\"].sum()\n",
    "F_art_df[\"Num_Sents\"].sum() \n",
    "\n",
    "# words\n",
    "print(\"Number of Words:\")\n",
    "M_art_df[\"Num_Words\"].sum()\n",
    "F_art_df[\"Num_Words\"].sum() \n",
    "\n",
    "# avg word length\n",
    "print(\"Average Word Length:\")\n",
    "M_art_df[\"Avg_Word_Length\"].mean()\n",
    "F_art_df[\"Avg_Word_Length\"].mean()\n",
    "\n",
    "# avg sent length\n",
    "print(\"Average Sentence Length:\")\n",
    "M_art_df[\"Num_Words\"].sum()/M_art_df[\"Num_Sents\"].sum()\n",
    "F_art_df[\"Num_Words\"].sum()/F_art_df[\"Num_Sents\"].sum()\n",
    "\n",
    "# building male and female data frames from speaker_df\n",
    "M_df=speaker_df.loc[speaker_df[\"Gender\"]=='M',:]\n",
    "F_df=speaker_df.loc[speaker_df[\"Gender\"]=='F',:]\n",
    "\n",
    "print(\"Average Number of Turns:\")\n",
    "M_df[\"Number_of_Utterances\"].mean()\n",
    "F_df[\"Number_of_Utterances\"].mean()"
   ]
  },
  {
   "cell_type": "markdown",
   "metadata": {},
   "source": [
    "Summary of Key Information:\n",
    "- Number of Turns:\n",
    "    - Males > Females\n",
    "- Number of Sentences:\n",
    "    - Males > Females\n",
    "- Number of Words:\n",
    "    - Males > Females\n",
    "- Average Word Length:\n",
    "    - About Equal\n",
    "- Average Sentence Length:\n",
    "    - Males > Females\n",
    "- Average Number of Turns:\n",
    "    - Males > Females"
   ]
  },
  {
   "cell_type": "markdown",
   "metadata": {},
   "source": [
    "## Back Channels"
   ]
  },
  {
   "cell_type": "markdown",
   "metadata": {},
   "source": [
    "### What are the Back Channels? Which ones are most common?"
   ]
  },
  {
   "cell_type": "code",
   "execution_count": 15,
   "metadata": {},
   "outputs": [
    {
     "data": {
      "text/plain": [
       "mm              625\n",
       "yeah            576\n",
       "laughs          450\n",
       "yes             342\n",
       "inaudible       303\n",
       "mhm             232\n",
       "right           174\n",
       "laugh           150\n",
       "yep             140\n",
       "okay             90\n",
       "oh               66\n",
       "uh               52\n",
       "no               41\n",
       "oh okay          31\n",
       "ah               27\n",
       "that's right     24\n",
       "um               24\n",
       "thank you        20\n",
       "alright          19\n",
       "well             18\n",
       "Name: Back_Channel, dtype: int64"
      ]
     },
     "execution_count": 15,
     "metadata": {},
     "output_type": "execute_result"
    },
    {
     "data": {
      "text/plain": [
       "patch                     1\n",
       "uh yes                    1\n",
       "yeah coh                  1\n",
       "look I'm                  1\n",
       "t uh look tell me this    1\n",
       "Oh I see                  1\n",
       "my pleasure               1\n",
       "thank                     1\n",
       "mm good                   1\n",
       "oh that's fine            1\n",
       "hope they enjoyed it      1\n",
       "down at                   1\n",
       "Thank you reminding       1\n",
       "uh fruit                  1\n",
       "thank you John            1\n",
       "Gino's yep                1\n",
       "good Pete                 1\n",
       "aerial roots              1\n",
       "oh they are               1\n",
       "just the one              1\n",
       "Name: Back_Channel, dtype: int64"
      ]
     },
     "execution_count": 15,
     "metadata": {},
     "output_type": "execute_result"
    }
   ],
   "source": [
    "bk_df[\"Back_Channel\"].value_counts()[:20]\n",
    "bk_df[\"Back_Channel\"].value_counts()[-20:]"
   ]
  },
  {
   "cell_type": "code",
   "execution_count": 16,
   "metadata": {},
   "outputs": [
    {
     "data": {
      "text/plain": [
       "<matplotlib.text.Text object at 0x0B479910>"
      ]
     },
     "execution_count": 16,
     "metadata": {},
     "output_type": "execute_result"
    },
    {
     "data": {
      "text/plain": [
       "<matplotlib.text.Text object at 0x0B3E28B0>"
      ]
     },
     "execution_count": 16,
     "metadata": {},
     "output_type": "execute_result"
    },
    {
     "data": {
      "text/plain": [
       "<matplotlib.text.Text object at 0x0B71A110>"
      ]
     },
     "execution_count": 16,
     "metadata": {},
     "output_type": "execute_result"
    },
    {
     "data": {
      "image/png": "[encoded data removed]",
      "text/plain": [
       "<matplotlib.figure.Figure object at 0x0B4103F0>"
      ]
     },
     "metadata": {},
     "output_type": "display_data"
    }
   ],
   "source": [
    "figure = bk_df[\"Back_Channel\"].value_counts()[:20].plot.bar()\n",
    "plt.title(\"Top 20 Back Channels\")\n",
    "plt.xlabel(\"Back Channel\")\n",
    "plt.ylabel(\"Number of Occurances\")\n",
    "plt.show()\n",
    "\n",
    "# saving the figure\n",
    "figure.figure.savefig(\"images/top_20_back_channels.png\")"
   ]
  },
  {
   "cell_type": "markdown",
   "metadata": {},
   "source": [
    "Unfortunately, a lot of the back channels were inaudible, with 303 being inaudible. However, the top back channels make sense and I do not expect that having the inaudible utterances would impact the results greatly.\n",
    "\n",
    "Laughter is marked as plural and singlular because when 2 speakers laughed at the same time, the format was <speaker1 and speaker2 laugh>."
   ]
  },
  {
   "cell_type": "code",
   "execution_count": 17,
   "metadata": {},
   "outputs": [
    {
     "data": {
      "text/plain": [
       "COMNE4-E1    270\n",
       "NAT8-P1      195\n",
       "COME3-E1     147\n",
       "ABCE2-E1     146\n",
       "COMNE1-P1    140\n",
       "COMNE1-P2    124\n",
       "COME1-E1     110\n",
       "NAT4-P1       98\n",
       "ABCE3-P1      94\n",
       "ABCE2-E2      93\n",
       "COMNE4-P1     90\n",
       "NAT1-P1       80\n",
       "ABCE1-E1      79\n",
       "COME5-P2      75\n",
       "ABCE2-P1      66\n",
       "ABCE3-P2      54\n",
       "COME6-P1      51\n",
       "ABCNE2-E1     50\n",
       "COMNE5-P1     50\n",
       "COMNE7-P1     46\n",
       "Name: Speaker, dtype: int64"
      ]
     },
     "execution_count": 17,
     "metadata": {},
     "output_type": "execute_result"
    }
   ],
   "source": [
    "# What speakers uttered the most Back Channels?\n",
    "bk_df[\"Speaker\"].value_counts()[:20]"
   ]
  },
  {
   "cell_type": "markdown",
   "metadata": {},
   "source": [
    "### What Speaker Type has the most Back Channels?"
   ]
  },
  {
   "cell_type": "code",
   "execution_count": 18,
   "metadata": {},
   "outputs": [
    {
     "data": {
      "text/plain": [
       "P    1625\n",
       "C    1691\n",
       "E    1328\n",
       "Name: Speaker_Type, dtype: int64"
      ]
     },
     "execution_count": 18,
     "metadata": {},
     "output_type": "execute_result"
    }
   ],
   "source": [
    "# number of back channels per speaker type\n",
    "bk_df[\"Speaker_Type\"].value_counts().reindex([\"P\",\"C\",\"E\"])"
   ]
  },
  {
   "cell_type": "code",
   "execution_count": 19,
   "metadata": {},
   "outputs": [
    {
     "data": {
      "text/plain": [
       "<matplotlib.text.Text object at 0x0B4EEF30>"
      ]
     },
     "execution_count": 19,
     "metadata": {},
     "output_type": "execute_result"
    },
    {
     "data": {
      "text/plain": [
       "<matplotlib.text.Text object at 0x0B4DAF90>"
      ]
     },
     "execution_count": 19,
     "metadata": {},
     "output_type": "execute_result"
    },
    {
     "data": {
      "text/plain": [
       "<matplotlib.text.Text object at 0x0B4C3CD0>"
      ]
     },
     "execution_count": 19,
     "metadata": {},
     "output_type": "execute_result"
    },
    {
     "data": {
      "image/png": "[encoded data removed]",
      "text/plain": [
       "<matplotlib.figure.Figure object at 0x0B4DFD50>"
      ]
     },
     "metadata": {},
     "output_type": "display_data"
    }
   ],
   "source": [
    "figure = bk_df[\"Speaker_Type\"].value_counts().reindex([\"P\",\"C\",\"E\"]).plot.bar()\n",
    "plt.title(\"Back Channels by Speaker Type\")\n",
    "plt.xlabel(\"Speaker Type\")\n",
    "plt.ylabel(\"Number of Back Channels\")\n",
    "plt.show()\n",
    "\n",
    "# saving the figure\n",
    "figure.figure.savefig(\"images/back_channel_speaker_types.png\")"
   ]
  },
  {
   "cell_type": "markdown",
   "metadata": {},
   "source": [
    "Callers utter the most Back Channels.\n",
    "\n",
    "- **Ideas:** \n",
    "    - Many callers with few lines\n",
    "    - Least professional group\n",
    "    \n",
    "Callers are uttering the most back channels. I expect this to be because they are in for a very brief time but there are a lot of them, so they will be following along with what the presenter or expert is saying.\n",
    "\n",
    "Interestingly, the Presenters do not utter as many back channels. I would expect them to have more back channels because they are present for the entire show and would have more chances to utter back channels.\n",
    "\n",
    "However!! I need to normalize these raw counts of back channels. I will attempt to do this by comparing them with the number of utterances (or turns) by speaker type to know if these findings are comparable:"
   ]
  },
  {
   "cell_type": "markdown",
   "metadata": {},
   "source": [
    "### What Speaker Type has the most number of Back Channels uttered during their lines?"
   ]
  },
  {
   "cell_type": "code",
   "execution_count": 20,
   "metadata": {},
   "outputs": [
    {
     "data": {
      "text/plain": [
       "P    1612\n",
       "C    1454\n",
       "E    1580\n",
       "Name: Line_Speaker_Type, dtype: int64"
      ]
     },
     "execution_count": 20,
     "metadata": {},
     "output_type": "execute_result"
    }
   ],
   "source": [
    "bk_df[\"Line_Speaker_Type\"].value_counts().reindex([\"P\",\"C\",\"E\"])"
   ]
  },
  {
   "cell_type": "code",
   "execution_count": 21,
   "metadata": {},
   "outputs": [
    {
     "data": {
      "text/plain": [
       "<matplotlib.text.Text object at 0x0B5334D0>"
      ]
     },
     "execution_count": 21,
     "metadata": {},
     "output_type": "execute_result"
    },
    {
     "data": {
      "text/plain": [
       "<matplotlib.text.Text object at 0x0B4B18F0>"
      ]
     },
     "execution_count": 21,
     "metadata": {},
     "output_type": "execute_result"
    },
    {
     "data": {
      "text/plain": [
       "<matplotlib.text.Text object at 0x0B4C8910>"
      ]
     },
     "execution_count": 21,
     "metadata": {},
     "output_type": "execute_result"
    },
    {
     "data": {
      "image/png": "[encoded data removed]",
      "text/plain": [
       "<matplotlib.figure.Figure object at 0x0B519310>"
      ]
     },
     "metadata": {},
     "output_type": "display_data"
    }
   ],
   "source": [
    "figure = bk_df[\"Line_Speaker_Type\"].value_counts().reindex([\"P\",\"C\",\"E\"]).plot.bar()\n",
    "plt.title(\"Back Channels by Line Speaker Type\")\n",
    "plt.xlabel(\"Line Speaker Type\")\n",
    "plt.ylabel(\"Number of Back Channels\")\n",
    "plt.show()\n",
    "\n",
    "# saving the figure\n",
    "figure.figure.savefig(\"images/back_channel_line_speaker_types.png\")"
   ]
  },
  {
   "cell_type": "markdown",
   "metadata": {},
   "source": [
    "Experts Lines have the most number of Back Channels, and Experts have the longest sentences.\n",
    "\n",
    "**Conclusion:** Longer Sentences lead to more back channels.\n",
    "\n",
    "There are a lot more back channels uttered while Experts are speaking. This is probably because they are giving detailed information for many of their lines and Presenters and Callers would utter back channels to show they are listening (and maybe understanding).\n",
    "\n",
    "Experts talk longest, so more time for back channels."
   ]
  },
  {
   "cell_type": "markdown",
   "metadata": {},
   "source": [
    "### What Gender utters the most Back Channels?"
   ]
  },
  {
   "cell_type": "code",
   "execution_count": 22,
   "metadata": {},
   "outputs": [
    {
     "data": {
      "text/plain": [
       "M    2403\n",
       "F    2243\n",
       "Name: Speaker_Gender, dtype: int64"
      ]
     },
     "execution_count": 22,
     "metadata": {},
     "output_type": "execute_result"
    },
    {
     "data": {
      "text/plain": [
       "<matplotlib.text.Text object at 0x0B5E3B90>"
      ]
     },
     "execution_count": 22,
     "metadata": {},
     "output_type": "execute_result"
    },
    {
     "data": {
      "text/plain": [
       "<matplotlib.text.Text object at 0x0B5D0930>"
      ]
     },
     "execution_count": 22,
     "metadata": {},
     "output_type": "execute_result"
    },
    {
     "data": {
      "text/plain": [
       "<matplotlib.text.Text object at 0x0B5D69B0>"
      ]
     },
     "execution_count": 22,
     "metadata": {},
     "output_type": "execute_result"
    },
    {
     "data": {
      "image/png": "[encoded data removed]",
      "text/plain": [
       "<matplotlib.figure.Figure object at 0x0B558490>"
      ]
     },
     "metadata": {},
     "output_type": "display_data"
    }
   ],
   "source": [
    "# number of back channels per gender\n",
    "bk_df[\"Speaker_Gender\"].value_counts().reindex([\"M\",\"F\"])\n",
    "\n",
    "figure = bk_df[\"Speaker_Gender\"].value_counts().reindex([\"M\",\"F\"]).plot.bar()\n",
    "plt.title(\"Back Channels by Speaker Gender\")\n",
    "plt.xlabel(\"Speaker Gender\")\n",
    "plt.ylabel(\"Number of Back Channels\")\n",
    "plt.show()\n",
    "\n",
    "# saving the figure\n",
    "figure.figure.savefig(\"images/back_channel_speaker_genders.png\")"
   ]
  },
  {
   "cell_type": "markdown",
   "metadata": {},
   "source": [
    "### What Gender has the most Back Channels uttered while they are speaking?"
   ]
  },
  {
   "cell_type": "code",
   "execution_count": 23,
   "metadata": {},
   "outputs": [
    {
     "data": {
      "text/plain": [
       "M    2575\n",
       "F    2071\n",
       "Name: Line_Speaker_Gender, dtype: int64"
      ]
     },
     "execution_count": 23,
     "metadata": {},
     "output_type": "execute_result"
    },
    {
     "data": {
      "text/plain": [
       "<matplotlib.text.Text object at 0x0B622D90>"
      ]
     },
     "execution_count": 23,
     "metadata": {},
     "output_type": "execute_result"
    },
    {
     "data": {
      "text/plain": [
       "<matplotlib.text.Text object at 0x0B55B430>"
      ]
     },
     "execution_count": 23,
     "metadata": {},
     "output_type": "execute_result"
    },
    {
     "data": {
      "text/plain": [
       "<matplotlib.text.Text object at 0x0B610B70>"
      ]
     },
     "execution_count": 23,
     "metadata": {},
     "output_type": "execute_result"
    },
    {
     "data": {
      "image/png": "[encoded data removed]",
      "text/plain": [
       "<matplotlib.figure.Figure object at 0x0B60A310>"
      ]
     },
     "metadata": {},
     "output_type": "display_data"
    }
   ],
   "source": [
    "# number of lines with back channels per gender\n",
    "bk_df[\"Line_Speaker_Gender\"].value_counts().reindex([\"M\",\"F\"])\n",
    "\n",
    "figure = bk_df[\"Line_Speaker_Gender\"].value_counts().reindex([\"M\",\"F\"]).plot.bar()\n",
    "plt.title(\"Back Channels by Line Speaker Gender\")\n",
    "plt.xlabel(\"Line Speaker Gender\")\n",
    "plt.ylabel(\"Number of Back Channels\")\n",
    "plt.show()\n",
    "\n",
    "# saving the figure\n",
    "figure.figure.savefig(\"images/back_channel_speaker_genders.png\")"
   ]
  },
  {
   "cell_type": "markdown",
   "metadata": {},
   "source": [
    "**Conclusion:** Men produced more back channels, and more back channels were uttered while they were talking."
   ]
  },
  {
   "cell_type": "markdown",
   "metadata": {},
   "source": [
    "### Are Men more likely to utter Back Channels when a Women or Man is speaking? How about the other way around?"
   ]
  },
  {
   "cell_type": "code",
   "execution_count": 24,
   "metadata": {},
   "outputs": [
    {
     "data": {
      "text/html": [
       "<div>\n",
       "<style scoped>\n",
       "    .dataframe tbody tr th:only-of-type {\n",
       "        vertical-align: middle;\n",
       "    }\n",
       "\n",
       "    .dataframe tbody tr th {\n",
       "        vertical-align: top;\n",
       "    }\n",
       "\n",
       "    .dataframe thead th {\n",
       "        text-align: right;\n",
       "    }\n",
       "</style>\n",
       "<table border=\"1\" class=\"dataframe\">\n",
       "  <thead>\n",
       "    <tr style=\"text-align: right;\">\n",
       "      <th></th>\n",
       "      <th>Speaker</th>\n",
       "      <th>Speaker_Type</th>\n",
       "      <th>Speaker_Gender</th>\n",
       "      <th>Back_Channel</th>\n",
       "      <th>Line_Speaker</th>\n",
       "      <th>Segment_Utterance_Number</th>\n",
       "      <th>Segment</th>\n",
       "      <th>Line_Speaker_Type</th>\n",
       "      <th>Line_Speaker_Gender</th>\n",
       "    </tr>\n",
       "    <tr>\n",
       "      <th></th>\n",
       "      <th></th>\n",
       "      <th></th>\n",
       "      <th></th>\n",
       "      <th></th>\n",
       "      <th></th>\n",
       "      <th></th>\n",
       "      <th></th>\n",
       "      <th></th>\n",
       "      <th></th>\n",
       "    </tr>\n",
       "  </thead>\n",
       "  <tbody>\n",
       "    <tr>\n",
       "      <th>0</th>\n",
       "      <td>ABCE1-E1</td>\n",
       "      <td>E</td>\n",
       "      <td>M</td>\n",
       "      <td>sounds reasonable</td>\n",
       "      <td>ABCE1-P1</td>\n",
       "      <td>3</td>\n",
       "      <td>ABCE1</td>\n",
       "      <td>P</td>\n",
       "      <td>M</td>\n",
       "    </tr>\n",
       "    <tr>\n",
       "      <th>2</th>\n",
       "      <td>ABCE1-P1</td>\n",
       "      <td>P</td>\n",
       "      <td>M</td>\n",
       "      <td>yes</td>\n",
       "      <td>ABCE1-C1</td>\n",
       "      <td>11</td>\n",
       "      <td>ABCE1</td>\n",
       "      <td>C</td>\n",
       "      <td>F</td>\n",
       "    </tr>\n",
       "    <tr>\n",
       "      <th>3</th>\n",
       "      <td>ABCE1-E1</td>\n",
       "      <td>E</td>\n",
       "      <td>M</td>\n",
       "      <td>mm</td>\n",
       "      <td>ABCE1-C1</td>\n",
       "      <td>11</td>\n",
       "      <td>ABCE1</td>\n",
       "      <td>C</td>\n",
       "      <td>F</td>\n",
       "    </tr>\n",
       "    <tr>\n",
       "      <th>4</th>\n",
       "      <td>ABCE1-E1</td>\n",
       "      <td>E</td>\n",
       "      <td>M</td>\n",
       "      <td>mm</td>\n",
       "      <td>ABCE1-C1</td>\n",
       "      <td>11</td>\n",
       "      <td>ABCE1</td>\n",
       "      <td>C</td>\n",
       "      <td>F</td>\n",
       "    </tr>\n",
       "    <tr>\n",
       "      <th>5</th>\n",
       "      <td>ABCE1-E1</td>\n",
       "      <td>E</td>\n",
       "      <td>M</td>\n",
       "      <td>mm</td>\n",
       "      <td>ABCE1-C1</td>\n",
       "      <td>11</td>\n",
       "      <td>ABCE1</td>\n",
       "      <td>C</td>\n",
       "      <td>F</td>\n",
       "    </tr>\n",
       "  </tbody>\n",
       "</table>\n",
       "</div>"
      ],
      "text/plain": [
       "    Speaker Speaker_Type Speaker_Gender       Back_Channel Line_Speaker  \\\n",
       "                                                                          \n",
       "0  ABCE1-E1            E              M  sounds reasonable     ABCE1-P1   \n",
       "2  ABCE1-P1            P              M                yes     ABCE1-C1   \n",
       "3  ABCE1-E1            E              M                 mm     ABCE1-C1   \n",
       "4  ABCE1-E1            E              M                 mm     ABCE1-C1   \n",
       "5  ABCE1-E1            E              M                 mm     ABCE1-C1   \n",
       "\n",
       "   Segment_Utterance_Number Segment Line_Speaker_Type Line_Speaker_Gender  \n",
       "                                                                           \n",
       "0                         3   ABCE1                 P                   M  \n",
       "2                        11   ABCE1                 C                   F  \n",
       "3                        11   ABCE1                 C                   F  \n",
       "4                        11   ABCE1                 C                   F  \n",
       "5                        11   ABCE1                 C                   F  "
      ]
     },
     "execution_count": 24,
     "metadata": {},
     "output_type": "execute_result"
    },
    {
     "data": {
      "text/html": [
       "<div>\n",
       "<style scoped>\n",
       "    .dataframe tbody tr th:only-of-type {\n",
       "        vertical-align: middle;\n",
       "    }\n",
       "\n",
       "    .dataframe tbody tr th {\n",
       "        vertical-align: top;\n",
       "    }\n",
       "\n",
       "    .dataframe thead th {\n",
       "        text-align: right;\n",
       "    }\n",
       "</style>\n",
       "<table border=\"1\" class=\"dataframe\">\n",
       "  <thead>\n",
       "    <tr style=\"text-align: right;\">\n",
       "      <th></th>\n",
       "      <th>Speaker</th>\n",
       "      <th>Speaker_Type</th>\n",
       "      <th>Speaker_Gender</th>\n",
       "      <th>Back_Channel</th>\n",
       "      <th>Line_Speaker</th>\n",
       "      <th>Segment_Utterance_Number</th>\n",
       "      <th>Segment</th>\n",
       "      <th>Line_Speaker_Type</th>\n",
       "      <th>Line_Speaker_Gender</th>\n",
       "    </tr>\n",
       "    <tr>\n",
       "      <th></th>\n",
       "      <th></th>\n",
       "      <th></th>\n",
       "      <th></th>\n",
       "      <th></th>\n",
       "      <th></th>\n",
       "      <th></th>\n",
       "      <th></th>\n",
       "      <th></th>\n",
       "      <th></th>\n",
       "    </tr>\n",
       "  </thead>\n",
       "  <tbody>\n",
       "    <tr>\n",
       "      <th>1</th>\n",
       "      <td>ABCE1-C1</td>\n",
       "      <td>C</td>\n",
       "      <td>F</td>\n",
       "      <td>laughs</td>\n",
       "      <td>ABCE1-P1</td>\n",
       "      <td>10</td>\n",
       "      <td>ABCE1</td>\n",
       "      <td>P</td>\n",
       "      <td>M</td>\n",
       "    </tr>\n",
       "    <tr>\n",
       "      <th>7</th>\n",
       "      <td>ABCE1-C1</td>\n",
       "      <td>C</td>\n",
       "      <td>F</td>\n",
       "      <td>mhm</td>\n",
       "      <td>ABCE1-P1</td>\n",
       "      <td>14</td>\n",
       "      <td>ABCE1</td>\n",
       "      <td>P</td>\n",
       "      <td>M</td>\n",
       "    </tr>\n",
       "    <tr>\n",
       "      <th>8</th>\n",
       "      <td>ABCE1-C1</td>\n",
       "      <td>C</td>\n",
       "      <td>F</td>\n",
       "      <td>uh</td>\n",
       "      <td>ABCE1-E1</td>\n",
       "      <td>23</td>\n",
       "      <td>ABCE1</td>\n",
       "      <td>E</td>\n",
       "      <td>M</td>\n",
       "    </tr>\n",
       "    <tr>\n",
       "      <th>11</th>\n",
       "      <td>ABCE1-C1</td>\n",
       "      <td>C</td>\n",
       "      <td>F</td>\n",
       "      <td>laugh</td>\n",
       "      <td>ABCE1-C1</td>\n",
       "      <td>24</td>\n",
       "      <td>ABCE1</td>\n",
       "      <td>C</td>\n",
       "      <td>F</td>\n",
       "    </tr>\n",
       "    <tr>\n",
       "      <th>14</th>\n",
       "      <td>ABCE1-C1</td>\n",
       "      <td>C</td>\n",
       "      <td>F</td>\n",
       "      <td>mm</td>\n",
       "      <td>ABCE1-E1</td>\n",
       "      <td>31</td>\n",
       "      <td>ABCE1</td>\n",
       "      <td>E</td>\n",
       "      <td>M</td>\n",
       "    </tr>\n",
       "  </tbody>\n",
       "</table>\n",
       "</div>"
      ],
      "text/plain": [
       "     Speaker Speaker_Type Speaker_Gender Back_Channel Line_Speaker  \\\n",
       "                                                                     \n",
       "1   ABCE1-C1            C              F       laughs     ABCE1-P1   \n",
       "7   ABCE1-C1            C              F          mhm     ABCE1-P1   \n",
       "8   ABCE1-C1            C              F           uh     ABCE1-E1   \n",
       "11  ABCE1-C1            C              F        laugh     ABCE1-C1   \n",
       "14  ABCE1-C1            C              F           mm     ABCE1-E1   \n",
       "\n",
       "    Segment_Utterance_Number Segment Line_Speaker_Type Line_Speaker_Gender  \n",
       "                                                                            \n",
       "1                         10   ABCE1                 P                   M  \n",
       "7                         14   ABCE1                 P                   M  \n",
       "8                         23   ABCE1                 E                   M  \n",
       "11                        24   ABCE1                 C                   F  \n",
       "14                        31   ABCE1                 E                   M  "
      ]
     },
     "execution_count": 24,
     "metadata": {},
     "output_type": "execute_result"
    }
   ],
   "source": [
    "# Male Back Channels\n",
    "M_bk_df=bk_df.loc[bk_df[\"Speaker_Gender\"]=='M',:]\n",
    "                  \n",
    "# Female Back Channels\n",
    "F_bk_df=bk_df.loc[bk_df[\"Speaker_Gender\"]=='F',:]\n",
    "\n",
    "# peaking at the data frames\n",
    "M_bk_df.head()\n",
    "F_bk_df.head()"
   ]
  },
  {
   "cell_type": "code",
   "execution_count": 25,
   "metadata": {},
   "outputs": [
    {
     "name": "stdout",
     "output_type": "stream",
     "text": [
      "The Gender of the Line's Speaker during All Instances of Male Back Channels:\n"
     ]
    },
    {
     "data": {
      "text/plain": [
       "M    1508\n",
       "F     895\n",
       "Name: Line_Speaker_Gender, dtype: int64"
      ]
     },
     "execution_count": 25,
     "metadata": {},
     "output_type": "execute_result"
    },
    {
     "name": "stdout",
     "output_type": "stream",
     "text": [
      "The Gender of the Line's Speaker during All Instances of Female Back Channels:\n"
     ]
    },
    {
     "data": {
      "text/plain": [
       "M    1067\n",
       "F    1176\n",
       "Name: Line_Speaker_Gender, dtype: int64"
      ]
     },
     "execution_count": 25,
     "metadata": {},
     "output_type": "execute_result"
    }
   ],
   "source": [
    "print(\"The Gender of the Line's Speaker during All Instances of Male Back Channels:\")\n",
    "M_bk_df[\"Line_Speaker_Gender\"].value_counts().reindex([\"M\",\"F\"])\n",
    "print(\"The Gender of the Line's Speaker during All Instances of Female Back Channels:\")\n",
    "F_bk_df[\"Line_Speaker_Gender\"].value_counts().reindex([\"M\",\"F\"])"
   ]
  },
  {
   "cell_type": "markdown",
   "metadata": {},
   "source": [
    "**Conclusion:** *Men* produce more Back Channels when *Other Men* are talking, and *Women* produce slightly more back channels when *Other Women* are talking.\n",
    "\n",
    "### How do Male and Female Most Common Back Channels Compare?"
   ]
  },
  {
   "cell_type": "code",
   "execution_count": 26,
   "metadata": {},
   "outputs": [
    {
     "name": "stdout",
     "output_type": "stream",
     "text": [
      "Most Common Male Back Channels:\n"
     ]
    },
    {
     "data": {
      "text/plain": [
       "mm              332\n",
       "yeah            295\n",
       "laughs          224\n",
       "inaudible       175\n",
       "yes             175\n",
       "right            96\n",
       "laugh            81\n",
       "yep              74\n",
       "mhm              70\n",
       "okay             42\n",
       "uh               30\n",
       "oh               29\n",
       "um               17\n",
       "no               16\n",
       "ah               14\n",
       "that's right     12\n",
       "oh okay          10\n",
       "well              9\n",
       "thank you         8\n",
       "alright           7\n",
       "Name: Back_Channel, dtype: int64"
      ]
     },
     "execution_count": 26,
     "metadata": {},
     "output_type": "execute_result"
    },
    {
     "name": "stdout",
     "output_type": "stream",
     "text": [
      "Most Common Female Back Channels:\n"
     ]
    },
    {
     "data": {
      "text/plain": [
       "mm              293\n",
       "yeah            281\n",
       "laughs          226\n",
       "yes             167\n",
       "mhm             162\n",
       "inaudible       128\n",
       "right            78\n",
       "laugh            69\n",
       "yep              66\n",
       "okay             48\n",
       "oh               37\n",
       "no               25\n",
       "uh               22\n",
       "oh okay          21\n",
       "ah               13\n",
       "alright          12\n",
       "thank you        12\n",
       "that's right     12\n",
       "uhuh             11\n",
       "sure              9\n",
       "Name: Back_Channel, dtype: int64"
      ]
     },
     "execution_count": 26,
     "metadata": {},
     "output_type": "execute_result"
    }
   ],
   "source": [
    "# Most Common Male and Female Back Channels\n",
    "print(\"Most Common Male Back Channels:\")\n",
    "M_bk_df[\"Back_Channel\"].value_counts()[:20]\n",
    "print(\"Most Common Female Back Channels:\")\n",
    "F_bk_df[\"Back_Channel\"].value_counts()[:20]"
   ]
  },
  {
   "cell_type": "markdown",
   "metadata": {},
   "source": [
    "Female and Male Back Channels appear to be about the same\n",
    "\n",
    "Next Question: How does Speaker Type Affect Men and Women's Back Channels?"
   ]
  },
  {
   "cell_type": "markdown",
   "metadata": {},
   "source": [
    "## Presenter Gender Analysis"
   ]
  },
  {
   "cell_type": "code",
   "execution_count": 27,
   "metadata": {},
   "outputs": [
    {
     "data": {
      "text/html": [
       "<div>\n",
       "<style scoped>\n",
       "    .dataframe tbody tr th:only-of-type {\n",
       "        vertical-align: middle;\n",
       "    }\n",
       "\n",
       "    .dataframe tbody tr th {\n",
       "        vertical-align: top;\n",
       "    }\n",
       "\n",
       "    .dataframe thead th {\n",
       "        text-align: right;\n",
       "    }\n",
       "</style>\n",
       "<table border=\"1\" class=\"dataframe\">\n",
       "  <thead>\n",
       "    <tr style=\"text-align: right;\">\n",
       "      <th></th>\n",
       "      <th>Segment</th>\n",
       "      <th>Speaker_Type</th>\n",
       "      <th>Gender</th>\n",
       "      <th>Name</th>\n",
       "      <th>Number_of_Utterances</th>\n",
       "    </tr>\n",
       "    <tr>\n",
       "      <th>Speaker</th>\n",
       "      <th></th>\n",
       "      <th></th>\n",
       "      <th></th>\n",
       "      <th></th>\n",
       "      <th></th>\n",
       "    </tr>\n",
       "  </thead>\n",
       "  <tbody>\n",
       "    <tr>\n",
       "      <th>ABCE1-P1</th>\n",
       "      <td>ABCE1</td>\n",
       "      <td>P</td>\n",
       "      <td>M</td>\n",
       "      <td>Simon Marnie</td>\n",
       "      <td>155</td>\n",
       "    </tr>\n",
       "    <tr>\n",
       "      <th>ABCE2-P1</th>\n",
       "      <td>ABCE2</td>\n",
       "      <td>P</td>\n",
       "      <td>M</td>\n",
       "      <td>Simon Marnie</td>\n",
       "      <td>233</td>\n",
       "    </tr>\n",
       "    <tr>\n",
       "      <th>ABCE3-P1</th>\n",
       "      <td>ABCE3</td>\n",
       "      <td>P</td>\n",
       "      <td>F</td>\n",
       "      <td>Lynne Haultain</td>\n",
       "      <td>129</td>\n",
       "    </tr>\n",
       "    <tr>\n",
       "      <th>ABCE3-P2</th>\n",
       "      <td>ABCE3</td>\n",
       "      <td>P</td>\n",
       "      <td>F</td>\n",
       "      <td>Jurate Sasnaitis</td>\n",
       "      <td>56</td>\n",
       "    </tr>\n",
       "    <tr>\n",
       "      <th>ABCE4-P1</th>\n",
       "      <td>ABCE4</td>\n",
       "      <td>P</td>\n",
       "      <td>F</td>\n",
       "      <td>Kelly Higgins-Devine</td>\n",
       "      <td>23</td>\n",
       "    </tr>\n",
       "    <tr>\n",
       "      <th>ABCNE1-P1</th>\n",
       "      <td>ABCNE1</td>\n",
       "      <td>P</td>\n",
       "      <td>M</td>\n",
       "      <td>Trevor Jackson</td>\n",
       "      <td>64</td>\n",
       "    </tr>\n",
       "    <tr>\n",
       "      <th>ABCNE2-P1</th>\n",
       "      <td>ABCNE2</td>\n",
       "      <td>P</td>\n",
       "      <td>M</td>\n",
       "      <td>Trevor Jackson</td>\n",
       "      <td>58</td>\n",
       "    </tr>\n",
       "    <tr>\n",
       "      <th>COME1-P1</th>\n",
       "      <td>COME1</td>\n",
       "      <td>P</td>\n",
       "      <td>M</td>\n",
       "      <td>Luke Bona</td>\n",
       "      <td>67</td>\n",
       "    </tr>\n",
       "    <tr>\n",
       "      <th>COME2-P1</th>\n",
       "      <td>COME2</td>\n",
       "      <td>P</td>\n",
       "      <td>M</td>\n",
       "      <td>Luke Bona</td>\n",
       "      <td>68</td>\n",
       "    </tr>\n",
       "    <tr>\n",
       "      <th>COME3-P1</th>\n",
       "      <td>COME3</td>\n",
       "      <td>P</td>\n",
       "      <td>M</td>\n",
       "      <td>Luke Bona</td>\n",
       "      <td>61</td>\n",
       "    </tr>\n",
       "    <tr>\n",
       "      <th>COME5-P1</th>\n",
       "      <td>COME5</td>\n",
       "      <td>P</td>\n",
       "      <td>M</td>\n",
       "      <td>Spencer</td>\n",
       "      <td>65</td>\n",
       "    </tr>\n",
       "    <tr>\n",
       "      <th>COME5-P2</th>\n",
       "      <td>COME5</td>\n",
       "      <td>P</td>\n",
       "      <td>F</td>\n",
       "      <td>Sharina</td>\n",
       "      <td>491</td>\n",
       "    </tr>\n",
       "    <tr>\n",
       "      <th>COME6-P1</th>\n",
       "      <td>COME6</td>\n",
       "      <td>P</td>\n",
       "      <td>M</td>\n",
       "      <td>Paul Murray</td>\n",
       "      <td>116</td>\n",
       "    </tr>\n",
       "    <tr>\n",
       "      <th>COME7-P1</th>\n",
       "      <td>COME7</td>\n",
       "      <td>P</td>\n",
       "      <td>M</td>\n",
       "      <td>Neil Mitchell</td>\n",
       "      <td>56</td>\n",
       "    </tr>\n",
       "    <tr>\n",
       "      <th>COMNE1-P1</th>\n",
       "      <td>COMNE1</td>\n",
       "      <td>P</td>\n",
       "      <td>M</td>\n",
       "      <td>Brad Hardie</td>\n",
       "      <td>143</td>\n",
       "    </tr>\n",
       "    <tr>\n",
       "      <th>COMNE1-P2</th>\n",
       "      <td>COMNE1</td>\n",
       "      <td>P</td>\n",
       "      <td>M</td>\n",
       "      <td>Adrian Barich</td>\n",
       "      <td>118</td>\n",
       "    </tr>\n",
       "    <tr>\n",
       "      <th>COMNE2-P1</th>\n",
       "      <td>COMNE2</td>\n",
       "      <td>P</td>\n",
       "      <td>M</td>\n",
       "      <td>Howard Sattler</td>\n",
       "      <td>79</td>\n",
       "    </tr>\n",
       "    <tr>\n",
       "      <th>COMNE3-P1</th>\n",
       "      <td>COMNE3</td>\n",
       "      <td>P</td>\n",
       "      <td>M</td>\n",
       "      <td>Harvey Deegan</td>\n",
       "      <td>43</td>\n",
       "    </tr>\n",
       "    <tr>\n",
       "      <th>COMNE4-P1</th>\n",
       "      <td>COMNE4</td>\n",
       "      <td>P</td>\n",
       "      <td>M</td>\n",
       "      <td>Harvey Deegan</td>\n",
       "      <td>155</td>\n",
       "    </tr>\n",
       "    <tr>\n",
       "      <th>COMNE5-P1</th>\n",
       "      <td>COMNE5</td>\n",
       "      <td>P</td>\n",
       "      <td>M</td>\n",
       "      <td>Leon Byner</td>\n",
       "      <td>36</td>\n",
       "    </tr>\n",
       "    <tr>\n",
       "      <th>COMNE6-P1</th>\n",
       "      <td>COMNE6</td>\n",
       "      <td>P</td>\n",
       "      <td>M</td>\n",
       "      <td>Graeme Goodings</td>\n",
       "      <td>52</td>\n",
       "    </tr>\n",
       "    <tr>\n",
       "      <th>COMNE7-P1</th>\n",
       "      <td>COMNE7</td>\n",
       "      <td>P</td>\n",
       "      <td>F</td>\n",
       "      <td>Nicole Haack</td>\n",
       "      <td>61</td>\n",
       "    </tr>\n",
       "    <tr>\n",
       "      <th>NAT1-P1</th>\n",
       "      <td>NAT1</td>\n",
       "      <td>P</td>\n",
       "      <td>M</td>\n",
       "      <td>Sandy McCutcheon</td>\n",
       "      <td>103</td>\n",
       "    </tr>\n",
       "    <tr>\n",
       "      <th>NAT2-P1</th>\n",
       "      <td>NAT2</td>\n",
       "      <td>P</td>\n",
       "      <td>M</td>\n",
       "      <td>Sandy McCutcheon</td>\n",
       "      <td>64</td>\n",
       "    </tr>\n",
       "    <tr>\n",
       "      <th>NAT2-P2</th>\n",
       "      <td>NAT2</td>\n",
       "      <td>P</td>\n",
       "      <td>F</td>\n",
       "      <td>Ramona Koval</td>\n",
       "      <td>46</td>\n",
       "    </tr>\n",
       "    <tr>\n",
       "      <th>NAT3-P1</th>\n",
       "      <td>NAT3</td>\n",
       "      <td>P</td>\n",
       "      <td>F</td>\n",
       "      <td>Julie McCrossin</td>\n",
       "      <td>103</td>\n",
       "    </tr>\n",
       "    <tr>\n",
       "      <th>NAT4-P1</th>\n",
       "      <td>NAT4</td>\n",
       "      <td>P</td>\n",
       "      <td>M</td>\n",
       "      <td>Tony Delroy</td>\n",
       "      <td>313</td>\n",
       "    </tr>\n",
       "    <tr>\n",
       "      <th>NAT5-P1</th>\n",
       "      <td>NAT5</td>\n",
       "      <td>P</td>\n",
       "      <td>M</td>\n",
       "      <td>John Cleary</td>\n",
       "      <td>71</td>\n",
       "    </tr>\n",
       "    <tr>\n",
       "      <th>NAT6-P1</th>\n",
       "      <td>NAT6</td>\n",
       "      <td>P</td>\n",
       "      <td>F</td>\n",
       "      <td>Mel Bampton</td>\n",
       "      <td>88</td>\n",
       "    </tr>\n",
       "    <tr>\n",
       "      <th>NAT7-P1</th>\n",
       "      <td>NAT7</td>\n",
       "      <td>P</td>\n",
       "      <td>F</td>\n",
       "      <td>Rosie Beaton</td>\n",
       "      <td>224</td>\n",
       "    </tr>\n",
       "    <tr>\n",
       "      <th>NAT8-P1</th>\n",
       "      <td>NAT8</td>\n",
       "      <td>P</td>\n",
       "      <td>F</td>\n",
       "      <td>Gaby Brown</td>\n",
       "      <td>188</td>\n",
       "    </tr>\n",
       "  </tbody>\n",
       "</table>\n",
       "</div>"
      ],
      "text/plain": [
       "          Segment Speaker_Type Gender                  Name  \\\n",
       "Speaker                                                       \n",
       "ABCE1-P1    ABCE1            P      M          Simon Marnie   \n",
       "ABCE2-P1    ABCE2            P      M          Simon Marnie   \n",
       "ABCE3-P1    ABCE3            P      F        Lynne Haultain   \n",
       "ABCE3-P2    ABCE3            P      F      Jurate Sasnaitis   \n",
       "ABCE4-P1    ABCE4            P      F  Kelly Higgins-Devine   \n",
       "ABCNE1-P1  ABCNE1            P      M        Trevor Jackson   \n",
       "ABCNE2-P1  ABCNE2            P      M        Trevor Jackson   \n",
       "COME1-P1    COME1            P      M             Luke Bona   \n",
       "COME2-P1    COME2            P      M             Luke Bona   \n",
       "COME3-P1    COME3            P      M             Luke Bona   \n",
       "COME5-P1    COME5            P      M               Spencer   \n",
       "COME5-P2    COME5            P      F               Sharina   \n",
       "COME6-P1    COME6            P      M           Paul Murray   \n",
       "COME7-P1    COME7            P      M         Neil Mitchell   \n",
       "COMNE1-P1  COMNE1            P      M           Brad Hardie   \n",
       "COMNE1-P2  COMNE1            P      M         Adrian Barich   \n",
       "COMNE2-P1  COMNE2            P      M        Howard Sattler   \n",
       "COMNE3-P1  COMNE3            P      M         Harvey Deegan   \n",
       "COMNE4-P1  COMNE4            P      M         Harvey Deegan   \n",
       "COMNE5-P1  COMNE5            P      M            Leon Byner   \n",
       "COMNE6-P1  COMNE6            P      M       Graeme Goodings   \n",
       "COMNE7-P1  COMNE7            P      F          Nicole Haack   \n",
       "NAT1-P1      NAT1            P      M      Sandy McCutcheon   \n",
       "NAT2-P1      NAT2            P      M      Sandy McCutcheon   \n",
       "NAT2-P2      NAT2            P      F          Ramona Koval   \n",
       "NAT3-P1      NAT3            P      F       Julie McCrossin   \n",
       "NAT4-P1      NAT4            P      M           Tony Delroy   \n",
       "NAT5-P1      NAT5            P      M           John Cleary   \n",
       "NAT6-P1      NAT6            P      F           Mel Bampton   \n",
       "NAT7-P1      NAT7            P      F          Rosie Beaton   \n",
       "NAT8-P1      NAT8            P      F            Gaby Brown   \n",
       "\n",
       "           Number_of_Utterances  \n",
       "Speaker                          \n",
       "ABCE1-P1                    155  \n",
       "ABCE2-P1                    233  \n",
       "ABCE3-P1                    129  \n",
       "ABCE3-P2                     56  \n",
       "ABCE4-P1                     23  \n",
       "ABCNE1-P1                    64  \n",
       "ABCNE2-P1                    58  \n",
       "COME1-P1                     67  \n",
       "COME2-P1                     68  \n",
       "COME3-P1                     61  \n",
       "COME5-P1                     65  \n",
       "COME5-P2                    491  \n",
       "COME6-P1                    116  \n",
       "COME7-P1                     56  \n",
       "COMNE1-P1                   143  \n",
       "COMNE1-P2                   118  \n",
       "COMNE2-P1                    79  \n",
       "COMNE3-P1                    43  \n",
       "COMNE4-P1                   155  \n",
       "COMNE5-P1                    36  \n",
       "COMNE6-P1                    52  \n",
       "COMNE7-P1                    61  \n",
       "NAT1-P1                     103  \n",
       "NAT2-P1                      64  \n",
       "NAT2-P2                      46  \n",
       "NAT3-P1                     103  \n",
       "NAT4-P1                     313  \n",
       "NAT5-P1                      71  \n",
       "NAT6-P1                      88  \n",
       "NAT7-P1                     224  \n",
       "NAT8-P1                     188  "
      ]
     },
     "execution_count": 27,
     "metadata": {},
     "output_type": "execute_result"
    },
    {
     "data": {
      "text/plain": [
       "31"
      ]
     },
     "execution_count": 27,
     "metadata": {},
     "output_type": "execute_result"
    },
    {
     "data": {
      "text/plain": [
       "25"
      ]
     },
     "execution_count": 27,
     "metadata": {},
     "output_type": "execute_result"
    }
   ],
   "source": [
    "# Presenter Data Frame:\n",
    "P_df\n",
    "P_df[\"Name\"].value_counts().sum()\n",
    "len(P_df[\"Name\"].unique())"
   ]
  },
  {
   "cell_type": "markdown",
   "metadata": {},
   "source": [
    "### Making Data Frames"
   ]
  },
  {
   "cell_type": "code",
   "execution_count": 28,
   "metadata": {},
   "outputs": [
    {
     "data": {
      "text/html": [
       "<div>\n",
       "<style scoped>\n",
       "    .dataframe tbody tr th:only-of-type {\n",
       "        vertical-align: middle;\n",
       "    }\n",
       "\n",
       "    .dataframe tbody tr th {\n",
       "        vertical-align: top;\n",
       "    }\n",
       "\n",
       "    .dataframe thead th {\n",
       "        text-align: right;\n",
       "    }\n",
       "</style>\n",
       "<table border=\"1\" class=\"dataframe\">\n",
       "  <thead>\n",
       "    <tr style=\"text-align: right;\">\n",
       "      <th></th>\n",
       "      <th>Segment</th>\n",
       "      <th>Speaker_Type</th>\n",
       "      <th>Gender</th>\n",
       "      <th>Name</th>\n",
       "      <th>Number_of_Utterances</th>\n",
       "    </tr>\n",
       "    <tr>\n",
       "      <th>Speaker</th>\n",
       "      <th></th>\n",
       "      <th></th>\n",
       "      <th></th>\n",
       "      <th></th>\n",
       "      <th></th>\n",
       "    </tr>\n",
       "  </thead>\n",
       "  <tbody>\n",
       "    <tr>\n",
       "      <th>ABCE1-P1</th>\n",
       "      <td>ABCE1</td>\n",
       "      <td>P</td>\n",
       "      <td>M</td>\n",
       "      <td>Simon Marnie</td>\n",
       "      <td>155</td>\n",
       "    </tr>\n",
       "    <tr>\n",
       "      <th>ABCE2-P1</th>\n",
       "      <td>ABCE2</td>\n",
       "      <td>P</td>\n",
       "      <td>M</td>\n",
       "      <td>Simon Marnie</td>\n",
       "      <td>233</td>\n",
       "    </tr>\n",
       "    <tr>\n",
       "      <th>ABCNE1-P1</th>\n",
       "      <td>ABCNE1</td>\n",
       "      <td>P</td>\n",
       "      <td>M</td>\n",
       "      <td>Trevor Jackson</td>\n",
       "      <td>64</td>\n",
       "    </tr>\n",
       "    <tr>\n",
       "      <th>ABCNE2-P1</th>\n",
       "      <td>ABCNE2</td>\n",
       "      <td>P</td>\n",
       "      <td>M</td>\n",
       "      <td>Trevor Jackson</td>\n",
       "      <td>58</td>\n",
       "    </tr>\n",
       "    <tr>\n",
       "      <th>COME1-P1</th>\n",
       "      <td>COME1</td>\n",
       "      <td>P</td>\n",
       "      <td>M</td>\n",
       "      <td>Luke Bona</td>\n",
       "      <td>67</td>\n",
       "    </tr>\n",
       "    <tr>\n",
       "      <th>COME2-P1</th>\n",
       "      <td>COME2</td>\n",
       "      <td>P</td>\n",
       "      <td>M</td>\n",
       "      <td>Luke Bona</td>\n",
       "      <td>68</td>\n",
       "    </tr>\n",
       "    <tr>\n",
       "      <th>COME3-P1</th>\n",
       "      <td>COME3</td>\n",
       "      <td>P</td>\n",
       "      <td>M</td>\n",
       "      <td>Luke Bona</td>\n",
       "      <td>61</td>\n",
       "    </tr>\n",
       "    <tr>\n",
       "      <th>COME5-P1</th>\n",
       "      <td>COME5</td>\n",
       "      <td>P</td>\n",
       "      <td>M</td>\n",
       "      <td>Spencer</td>\n",
       "      <td>65</td>\n",
       "    </tr>\n",
       "    <tr>\n",
       "      <th>COME6-P1</th>\n",
       "      <td>COME6</td>\n",
       "      <td>P</td>\n",
       "      <td>M</td>\n",
       "      <td>Paul Murray</td>\n",
       "      <td>116</td>\n",
       "    </tr>\n",
       "    <tr>\n",
       "      <th>COME7-P1</th>\n",
       "      <td>COME7</td>\n",
       "      <td>P</td>\n",
       "      <td>M</td>\n",
       "      <td>Neil Mitchell</td>\n",
       "      <td>56</td>\n",
       "    </tr>\n",
       "    <tr>\n",
       "      <th>COMNE1-P1</th>\n",
       "      <td>COMNE1</td>\n",
       "      <td>P</td>\n",
       "      <td>M</td>\n",
       "      <td>Brad Hardie</td>\n",
       "      <td>143</td>\n",
       "    </tr>\n",
       "    <tr>\n",
       "      <th>COMNE1-P2</th>\n",
       "      <td>COMNE1</td>\n",
       "      <td>P</td>\n",
       "      <td>M</td>\n",
       "      <td>Adrian Barich</td>\n",
       "      <td>118</td>\n",
       "    </tr>\n",
       "    <tr>\n",
       "      <th>COMNE2-P1</th>\n",
       "      <td>COMNE2</td>\n",
       "      <td>P</td>\n",
       "      <td>M</td>\n",
       "      <td>Howard Sattler</td>\n",
       "      <td>79</td>\n",
       "    </tr>\n",
       "    <tr>\n",
       "      <th>COMNE3-P1</th>\n",
       "      <td>COMNE3</td>\n",
       "      <td>P</td>\n",
       "      <td>M</td>\n",
       "      <td>Harvey Deegan</td>\n",
       "      <td>43</td>\n",
       "    </tr>\n",
       "    <tr>\n",
       "      <th>COMNE4-P1</th>\n",
       "      <td>COMNE4</td>\n",
       "      <td>P</td>\n",
       "      <td>M</td>\n",
       "      <td>Harvey Deegan</td>\n",
       "      <td>155</td>\n",
       "    </tr>\n",
       "    <tr>\n",
       "      <th>COMNE5-P1</th>\n",
       "      <td>COMNE5</td>\n",
       "      <td>P</td>\n",
       "      <td>M</td>\n",
       "      <td>Leon Byner</td>\n",
       "      <td>36</td>\n",
       "    </tr>\n",
       "    <tr>\n",
       "      <th>COMNE6-P1</th>\n",
       "      <td>COMNE6</td>\n",
       "      <td>P</td>\n",
       "      <td>M</td>\n",
       "      <td>Graeme Goodings</td>\n",
       "      <td>52</td>\n",
       "    </tr>\n",
       "    <tr>\n",
       "      <th>NAT1-P1</th>\n",
       "      <td>NAT1</td>\n",
       "      <td>P</td>\n",
       "      <td>M</td>\n",
       "      <td>Sandy McCutcheon</td>\n",
       "      <td>103</td>\n",
       "    </tr>\n",
       "    <tr>\n",
       "      <th>NAT2-P1</th>\n",
       "      <td>NAT2</td>\n",
       "      <td>P</td>\n",
       "      <td>M</td>\n",
       "      <td>Sandy McCutcheon</td>\n",
       "      <td>64</td>\n",
       "    </tr>\n",
       "    <tr>\n",
       "      <th>NAT4-P1</th>\n",
       "      <td>NAT4</td>\n",
       "      <td>P</td>\n",
       "      <td>M</td>\n",
       "      <td>Tony Delroy</td>\n",
       "      <td>313</td>\n",
       "    </tr>\n",
       "    <tr>\n",
       "      <th>NAT5-P1</th>\n",
       "      <td>NAT5</td>\n",
       "      <td>P</td>\n",
       "      <td>M</td>\n",
       "      <td>John Cleary</td>\n",
       "      <td>71</td>\n",
       "    </tr>\n",
       "  </tbody>\n",
       "</table>\n",
       "</div>"
      ],
      "text/plain": [
       "          Segment Speaker_Type Gender              Name  Number_of_Utterances\n",
       "Speaker                                                                      \n",
       "ABCE1-P1    ABCE1            P      M      Simon Marnie                   155\n",
       "ABCE2-P1    ABCE2            P      M      Simon Marnie                   233\n",
       "ABCNE1-P1  ABCNE1            P      M    Trevor Jackson                    64\n",
       "ABCNE2-P1  ABCNE2            P      M    Trevor Jackson                    58\n",
       "COME1-P1    COME1            P      M         Luke Bona                    67\n",
       "COME2-P1    COME2            P      M         Luke Bona                    68\n",
       "COME3-P1    COME3            P      M         Luke Bona                    61\n",
       "COME5-P1    COME5            P      M           Spencer                    65\n",
       "COME6-P1    COME6            P      M       Paul Murray                   116\n",
       "COME7-P1    COME7            P      M     Neil Mitchell                    56\n",
       "COMNE1-P1  COMNE1            P      M       Brad Hardie                   143\n",
       "COMNE1-P2  COMNE1            P      M     Adrian Barich                   118\n",
       "COMNE2-P1  COMNE2            P      M    Howard Sattler                    79\n",
       "COMNE3-P1  COMNE3            P      M     Harvey Deegan                    43\n",
       "COMNE4-P1  COMNE4            P      M     Harvey Deegan                   155\n",
       "COMNE5-P1  COMNE5            P      M        Leon Byner                    36\n",
       "COMNE6-P1  COMNE6            P      M   Graeme Goodings                    52\n",
       "NAT1-P1      NAT1            P      M  Sandy McCutcheon                   103\n",
       "NAT2-P1      NAT2            P      M  Sandy McCutcheon                    64\n",
       "NAT4-P1      NAT4            P      M       Tony Delroy                   313\n",
       "NAT5-P1      NAT5            P      M       John Cleary                    71"
      ]
     },
     "execution_count": 28,
     "metadata": {},
     "output_type": "execute_result"
    },
    {
     "data": {
      "text/html": [
       "<div>\n",
       "<style scoped>\n",
       "    .dataframe tbody tr th:only-of-type {\n",
       "        vertical-align: middle;\n",
       "    }\n",
       "\n",
       "    .dataframe tbody tr th {\n",
       "        vertical-align: top;\n",
       "    }\n",
       "\n",
       "    .dataframe thead th {\n",
       "        text-align: right;\n",
       "    }\n",
       "</style>\n",
       "<table border=\"1\" class=\"dataframe\">\n",
       "  <thead>\n",
       "    <tr style=\"text-align: right;\">\n",
       "      <th></th>\n",
       "      <th>Segment</th>\n",
       "      <th>Speaker_Type</th>\n",
       "      <th>Gender</th>\n",
       "      <th>Name</th>\n",
       "      <th>Number_of_Utterances</th>\n",
       "    </tr>\n",
       "    <tr>\n",
       "      <th>Speaker</th>\n",
       "      <th></th>\n",
       "      <th></th>\n",
       "      <th></th>\n",
       "      <th></th>\n",
       "      <th></th>\n",
       "    </tr>\n",
       "  </thead>\n",
       "  <tbody>\n",
       "    <tr>\n",
       "      <th>ABCE3-P1</th>\n",
       "      <td>ABCE3</td>\n",
       "      <td>P</td>\n",
       "      <td>F</td>\n",
       "      <td>Lynne Haultain</td>\n",
       "      <td>129</td>\n",
       "    </tr>\n",
       "    <tr>\n",
       "      <th>ABCE3-P2</th>\n",
       "      <td>ABCE3</td>\n",
       "      <td>P</td>\n",
       "      <td>F</td>\n",
       "      <td>Jurate Sasnaitis</td>\n",
       "      <td>56</td>\n",
       "    </tr>\n",
       "    <tr>\n",
       "      <th>ABCE4-P1</th>\n",
       "      <td>ABCE4</td>\n",
       "      <td>P</td>\n",
       "      <td>F</td>\n",
       "      <td>Kelly Higgins-Devine</td>\n",
       "      <td>23</td>\n",
       "    </tr>\n",
       "    <tr>\n",
       "      <th>COME5-P2</th>\n",
       "      <td>COME5</td>\n",
       "      <td>P</td>\n",
       "      <td>F</td>\n",
       "      <td>Sharina</td>\n",
       "      <td>491</td>\n",
       "    </tr>\n",
       "    <tr>\n",
       "      <th>COMNE7-P1</th>\n",
       "      <td>COMNE7</td>\n",
       "      <td>P</td>\n",
       "      <td>F</td>\n",
       "      <td>Nicole Haack</td>\n",
       "      <td>61</td>\n",
       "    </tr>\n",
       "    <tr>\n",
       "      <th>NAT2-P2</th>\n",
       "      <td>NAT2</td>\n",
       "      <td>P</td>\n",
       "      <td>F</td>\n",
       "      <td>Ramona Koval</td>\n",
       "      <td>46</td>\n",
       "    </tr>\n",
       "    <tr>\n",
       "      <th>NAT3-P1</th>\n",
       "      <td>NAT3</td>\n",
       "      <td>P</td>\n",
       "      <td>F</td>\n",
       "      <td>Julie McCrossin</td>\n",
       "      <td>103</td>\n",
       "    </tr>\n",
       "    <tr>\n",
       "      <th>NAT6-P1</th>\n",
       "      <td>NAT6</td>\n",
       "      <td>P</td>\n",
       "      <td>F</td>\n",
       "      <td>Mel Bampton</td>\n",
       "      <td>88</td>\n",
       "    </tr>\n",
       "    <tr>\n",
       "      <th>NAT7-P1</th>\n",
       "      <td>NAT7</td>\n",
       "      <td>P</td>\n",
       "      <td>F</td>\n",
       "      <td>Rosie Beaton</td>\n",
       "      <td>224</td>\n",
       "    </tr>\n",
       "    <tr>\n",
       "      <th>NAT8-P1</th>\n",
       "      <td>NAT8</td>\n",
       "      <td>P</td>\n",
       "      <td>F</td>\n",
       "      <td>Gaby Brown</td>\n",
       "      <td>188</td>\n",
       "    </tr>\n",
       "  </tbody>\n",
       "</table>\n",
       "</div>"
      ],
      "text/plain": [
       "          Segment Speaker_Type Gender                  Name  \\\n",
       "Speaker                                                       \n",
       "ABCE3-P1    ABCE3            P      F        Lynne Haultain   \n",
       "ABCE3-P2    ABCE3            P      F      Jurate Sasnaitis   \n",
       "ABCE4-P1    ABCE4            P      F  Kelly Higgins-Devine   \n",
       "COME5-P2    COME5            P      F               Sharina   \n",
       "COMNE7-P1  COMNE7            P      F          Nicole Haack   \n",
       "NAT2-P2      NAT2            P      F          Ramona Koval   \n",
       "NAT3-P1      NAT3            P      F       Julie McCrossin   \n",
       "NAT6-P1      NAT6            P      F           Mel Bampton   \n",
       "NAT7-P1      NAT7            P      F          Rosie Beaton   \n",
       "NAT8-P1      NAT8            P      F            Gaby Brown   \n",
       "\n",
       "           Number_of_Utterances  \n",
       "Speaker                          \n",
       "ABCE3-P1                    129  \n",
       "ABCE3-P2                     56  \n",
       "ABCE4-P1                     23  \n",
       "COME5-P2                    491  \n",
       "COMNE7-P1                    61  \n",
       "NAT2-P2                      46  \n",
       "NAT3-P1                     103  \n",
       "NAT6-P1                      88  \n",
       "NAT7-P1                     224  \n",
       "NAT8-P1                     188  "
      ]
     },
     "execution_count": 28,
     "metadata": {},
     "output_type": "execute_result"
    },
    {
     "name": "stdout",
     "output_type": "stream",
     "text": [
      "Number of Uninque Male IDs:\n"
     ]
    },
    {
     "data": {
      "text/plain": [
       "21"
      ]
     },
     "execution_count": 28,
     "metadata": {},
     "output_type": "execute_result"
    },
    {
     "name": "stdout",
     "output_type": "stream",
     "text": [
      "Number of Unique Male Presenters\n"
     ]
    },
    {
     "data": {
      "text/plain": [
       "15"
      ]
     },
     "execution_count": 28,
     "metadata": {},
     "output_type": "execute_result"
    },
    {
     "name": "stdout",
     "output_type": "stream",
     "text": [
      "Number of Uninque Female IDs:\n"
     ]
    },
    {
     "data": {
      "text/plain": [
       "10"
      ]
     },
     "execution_count": 28,
     "metadata": {},
     "output_type": "execute_result"
    },
    {
     "name": "stdout",
     "output_type": "stream",
     "text": [
      "Number of Unique Female Presenters\n"
     ]
    },
    {
     "data": {
      "text/plain": [
       "10"
      ]
     },
     "execution_count": 28,
     "metadata": {},
     "output_type": "execute_result"
    }
   ],
   "source": [
    "# Male and Female Presenter Data Frames:\n",
    "M_P_df=P_df.loc[P_df[\"Gender\"]=='M',:]\n",
    "F_P_df=P_df.loc[P_df[\"Gender\"]=='F',:]\n",
    "\n",
    "M_P_df\n",
    "F_P_df\n",
    "\n",
    "print(\"Number of Uninque Male IDs:\")\n",
    "M_P_df[\"Name\"].value_counts().sum()\n",
    "print(\"Number of Unique Male Presenters\")\n",
    "len(M_P_df[\"Name\"].unique())\n",
    "\n",
    "print(\"Number of Uninque Female IDs:\")\n",
    "F_P_df[\"Name\"].value_counts().sum()\n",
    "print(\"Number of Unique Female Presenters\")\n",
    "len(F_P_df[\"Name\"].unique())"
   ]
  },
  {
   "cell_type": "markdown",
   "metadata": {},
   "source": [
    "### Presenter Distribution\n",
    "- 31 Unique Speaker Ids\n",
    "    - 21 Male Ids\n",
    "    - 10 Female Ids\n",
    "- 25 Unique Speakers\n",
    "    - 15 Males\n",
    "    - 10 Females\n",
    "    \n",
    "There are 10 unique Female IDs and 10 unique Female Presenters - **no Female presents twice.**\n",
    "\n",
    "There are 21 unique Male IDs and 15 unique Male Presenters - Multiple Males present twice and 1 presents 3 times.\n",
    "\n",
    "There are about twice as many Male Presenters as Female Presenters, but about equal numbers of Male and Female Callers. Therefore, I will continue with a brief analysis but continue with Callers by Gender instead of Presenters."
   ]
  },
  {
   "cell_type": "code",
   "execution_count": 29,
   "metadata": {},
   "outputs": [
    {
     "data": {
      "text/html": [
       "<div>\n",
       "<style scoped>\n",
       "    .dataframe tbody tr th:only-of-type {\n",
       "        vertical-align: middle;\n",
       "    }\n",
       "\n",
       "    .dataframe tbody tr th {\n",
       "        vertical-align: top;\n",
       "    }\n",
       "\n",
       "    .dataframe thead th {\n",
       "        text-align: right;\n",
       "    }\n",
       "</style>\n",
       "<table border=\"1\" class=\"dataframe\">\n",
       "  <thead>\n",
       "    <tr style=\"text-align: right;\">\n",
       "      <th></th>\n",
       "      <th></th>\n",
       "      <th>Segment</th>\n",
       "      <th>Speaker_Type</th>\n",
       "      <th>Gender</th>\n",
       "      <th>Text</th>\n",
       "      <th>Word_Toks</th>\n",
       "      <th>Num_Words</th>\n",
       "      <th>Avg_Word_Length</th>\n",
       "      <th>Sents</th>\n",
       "      <th>Num_Sents</th>\n",
       "    </tr>\n",
       "    <tr>\n",
       "      <th>Speaker</th>\n",
       "      <th>Utterance_Number</th>\n",
       "      <th></th>\n",
       "      <th></th>\n",
       "      <th></th>\n",
       "      <th></th>\n",
       "      <th></th>\n",
       "      <th></th>\n",
       "      <th></th>\n",
       "      <th></th>\n",
       "      <th></th>\n",
       "    </tr>\n",
       "  </thead>\n",
       "  <tbody>\n",
       "    <tr>\n",
       "      <th rowspan=\"5\" valign=\"top\">ABCE1-P1</th>\n",
       "      <th>1</th>\n",
       "      <td>ABCE1</td>\n",
       "      <td>P</td>\n",
       "      <td>M</td>\n",
       "      <td>Thanks for that John Hall now John Hall will b...</td>\n",
       "      <td>['Thanks', 'for', 'that', 'John', 'Hall', 'now...</td>\n",
       "      <td>80</td>\n",
       "      <td>4.700000</td>\n",
       "      <td>[\"Thanks for that John Hall now John Hall will...</td>\n",
       "      <td>2</td>\n",
       "    </tr>\n",
       "    <tr>\n",
       "      <th>3</th>\n",
       "      <td>ABCE1</td>\n",
       "      <td>P</td>\n",
       "      <td>M</td>\n",
       "      <td>He's also known &lt;E1 sounds reasonable&gt; for his...</td>\n",
       "      <td>['He', \"'s\", 'also', 'known', 'for', 'his', 'a...</td>\n",
       "      <td>159</td>\n",
       "      <td>5.062893</td>\n",
       "      <td>[\"He's also known  for his ability to open cos...</td>\n",
       "      <td>3</td>\n",
       "    </tr>\n",
       "    <tr>\n",
       "      <th>5</th>\n",
       "      <td>ABCE1</td>\n",
       "      <td>P</td>\n",
       "      <td>M</td>\n",
       "      <td>Jeanne Villani does and we'll find out the sec...</td>\n",
       "      <td>['Jeanne', 'Villani', 'does', 'and', 'we', \"'l...</td>\n",
       "      <td>50</td>\n",
       "      <td>3.980000</td>\n",
       "      <td>[\"Jeanne Villani does and we'll find out the s...</td>\n",
       "      <td>1</td>\n",
       "    </tr>\n",
       "    <tr>\n",
       "      <th>6</th>\n",
       "      <td>ABCE1</td>\n",
       "      <td>P</td>\n",
       "      <td>M</td>\n",
       "      <td>Eight-triple-three-one-thousand one-eight-hund...</td>\n",
       "      <td>['Eight-triple-three-one-thousand', 'one-eight...</td>\n",
       "      <td>13</td>\n",
       "      <td>8.692308</td>\n",
       "      <td>[\"Eight-triple-three-one-thousand one-eight-hu...</td>\n",
       "      <td>1</td>\n",
       "    </tr>\n",
       "    <tr>\n",
       "      <th>8</th>\n",
       "      <td>ABCE1</td>\n",
       "      <td>P</td>\n",
       "      <td>M</td>\n",
       "      <td>How are you.</td>\n",
       "      <td>['How', 'are', 'you', '.']</td>\n",
       "      <td>4</td>\n",
       "      <td>2.500000</td>\n",
       "      <td>['How are you.']</td>\n",
       "      <td>1</td>\n",
       "    </tr>\n",
       "  </tbody>\n",
       "</table>\n",
       "</div>"
      ],
      "text/plain": [
       "                          Segment Speaker_Type Gender  \\\n",
       "Speaker  Utterance_Number                               \n",
       "ABCE1-P1 1                  ABCE1            P      M   \n",
       "         3                  ABCE1            P      M   \n",
       "         5                  ABCE1            P      M   \n",
       "         6                  ABCE1            P      M   \n",
       "         8                  ABCE1            P      M   \n",
       "\n",
       "                                                                        Text  \\\n",
       "Speaker  Utterance_Number                                                      \n",
       "ABCE1-P1 1                 Thanks for that John Hall now John Hall will b...   \n",
       "         3                 He's also known <E1 sounds reasonable> for his...   \n",
       "         5                 Jeanne Villani does and we'll find out the sec...   \n",
       "         6                 Eight-triple-three-one-thousand one-eight-hund...   \n",
       "         8                                                      How are you.   \n",
       "\n",
       "                                                                   Word_Toks  \\\n",
       "Speaker  Utterance_Number                                                      \n",
       "ABCE1-P1 1                 ['Thanks', 'for', 'that', 'John', 'Hall', 'now...   \n",
       "         3                 ['He', \"'s\", 'also', 'known', 'for', 'his', 'a...   \n",
       "         5                 ['Jeanne', 'Villani', 'does', 'and', 'we', \"'l...   \n",
       "         6                 ['Eight-triple-three-one-thousand', 'one-eight...   \n",
       "         8                                        ['How', 'are', 'you', '.']   \n",
       "\n",
       "                           Num_Words  Avg_Word_Length  \\\n",
       "Speaker  Utterance_Number                               \n",
       "ABCE1-P1 1                        80         4.700000   \n",
       "         3                       159         5.062893   \n",
       "         5                        50         3.980000   \n",
       "         6                        13         8.692308   \n",
       "         8                         4         2.500000   \n",
       "\n",
       "                                                                       Sents  \\\n",
       "Speaker  Utterance_Number                                                      \n",
       "ABCE1-P1 1                 [\"Thanks for that John Hall now John Hall will...   \n",
       "         3                 [\"He's also known  for his ability to open cos...   \n",
       "         5                 [\"Jeanne Villani does and we'll find out the s...   \n",
       "         6                 [\"Eight-triple-three-one-thousand one-eight-hu...   \n",
       "         8                                                  ['How are you.']   \n",
       "\n",
       "                           Num_Sents  \n",
       "Speaker  Utterance_Number             \n",
       "ABCE1-P1 1                         2  \n",
       "         3                         3  \n",
       "         5                         1  \n",
       "         6                         1  \n",
       "         8                         1  "
      ]
     },
     "execution_count": 29,
     "metadata": {},
     "output_type": "execute_result"
    },
    {
     "data": {
      "text/html": [
       "<div>\n",
       "<style scoped>\n",
       "    .dataframe tbody tr th:only-of-type {\n",
       "        vertical-align: middle;\n",
       "    }\n",
       "\n",
       "    .dataframe tbody tr th {\n",
       "        vertical-align: top;\n",
       "    }\n",
       "\n",
       "    .dataframe thead th {\n",
       "        text-align: right;\n",
       "    }\n",
       "</style>\n",
       "<table border=\"1\" class=\"dataframe\">\n",
       "  <thead>\n",
       "    <tr style=\"text-align: right;\">\n",
       "      <th></th>\n",
       "      <th></th>\n",
       "      <th>Segment</th>\n",
       "      <th>Speaker_Type</th>\n",
       "      <th>Gender</th>\n",
       "      <th>Text</th>\n",
       "      <th>Word_Toks</th>\n",
       "      <th>Num_Words</th>\n",
       "      <th>Avg_Word_Length</th>\n",
       "      <th>Sents</th>\n",
       "      <th>Num_Sents</th>\n",
       "    </tr>\n",
       "    <tr>\n",
       "      <th>Speaker</th>\n",
       "      <th>Utterance_Number</th>\n",
       "      <th></th>\n",
       "      <th></th>\n",
       "      <th></th>\n",
       "      <th></th>\n",
       "      <th></th>\n",
       "      <th></th>\n",
       "      <th></th>\n",
       "      <th></th>\n",
       "      <th></th>\n",
       "    </tr>\n",
       "  </thead>\n",
       "  <tbody>\n",
       "    <tr>\n",
       "      <th>ABCE3-P1</th>\n",
       "      <th>1</th>\n",
       "      <td>ABCE3</td>\n",
       "      <td>P</td>\n",
       "      <td>F</td>\n",
       "      <td>If you haven't been with us before this how it...</td>\n",
       "      <td>['If', 'you', 'have', \"n't\", 'been', 'with', '...</td>\n",
       "      <td>31</td>\n",
       "      <td>4.290323</td>\n",
       "      <td>[\"If you haven't been with us before this how ...</td>\n",
       "      <td>1</td>\n",
       "    </tr>\n",
       "    <tr>\n",
       "      <th>ABCE3-P2</th>\n",
       "      <th>2</th>\n",
       "      <td>ABCE3</td>\n",
       "      <td>P</td>\n",
       "      <td>F</td>\n",
       "      <td>Good afternoon Lynne.</td>\n",
       "      <td>['Good', 'afternoon', 'Lynne', '.']</td>\n",
       "      <td>4</td>\n",
       "      <td>4.750000</td>\n",
       "      <td>['Good afternoon Lynne.']</td>\n",
       "      <td>1</td>\n",
       "    </tr>\n",
       "    <tr>\n",
       "      <th>ABCE3-P1</th>\n",
       "      <th>3</th>\n",
       "      <td>ABCE3</td>\n",
       "      <td>P</td>\n",
       "      <td>F</td>\n",
       "      <td>&lt;laughs&gt; It's like being at school. And we tal...</td>\n",
       "      <td>['It', \"'s\", 'like', 'being', 'at', 'school', ...</td>\n",
       "      <td>50</td>\n",
       "      <td>3.420000</td>\n",
       "      <td>[\" It's like being at school.\", \"And we talk a...</td>\n",
       "      <td>2</td>\n",
       "    </tr>\n",
       "    <tr>\n",
       "      <th>ABCE3-P2</th>\n",
       "      <th>4</th>\n",
       "      <td>ABCE3</td>\n",
       "      <td>P</td>\n",
       "      <td>F</td>\n",
       "      <td>And so yes.</td>\n",
       "      <td>['And', 'so', 'yes', '.']</td>\n",
       "      <td>4</td>\n",
       "      <td>2.250000</td>\n",
       "      <td>['And so yes.']</td>\n",
       "      <td>1</td>\n",
       "    </tr>\n",
       "    <tr>\n",
       "      <th>ABCE3-P1</th>\n",
       "      <th>5</th>\n",
       "      <td>ABCE3</td>\n",
       "      <td>P</td>\n",
       "      <td>F</td>\n",
       "      <td>Wo we run.</td>\n",
       "      <td>['Wo', 'we', 'run', '.']</td>\n",
       "      <td>4</td>\n",
       "      <td>2.000000</td>\n",
       "      <td>['Wo we run.']</td>\n",
       "      <td>1</td>\n",
       "    </tr>\n",
       "  </tbody>\n",
       "</table>\n",
       "</div>"
      ],
      "text/plain": [
       "                          Segment Speaker_Type Gender  \\\n",
       "Speaker  Utterance_Number                               \n",
       "ABCE3-P1 1                  ABCE3            P      F   \n",
       "ABCE3-P2 2                  ABCE3            P      F   \n",
       "ABCE3-P1 3                  ABCE3            P      F   \n",
       "ABCE3-P2 4                  ABCE3            P      F   \n",
       "ABCE3-P1 5                  ABCE3            P      F   \n",
       "\n",
       "                                                                        Text  \\\n",
       "Speaker  Utterance_Number                                                      \n",
       "ABCE3-P1 1                 If you haven't been with us before this how it...   \n",
       "ABCE3-P2 2                                             Good afternoon Lynne.   \n",
       "ABCE3-P1 3                 <laughs> It's like being at school. And we tal...   \n",
       "ABCE3-P2 4                                                       And so yes.   \n",
       "ABCE3-P1 5                                                        Wo we run.   \n",
       "\n",
       "                                                                   Word_Toks  \\\n",
       "Speaker  Utterance_Number                                                      \n",
       "ABCE3-P1 1                 ['If', 'you', 'have', \"n't\", 'been', 'with', '...   \n",
       "ABCE3-P2 2                               ['Good', 'afternoon', 'Lynne', '.']   \n",
       "ABCE3-P1 3                 ['It', \"'s\", 'like', 'being', 'at', 'school', ...   \n",
       "ABCE3-P2 4                                         ['And', 'so', 'yes', '.']   \n",
       "ABCE3-P1 5                                          ['Wo', 'we', 'run', '.']   \n",
       "\n",
       "                           Num_Words  Avg_Word_Length  \\\n",
       "Speaker  Utterance_Number                               \n",
       "ABCE3-P1 1                        31         4.290323   \n",
       "ABCE3-P2 2                         4         4.750000   \n",
       "ABCE3-P1 3                        50         3.420000   \n",
       "ABCE3-P2 4                         4         2.250000   \n",
       "ABCE3-P1 5                         4         2.000000   \n",
       "\n",
       "                                                                       Sents  \\\n",
       "Speaker  Utterance_Number                                                      \n",
       "ABCE3-P1 1                 [\"If you haven't been with us before this how ...   \n",
       "ABCE3-P2 2                                         ['Good afternoon Lynne.']   \n",
       "ABCE3-P1 3                 [\" It's like being at school.\", \"And we talk a...   \n",
       "ABCE3-P2 4                                                   ['And so yes.']   \n",
       "ABCE3-P1 5                                                    ['Wo we run.']   \n",
       "\n",
       "                           Num_Sents  \n",
       "Speaker  Utterance_Number             \n",
       "ABCE3-P1 1                         1  \n",
       "ABCE3-P2 2                         1  \n",
       "ABCE3-P1 3                         2  \n",
       "ABCE3-P2 4                         1  \n",
       "ABCE3-P1 5                         1  "
      ]
     },
     "execution_count": 29,
     "metadata": {},
     "output_type": "execute_result"
    }
   ],
   "source": [
    "# Male and Female Presenter Lines Data Frames:\n",
    "M_P_art_df=P_art_df.loc[P_art_df[\"Gender\"]=='M',:]\n",
    "F_P_art_df=P_art_df.loc[P_art_df[\"Gender\"]=='F',:]\n",
    "\n",
    "M_P_art_df.head()\n",
    "F_P_art_df.head()"
   ]
  },
  {
   "cell_type": "markdown",
   "metadata": {},
   "source": [
    "### Presenter Gender Statistics"
   ]
  },
  {
   "cell_type": "code",
   "execution_count": 30,
   "metadata": {},
   "outputs": [
    {
     "name": "stdout",
     "output_type": "stream",
     "text": [
      "Number of Utterances:\n"
     ]
    },
    {
     "data": {
      "text/plain": [
       "M    2120\n",
       "F    1409\n",
       "Name: Gender, dtype: int64"
      ]
     },
     "execution_count": 30,
     "metadata": {},
     "output_type": "execute_result"
    },
    {
     "name": "stdout",
     "output_type": "stream",
     "text": [
      "Number of Sentences:\n"
     ]
    },
    {
     "data": {
      "text/plain": [
       "3110"
      ]
     },
     "execution_count": 30,
     "metadata": {},
     "output_type": "execute_result"
    },
    {
     "data": {
      "text/plain": [
       "2166"
      ]
     },
     "execution_count": 30,
     "metadata": {},
     "output_type": "execute_result"
    },
    {
     "name": "stdout",
     "output_type": "stream",
     "text": [
      "Number of Words:\n"
     ]
    },
    {
     "data": {
      "text/plain": [
       "49334"
      ]
     },
     "execution_count": 30,
     "metadata": {},
     "output_type": "execute_result"
    },
    {
     "data": {
      "text/plain": [
       "37948"
      ]
     },
     "execution_count": 30,
     "metadata": {},
     "output_type": "execute_result"
    },
    {
     "name": "stdout",
     "output_type": "stream",
     "text": [
      "Average Word Length:\n"
     ]
    },
    {
     "data": {
      "text/plain": [
       "3.5423013416033178"
      ]
     },
     "execution_count": 30,
     "metadata": {},
     "output_type": "execute_result"
    },
    {
     "data": {
      "text/plain": [
       "3.4546074112542988"
      ]
     },
     "execution_count": 30,
     "metadata": {},
     "output_type": "execute_result"
    },
    {
     "name": "stdout",
     "output_type": "stream",
     "text": [
      "Average Sentence Length:\n"
     ]
    },
    {
     "data": {
      "text/plain": [
       "15.863022508038584"
      ]
     },
     "execution_count": 30,
     "metadata": {},
     "output_type": "execute_result"
    },
    {
     "data": {
      "text/plain": [
       "17.519852262234533"
      ]
     },
     "execution_count": 30,
     "metadata": {},
     "output_type": "execute_result"
    },
    {
     "name": "stdout",
     "output_type": "stream",
     "text": [
      "Average Number of Turns:\n"
     ]
    },
    {
     "data": {
      "text/plain": [
       "100.95238095238095"
      ]
     },
     "execution_count": 30,
     "metadata": {},
     "output_type": "execute_result"
    },
    {
     "data": {
      "text/plain": [
       "140.90000000000001"
      ]
     },
     "execution_count": 30,
     "metadata": {},
     "output_type": "execute_result"
    }
   ],
   "source": [
    "# utterances\n",
    "print(\"Number of Utterances:\")\n",
    "P_art_df[\"Gender\"].value_counts().reindex([\"M\",\"F\"])\n",
    "\n",
    "# sentences:\n",
    "print(\"Number of Sentences:\")\n",
    "M_P_art_df[\"Num_Sents\"].sum()\n",
    "F_P_art_df[\"Num_Sents\"].sum()\n",
    "\n",
    "# words\n",
    "print(\"Number of Words:\")\n",
    "M_P_art_df[\"Num_Words\"].sum()\n",
    "F_P_art_df[\"Num_Words\"].sum() \n",
    "\n",
    "# avg word length\n",
    "print(\"Average Word Length:\")\n",
    "M_P_art_df[\"Avg_Word_Length\"].mean()\n",
    "F_P_art_df[\"Avg_Word_Length\"].mean()\n",
    "\n",
    "# avg sent length\n",
    "print(\"Average Sentence Length:\")\n",
    "M_P_art_df[\"Num_Words\"].sum()/M_P_art_df[\"Num_Sents\"].sum()\n",
    "F_P_art_df[\"Num_Words\"].sum()/F_P_art_df[\"Num_Sents\"].sum()\n",
    "\n",
    "print(\"Average Number of Turns:\")\n",
    "M_P_df[\"Number_of_Utterances\"].mean()\n",
    "F_P_df[\"Number_of_Utterances\"].mean()"
   ]
  },
  {
   "cell_type": "markdown",
   "metadata": {},
   "source": [
    "Because there are about twice as many Male Presenters as Female Presenters, I cannot compare their raw scores directly. However, looking looking at Average Word Length, Average Sentence Length, and Average Number of Turns, it seems that Women talk more on average than Men, because **Females have a longer average sentence length and more number of turns.**"
   ]
  },
  {
   "cell_type": "markdown",
   "metadata": {},
   "source": [
    "## Caller Gender Back Channel Analysis"
   ]
  },
  {
   "cell_type": "markdown",
   "metadata": {},
   "source": [
    "### Data Frame of Caller Back Channels"
   ]
  },
  {
   "cell_type": "code",
   "execution_count": 31,
   "metadata": {},
   "outputs": [
    {
     "name": "stdout",
     "output_type": "stream",
     "text": [
      "Callers Uttering Back Channels:\n"
     ]
    },
    {
     "data": {
      "text/html": [
       "<div>\n",
       "<style scoped>\n",
       "    .dataframe tbody tr th:only-of-type {\n",
       "        vertical-align: middle;\n",
       "    }\n",
       "\n",
       "    .dataframe tbody tr th {\n",
       "        vertical-align: top;\n",
       "    }\n",
       "\n",
       "    .dataframe thead th {\n",
       "        text-align: right;\n",
       "    }\n",
       "</style>\n",
       "<table border=\"1\" class=\"dataframe\">\n",
       "  <thead>\n",
       "    <tr style=\"text-align: right;\">\n",
       "      <th></th>\n",
       "      <th>Speaker</th>\n",
       "      <th>Speaker_Type</th>\n",
       "      <th>Speaker_Gender</th>\n",
       "      <th>Back_Channel</th>\n",
       "      <th>Line_Speaker</th>\n",
       "      <th>Segment_Utterance_Number</th>\n",
       "      <th>Segment</th>\n",
       "      <th>Line_Speaker_Type</th>\n",
       "      <th>Line_Speaker_Gender</th>\n",
       "    </tr>\n",
       "    <tr>\n",
       "      <th></th>\n",
       "      <th></th>\n",
       "      <th></th>\n",
       "      <th></th>\n",
       "      <th></th>\n",
       "      <th></th>\n",
       "      <th></th>\n",
       "      <th></th>\n",
       "      <th></th>\n",
       "      <th></th>\n",
       "    </tr>\n",
       "  </thead>\n",
       "  <tbody>\n",
       "    <tr>\n",
       "      <th>1</th>\n",
       "      <td>ABCE1-C1</td>\n",
       "      <td>C</td>\n",
       "      <td>F</td>\n",
       "      <td>laughs</td>\n",
       "      <td>ABCE1-P1</td>\n",
       "      <td>10</td>\n",
       "      <td>ABCE1</td>\n",
       "      <td>P</td>\n",
       "      <td>M</td>\n",
       "    </tr>\n",
       "    <tr>\n",
       "      <th>7</th>\n",
       "      <td>ABCE1-C1</td>\n",
       "      <td>C</td>\n",
       "      <td>F</td>\n",
       "      <td>mhm</td>\n",
       "      <td>ABCE1-P1</td>\n",
       "      <td>14</td>\n",
       "      <td>ABCE1</td>\n",
       "      <td>P</td>\n",
       "      <td>M</td>\n",
       "    </tr>\n",
       "    <tr>\n",
       "      <th>8</th>\n",
       "      <td>ABCE1-C1</td>\n",
       "      <td>C</td>\n",
       "      <td>F</td>\n",
       "      <td>uh</td>\n",
       "      <td>ABCE1-E1</td>\n",
       "      <td>23</td>\n",
       "      <td>ABCE1</td>\n",
       "      <td>E</td>\n",
       "      <td>M</td>\n",
       "    </tr>\n",
       "    <tr>\n",
       "      <th>11</th>\n",
       "      <td>ABCE1-C1</td>\n",
       "      <td>C</td>\n",
       "      <td>F</td>\n",
       "      <td>laugh</td>\n",
       "      <td>ABCE1-C1</td>\n",
       "      <td>24</td>\n",
       "      <td>ABCE1</td>\n",
       "      <td>C</td>\n",
       "      <td>F</td>\n",
       "    </tr>\n",
       "    <tr>\n",
       "      <th>14</th>\n",
       "      <td>ABCE1-C1</td>\n",
       "      <td>C</td>\n",
       "      <td>F</td>\n",
       "      <td>mm</td>\n",
       "      <td>ABCE1-E1</td>\n",
       "      <td>31</td>\n",
       "      <td>ABCE1</td>\n",
       "      <td>E</td>\n",
       "      <td>M</td>\n",
       "    </tr>\n",
       "  </tbody>\n",
       "</table>\n",
       "</div>"
      ],
      "text/plain": [
       "     Speaker Speaker_Type Speaker_Gender Back_Channel Line_Speaker  \\\n",
       "                                                                     \n",
       "1   ABCE1-C1            C              F       laughs     ABCE1-P1   \n",
       "7   ABCE1-C1            C              F          mhm     ABCE1-P1   \n",
       "8   ABCE1-C1            C              F           uh     ABCE1-E1   \n",
       "11  ABCE1-C1            C              F        laugh     ABCE1-C1   \n",
       "14  ABCE1-C1            C              F           mm     ABCE1-E1   \n",
       "\n",
       "    Segment_Utterance_Number Segment Line_Speaker_Type Line_Speaker_Gender  \n",
       "                                                                            \n",
       "1                         10   ABCE1                 P                   M  \n",
       "7                         14   ABCE1                 P                   M  \n",
       "8                         23   ABCE1                 E                   M  \n",
       "11                        24   ABCE1                 C                   F  \n",
       "14                        31   ABCE1                 E                   M  "
      ]
     },
     "execution_count": 31,
     "metadata": {},
     "output_type": "execute_result"
    }
   ],
   "source": [
    "# Caller's saying back channels\n",
    "print(\"Callers Uttering Back Channels:\")\n",
    "C_bk_df=bk_df.loc[bk_df[\"Speaker_Type\"]=='C',:]\n",
    "C_bk_df.head()"
   ]
  },
  {
   "cell_type": "code",
   "execution_count": 32,
   "metadata": {},
   "outputs": [
    {
     "name": "stdout",
     "output_type": "stream",
     "text": [
      "All Instances of Male and Female Callers Contributing Back Channels:\n"
     ]
    },
    {
     "data": {
      "text/plain": [
       "M     541\n",
       "F    1150\n",
       "Name: Speaker_Gender, dtype: int64"
      ]
     },
     "execution_count": 32,
     "metadata": {},
     "output_type": "execute_result"
    },
    {
     "name": "stdout",
     "output_type": "stream",
     "text": [
      "All Male and Female Lines that Contained Caller Back Channels\n"
     ]
    },
    {
     "data": {
      "text/plain": [
       "M    821\n",
       "F    870\n",
       "Name: Line_Speaker_Gender, dtype: int64"
      ]
     },
     "execution_count": 32,
     "metadata": {},
     "output_type": "execute_result"
    }
   ],
   "source": [
    "print(\"All Instances of Male and Female Callers Contributing Back Channels:\") \n",
    "C_bk_df[\"Speaker_Gender\"].value_counts().reindex([\"M\",\"F\"])\n",
    "print(\"All Male and Female Lines that Contained Caller Back Channels\") \n",
    "C_bk_df[\"Line_Speaker_Gender\"].value_counts().reindex([\"M\",\"F\"])"
   ]
  },
  {
   "cell_type": "markdown",
   "metadata": {},
   "source": [
    "### Observations: \n",
    "\n",
    "- Females uttered twice as many back channels.\n",
    "- More Females Lines had Female Caller Back Channels.\n",
    "     - **Conclusion:** *Female Callers* are more likely to utter Back Channels when talking to *other females.*"
   ]
  },
  {
   "cell_type": "markdown",
   "metadata": {},
   "source": [
    "### Data Frame of Caller Lines with Back Channels"
   ]
  },
  {
   "cell_type": "code",
   "execution_count": 33,
   "metadata": {},
   "outputs": [
    {
     "name": "stdout",
     "output_type": "stream",
     "text": [
      "Caller Lines that Include Back Channels:\n"
     ]
    },
    {
     "data": {
      "text/html": [
       "<div>\n",
       "<style scoped>\n",
       "    .dataframe tbody tr th:only-of-type {\n",
       "        vertical-align: middle;\n",
       "    }\n",
       "\n",
       "    .dataframe tbody tr th {\n",
       "        vertical-align: top;\n",
       "    }\n",
       "\n",
       "    .dataframe thead th {\n",
       "        text-align: right;\n",
       "    }\n",
       "</style>\n",
       "<table border=\"1\" class=\"dataframe\">\n",
       "  <thead>\n",
       "    <tr style=\"text-align: right;\">\n",
       "      <th></th>\n",
       "      <th>Speaker</th>\n",
       "      <th>Speaker_Type</th>\n",
       "      <th>Speaker_Gender</th>\n",
       "      <th>Back_Channel</th>\n",
       "      <th>Line_Speaker</th>\n",
       "      <th>Segment_Utterance_Number</th>\n",
       "      <th>Segment</th>\n",
       "      <th>Line_Speaker_Type</th>\n",
       "      <th>Line_Speaker_Gender</th>\n",
       "    </tr>\n",
       "    <tr>\n",
       "      <th></th>\n",
       "      <th></th>\n",
       "      <th></th>\n",
       "      <th></th>\n",
       "      <th></th>\n",
       "      <th></th>\n",
       "      <th></th>\n",
       "      <th></th>\n",
       "      <th></th>\n",
       "      <th></th>\n",
       "    </tr>\n",
       "  </thead>\n",
       "  <tbody>\n",
       "    <tr>\n",
       "      <th>2</th>\n",
       "      <td>ABCE1-P1</td>\n",
       "      <td>P</td>\n",
       "      <td>M</td>\n",
       "      <td>yes</td>\n",
       "      <td>ABCE1-C1</td>\n",
       "      <td>11</td>\n",
       "      <td>ABCE1</td>\n",
       "      <td>C</td>\n",
       "      <td>F</td>\n",
       "    </tr>\n",
       "    <tr>\n",
       "      <th>3</th>\n",
       "      <td>ABCE1-E1</td>\n",
       "      <td>E</td>\n",
       "      <td>M</td>\n",
       "      <td>mm</td>\n",
       "      <td>ABCE1-C1</td>\n",
       "      <td>11</td>\n",
       "      <td>ABCE1</td>\n",
       "      <td>C</td>\n",
       "      <td>F</td>\n",
       "    </tr>\n",
       "    <tr>\n",
       "      <th>4</th>\n",
       "      <td>ABCE1-E1</td>\n",
       "      <td>E</td>\n",
       "      <td>M</td>\n",
       "      <td>mm</td>\n",
       "      <td>ABCE1-C1</td>\n",
       "      <td>11</td>\n",
       "      <td>ABCE1</td>\n",
       "      <td>C</td>\n",
       "      <td>F</td>\n",
       "    </tr>\n",
       "    <tr>\n",
       "      <th>5</th>\n",
       "      <td>ABCE1-E1</td>\n",
       "      <td>E</td>\n",
       "      <td>M</td>\n",
       "      <td>mm</td>\n",
       "      <td>ABCE1-C1</td>\n",
       "      <td>11</td>\n",
       "      <td>ABCE1</td>\n",
       "      <td>C</td>\n",
       "      <td>F</td>\n",
       "    </tr>\n",
       "    <tr>\n",
       "      <th>6</th>\n",
       "      <td>ABCE1-P1</td>\n",
       "      <td>P</td>\n",
       "      <td>M</td>\n",
       "      <td>mm</td>\n",
       "      <td>ABCE1-C1</td>\n",
       "      <td>13</td>\n",
       "      <td>ABCE1</td>\n",
       "      <td>C</td>\n",
       "      <td>F</td>\n",
       "    </tr>\n",
       "  </tbody>\n",
       "</table>\n",
       "</div>"
      ],
      "text/plain": [
       "    Speaker Speaker_Type Speaker_Gender Back_Channel Line_Speaker  \\\n",
       "                                                                    \n",
       "2  ABCE1-P1            P              M          yes     ABCE1-C1   \n",
       "3  ABCE1-E1            E              M           mm     ABCE1-C1   \n",
       "4  ABCE1-E1            E              M           mm     ABCE1-C1   \n",
       "5  ABCE1-E1            E              M           mm     ABCE1-C1   \n",
       "6  ABCE1-P1            P              M           mm     ABCE1-C1   \n",
       "\n",
       "   Segment_Utterance_Number Segment Line_Speaker_Type Line_Speaker_Gender  \n",
       "                                                                           \n",
       "2                        11   ABCE1                 C                   F  \n",
       "3                        11   ABCE1                 C                   F  \n",
       "4                        11   ABCE1                 C                   F  \n",
       "5                        11   ABCE1                 C                   F  \n",
       "6                        13   ABCE1                 C                   F  "
      ]
     },
     "execution_count": 33,
     "metadata": {},
     "output_type": "execute_result"
    }
   ],
   "source": [
    "# Caller lines that include back channels\n",
    "print(\"Caller Lines that Include Back Channels:\")\n",
    "C_line_bk_df=bk_df.loc[bk_df[\"Line_Speaker_Type\"]=='C',:]\n",
    "C_line_bk_df.head()"
   ]
  },
  {
   "cell_type": "code",
   "execution_count": 34,
   "metadata": {},
   "outputs": [
    {
     "name": "stdout",
     "output_type": "stream",
     "text": [
      "All Caller Lines that Contained Back Channels (by Any Speaker Type):\n"
     ]
    },
    {
     "data": {
      "text/plain": [
       "M    814\n",
       "F    640\n",
       "Name: Speaker_Gender, dtype: int64"
      ]
     },
     "execution_count": 34,
     "metadata": {},
     "output_type": "execute_result"
    },
    {
     "name": "stdout",
     "output_type": "stream",
     "text": [
      "All Instances of Male and Female Caller Lines that Contained Back Channels:\n"
     ]
    },
    {
     "data": {
      "text/plain": [
       "M    711\n",
       "F    743\n",
       "Name: Line_Speaker_Gender, dtype: int64"
      ]
     },
     "execution_count": 34,
     "metadata": {},
     "output_type": "execute_result"
    }
   ],
   "source": [
    "print(\"All Caller Lines that Contained Back Channels (by Any Speaker Type):\")\n",
    "C_line_bk_df[\"Speaker_Gender\"].value_counts().reindex([\"M\",\"F\"])\n",
    "print(\"All Instances of Male and Female Caller Lines that Contained Back Channels:\")\n",
    "C_line_bk_df[\"Line_Speaker_Gender\"].value_counts().reindex([\"M\",\"F\"])"
   ]
  },
  {
   "cell_type": "markdown",
   "metadata": {},
   "source": [
    "### Observations\n",
    "\n",
    "- Of the Caller Lines that contained Back Channels, more of those back channels came from Males.\n",
    "    - **Conclusion:** *Males* are more likely to contribute a back channel to a *Caller* than Females are.\n",
    "- Of the Caller Lines that contained Back Channels, more Female Caller Lines contained back channels.\n",
    "    - **Conclusion:** *Speakers* are more likely to contribute a back channel to a *Female Caller* than Male Callers.\n",
    "    \n",
    "But are Male and Female Callers as contributing more back channels to speakers of the same gender or different genders?"
   ]
  },
  {
   "cell_type": "code",
   "execution_count": 35,
   "metadata": {},
   "outputs": [
    {
     "name": "stdout",
     "output_type": "stream",
     "text": [
      "Male Callers Uttering Back Channels during Male and Female Lines:\n"
     ]
    },
    {
     "data": {
      "text/plain": [
       "M    318\n",
       "F    223\n",
       "Name: Line_Speaker_Gender, dtype: int64"
      ]
     },
     "execution_count": 35,
     "metadata": {},
     "output_type": "execute_result"
    },
    {
     "name": "stdout",
     "output_type": "stream",
     "text": [
      "Female Callers Uttering Back Channels during Male and Female Lines:\n"
     ]
    },
    {
     "data": {
      "text/plain": [
       "M    503\n",
       "F    647\n",
       "Name: Line_Speaker_Gender, dtype: int64"
      ]
     },
     "execution_count": 35,
     "metadata": {},
     "output_type": "execute_result"
    }
   ],
   "source": [
    "print(\"Male Callers Uttering Back Channels during Male and Female Lines:\")\n",
    "# Back Channels by Male Callers\n",
    "CM=C_bk_df.loc[(C_bk_df[\"Speaker_Gender\"]=='M') & (C_bk_df[\"Speaker_Type\"]==\"C\"),:]\n",
    "# uttered during Male and Female Lines\n",
    "CM[\"Line_Speaker_Gender\"].value_counts().reindex([\"M\",\"F\"])\n",
    "\n",
    "print(\"Female Callers Uttering Back Channels during Male and Female Lines:\")\n",
    "# Back Channels by Female Callers\n",
    "CF=C_bk_df.loc[(C_bk_df[\"Speaker_Gender\"]=='F') & (C_bk_df[\"Speaker_Type\"]==\"C\"),:]\n",
    "# uttered during Male and Female Lines\n",
    "CF[\"Line_Speaker_Gender\"].value_counts().reindex([\"M\",\"F\"])"
   ]
  },
  {
   "cell_type": "markdown",
   "metadata": {},
   "source": [
    "Male Callers are more likely to utter back channels during Male Lines\n",
    "\n",
    "Female Callers are more likely to utter back channels during other Female Lines"
   ]
  },
  {
   "cell_type": "code",
   "execution_count": null,
   "metadata": {},
   "outputs": [],
   "source": []
  }
 ],
 "metadata": {
  "kernelspec": {
   "display_name": "Python 3",
   "language": "python",
   "name": "python3"
  },
  "language_info": {
   "codemirror_mode": {
    "name": "ipython",
    "version": 3
   },
   "file_extension": ".py",
   "mimetype": "text/x-python",
   "name": "python",
   "nbconvert_exporter": "python",
   "pygments_lexer": "ipython3",
   "version": "3.5.2"
  }
 },
 "nbformat": 4,
 "nbformat_minor": 2
}
