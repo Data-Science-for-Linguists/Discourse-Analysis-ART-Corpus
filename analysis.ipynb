{
 "cells": [
  {
   "cell_type": "markdown",
   "metadata": {},
   "source": [
    "Alicia Sigmon\n",
    "\n",
    "als333@pitt.edu \n",
    "\n",
    "12/03/17\n",
    "\n",
    "# Discourse Analysis of the Australian Radio Talkback Corpus\n",
    "\n",
    "## About the Data:\n",
    "- 27 transcribed recordings of samples of national, regional and commercial Australian talkback radio from 2004 to 2006.\n",
    "- *raw files* and text files\n",
    "- Closed Data\n",
    "\n",
    "\n",
    "## Plan: \n",
    "- Original Format\n",
    "- Formatting\n",
    "- Speaker Analyses\n",
    "- Gender Analyses \n",
    "- Back Channel Analyses\n",
    "\n",
    "## Resource for Gender Analysis:\n",
    "Language Log Article: [Men Interrupt More than Women](http://languagelog.ldc.upenn.edu/nll/?p=13422)"
   ]
  },
  {
   "cell_type": "code",
   "execution_count": 1,
   "metadata": {},
   "outputs": [
    {
     "name": "stdout",
     "output_type": "stream",
     "text": [
      "Pretty printing has been turned OFF\n"
     ]
    }
   ],
   "source": [
    "%pprint"
   ]
  },
  {
   "cell_type": "code",
   "execution_count": 2,
   "metadata": {},
   "outputs": [],
   "source": [
    "from IPython.core.interactiveshell import InteractiveShell\n",
    "InteractiveShell.ast_node_interactivity = \"all\""
   ]
  },
  {
   "cell_type": "code",
   "execution_count": 3,
   "metadata": {},
   "outputs": [],
   "source": [
    "import nltk\n",
    "import pandas as pd\n",
    "\n",
    "# visualization tools\n",
    "import matplotlib as mpl\n",
    "import matplotlib.pyplot as plt\n",
    "plt.style.use('classic')"
   ]
  },
  {
   "cell_type": "markdown",
   "metadata": {},
   "source": [
    "## Reading in Data Frames"
   ]
  },
  {
   "cell_type": "code",
   "execution_count": 4,
   "metadata": {},
   "outputs": [],
   "source": [
    "# reading in data frames\n",
    "speaker_df=pd.read_csv(\"data_files/Speakers.csv\")\n",
    "art_df=pd.read_csv(\"data_files/Texts.csv\")\n",
    "bk_df=pd.read_csv(\"data_files/Back_Channels.csv\")\n",
    "\n",
    "# speaker_df.head()\n",
    "# art_df.head()\n",
    "# bk_df.head()"
   ]
  },
  {
   "cell_type": "markdown",
   "metadata": {},
   "source": [
    "## Data Frames:\n",
    "\n",
    "- speaker_df\n",
    "    - data frame of all unique speakers\n",
    "- art_df\n",
    "    - data frame of each line of text\n",
    "- bk_df\n",
    "    - data frame of all back channels"
   ]
  },
  {
   "cell_type": "code",
   "execution_count": 5,
   "metadata": {},
   "outputs": [
    {
     "name": "stdout",
     "output_type": "stream",
     "text": [
      "Speaker Data Frame:\n"
     ]
    },
    {
     "data": {
      "text/html": [
       "<div>\n",
       "<style scoped>\n",
       "    .dataframe tbody tr th:only-of-type {\n",
       "        vertical-align: middle;\n",
       "    }\n",
       "\n",
       "    .dataframe tbody tr th {\n",
       "        vertical-align: top;\n",
       "    }\n",
       "\n",
       "    .dataframe thead th {\n",
       "        text-align: right;\n",
       "    }\n",
       "</style>\n",
       "<table border=\"1\" class=\"dataframe\">\n",
       "  <thead>\n",
       "    <tr style=\"text-align: right;\">\n",
       "      <th></th>\n",
       "      <th>Segment</th>\n",
       "      <th>Speaker_Type</th>\n",
       "      <th>Gender</th>\n",
       "      <th>Name</th>\n",
       "      <th>Number_of_Utterances</th>\n",
       "    </tr>\n",
       "    <tr>\n",
       "      <th>Speaker</th>\n",
       "      <th></th>\n",
       "      <th></th>\n",
       "      <th></th>\n",
       "      <th></th>\n",
       "      <th></th>\n",
       "    </tr>\n",
       "  </thead>\n",
       "  <tbody>\n",
       "    <tr>\n",
       "      <th>ABCE1-C1</th>\n",
       "      <td>ABCE1</td>\n",
       "      <td>C</td>\n",
       "      <td>F</td>\n",
       "      <td>Suzanne</td>\n",
       "      <td>17</td>\n",
       "    </tr>\n",
       "    <tr>\n",
       "      <th>ABCE1-C10</th>\n",
       "      <td>ABCE1</td>\n",
       "      <td>C</td>\n",
       "      <td>F</td>\n",
       "      <td>Beth</td>\n",
       "      <td>17</td>\n",
       "    </tr>\n",
       "    <tr>\n",
       "      <th>ABCE1-C11</th>\n",
       "      <td>ABCE1</td>\n",
       "      <td>C</td>\n",
       "      <td>F</td>\n",
       "      <td>Lynne</td>\n",
       "      <td>10</td>\n",
       "    </tr>\n",
       "    <tr>\n",
       "      <th>ABCE1-C12</th>\n",
       "      <td>ABCE1</td>\n",
       "      <td>C</td>\n",
       "      <td>M</td>\n",
       "      <td>Jack</td>\n",
       "      <td>12</td>\n",
       "    </tr>\n",
       "    <tr>\n",
       "      <th>ABCE1-C2</th>\n",
       "      <td>ABCE1</td>\n",
       "      <td>C</td>\n",
       "      <td>F</td>\n",
       "      <td>Lisa</td>\n",
       "      <td>13</td>\n",
       "    </tr>\n",
       "  </tbody>\n",
       "</table>\n",
       "</div>"
      ],
      "text/plain": [
       "          Segment Speaker_Type Gender     Name  Number_of_Utterances\n",
       "Speaker                                                             \n",
       "ABCE1-C1    ABCE1            C      F  Suzanne                    17\n",
       "ABCE1-C10   ABCE1            C      F     Beth                    17\n",
       "ABCE1-C11   ABCE1            C      F    Lynne                    10\n",
       "ABCE1-C12   ABCE1            C      M     Jack                    12\n",
       "ABCE1-C2    ABCE1            C      F     Lisa                    13"
      ]
     },
     "execution_count": 5,
     "metadata": {},
     "output_type": "execute_result"
    },
    {
     "name": "stdout",
     "output_type": "stream",
     "text": [
      "Lines of Text Data Frame:\n"
     ]
    },
    {
     "data": {
      "text/html": [
       "<div>\n",
       "<style scoped>\n",
       "    .dataframe tbody tr th:only-of-type {\n",
       "        vertical-align: middle;\n",
       "    }\n",
       "\n",
       "    .dataframe tbody tr th {\n",
       "        vertical-align: top;\n",
       "    }\n",
       "\n",
       "    .dataframe thead th {\n",
       "        text-align: right;\n",
       "    }\n",
       "</style>\n",
       "<table border=\"1\" class=\"dataframe\">\n",
       "  <thead>\n",
       "    <tr style=\"text-align: right;\">\n",
       "      <th></th>\n",
       "      <th></th>\n",
       "      <th>Segment</th>\n",
       "      <th>Speaker_Type</th>\n",
       "      <th>Gender</th>\n",
       "      <th>Text</th>\n",
       "      <th>Word_Toks</th>\n",
       "      <th>Num_Words</th>\n",
       "      <th>Avg_Word_Length</th>\n",
       "      <th>Sents</th>\n",
       "      <th>Num_Sents</th>\n",
       "    </tr>\n",
       "    <tr>\n",
       "      <th>Speaker</th>\n",
       "      <th>Utterance_Number</th>\n",
       "      <th></th>\n",
       "      <th></th>\n",
       "      <th></th>\n",
       "      <th></th>\n",
       "      <th></th>\n",
       "      <th></th>\n",
       "      <th></th>\n",
       "      <th></th>\n",
       "      <th></th>\n",
       "    </tr>\n",
       "  </thead>\n",
       "  <tbody>\n",
       "    <tr>\n",
       "      <th>ABCE1-P1</th>\n",
       "      <th>1</th>\n",
       "      <td>ABCE1</td>\n",
       "      <td>P</td>\n",
       "      <td>M</td>\n",
       "      <td>Thanks for that John Hall now John Hall will b...</td>\n",
       "      <td>['Thanks', 'for', 'that', 'John', 'Hall', 'now...</td>\n",
       "      <td>80</td>\n",
       "      <td>4.700000</td>\n",
       "      <td>[\"Thanks for that John Hall now John Hall will...</td>\n",
       "      <td>2</td>\n",
       "    </tr>\n",
       "    <tr>\n",
       "      <th>ABCE1-E1</th>\n",
       "      <th>2</th>\n",
       "      <td>ABCE1</td>\n",
       "      <td>E</td>\n",
       "      <td>M</td>\n",
       "      <td>I guess yeah yeah &lt;laughs&gt;.</td>\n",
       "      <td>['I', 'guess', 'yeah', 'yeah', '.']</td>\n",
       "      <td>5</td>\n",
       "      <td>3.000000</td>\n",
       "      <td>['I guess yeah yeah .']</td>\n",
       "      <td>1</td>\n",
       "    </tr>\n",
       "    <tr>\n",
       "      <th>ABCE1-P1</th>\n",
       "      <th>3</th>\n",
       "      <td>ABCE1</td>\n",
       "      <td>P</td>\n",
       "      <td>M</td>\n",
       "      <td>He's also known &lt;E1 sounds reasonable&gt; for his...</td>\n",
       "      <td>['He', \"'s\", 'also', 'known', 'for', 'his', 'a...</td>\n",
       "      <td>159</td>\n",
       "      <td>5.062893</td>\n",
       "      <td>[\"He's also known  for his ability to open cos...</td>\n",
       "      <td>3</td>\n",
       "    </tr>\n",
       "    <tr>\n",
       "      <th>ABCE1-E1</th>\n",
       "      <th>4</th>\n",
       "      <td>ABCE1</td>\n",
       "      <td>E</td>\n",
       "      <td>M</td>\n",
       "      <td>Okay.</td>\n",
       "      <td>['Okay', '.']</td>\n",
       "      <td>2</td>\n",
       "      <td>2.500000</td>\n",
       "      <td>['Okay.']</td>\n",
       "      <td>1</td>\n",
       "    </tr>\n",
       "    <tr>\n",
       "      <th>ABCE1-P1</th>\n",
       "      <th>5</th>\n",
       "      <td>ABCE1</td>\n",
       "      <td>P</td>\n",
       "      <td>M</td>\n",
       "      <td>Jeanne Villani does and we'll find out the sec...</td>\n",
       "      <td>['Jeanne', 'Villani', 'does', 'and', 'we', \"'l...</td>\n",
       "      <td>50</td>\n",
       "      <td>3.980000</td>\n",
       "      <td>[\"Jeanne Villani does and we'll find out the s...</td>\n",
       "      <td>1</td>\n",
       "    </tr>\n",
       "  </tbody>\n",
       "</table>\n",
       "</div>"
      ],
      "text/plain": [
       "                          Segment Speaker_Type Gender  \\\n",
       "Speaker  Utterance_Number                               \n",
       "ABCE1-P1 1                  ABCE1            P      M   \n",
       "ABCE1-E1 2                  ABCE1            E      M   \n",
       "ABCE1-P1 3                  ABCE1            P      M   \n",
       "ABCE1-E1 4                  ABCE1            E      M   \n",
       "ABCE1-P1 5                  ABCE1            P      M   \n",
       "\n",
       "                                                                        Text  \\\n",
       "Speaker  Utterance_Number                                                      \n",
       "ABCE1-P1 1                 Thanks for that John Hall now John Hall will b...   \n",
       "ABCE1-E1 2                                       I guess yeah yeah <laughs>.   \n",
       "ABCE1-P1 3                 He's also known <E1 sounds reasonable> for his...   \n",
       "ABCE1-E1 4                                                             Okay.   \n",
       "ABCE1-P1 5                 Jeanne Villani does and we'll find out the sec...   \n",
       "\n",
       "                                                                   Word_Toks  \\\n",
       "Speaker  Utterance_Number                                                      \n",
       "ABCE1-P1 1                 ['Thanks', 'for', 'that', 'John', 'Hall', 'now...   \n",
       "ABCE1-E1 2                               ['I', 'guess', 'yeah', 'yeah', '.']   \n",
       "ABCE1-P1 3                 ['He', \"'s\", 'also', 'known', 'for', 'his', 'a...   \n",
       "ABCE1-E1 4                                                     ['Okay', '.']   \n",
       "ABCE1-P1 5                 ['Jeanne', 'Villani', 'does', 'and', 'we', \"'l...   \n",
       "\n",
       "                           Num_Words  Avg_Word_Length  \\\n",
       "Speaker  Utterance_Number                               \n",
       "ABCE1-P1 1                        80         4.700000   \n",
       "ABCE1-E1 2                         5         3.000000   \n",
       "ABCE1-P1 3                       159         5.062893   \n",
       "ABCE1-E1 4                         2         2.500000   \n",
       "ABCE1-P1 5                        50         3.980000   \n",
       "\n",
       "                                                                       Sents  \\\n",
       "Speaker  Utterance_Number                                                      \n",
       "ABCE1-P1 1                 [\"Thanks for that John Hall now John Hall will...   \n",
       "ABCE1-E1 2                                           ['I guess yeah yeah .']   \n",
       "ABCE1-P1 3                 [\"He's also known  for his ability to open cos...   \n",
       "ABCE1-E1 4                                                         ['Okay.']   \n",
       "ABCE1-P1 5                 [\"Jeanne Villani does and we'll find out the s...   \n",
       "\n",
       "                           Num_Sents  \n",
       "Speaker  Utterance_Number             \n",
       "ABCE1-P1 1                         2  \n",
       "ABCE1-E1 2                         1  \n",
       "ABCE1-P1 3                         3  \n",
       "ABCE1-E1 4                         1  \n",
       "ABCE1-P1 5                         1  "
      ]
     },
     "execution_count": 5,
     "metadata": {},
     "output_type": "execute_result"
    },
    {
     "name": "stdout",
     "output_type": "stream",
     "text": [
      "Back Channel Data Frame:\n"
     ]
    },
    {
     "data": {
      "text/html": [
       "<div>\n",
       "<style scoped>\n",
       "    .dataframe tbody tr th:only-of-type {\n",
       "        vertical-align: middle;\n",
       "    }\n",
       "\n",
       "    .dataframe tbody tr th {\n",
       "        vertical-align: top;\n",
       "    }\n",
       "\n",
       "    .dataframe thead th {\n",
       "        text-align: right;\n",
       "    }\n",
       "</style>\n",
       "<table border=\"1\" class=\"dataframe\">\n",
       "  <thead>\n",
       "    <tr style=\"text-align: right;\">\n",
       "      <th></th>\n",
       "      <th>Speaker</th>\n",
       "      <th>Speaker_Type</th>\n",
       "      <th>Speaker_Gender</th>\n",
       "      <th>Back_Channel</th>\n",
       "      <th>Line_Speaker</th>\n",
       "      <th>Segment_Utterance_Number</th>\n",
       "      <th>Segment</th>\n",
       "      <th>Line_Speaker_Type</th>\n",
       "      <th>Line_Speaker_Gender</th>\n",
       "    </tr>\n",
       "    <tr>\n",
       "      <th></th>\n",
       "      <th></th>\n",
       "      <th></th>\n",
       "      <th></th>\n",
       "      <th></th>\n",
       "      <th></th>\n",
       "      <th></th>\n",
       "      <th></th>\n",
       "      <th></th>\n",
       "      <th></th>\n",
       "    </tr>\n",
       "  </thead>\n",
       "  <tbody>\n",
       "    <tr>\n",
       "      <th>0</th>\n",
       "      <td>ABCE1-E1</td>\n",
       "      <td>E</td>\n",
       "      <td>M</td>\n",
       "      <td>sounds reasonable</td>\n",
       "      <td>ABCE1-P1</td>\n",
       "      <td>3</td>\n",
       "      <td>ABCE1</td>\n",
       "      <td>P</td>\n",
       "      <td>M</td>\n",
       "    </tr>\n",
       "    <tr>\n",
       "      <th>1</th>\n",
       "      <td>ABCE1-C1</td>\n",
       "      <td>C</td>\n",
       "      <td>F</td>\n",
       "      <td>laughs</td>\n",
       "      <td>ABCE1-P1</td>\n",
       "      <td>10</td>\n",
       "      <td>ABCE1</td>\n",
       "      <td>P</td>\n",
       "      <td>M</td>\n",
       "    </tr>\n",
       "    <tr>\n",
       "      <th>2</th>\n",
       "      <td>ABCE1-P1</td>\n",
       "      <td>P</td>\n",
       "      <td>M</td>\n",
       "      <td>yes</td>\n",
       "      <td>ABCE1-C1</td>\n",
       "      <td>11</td>\n",
       "      <td>ABCE1</td>\n",
       "      <td>C</td>\n",
       "      <td>F</td>\n",
       "    </tr>\n",
       "    <tr>\n",
       "      <th>3</th>\n",
       "      <td>ABCE1-E1</td>\n",
       "      <td>E</td>\n",
       "      <td>M</td>\n",
       "      <td>mm</td>\n",
       "      <td>ABCE1-C1</td>\n",
       "      <td>11</td>\n",
       "      <td>ABCE1</td>\n",
       "      <td>C</td>\n",
       "      <td>F</td>\n",
       "    </tr>\n",
       "    <tr>\n",
       "      <th>4</th>\n",
       "      <td>ABCE1-E1</td>\n",
       "      <td>E</td>\n",
       "      <td>M</td>\n",
       "      <td>mm</td>\n",
       "      <td>ABCE1-C1</td>\n",
       "      <td>11</td>\n",
       "      <td>ABCE1</td>\n",
       "      <td>C</td>\n",
       "      <td>F</td>\n",
       "    </tr>\n",
       "  </tbody>\n",
       "</table>\n",
       "</div>"
      ],
      "text/plain": [
       "    Speaker Speaker_Type Speaker_Gender       Back_Channel Line_Speaker  \\\n",
       "                                                                          \n",
       "0  ABCE1-E1            E              M  sounds reasonable     ABCE1-P1   \n",
       "1  ABCE1-C1            C              F             laughs     ABCE1-P1   \n",
       "2  ABCE1-P1            P              M                yes     ABCE1-C1   \n",
       "3  ABCE1-E1            E              M                 mm     ABCE1-C1   \n",
       "4  ABCE1-E1            E              M                 mm     ABCE1-C1   \n",
       "\n",
       "   Segment_Utterance_Number Segment Line_Speaker_Type Line_Speaker_Gender  \n",
       "                                                                           \n",
       "0                         3   ABCE1                 P                   M  \n",
       "1                        10   ABCE1                 P                   M  \n",
       "2                        11   ABCE1                 C                   F  \n",
       "3                        11   ABCE1                 C                   F  \n",
       "4                        11   ABCE1                 C                   F  "
      ]
     },
     "execution_count": 5,
     "metadata": {},
     "output_type": "execute_result"
    }
   ],
   "source": [
    "# modifying data frame column names\n",
    "speaker_df.columns = [\"Speaker\",\"Segment\",\"Speaker_Type\",\"Gender\",\"Name\",\"Number_of_Utterances\"]\n",
    "speaker_df = speaker_df.set_index(\"Speaker\")\n",
    "\n",
    "print(\"Speaker Data Frame:\")\n",
    "speaker_df.head()\n",
    "\n",
    "art_df.columns = [\"Speaker\",\"Utterance_Number\",\"Segment\",\"Speaker_Type\",\"Gender\",\"Text\",\"Word_Toks\",\"Num_Words\",\"Avg_Word_Length\",\"Sents\",\"Num_Sents\"]\n",
    "art_df = art_df.set_index(keys=[\"Speaker\",\"Utterance_Number\"])\n",
    "\n",
    "print(\"Lines of Text Data Frame:\")\n",
    "art_df.head()\n",
    "\n",
    "bk_df.columns = [\"\",\"Speaker\",\"Speaker_Type\",\"Speaker_Gender\",\"Back_Channel\",\"Line_Speaker\",\"Segment_Utterance_Number\",\"Segment\",\"Line_Speaker_Type\",\"Line_Speaker_Gender\"]\n",
    "bk_df = bk_df.set_index(\"\")\n",
    "\n",
    "print(\"Back Channel Data Frame:\")\n",
    "bk_df.head()"
   ]
  },
  {
   "cell_type": "markdown",
   "metadata": {},
   "source": [
    "### Splitting Speakers by Role:"
   ]
  },
  {
   "cell_type": "code",
   "execution_count": 6,
   "metadata": {},
   "outputs": [],
   "source": [
    "# dataframe of presenters\n",
    "P_df=speaker_df.loc[speaker_df[\"Speaker_Type\"]=='P',:]\n",
    "\n",
    "# dataframe of callers\n",
    "C_df=speaker_df.loc[speaker_df[\"Speaker_Type\"]=='C',:]\n",
    "\n",
    "# dataframe of experts\n",
    "E_df=speaker_df.loc[speaker_df[\"Speaker_Type\"]=='E',:]"
   ]
  },
  {
   "cell_type": "markdown",
   "metadata": {},
   "source": [
    "### All Presenters:\n",
    "12 total, with 8 males and 4 females, **but** there are actually 4 unqiue males and 4 unique females."
   ]
  },
  {
   "cell_type": "code",
   "execution_count": 7,
   "metadata": {},
   "outputs": [
    {
     "data": {
      "text/html": [
       "<div>\n",
       "<style scoped>\n",
       "    .dataframe tbody tr th:only-of-type {\n",
       "        vertical-align: middle;\n",
       "    }\n",
       "\n",
       "    .dataframe tbody tr th {\n",
       "        vertical-align: top;\n",
       "    }\n",
       "\n",
       "    .dataframe thead th {\n",
       "        text-align: right;\n",
       "    }\n",
       "</style>\n",
       "<table border=\"1\" class=\"dataframe\">\n",
       "  <thead>\n",
       "    <tr style=\"text-align: right;\">\n",
       "      <th></th>\n",
       "      <th>Segment</th>\n",
       "      <th>Speaker_Type</th>\n",
       "      <th>Gender</th>\n",
       "      <th>Name</th>\n",
       "      <th>Number_of_Utterances</th>\n",
       "    </tr>\n",
       "    <tr>\n",
       "      <th>Speaker</th>\n",
       "      <th></th>\n",
       "      <th></th>\n",
       "      <th></th>\n",
       "      <th></th>\n",
       "      <th></th>\n",
       "    </tr>\n",
       "  </thead>\n",
       "  <tbody>\n",
       "    <tr>\n",
       "      <th>ABCE1-P1</th>\n",
       "      <td>ABCE1</td>\n",
       "      <td>P</td>\n",
       "      <td>M</td>\n",
       "      <td>Simon Marnie</td>\n",
       "      <td>155</td>\n",
       "    </tr>\n",
       "    <tr>\n",
       "      <th>ABCE2-P1</th>\n",
       "      <td>ABCE2</td>\n",
       "      <td>P</td>\n",
       "      <td>M</td>\n",
       "      <td>Simon Marnie</td>\n",
       "      <td>233</td>\n",
       "    </tr>\n",
       "    <tr>\n",
       "      <th>ABCE3-P1</th>\n",
       "      <td>ABCE3</td>\n",
       "      <td>P</td>\n",
       "      <td>F</td>\n",
       "      <td>Lynne Haultain</td>\n",
       "      <td>129</td>\n",
       "    </tr>\n",
       "    <tr>\n",
       "      <th>ABCE3-P2</th>\n",
       "      <td>ABCE3</td>\n",
       "      <td>P</td>\n",
       "      <td>F</td>\n",
       "      <td>Jurate Sasnaitis</td>\n",
       "      <td>56</td>\n",
       "    </tr>\n",
       "    <tr>\n",
       "      <th>ABCE4-P1</th>\n",
       "      <td>ABCE4</td>\n",
       "      <td>P</td>\n",
       "      <td>F</td>\n",
       "      <td>Kelly Higgins-Devine</td>\n",
       "      <td>23</td>\n",
       "    </tr>\n",
       "    <tr>\n",
       "      <th>ABCNE1-P1</th>\n",
       "      <td>ABCNE1</td>\n",
       "      <td>P</td>\n",
       "      <td>M</td>\n",
       "      <td>Trevor Jackson</td>\n",
       "      <td>64</td>\n",
       "    </tr>\n",
       "    <tr>\n",
       "      <th>ABCNE2-P1</th>\n",
       "      <td>ABCNE2</td>\n",
       "      <td>P</td>\n",
       "      <td>M</td>\n",
       "      <td>Trevor Jackson</td>\n",
       "      <td>58</td>\n",
       "    </tr>\n",
       "    <tr>\n",
       "      <th>COME1-P1</th>\n",
       "      <td>COME1</td>\n",
       "      <td>P</td>\n",
       "      <td>M</td>\n",
       "      <td>Luke Bona</td>\n",
       "      <td>67</td>\n",
       "    </tr>\n",
       "    <tr>\n",
       "      <th>COME2-P1</th>\n",
       "      <td>COME2</td>\n",
       "      <td>P</td>\n",
       "      <td>M</td>\n",
       "      <td>Luke Bona</td>\n",
       "      <td>68</td>\n",
       "    </tr>\n",
       "    <tr>\n",
       "      <th>COME3-P1</th>\n",
       "      <td>COME3</td>\n",
       "      <td>P</td>\n",
       "      <td>M</td>\n",
       "      <td>Luke Bona</td>\n",
       "      <td>61</td>\n",
       "    </tr>\n",
       "    <tr>\n",
       "      <th>COME5-P1</th>\n",
       "      <td>COME5</td>\n",
       "      <td>P</td>\n",
       "      <td>M</td>\n",
       "      <td>Spencer</td>\n",
       "      <td>65</td>\n",
       "    </tr>\n",
       "    <tr>\n",
       "      <th>COME5-P2</th>\n",
       "      <td>COME5</td>\n",
       "      <td>P</td>\n",
       "      <td>F</td>\n",
       "      <td>Sharina</td>\n",
       "      <td>491</td>\n",
       "    </tr>\n",
       "  </tbody>\n",
       "</table>\n",
       "</div>"
      ],
      "text/plain": [
       "          Segment Speaker_Type Gender                  Name  \\\n",
       "Speaker                                                       \n",
       "ABCE1-P1    ABCE1            P      M          Simon Marnie   \n",
       "ABCE2-P1    ABCE2            P      M          Simon Marnie   \n",
       "ABCE3-P1    ABCE3            P      F        Lynne Haultain   \n",
       "ABCE3-P2    ABCE3            P      F      Jurate Sasnaitis   \n",
       "ABCE4-P1    ABCE4            P      F  Kelly Higgins-Devine   \n",
       "ABCNE1-P1  ABCNE1            P      M        Trevor Jackson   \n",
       "ABCNE2-P1  ABCNE2            P      M        Trevor Jackson   \n",
       "COME1-P1    COME1            P      M             Luke Bona   \n",
       "COME2-P1    COME2            P      M             Luke Bona   \n",
       "COME3-P1    COME3            P      M             Luke Bona   \n",
       "COME5-P1    COME5            P      M               Spencer   \n",
       "COME5-P2    COME5            P      F               Sharina   \n",
       "\n",
       "           Number_of_Utterances  \n",
       "Speaker                          \n",
       "ABCE1-P1                    155  \n",
       "ABCE2-P1                    233  \n",
       "ABCE3-P1                    129  \n",
       "ABCE3-P2                     56  \n",
       "ABCE4-P1                     23  \n",
       "ABCNE1-P1                    64  \n",
       "ABCNE2-P1                    58  \n",
       "COME1-P1                     67  \n",
       "COME2-P1                     68  \n",
       "COME3-P1                     61  \n",
       "COME5-P1                     65  \n",
       "COME5-P2                    491  "
      ]
     },
     "execution_count": 7,
     "metadata": {},
     "output_type": "execute_result"
    }
   ],
   "source": [
    "P_df"
   ]
  },
  {
   "cell_type": "markdown",
   "metadata": {},
   "source": [
    "## Distribution of Speakers:"
   ]
  },
  {
   "cell_type": "markdown",
   "metadata": {},
   "source": [
    "### How many Speakers are there for each Role?\n",
    "- 12 Presenters\n",
    "- 134 Callers\n",
    "- 16 Experts"
   ]
  },
  {
   "cell_type": "code",
   "execution_count": 8,
   "metadata": {},
   "outputs": [
    {
     "data": {
      "text/plain": [
       "<matplotlib.axes._subplots.AxesSubplot object at 0x0A81D830>"
      ]
     },
     "execution_count": 8,
     "metadata": {},
     "output_type": "execute_result"
    },
    {
     "data": {
      "text/plain": [
       "<matplotlib.text.Text object at 0x0A858390>"
      ]
     },
     "execution_count": 8,
     "metadata": {},
     "output_type": "execute_result"
    },
    {
     "data": {
      "text/plain": [
       "<matplotlib.text.Text object at 0x0A8322D0>"
      ]
     },
     "execution_count": 8,
     "metadata": {},
     "output_type": "execute_result"
    },
    {
     "data": {
      "text/plain": [
       "<matplotlib.text.Text object at 0x0A8428B0>"
      ]
     },
     "execution_count": 8,
     "metadata": {},
     "output_type": "execute_result"
    },
    {
     "data": {
      "image/png": "[encoded data removed]",
      "text/plain": [
       "<matplotlib.figure.Figure object at 0x0A7ECBB0>"
      ]
     },
     "metadata": {},
     "output_type": "display_data"
    }
   ],
   "source": [
    "# Number of Speakers per Role\n",
    "speaker_df[\"Speaker_Type\"].value_counts().reindex([\"P\",\"C\",\"E\"]).plot.bar()\n",
    "plt.title(\"Number of Speakers per Role\")\n",
    "plt.xlabel(\"Speaker Type\")\n",
    "plt.ylabel(\"Number of Speakers\")\n",
    "plt.show()"
   ]
  },
  {
   "cell_type": "markdown",
   "metadata": {},
   "source": [
    "### How many Males vs. Females?\n",
    "- 100 Males\n",
    "- 62 Females"
   ]
  },
  {
   "cell_type": "code",
   "execution_count": 9,
   "metadata": {},
   "outputs": [
    {
     "data": {
      "text/plain": [
       "<matplotlib.axes._subplots.AxesSubplot object at 0x0A88CC10>"
      ]
     },
     "execution_count": 9,
     "metadata": {},
     "output_type": "execute_result"
    },
    {
     "data": {
      "text/plain": [
       "<matplotlib.text.Text object at 0x0AA0EE30>"
      ]
     },
     "execution_count": 9,
     "metadata": {},
     "output_type": "execute_result"
    },
    {
     "data": {
      "text/plain": [
       "<matplotlib.text.Text object at 0x0A879FF0>"
      ]
     },
     "execution_count": 9,
     "metadata": {},
     "output_type": "execute_result"
    },
    {
     "data": {
      "text/plain": [
       "<matplotlib.text.Text object at 0x0A832570>"
      ]
     },
     "execution_count": 9,
     "metadata": {},
     "output_type": "execute_result"
    },
    {
     "data": {
      "image/png": "[encoded data removed]",
      "text/plain": [
       "<matplotlib.figure.Figure object at 0x0A8936B0>"
      ]
     },
     "metadata": {},
     "output_type": "display_data"
    }
   ],
   "source": [
    "speaker_df[\"Gender\"].value_counts().reindex([\"M\",\"F\"]).plot.bar()\n",
    "plt.title(\"Number of Males and Female Speakers in the Australian Radio Talkback Corpus\")\n",
    "plt.xlabel(\"Gender\")\n",
    "plt.ylabel(\"Number of Speakers\")\n",
    "plt.show()"
   ]
  },
  {
   "cell_type": "markdown",
   "metadata": {},
   "source": [
    "### How are Males and Females distributed across Roles?"
   ]
  },
  {
   "cell_type": "code",
   "execution_count": 10,
   "metadata": {},
   "outputs": [
    {
     "data": {
      "text/plain": [
       "<matplotlib.axes._subplots.AxesSubplot object at 0x0AA0A190>"
      ]
     },
     "execution_count": 10,
     "metadata": {},
     "output_type": "execute_result"
    },
    {
     "data": {
      "text/plain": [
       "<matplotlib.text.Text object at 0x0A8CB5F0>"
      ]
     },
     "execution_count": 10,
     "metadata": {},
     "output_type": "execute_result"
    },
    {
     "data": {
      "text/plain": [
       "<matplotlib.text.Text object at 0x0AA2C3D0>"
      ]
     },
     "execution_count": 10,
     "metadata": {},
     "output_type": "execute_result"
    },
    {
     "data": {
      "text/plain": [
       "<matplotlib.text.Text object at 0x0A8CB490>"
      ]
     },
     "execution_count": 10,
     "metadata": {},
     "output_type": "execute_result"
    },
    {
     "data": {
      "image/png": "[encoded data removed]",
      "text/plain": [
       "<matplotlib.figure.Figure object at 0x0A7E5F70>"
      ]
     },
     "metadata": {},
     "output_type": "display_data"
    },
    {
     "data": {
      "text/plain": [
       "<matplotlib.axes._subplots.AxesSubplot object at 0x0A8CBF90>"
      ]
     },
     "execution_count": 10,
     "metadata": {},
     "output_type": "execute_result"
    },
    {
     "data": {
      "text/plain": [
       "<matplotlib.text.Text object at 0x0A91D4D0>"
      ]
     },
     "execution_count": 10,
     "metadata": {},
     "output_type": "execute_result"
    },
    {
     "data": {
      "text/plain": [
       "<matplotlib.text.Text object at 0x0A9028B0>"
      ]
     },
     "execution_count": 10,
     "metadata": {},
     "output_type": "execute_result"
    },
    {
     "data": {
      "text/plain": [
       "<matplotlib.text.Text object at 0x0A8FE4D0>"
      ]
     },
     "execution_count": 10,
     "metadata": {},
     "output_type": "execute_result"
    },
    {
     "data": {
      "image/png": "[encoded data removed]",
      "text/plain": [
       "<matplotlib.figure.Figure object at 0x0A8FA710>"
      ]
     },
     "metadata": {},
     "output_type": "display_data"
    },
    {
     "data": {
      "text/plain": [
       "<matplotlib.axes._subplots.AxesSubplot object at 0x0A8EE310>"
      ]
     },
     "execution_count": 10,
     "metadata": {},
     "output_type": "execute_result"
    },
    {
     "data": {
      "text/plain": [
       "<matplotlib.text.Text object at 0x0A95B670>"
      ]
     },
     "execution_count": 10,
     "metadata": {},
     "output_type": "execute_result"
    },
    {
     "data": {
      "text/plain": [
       "<matplotlib.text.Text object at 0x0A8FAD70>"
      ]
     },
     "execution_count": 10,
     "metadata": {},
     "output_type": "execute_result"
    },
    {
     "data": {
      "text/plain": [
       "<matplotlib.text.Text object at 0x0A936710>"
      ]
     },
     "execution_count": 10,
     "metadata": {},
     "output_type": "execute_result"
    },
    {
     "data": {
      "image/png": "[encoded data removed]",
      "text/plain": [
       "<matplotlib.figure.Figure object at 0x0A93A750>"
      ]
     },
     "metadata": {},
     "output_type": "display_data"
    }
   ],
   "source": [
    "P_df[\"Gender\"].value_counts().reindex([\"M\",\"F\"]).plot.bar()\n",
    "plt.title(\"Male vs. Female Presenters\")\n",
    "plt.xlabel(\"Gender\")\n",
    "plt.ylabel(\"Number of Speakers\")\n",
    "plt.show()\n",
    "\n",
    "C_df[\"Gender\"].value_counts().reindex([\"M\",\"F\"]).plot.bar()\n",
    "plt.title(\"Male vs. Female Callers\")\n",
    "plt.xlabel(\"Gender\")\n",
    "plt.ylabel(\"Number of Speakers\")\n",
    "plt.show()\n",
    "\n",
    "E_df[\"Gender\"].value_counts().reindex([\"M\",\"F\"]).plot.bar()\n",
    "plt.title(\"Male vs. Female Callers\")\n",
    "plt.xlabel(\"Gender\")\n",
    "plt.ylabel(\"Number of Speakers\")\n",
    "plt.show()"
   ]
  },
  {
   "cell_type": "markdown",
   "metadata": {},
   "source": [
    "## Comparison by Speaker Type:\n",
    "- Number of Turns\n",
    "- Number of Sentences\n",
    "- Number of Words\n",
    "- Average Word Length\n",
    "- Average Sentence Length\n",
    "- Average Number of Turns"
   ]
  },
  {
   "cell_type": "code",
   "execution_count": 11,
   "metadata": {},
   "outputs": [],
   "source": [
    "# data frames for Presenter, Caller, and Expert Lines\n",
    "P_art_df=art_df.loc[art_df[\"Speaker_Type\"]=='P',:]\n",
    "C_art_df=art_df.loc[art_df[\"Speaker_Type\"]=='C',:]\n",
    "E_art_df=art_df.loc[art_df[\"Speaker_Type\"]=='E',:]"
   ]
  },
  {
   "cell_type": "code",
   "execution_count": 12,
   "metadata": {},
   "outputs": [
    {
     "name": "stdout",
     "output_type": "stream",
     "text": [
      "Turns:\n"
     ]
    },
    {
     "data": {
      "text/plain": [
       "P    1470\n",
       "C    1505\n",
       "E    1464\n",
       "Name: Speaker_Type, dtype: int64"
      ]
     },
     "execution_count": 12,
     "metadata": {},
     "output_type": "execute_result"
    },
    {
     "name": "stdout",
     "output_type": "stream",
     "text": [
      "Number of Sentences:\n"
     ]
    },
    {
     "data": {
      "text/plain": [
       "2267"
      ]
     },
     "execution_count": 12,
     "metadata": {},
     "output_type": "execute_result"
    },
    {
     "data": {
      "text/plain": [
       "1987"
      ]
     },
     "execution_count": 12,
     "metadata": {},
     "output_type": "execute_result"
    },
    {
     "data": {
      "text/plain": [
       "2398"
      ]
     },
     "execution_count": 12,
     "metadata": {},
     "output_type": "execute_result"
    },
    {
     "name": "stdout",
     "output_type": "stream",
     "text": [
      "Number of Words:\n"
     ]
    },
    {
     "data": {
      "text/plain": [
       "34840"
      ]
     },
     "execution_count": 12,
     "metadata": {},
     "output_type": "execute_result"
    },
    {
     "data": {
      "text/plain": [
       "25510"
      ]
     },
     "execution_count": 12,
     "metadata": {},
     "output_type": "execute_result"
    },
    {
     "data": {
      "text/plain": [
       "44678"
      ]
     },
     "execution_count": 12,
     "metadata": {},
     "output_type": "execute_result"
    },
    {
     "name": "stdout",
     "output_type": "stream",
     "text": [
      "Average Word Length:\n"
     ]
    },
    {
     "data": {
      "text/plain": [
       "3.4334774099213576"
      ]
     },
     "execution_count": 12,
     "metadata": {},
     "output_type": "execute_result"
    },
    {
     "data": {
      "text/plain": [
       "3.1314589517759193"
      ]
     },
     "execution_count": 12,
     "metadata": {},
     "output_type": "execute_result"
    },
    {
     "data": {
      "text/plain": [
       "3.3786742523675644"
      ]
     },
     "execution_count": 12,
     "metadata": {},
     "output_type": "execute_result"
    },
    {
     "name": "stdout",
     "output_type": "stream",
     "text": [
      "Average Sentence Length:\n"
     ]
    },
    {
     "data": {
      "text/plain": [
       "15.368328187031318"
      ]
     },
     "execution_count": 12,
     "metadata": {},
     "output_type": "execute_result"
    },
    {
     "data": {
      "text/plain": [
       "12.838449924509311"
      ]
     },
     "execution_count": 12,
     "metadata": {},
     "output_type": "execute_result"
    },
    {
     "data": {
      "text/plain": [
       "18.631359466221852"
      ]
     },
     "execution_count": 12,
     "metadata": {},
     "output_type": "execute_result"
    },
    {
     "name": "stdout",
     "output_type": "stream",
     "text": [
      "Average Number of Turns:\n"
     ]
    },
    {
     "data": {
      "text/plain": [
       "122.5"
      ]
     },
     "execution_count": 12,
     "metadata": {},
     "output_type": "execute_result"
    },
    {
     "data": {
      "text/plain": [
       "11.23134328358209"
      ]
     },
     "execution_count": 12,
     "metadata": {},
     "output_type": "execute_result"
    },
    {
     "data": {
      "text/plain": [
       "91.5"
      ]
     },
     "execution_count": 12,
     "metadata": {},
     "output_type": "execute_result"
    }
   ],
   "source": [
    "# Presenter vs. Caller vs. Experts\n",
    "\n",
    "# utterances\n",
    "print(\"Turns:\")\n",
    "art_df[\"Speaker_Type\"].value_counts().reindex([\"P\",\"C\",\"E\"])\n",
    "\n",
    "# sentences\n",
    "print(\"Number of Sentences:\")\n",
    "P_art_df[\"Num_Sents\"].sum()\n",
    "C_art_df[\"Num_Sents\"].sum() \n",
    "E_art_df[\"Num_Sents\"].sum()\n",
    "\n",
    "# words\n",
    "print(\"Number of Words:\")\n",
    "P_art_df[\"Num_Words\"].sum()\n",
    "C_art_df[\"Num_Words\"].sum() \n",
    "E_art_df[\"Num_Words\"].sum()\n",
    "\n",
    "# avg word length\n",
    "print(\"Average Word Length:\")\n",
    "P_art_df[\"Avg_Word_Length\"].mean()\n",
    "C_art_df[\"Avg_Word_Length\"].mean()\n",
    "E_art_df[\"Avg_Word_Length\"].mean()\n",
    "\n",
    "# avg sent length\n",
    "print(\"Average Sentence Length:\")\n",
    "P_art_df[\"Num_Words\"].sum()/P_art_df[\"Num_Sents\"].sum()\n",
    "C_art_df[\"Num_Words\"].sum()/C_art_df[\"Num_Sents\"].sum() \n",
    "E_art_df[\"Num_Words\"].sum()/E_art_df[\"Num_Sents\"].sum() \n",
    "\n",
    "print(\"Average Number of Turns:\")\n",
    "P_df[\"Number_of_Utterances\"].mean()\n",
    "C_df[\"Number_of_Utterances\"].mean()\n",
    "E_df[\"Number_of_Utterances\"].mean()"
   ]
  },
  {
   "cell_type": "markdown",
   "metadata": {},
   "source": [
    "Summary of Key Information:\n",
    "- Same Total Number of Turns per Speaker Type\n",
    "- Average Number of Turns\n",
    "    - Presenters > Experts > Callers\n",
    "- More Callers with fewer turns\n",
    "- Fewer Presenters with more turns\n",
    "- Experts have the longest sentences"
   ]
  },
  {
   "cell_type": "markdown",
   "metadata": {},
   "source": [
    "## Comparison by Gender:\n",
    "- Number of Turns\n",
    "- Number of Sentences\n",
    "- Number of Words\n",
    "- Average Word Length\n",
    "- Average Sentence Length\n",
    "- Average Number of Turns"
   ]
  },
  {
   "cell_type": "code",
   "execution_count": 13,
   "metadata": {},
   "outputs": [
    {
     "name": "stdout",
     "output_type": "stream",
     "text": [
      "Utterances:\n"
     ]
    },
    {
     "data": {
      "text/plain": [
       "M    2218\n",
       "F    2221\n",
       "Name: Gender, dtype: int64"
      ]
     },
     "execution_count": 13,
     "metadata": {},
     "output_type": "execute_result"
    },
    {
     "name": "stdout",
     "output_type": "stream",
     "text": [
      "Number of Sentences:\n"
     ]
    },
    {
     "data": {
      "text/plain": [
       "3339"
      ]
     },
     "execution_count": 13,
     "metadata": {},
     "output_type": "execute_result"
    },
    {
     "data": {
      "text/plain": [
       "3313"
      ]
     },
     "execution_count": 13,
     "metadata": {},
     "output_type": "execute_result"
    },
    {
     "name": "stdout",
     "output_type": "stream",
     "text": [
      "Number of Words:\n"
     ]
    },
    {
     "data": {
      "text/plain": [
       "52329"
      ]
     },
     "execution_count": 13,
     "metadata": {},
     "output_type": "execute_result"
    },
    {
     "data": {
      "text/plain": [
       "52699"
      ]
     },
     "execution_count": 13,
     "metadata": {},
     "output_type": "execute_result"
    },
    {
     "name": "stdout",
     "output_type": "stream",
     "text": [
      "Average Word Length:\n"
     ]
    },
    {
     "data": {
      "text/plain": [
       "3.3785191962851093"
      ]
     },
     "execution_count": 13,
     "metadata": {},
     "output_type": "execute_result"
    },
    {
     "data": {
      "text/plain": [
       "3.2475826398527219"
      ]
     },
     "execution_count": 13,
     "metadata": {},
     "output_type": "execute_result"
    },
    {
     "name": "stdout",
     "output_type": "stream",
     "text": [
      "Average Sentence Length:\n"
     ]
    },
    {
     "data": {
      "text/plain": [
       "15.672057502246181"
      ]
     },
     "execution_count": 13,
     "metadata": {},
     "output_type": "execute_result"
    },
    {
     "data": {
      "text/plain": [
       "15.906731059462723"
      ]
     },
     "execution_count": 13,
     "metadata": {},
     "output_type": "execute_result"
    },
    {
     "name": "stdout",
     "output_type": "stream",
     "text": [
      "Average Number of Turns:\n"
     ]
    },
    {
     "data": {
      "text/plain": [
       "35.774193548387096"
      ]
     },
     "execution_count": 13,
     "metadata": {},
     "output_type": "execute_result"
    },
    {
     "data": {
      "text/plain": [
       "22.210000000000001"
      ]
     },
     "execution_count": 13,
     "metadata": {},
     "output_type": "execute_result"
    }
   ],
   "source": [
    "# Males vs. Females \n",
    "\n",
    "# utterances\n",
    "print(\"Utterances:\")\n",
    "art_df[\"Gender\"].value_counts().reindex([\"M\",\"F\"])\n",
    "\n",
    "# data frames for male and female lines\n",
    "M_art_df=art_df.loc[art_df[\"Gender\"]=='M',:]\n",
    "F_art_df=art_df.loc[art_df[\"Gender\"]=='F',:]\n",
    "\n",
    "# sentences\n",
    "print(\"Number of Sentences:\")\n",
    "M_art_df[\"Num_Sents\"].sum()\n",
    "F_art_df[\"Num_Sents\"].sum() \n",
    "\n",
    "# words\n",
    "print(\"Number of Words:\")\n",
    "M_art_df[\"Num_Words\"].sum()\n",
    "F_art_df[\"Num_Words\"].sum() \n",
    "\n",
    "# avg word length\n",
    "print(\"Average Word Length:\")\n",
    "M_art_df[\"Avg_Word_Length\"].mean()\n",
    "F_art_df[\"Avg_Word_Length\"].mean()\n",
    "\n",
    "# avg sent length\n",
    "print(\"Average Sentence Length:\")\n",
    "M_art_df[\"Num_Words\"].sum()/M_art_df[\"Num_Sents\"].sum()\n",
    "F_art_df[\"Num_Words\"].sum()/F_art_df[\"Num_Sents\"].sum()\n",
    "\n",
    "# building male and female data frames from speaker_df\n",
    "M_df=speaker_df.loc[speaker_df[\"Gender\"]=='M',:]\n",
    "F_df=speaker_df.loc[speaker_df[\"Gender\"]=='F',:]\n",
    "\n",
    "print(\"Average Number of Turns:\")\n",
    "M_df[\"Number_of_Utterances\"].mean()\n",
    "F_df[\"Number_of_Utterances\"].mean()"
   ]
  },
  {
   "cell_type": "markdown",
   "metadata": {},
   "source": [
    "Summary of Key Information:\n",
    "- Overall about the same\n",
    "- Men on average have more turns"
   ]
  },
  {
   "cell_type": "markdown",
   "metadata": {},
   "source": [
    "## Back Channels"
   ]
  },
  {
   "cell_type": "markdown",
   "metadata": {},
   "source": [
    "### What are the Back Channels? Which ones are most common?"
   ]
  },
  {
   "cell_type": "code",
   "execution_count": 14,
   "metadata": {},
   "outputs": [
    {
     "data": {
      "text/plain": [
       "mm              266\n",
       "yeah            250\n",
       "yes             218\n",
       "laughs          178\n",
       "inaudible       175\n",
       "mhm             129\n",
       "right           125\n",
       "laugh            78\n",
       "yep              76\n",
       "okay             52\n",
       "oh               27\n",
       "oh okay          21\n",
       "no               18\n",
       "uh               18\n",
       "that's right     12\n",
       "um               11\n",
       "thank you        11\n",
       "uhuh             10\n",
       "alright           9\n",
       "ah                9\n",
       "Name: Back_Channel, dtype: int64"
      ]
     },
     "execution_count": 14,
     "metadata": {},
     "output_type": "execute_result"
    }
   ],
   "source": [
    "bk_df[\"Back_Channel\"].value_counts()[:20]"
   ]
  },
  {
   "cell_type": "markdown",
   "metadata": {},
   "source": [
    "### What Speaker Type has the most Back Channels?"
   ]
  },
  {
   "cell_type": "code",
   "execution_count": 15,
   "metadata": {},
   "outputs": [
    {
     "data": {
      "text/plain": [
       "P    491\n",
       "C    969\n",
       "E    757\n",
       "Name: Speaker_Type, dtype: int64"
      ]
     },
     "execution_count": 15,
     "metadata": {},
     "output_type": "execute_result"
    }
   ],
   "source": [
    "# number of back channels per speaker type\n",
    "bk_df[\"Speaker_Type\"].value_counts().reindex([\"P\",\"C\",\"E\"])"
   ]
  },
  {
   "cell_type": "code",
   "execution_count": 16,
   "metadata": {},
   "outputs": [
    {
     "data": {
      "text/plain": [
       "<matplotlib.axes._subplots.AxesSubplot object at 0x0A9401F0>"
      ]
     },
     "execution_count": 16,
     "metadata": {},
     "output_type": "execute_result"
    },
    {
     "data": {
      "text/plain": [
       "<matplotlib.text.Text object at 0x0A9A9170>"
      ]
     },
     "execution_count": 16,
     "metadata": {},
     "output_type": "execute_result"
    },
    {
     "data": {
      "text/plain": [
       "<matplotlib.text.Text object at 0x0AA029B0>"
      ]
     },
     "execution_count": 16,
     "metadata": {},
     "output_type": "execute_result"
    },
    {
     "data": {
      "text/plain": [
       "<matplotlib.text.Text object at 0x0A986C70>"
      ]
     },
     "execution_count": 16,
     "metadata": {},
     "output_type": "execute_result"
    },
    {
     "data": {
      "image/png": "[encoded data removed]",
      "text/plain": [
       "<matplotlib.figure.Figure object at 0x0A977190>"
      ]
     },
     "metadata": {},
     "output_type": "display_data"
    }
   ],
   "source": [
    "bk_df[\"Speaker_Type\"].value_counts().reindex([\"P\",\"C\",\"E\"]).plot.bar()\n",
    "plt.title(\"Back Channels by Speaker Type\")\n",
    "plt.xlabel(\"Speaker Type\")\n",
    "plt.ylabel(\"Number of Back Channels\")\n",
    "plt.show()"
   ]
  },
  {
   "cell_type": "markdown",
   "metadata": {},
   "source": [
    "Callers utter the most Back Channels.\n",
    "\n",
    "- **Ideas:** \n",
    "    - Many callers with few lines\n",
    "    - Least professional group"
   ]
  },
  {
   "cell_type": "markdown",
   "metadata": {},
   "source": [
    "### What Speaker Type has the most number of Back Channels uttered during their lines?"
   ]
  },
  {
   "cell_type": "code",
   "execution_count": 17,
   "metadata": {},
   "outputs": [
    {
     "data": {
      "text/plain": [
       "P    750\n",
       "C    569\n",
       "E    900\n",
       "Name: Line_Speaker_Type, dtype: int64"
      ]
     },
     "execution_count": 17,
     "metadata": {},
     "output_type": "execute_result"
    }
   ],
   "source": [
    "bk_df[\"Line_Speaker_Type\"].value_counts().reindex([\"P\",\"C\",\"E\"])"
   ]
  },
  {
   "cell_type": "code",
   "execution_count": 18,
   "metadata": {},
   "outputs": [
    {
     "data": {
      "text/plain": [
       "<matplotlib.axes._subplots.AxesSubplot object at 0x0A9770F0>"
      ]
     },
     "execution_count": 18,
     "metadata": {},
     "output_type": "execute_result"
    },
    {
     "data": {
      "text/plain": [
       "<matplotlib.text.Text object at 0x0A9E7150>"
      ]
     },
     "execution_count": 18,
     "metadata": {},
     "output_type": "execute_result"
    },
    {
     "data": {
      "text/plain": [
       "<matplotlib.text.Text object at 0x0A954130>"
      ]
     },
     "execution_count": 18,
     "metadata": {},
     "output_type": "execute_result"
    },
    {
     "data": {
      "text/plain": [
       "<matplotlib.text.Text object at 0x0A9D2DF0>"
      ]
     },
     "execution_count": 18,
     "metadata": {},
     "output_type": "execute_result"
    },
    {
     "data": {
      "image/png": "[encoded data removed]",
      "text/plain": [
       "<matplotlib.figure.Figure object at 0x0A832D50>"
      ]
     },
     "metadata": {},
     "output_type": "display_data"
    }
   ],
   "source": [
    "bk_df[\"Line_Speaker_Type\"].value_counts().reindex([\"P\",\"C\",\"E\"]).plot.bar()\n",
    "plt.title(\"Back Channels by Line Speaker Type\")\n",
    "plt.xlabel(\"Line Speaker Type\")\n",
    "plt.ylabel(\"Number of Back Channels\")\n",
    "plt.show()"
   ]
  },
  {
   "cell_type": "markdown",
   "metadata": {},
   "source": [
    "Experts Lines have the most number of Back Channels, and Experts have the longest sentences.\n",
    "\n",
    "**Conclusion:** Longer Sentences lead to more back channels."
   ]
  },
  {
   "cell_type": "markdown",
   "metadata": {},
   "source": [
    "### What Gender utters the most Back Channels? What Gender has the most Back Channels uttered while they are speaking?"
   ]
  },
  {
   "cell_type": "code",
   "execution_count": 19,
   "metadata": {},
   "outputs": [
    {
     "data": {
      "text/plain": [
       "M    1073\n",
       "F    1146\n",
       "Name: Speaker_Gender, dtype: int64"
      ]
     },
     "execution_count": 19,
     "metadata": {},
     "output_type": "execute_result"
    },
    {
     "data": {
      "text/plain": [
       "M    1091\n",
       "F    1128\n",
       "Name: Line_Speaker_Gender, dtype: int64"
      ]
     },
     "execution_count": 19,
     "metadata": {},
     "output_type": "execute_result"
    }
   ],
   "source": [
    "# number of back channels per gender\n",
    "bk_df[\"Speaker_Gender\"].value_counts().reindex([\"M\",\"F\"])\n",
    "\n",
    "# number of lines with back channels per gender\n",
    "bk_df[\"Line_Speaker_Gender\"].value_counts().reindex([\"M\",\"F\"])"
   ]
  },
  {
   "cell_type": "markdown",
   "metadata": {},
   "source": [
    "**Conclusion:** Men and Women produce back channels about the same number of times overall in a conversation, with Females leading slightly for both questions."
   ]
  },
  {
   "cell_type": "markdown",
   "metadata": {},
   "source": [
    "### Are Men more likely to utter Back Channels when a Women or Man is speaking? How about the other way around?"
   ]
  },
  {
   "cell_type": "code",
   "execution_count": 22,
   "metadata": {},
   "outputs": [
    {
     "data": {
      "text/html": [
       "<div>\n",
       "<style scoped>\n",
       "    .dataframe tbody tr th:only-of-type {\n",
       "        vertical-align: middle;\n",
       "    }\n",
       "\n",
       "    .dataframe tbody tr th {\n",
       "        vertical-align: top;\n",
       "    }\n",
       "\n",
       "    .dataframe thead th {\n",
       "        text-align: right;\n",
       "    }\n",
       "</style>\n",
       "<table border=\"1\" class=\"dataframe\">\n",
       "  <thead>\n",
       "    <tr style=\"text-align: right;\">\n",
       "      <th></th>\n",
       "      <th>Speaker</th>\n",
       "      <th>Speaker_Type</th>\n",
       "      <th>Speaker_Gender</th>\n",
       "      <th>Back_Channel</th>\n",
       "      <th>Line_Speaker</th>\n",
       "      <th>Segment_Utterance_Number</th>\n",
       "      <th>Segment</th>\n",
       "      <th>Line_Speaker_Type</th>\n",
       "      <th>Line_Speaker_Gender</th>\n",
       "    </tr>\n",
       "    <tr>\n",
       "      <th></th>\n",
       "      <th></th>\n",
       "      <th></th>\n",
       "      <th></th>\n",
       "      <th></th>\n",
       "      <th></th>\n",
       "      <th></th>\n",
       "      <th></th>\n",
       "      <th></th>\n",
       "      <th></th>\n",
       "    </tr>\n",
       "  </thead>\n",
       "  <tbody>\n",
       "    <tr>\n",
       "      <th>0</th>\n",
       "      <td>ABCE1-E1</td>\n",
       "      <td>E</td>\n",
       "      <td>M</td>\n",
       "      <td>sounds reasonable</td>\n",
       "      <td>ABCE1-P1</td>\n",
       "      <td>3</td>\n",
       "      <td>ABCE1</td>\n",
       "      <td>P</td>\n",
       "      <td>M</td>\n",
       "    </tr>\n",
       "    <tr>\n",
       "      <th>2</th>\n",
       "      <td>ABCE1-P1</td>\n",
       "      <td>P</td>\n",
       "      <td>M</td>\n",
       "      <td>yes</td>\n",
       "      <td>ABCE1-C1</td>\n",
       "      <td>11</td>\n",
       "      <td>ABCE1</td>\n",
       "      <td>C</td>\n",
       "      <td>F</td>\n",
       "    </tr>\n",
       "    <tr>\n",
       "      <th>3</th>\n",
       "      <td>ABCE1-E1</td>\n",
       "      <td>E</td>\n",
       "      <td>M</td>\n",
       "      <td>mm</td>\n",
       "      <td>ABCE1-C1</td>\n",
       "      <td>11</td>\n",
       "      <td>ABCE1</td>\n",
       "      <td>C</td>\n",
       "      <td>F</td>\n",
       "    </tr>\n",
       "    <tr>\n",
       "      <th>4</th>\n",
       "      <td>ABCE1-E1</td>\n",
       "      <td>E</td>\n",
       "      <td>M</td>\n",
       "      <td>mm</td>\n",
       "      <td>ABCE1-C1</td>\n",
       "      <td>11</td>\n",
       "      <td>ABCE1</td>\n",
       "      <td>C</td>\n",
       "      <td>F</td>\n",
       "    </tr>\n",
       "    <tr>\n",
       "      <th>5</th>\n",
       "      <td>ABCE1-E1</td>\n",
       "      <td>E</td>\n",
       "      <td>M</td>\n",
       "      <td>mm</td>\n",
       "      <td>ABCE1-C1</td>\n",
       "      <td>11</td>\n",
       "      <td>ABCE1</td>\n",
       "      <td>C</td>\n",
       "      <td>F</td>\n",
       "    </tr>\n",
       "  </tbody>\n",
       "</table>\n",
       "</div>"
      ],
      "text/plain": [
       "    Speaker Speaker_Type Speaker_Gender       Back_Channel Line_Speaker  \\\n",
       "                                                                          \n",
       "0  ABCE1-E1            E              M  sounds reasonable     ABCE1-P1   \n",
       "2  ABCE1-P1            P              M                yes     ABCE1-C1   \n",
       "3  ABCE1-E1            E              M                 mm     ABCE1-C1   \n",
       "4  ABCE1-E1            E              M                 mm     ABCE1-C1   \n",
       "5  ABCE1-E1            E              M                 mm     ABCE1-C1   \n",
       "\n",
       "   Segment_Utterance_Number Segment Line_Speaker_Type Line_Speaker_Gender  \n",
       "                                                                           \n",
       "0                         3   ABCE1                 P                   M  \n",
       "2                        11   ABCE1                 C                   F  \n",
       "3                        11   ABCE1                 C                   F  \n",
       "4                        11   ABCE1                 C                   F  \n",
       "5                        11   ABCE1                 C                   F  "
      ]
     },
     "execution_count": 22,
     "metadata": {},
     "output_type": "execute_result"
    },
    {
     "data": {
      "text/html": [
       "<div>\n",
       "<style scoped>\n",
       "    .dataframe tbody tr th:only-of-type {\n",
       "        vertical-align: middle;\n",
       "    }\n",
       "\n",
       "    .dataframe tbody tr th {\n",
       "        vertical-align: top;\n",
       "    }\n",
       "\n",
       "    .dataframe thead th {\n",
       "        text-align: right;\n",
       "    }\n",
       "</style>\n",
       "<table border=\"1\" class=\"dataframe\">\n",
       "  <thead>\n",
       "    <tr style=\"text-align: right;\">\n",
       "      <th></th>\n",
       "      <th>Speaker</th>\n",
       "      <th>Speaker_Type</th>\n",
       "      <th>Speaker_Gender</th>\n",
       "      <th>Back_Channel</th>\n",
       "      <th>Line_Speaker</th>\n",
       "      <th>Segment_Utterance_Number</th>\n",
       "      <th>Segment</th>\n",
       "      <th>Line_Speaker_Type</th>\n",
       "      <th>Line_Speaker_Gender</th>\n",
       "    </tr>\n",
       "    <tr>\n",
       "      <th></th>\n",
       "      <th></th>\n",
       "      <th></th>\n",
       "      <th></th>\n",
       "      <th></th>\n",
       "      <th></th>\n",
       "      <th></th>\n",
       "      <th></th>\n",
       "      <th></th>\n",
       "      <th></th>\n",
       "    </tr>\n",
       "  </thead>\n",
       "  <tbody>\n",
       "    <tr>\n",
       "      <th>1</th>\n",
       "      <td>ABCE1-C1</td>\n",
       "      <td>C</td>\n",
       "      <td>F</td>\n",
       "      <td>laughs</td>\n",
       "      <td>ABCE1-P1</td>\n",
       "      <td>10</td>\n",
       "      <td>ABCE1</td>\n",
       "      <td>P</td>\n",
       "      <td>M</td>\n",
       "    </tr>\n",
       "    <tr>\n",
       "      <th>7</th>\n",
       "      <td>ABCE1-C1</td>\n",
       "      <td>C</td>\n",
       "      <td>F</td>\n",
       "      <td>mhm</td>\n",
       "      <td>ABCE1-P1</td>\n",
       "      <td>14</td>\n",
       "      <td>ABCE1</td>\n",
       "      <td>P</td>\n",
       "      <td>M</td>\n",
       "    </tr>\n",
       "    <tr>\n",
       "      <th>8</th>\n",
       "      <td>ABCE1-C1</td>\n",
       "      <td>C</td>\n",
       "      <td>F</td>\n",
       "      <td>uh</td>\n",
       "      <td>ABCE1-E1</td>\n",
       "      <td>23</td>\n",
       "      <td>ABCE1</td>\n",
       "      <td>E</td>\n",
       "      <td>M</td>\n",
       "    </tr>\n",
       "    <tr>\n",
       "      <th>11</th>\n",
       "      <td>ABCE1-C1</td>\n",
       "      <td>C</td>\n",
       "      <td>F</td>\n",
       "      <td>laugh</td>\n",
       "      <td>ABCE1-C1</td>\n",
       "      <td>24</td>\n",
       "      <td>ABCE1</td>\n",
       "      <td>C</td>\n",
       "      <td>F</td>\n",
       "    </tr>\n",
       "    <tr>\n",
       "      <th>14</th>\n",
       "      <td>ABCE1-C1</td>\n",
       "      <td>C</td>\n",
       "      <td>F</td>\n",
       "      <td>mm</td>\n",
       "      <td>ABCE1-E1</td>\n",
       "      <td>31</td>\n",
       "      <td>ABCE1</td>\n",
       "      <td>E</td>\n",
       "      <td>M</td>\n",
       "    </tr>\n",
       "  </tbody>\n",
       "</table>\n",
       "</div>"
      ],
      "text/plain": [
       "     Speaker Speaker_Type Speaker_Gender Back_Channel Line_Speaker  \\\n",
       "                                                                     \n",
       "1   ABCE1-C1            C              F       laughs     ABCE1-P1   \n",
       "7   ABCE1-C1            C              F          mhm     ABCE1-P1   \n",
       "8   ABCE1-C1            C              F           uh     ABCE1-E1   \n",
       "11  ABCE1-C1            C              F        laugh     ABCE1-C1   \n",
       "14  ABCE1-C1            C              F           mm     ABCE1-E1   \n",
       "\n",
       "    Segment_Utterance_Number Segment Line_Speaker_Type Line_Speaker_Gender  \n",
       "                                                                            \n",
       "1                         10   ABCE1                 P                   M  \n",
       "7                         14   ABCE1                 P                   M  \n",
       "8                         23   ABCE1                 E                   M  \n",
       "11                        24   ABCE1                 C                   F  \n",
       "14                        31   ABCE1                 E                   M  "
      ]
     },
     "execution_count": 22,
     "metadata": {},
     "output_type": "execute_result"
    }
   ],
   "source": [
    "# Male Back Channels\n",
    "M_bk_df=bk_df.loc[bk_df[\"Speaker_Gender\"]=='M',:]\n",
    "                  \n",
    "# Female Back Channels\n",
    "F_bk_df=bk_df.loc[bk_df[\"Speaker_Gender\"]=='F',:]\n",
    "\n",
    "# peaking at the data frames\n",
    "M_bk_df.head()\n",
    "F_bk_df.head()"
   ]
  },
  {
   "cell_type": "code",
   "execution_count": 23,
   "metadata": {},
   "outputs": [
    {
     "name": "stdout",
     "output_type": "stream",
     "text": [
      "The Gender of the Line's Speaker during All Instances of Male Back Channels:\n"
     ]
    },
    {
     "data": {
      "text/plain": [
       "M    679\n",
       "F    394\n",
       "Name: Line_Speaker_Gender, dtype: int64"
      ]
     },
     "execution_count": 23,
     "metadata": {},
     "output_type": "execute_result"
    },
    {
     "name": "stdout",
     "output_type": "stream",
     "text": [
      "The Gender of the Line's Speaker during All Instances of Female Back Channels:\n"
     ]
    },
    {
     "data": {
      "text/plain": [
       "M    412\n",
       "F    734\n",
       "Name: Line_Speaker_Gender, dtype: int64"
      ]
     },
     "execution_count": 23,
     "metadata": {},
     "output_type": "execute_result"
    }
   ],
   "source": [
    "print(\"The Gender of the Line's Speaker during All Instances of Male Back Channels:\")\n",
    "M_bk_df[\"Line_Speaker_Gender\"].value_counts().reindex([\"M\",\"F\"])\n",
    "print(\"The Gender of the Line's Speaker during All Instances of Female Back Channels:\")\n",
    "F_bk_df[\"Line_Speaker_Gender\"].value_counts().reindex([\"M\",\"F\"])"
   ]
  },
  {
   "cell_type": "markdown",
   "metadata": {},
   "source": [
    "**Conclusion:** *Men* produce more Back Channels when *Other Men* are talking, and *Women* produce more back channels when *Other Women* are talking. \n",
    "\n",
    "#### Next Question: How does Speaker Type Affect Men and Women's Back Channels?"
   ]
  },
  {
   "cell_type": "markdown",
   "metadata": {},
   "source": [
    "## Presenter Gender Analysis\n",
    "\n",
    "### Presenter Distribution:\n",
    "- 12 Unique Speaker Ids\n",
    "    - 8 Male Ids\n",
    "    - 4 Female Ids\n",
    "- 8 Unique Speakers\n",
    "    - 4 Males\n",
    "    - 4 Females"
   ]
  },
  {
   "cell_type": "code",
   "execution_count": 24,
   "metadata": {},
   "outputs": [
    {
     "data": {
      "text/html": [
       "<div>\n",
       "<style scoped>\n",
       "    .dataframe tbody tr th:only-of-type {\n",
       "        vertical-align: middle;\n",
       "    }\n",
       "\n",
       "    .dataframe tbody tr th {\n",
       "        vertical-align: top;\n",
       "    }\n",
       "\n",
       "    .dataframe thead th {\n",
       "        text-align: right;\n",
       "    }\n",
       "</style>\n",
       "<table border=\"1\" class=\"dataframe\">\n",
       "  <thead>\n",
       "    <tr style=\"text-align: right;\">\n",
       "      <th></th>\n",
       "      <th>Segment</th>\n",
       "      <th>Speaker_Type</th>\n",
       "      <th>Gender</th>\n",
       "      <th>Name</th>\n",
       "      <th>Number_of_Utterances</th>\n",
       "    </tr>\n",
       "    <tr>\n",
       "      <th>Speaker</th>\n",
       "      <th></th>\n",
       "      <th></th>\n",
       "      <th></th>\n",
       "      <th></th>\n",
       "      <th></th>\n",
       "    </tr>\n",
       "  </thead>\n",
       "  <tbody>\n",
       "    <tr>\n",
       "      <th>ABCE1-P1</th>\n",
       "      <td>ABCE1</td>\n",
       "      <td>P</td>\n",
       "      <td>M</td>\n",
       "      <td>Simon Marnie</td>\n",
       "      <td>155</td>\n",
       "    </tr>\n",
       "    <tr>\n",
       "      <th>ABCE2-P1</th>\n",
       "      <td>ABCE2</td>\n",
       "      <td>P</td>\n",
       "      <td>M</td>\n",
       "      <td>Simon Marnie</td>\n",
       "      <td>233</td>\n",
       "    </tr>\n",
       "    <tr>\n",
       "      <th>ABCE3-P1</th>\n",
       "      <td>ABCE3</td>\n",
       "      <td>P</td>\n",
       "      <td>F</td>\n",
       "      <td>Lynne Haultain</td>\n",
       "      <td>129</td>\n",
       "    </tr>\n",
       "    <tr>\n",
       "      <th>ABCE3-P2</th>\n",
       "      <td>ABCE3</td>\n",
       "      <td>P</td>\n",
       "      <td>F</td>\n",
       "      <td>Jurate Sasnaitis</td>\n",
       "      <td>56</td>\n",
       "    </tr>\n",
       "    <tr>\n",
       "      <th>ABCE4-P1</th>\n",
       "      <td>ABCE4</td>\n",
       "      <td>P</td>\n",
       "      <td>F</td>\n",
       "      <td>Kelly Higgins-Devine</td>\n",
       "      <td>23</td>\n",
       "    </tr>\n",
       "    <tr>\n",
       "      <th>ABCNE1-P1</th>\n",
       "      <td>ABCNE1</td>\n",
       "      <td>P</td>\n",
       "      <td>M</td>\n",
       "      <td>Trevor Jackson</td>\n",
       "      <td>64</td>\n",
       "    </tr>\n",
       "    <tr>\n",
       "      <th>ABCNE2-P1</th>\n",
       "      <td>ABCNE2</td>\n",
       "      <td>P</td>\n",
       "      <td>M</td>\n",
       "      <td>Trevor Jackson</td>\n",
       "      <td>58</td>\n",
       "    </tr>\n",
       "    <tr>\n",
       "      <th>COME1-P1</th>\n",
       "      <td>COME1</td>\n",
       "      <td>P</td>\n",
       "      <td>M</td>\n",
       "      <td>Luke Bona</td>\n",
       "      <td>67</td>\n",
       "    </tr>\n",
       "    <tr>\n",
       "      <th>COME2-P1</th>\n",
       "      <td>COME2</td>\n",
       "      <td>P</td>\n",
       "      <td>M</td>\n",
       "      <td>Luke Bona</td>\n",
       "      <td>68</td>\n",
       "    </tr>\n",
       "    <tr>\n",
       "      <th>COME3-P1</th>\n",
       "      <td>COME3</td>\n",
       "      <td>P</td>\n",
       "      <td>M</td>\n",
       "      <td>Luke Bona</td>\n",
       "      <td>61</td>\n",
       "    </tr>\n",
       "    <tr>\n",
       "      <th>COME5-P1</th>\n",
       "      <td>COME5</td>\n",
       "      <td>P</td>\n",
       "      <td>M</td>\n",
       "      <td>Spencer</td>\n",
       "      <td>65</td>\n",
       "    </tr>\n",
       "    <tr>\n",
       "      <th>COME5-P2</th>\n",
       "      <td>COME5</td>\n",
       "      <td>P</td>\n",
       "      <td>F</td>\n",
       "      <td>Sharina</td>\n",
       "      <td>491</td>\n",
       "    </tr>\n",
       "  </tbody>\n",
       "</table>\n",
       "</div>"
      ],
      "text/plain": [
       "          Segment Speaker_Type Gender                  Name  \\\n",
       "Speaker                                                       \n",
       "ABCE1-P1    ABCE1            P      M          Simon Marnie   \n",
       "ABCE2-P1    ABCE2            P      M          Simon Marnie   \n",
       "ABCE3-P1    ABCE3            P      F        Lynne Haultain   \n",
       "ABCE3-P2    ABCE3            P      F      Jurate Sasnaitis   \n",
       "ABCE4-P1    ABCE4            P      F  Kelly Higgins-Devine   \n",
       "ABCNE1-P1  ABCNE1            P      M        Trevor Jackson   \n",
       "ABCNE2-P1  ABCNE2            P      M        Trevor Jackson   \n",
       "COME1-P1    COME1            P      M             Luke Bona   \n",
       "COME2-P1    COME2            P      M             Luke Bona   \n",
       "COME3-P1    COME3            P      M             Luke Bona   \n",
       "COME5-P1    COME5            P      M               Spencer   \n",
       "COME5-P2    COME5            P      F               Sharina   \n",
       "\n",
       "           Number_of_Utterances  \n",
       "Speaker                          \n",
       "ABCE1-P1                    155  \n",
       "ABCE2-P1                    233  \n",
       "ABCE3-P1                    129  \n",
       "ABCE3-P2                     56  \n",
       "ABCE4-P1                     23  \n",
       "ABCNE1-P1                    64  \n",
       "ABCNE2-P1                    58  \n",
       "COME1-P1                     67  \n",
       "COME2-P1                     68  \n",
       "COME3-P1                     61  \n",
       "COME5-P1                     65  \n",
       "COME5-P2                    491  "
      ]
     },
     "execution_count": 24,
     "metadata": {},
     "output_type": "execute_result"
    }
   ],
   "source": [
    "# Presenter Data Frame:\n",
    "P_df"
   ]
  },
  {
   "cell_type": "markdown",
   "metadata": {},
   "source": [
    "### Making Data Frames:"
   ]
  },
  {
   "cell_type": "code",
   "execution_count": 25,
   "metadata": {},
   "outputs": [
    {
     "data": {
      "text/html": [
       "<div>\n",
       "<style scoped>\n",
       "    .dataframe tbody tr th:only-of-type {\n",
       "        vertical-align: middle;\n",
       "    }\n",
       "\n",
       "    .dataframe tbody tr th {\n",
       "        vertical-align: top;\n",
       "    }\n",
       "\n",
       "    .dataframe thead th {\n",
       "        text-align: right;\n",
       "    }\n",
       "</style>\n",
       "<table border=\"1\" class=\"dataframe\">\n",
       "  <thead>\n",
       "    <tr style=\"text-align: right;\">\n",
       "      <th></th>\n",
       "      <th>Segment</th>\n",
       "      <th>Speaker_Type</th>\n",
       "      <th>Gender</th>\n",
       "      <th>Name</th>\n",
       "      <th>Number_of_Utterances</th>\n",
       "    </tr>\n",
       "    <tr>\n",
       "      <th>Speaker</th>\n",
       "      <th></th>\n",
       "      <th></th>\n",
       "      <th></th>\n",
       "      <th></th>\n",
       "      <th></th>\n",
       "    </tr>\n",
       "  </thead>\n",
       "  <tbody>\n",
       "    <tr>\n",
       "      <th>ABCE1-P1</th>\n",
       "      <td>ABCE1</td>\n",
       "      <td>P</td>\n",
       "      <td>M</td>\n",
       "      <td>Simon Marnie</td>\n",
       "      <td>155</td>\n",
       "    </tr>\n",
       "    <tr>\n",
       "      <th>ABCE2-P1</th>\n",
       "      <td>ABCE2</td>\n",
       "      <td>P</td>\n",
       "      <td>M</td>\n",
       "      <td>Simon Marnie</td>\n",
       "      <td>233</td>\n",
       "    </tr>\n",
       "    <tr>\n",
       "      <th>ABCNE1-P1</th>\n",
       "      <td>ABCNE1</td>\n",
       "      <td>P</td>\n",
       "      <td>M</td>\n",
       "      <td>Trevor Jackson</td>\n",
       "      <td>64</td>\n",
       "    </tr>\n",
       "    <tr>\n",
       "      <th>ABCNE2-P1</th>\n",
       "      <td>ABCNE2</td>\n",
       "      <td>P</td>\n",
       "      <td>M</td>\n",
       "      <td>Trevor Jackson</td>\n",
       "      <td>58</td>\n",
       "    </tr>\n",
       "    <tr>\n",
       "      <th>COME1-P1</th>\n",
       "      <td>COME1</td>\n",
       "      <td>P</td>\n",
       "      <td>M</td>\n",
       "      <td>Luke Bona</td>\n",
       "      <td>67</td>\n",
       "    </tr>\n",
       "    <tr>\n",
       "      <th>COME2-P1</th>\n",
       "      <td>COME2</td>\n",
       "      <td>P</td>\n",
       "      <td>M</td>\n",
       "      <td>Luke Bona</td>\n",
       "      <td>68</td>\n",
       "    </tr>\n",
       "    <tr>\n",
       "      <th>COME3-P1</th>\n",
       "      <td>COME3</td>\n",
       "      <td>P</td>\n",
       "      <td>M</td>\n",
       "      <td>Luke Bona</td>\n",
       "      <td>61</td>\n",
       "    </tr>\n",
       "    <tr>\n",
       "      <th>COME5-P1</th>\n",
       "      <td>COME5</td>\n",
       "      <td>P</td>\n",
       "      <td>M</td>\n",
       "      <td>Spencer</td>\n",
       "      <td>65</td>\n",
       "    </tr>\n",
       "  </tbody>\n",
       "</table>\n",
       "</div>"
      ],
      "text/plain": [
       "          Segment Speaker_Type Gender            Name  Number_of_Utterances\n",
       "Speaker                                                                    \n",
       "ABCE1-P1    ABCE1            P      M    Simon Marnie                   155\n",
       "ABCE2-P1    ABCE2            P      M    Simon Marnie                   233\n",
       "ABCNE1-P1  ABCNE1            P      M  Trevor Jackson                    64\n",
       "ABCNE2-P1  ABCNE2            P      M  Trevor Jackson                    58\n",
       "COME1-P1    COME1            P      M       Luke Bona                    67\n",
       "COME2-P1    COME2            P      M       Luke Bona                    68\n",
       "COME3-P1    COME3            P      M       Luke Bona                    61\n",
       "COME5-P1    COME5            P      M         Spencer                    65"
      ]
     },
     "execution_count": 25,
     "metadata": {},
     "output_type": "execute_result"
    },
    {
     "data": {
      "text/html": [
       "<div>\n",
       "<style scoped>\n",
       "    .dataframe tbody tr th:only-of-type {\n",
       "        vertical-align: middle;\n",
       "    }\n",
       "\n",
       "    .dataframe tbody tr th {\n",
       "        vertical-align: top;\n",
       "    }\n",
       "\n",
       "    .dataframe thead th {\n",
       "        text-align: right;\n",
       "    }\n",
       "</style>\n",
       "<table border=\"1\" class=\"dataframe\">\n",
       "  <thead>\n",
       "    <tr style=\"text-align: right;\">\n",
       "      <th></th>\n",
       "      <th>Segment</th>\n",
       "      <th>Speaker_Type</th>\n",
       "      <th>Gender</th>\n",
       "      <th>Name</th>\n",
       "      <th>Number_of_Utterances</th>\n",
       "    </tr>\n",
       "    <tr>\n",
       "      <th>Speaker</th>\n",
       "      <th></th>\n",
       "      <th></th>\n",
       "      <th></th>\n",
       "      <th></th>\n",
       "      <th></th>\n",
       "    </tr>\n",
       "  </thead>\n",
       "  <tbody>\n",
       "    <tr>\n",
       "      <th>ABCE3-P1</th>\n",
       "      <td>ABCE3</td>\n",
       "      <td>P</td>\n",
       "      <td>F</td>\n",
       "      <td>Lynne Haultain</td>\n",
       "      <td>129</td>\n",
       "    </tr>\n",
       "    <tr>\n",
       "      <th>ABCE3-P2</th>\n",
       "      <td>ABCE3</td>\n",
       "      <td>P</td>\n",
       "      <td>F</td>\n",
       "      <td>Jurate Sasnaitis</td>\n",
       "      <td>56</td>\n",
       "    </tr>\n",
       "    <tr>\n",
       "      <th>ABCE4-P1</th>\n",
       "      <td>ABCE4</td>\n",
       "      <td>P</td>\n",
       "      <td>F</td>\n",
       "      <td>Kelly Higgins-Devine</td>\n",
       "      <td>23</td>\n",
       "    </tr>\n",
       "    <tr>\n",
       "      <th>COME5-P2</th>\n",
       "      <td>COME5</td>\n",
       "      <td>P</td>\n",
       "      <td>F</td>\n",
       "      <td>Sharina</td>\n",
       "      <td>491</td>\n",
       "    </tr>\n",
       "  </tbody>\n",
       "</table>\n",
       "</div>"
      ],
      "text/plain": [
       "         Segment Speaker_Type Gender                  Name  \\\n",
       "Speaker                                                      \n",
       "ABCE3-P1   ABCE3            P      F        Lynne Haultain   \n",
       "ABCE3-P2   ABCE3            P      F      Jurate Sasnaitis   \n",
       "ABCE4-P1   ABCE4            P      F  Kelly Higgins-Devine   \n",
       "COME5-P2   COME5            P      F               Sharina   \n",
       "\n",
       "          Number_of_Utterances  \n",
       "Speaker                         \n",
       "ABCE3-P1                   129  \n",
       "ABCE3-P2                    56  \n",
       "ABCE4-P1                    23  \n",
       "COME5-P2                   491  "
      ]
     },
     "execution_count": 25,
     "metadata": {},
     "output_type": "execute_result"
    }
   ],
   "source": [
    "# Male and Female Presenter Data Frames:\n",
    "M_P_df=P_df.loc[P_df[\"Gender\"]=='M',:]\n",
    "F_P_df=P_df.loc[P_df[\"Gender\"]=='F',:]\n",
    "\n",
    "M_P_df\n",
    "F_P_df"
   ]
  },
  {
   "cell_type": "code",
   "execution_count": 26,
   "metadata": {},
   "outputs": [
    {
     "data": {
      "text/html": [
       "<div>\n",
       "<style scoped>\n",
       "    .dataframe tbody tr th:only-of-type {\n",
       "        vertical-align: middle;\n",
       "    }\n",
       "\n",
       "    .dataframe tbody tr th {\n",
       "        vertical-align: top;\n",
       "    }\n",
       "\n",
       "    .dataframe thead th {\n",
       "        text-align: right;\n",
       "    }\n",
       "</style>\n",
       "<table border=\"1\" class=\"dataframe\">\n",
       "  <thead>\n",
       "    <tr style=\"text-align: right;\">\n",
       "      <th></th>\n",
       "      <th></th>\n",
       "      <th>Segment</th>\n",
       "      <th>Speaker_Type</th>\n",
       "      <th>Gender</th>\n",
       "      <th>Text</th>\n",
       "      <th>Word_Toks</th>\n",
       "      <th>Num_Words</th>\n",
       "      <th>Avg_Word_Length</th>\n",
       "      <th>Sents</th>\n",
       "      <th>Num_Sents</th>\n",
       "    </tr>\n",
       "    <tr>\n",
       "      <th>Speaker</th>\n",
       "      <th>Utterance_Number</th>\n",
       "      <th></th>\n",
       "      <th></th>\n",
       "      <th></th>\n",
       "      <th></th>\n",
       "      <th></th>\n",
       "      <th></th>\n",
       "      <th></th>\n",
       "      <th></th>\n",
       "      <th></th>\n",
       "    </tr>\n",
       "  </thead>\n",
       "  <tbody>\n",
       "    <tr>\n",
       "      <th rowspan=\"5\" valign=\"top\">ABCE1-P1</th>\n",
       "      <th>1</th>\n",
       "      <td>ABCE1</td>\n",
       "      <td>P</td>\n",
       "      <td>M</td>\n",
       "      <td>Thanks for that John Hall now John Hall will b...</td>\n",
       "      <td>['Thanks', 'for', 'that', 'John', 'Hall', 'now...</td>\n",
       "      <td>80</td>\n",
       "      <td>4.700000</td>\n",
       "      <td>[\"Thanks for that John Hall now John Hall will...</td>\n",
       "      <td>2</td>\n",
       "    </tr>\n",
       "    <tr>\n",
       "      <th>3</th>\n",
       "      <td>ABCE1</td>\n",
       "      <td>P</td>\n",
       "      <td>M</td>\n",
       "      <td>He's also known &lt;E1 sounds reasonable&gt; for his...</td>\n",
       "      <td>['He', \"'s\", 'also', 'known', 'for', 'his', 'a...</td>\n",
       "      <td>159</td>\n",
       "      <td>5.062893</td>\n",
       "      <td>[\"He's also known  for his ability to open cos...</td>\n",
       "      <td>3</td>\n",
       "    </tr>\n",
       "    <tr>\n",
       "      <th>5</th>\n",
       "      <td>ABCE1</td>\n",
       "      <td>P</td>\n",
       "      <td>M</td>\n",
       "      <td>Jeanne Villani does and we'll find out the sec...</td>\n",
       "      <td>['Jeanne', 'Villani', 'does', 'and', 'we', \"'l...</td>\n",
       "      <td>50</td>\n",
       "      <td>3.980000</td>\n",
       "      <td>[\"Jeanne Villani does and we'll find out the s...</td>\n",
       "      <td>1</td>\n",
       "    </tr>\n",
       "    <tr>\n",
       "      <th>6</th>\n",
       "      <td>ABCE1</td>\n",
       "      <td>P</td>\n",
       "      <td>M</td>\n",
       "      <td>Eight-triple-three-one-thousand one-eight-hund...</td>\n",
       "      <td>['Eight-triple-three-one-thousand', 'one-eight...</td>\n",
       "      <td>13</td>\n",
       "      <td>8.692308</td>\n",
       "      <td>[\"Eight-triple-three-one-thousand one-eight-hu...</td>\n",
       "      <td>1</td>\n",
       "    </tr>\n",
       "    <tr>\n",
       "      <th>8</th>\n",
       "      <td>ABCE1</td>\n",
       "      <td>P</td>\n",
       "      <td>M</td>\n",
       "      <td>How are you.</td>\n",
       "      <td>['How', 'are', 'you', '.']</td>\n",
       "      <td>4</td>\n",
       "      <td>2.500000</td>\n",
       "      <td>['How are you.']</td>\n",
       "      <td>1</td>\n",
       "    </tr>\n",
       "  </tbody>\n",
       "</table>\n",
       "</div>"
      ],
      "text/plain": [
       "                          Segment Speaker_Type Gender  \\\n",
       "Speaker  Utterance_Number                               \n",
       "ABCE1-P1 1                  ABCE1            P      M   \n",
       "         3                  ABCE1            P      M   \n",
       "         5                  ABCE1            P      M   \n",
       "         6                  ABCE1            P      M   \n",
       "         8                  ABCE1            P      M   \n",
       "\n",
       "                                                                        Text  \\\n",
       "Speaker  Utterance_Number                                                      \n",
       "ABCE1-P1 1                 Thanks for that John Hall now John Hall will b...   \n",
       "         3                 He's also known <E1 sounds reasonable> for his...   \n",
       "         5                 Jeanne Villani does and we'll find out the sec...   \n",
       "         6                 Eight-triple-three-one-thousand one-eight-hund...   \n",
       "         8                                                      How are you.   \n",
       "\n",
       "                                                                   Word_Toks  \\\n",
       "Speaker  Utterance_Number                                                      \n",
       "ABCE1-P1 1                 ['Thanks', 'for', 'that', 'John', 'Hall', 'now...   \n",
       "         3                 ['He', \"'s\", 'also', 'known', 'for', 'his', 'a...   \n",
       "         5                 ['Jeanne', 'Villani', 'does', 'and', 'we', \"'l...   \n",
       "         6                 ['Eight-triple-three-one-thousand', 'one-eight...   \n",
       "         8                                        ['How', 'are', 'you', '.']   \n",
       "\n",
       "                           Num_Words  Avg_Word_Length  \\\n",
       "Speaker  Utterance_Number                               \n",
       "ABCE1-P1 1                        80         4.700000   \n",
       "         3                       159         5.062893   \n",
       "         5                        50         3.980000   \n",
       "         6                        13         8.692308   \n",
       "         8                         4         2.500000   \n",
       "\n",
       "                                                                       Sents  \\\n",
       "Speaker  Utterance_Number                                                      \n",
       "ABCE1-P1 1                 [\"Thanks for that John Hall now John Hall will...   \n",
       "         3                 [\"He's also known  for his ability to open cos...   \n",
       "         5                 [\"Jeanne Villani does and we'll find out the s...   \n",
       "         6                 [\"Eight-triple-three-one-thousand one-eight-hu...   \n",
       "         8                                                  ['How are you.']   \n",
       "\n",
       "                           Num_Sents  \n",
       "Speaker  Utterance_Number             \n",
       "ABCE1-P1 1                         2  \n",
       "         3                         3  \n",
       "         5                         1  \n",
       "         6                         1  \n",
       "         8                         1  "
      ]
     },
     "execution_count": 26,
     "metadata": {},
     "output_type": "execute_result"
    },
    {
     "data": {
      "text/html": [
       "<div>\n",
       "<style scoped>\n",
       "    .dataframe tbody tr th:only-of-type {\n",
       "        vertical-align: middle;\n",
       "    }\n",
       "\n",
       "    .dataframe tbody tr th {\n",
       "        vertical-align: top;\n",
       "    }\n",
       "\n",
       "    .dataframe thead th {\n",
       "        text-align: right;\n",
       "    }\n",
       "</style>\n",
       "<table border=\"1\" class=\"dataframe\">\n",
       "  <thead>\n",
       "    <tr style=\"text-align: right;\">\n",
       "      <th></th>\n",
       "      <th></th>\n",
       "      <th>Segment</th>\n",
       "      <th>Speaker_Type</th>\n",
       "      <th>Gender</th>\n",
       "      <th>Text</th>\n",
       "      <th>Word_Toks</th>\n",
       "      <th>Num_Words</th>\n",
       "      <th>Avg_Word_Length</th>\n",
       "      <th>Sents</th>\n",
       "      <th>Num_Sents</th>\n",
       "    </tr>\n",
       "    <tr>\n",
       "      <th>Speaker</th>\n",
       "      <th>Utterance_Number</th>\n",
       "      <th></th>\n",
       "      <th></th>\n",
       "      <th></th>\n",
       "      <th></th>\n",
       "      <th></th>\n",
       "      <th></th>\n",
       "      <th></th>\n",
       "      <th></th>\n",
       "      <th></th>\n",
       "    </tr>\n",
       "  </thead>\n",
       "  <tbody>\n",
       "    <tr>\n",
       "      <th>ABCE3-P1</th>\n",
       "      <th>1</th>\n",
       "      <td>ABCE3</td>\n",
       "      <td>P</td>\n",
       "      <td>F</td>\n",
       "      <td>If you haven't been with us before this how it...</td>\n",
       "      <td>['If', 'you', 'have', \"n't\", 'been', 'with', '...</td>\n",
       "      <td>31</td>\n",
       "      <td>4.290323</td>\n",
       "      <td>[\"If you haven't been with us before this how ...</td>\n",
       "      <td>1</td>\n",
       "    </tr>\n",
       "    <tr>\n",
       "      <th>ABCE3-P2</th>\n",
       "      <th>2</th>\n",
       "      <td>ABCE3</td>\n",
       "      <td>P</td>\n",
       "      <td>F</td>\n",
       "      <td>Good afternoon Lynne.</td>\n",
       "      <td>['Good', 'afternoon', 'Lynne', '.']</td>\n",
       "      <td>4</td>\n",
       "      <td>4.750000</td>\n",
       "      <td>['Good afternoon Lynne.']</td>\n",
       "      <td>1</td>\n",
       "    </tr>\n",
       "    <tr>\n",
       "      <th>ABCE3-P1</th>\n",
       "      <th>3</th>\n",
       "      <td>ABCE3</td>\n",
       "      <td>P</td>\n",
       "      <td>F</td>\n",
       "      <td>&lt;laughs&gt; It's like being at school. And we tal...</td>\n",
       "      <td>['It', \"'s\", 'like', 'being', 'at', 'school', ...</td>\n",
       "      <td>50</td>\n",
       "      <td>3.420000</td>\n",
       "      <td>[\" It's like being at school.\", \"And we talk a...</td>\n",
       "      <td>2</td>\n",
       "    </tr>\n",
       "    <tr>\n",
       "      <th>ABCE3-P2</th>\n",
       "      <th>4</th>\n",
       "      <td>ABCE3</td>\n",
       "      <td>P</td>\n",
       "      <td>F</td>\n",
       "      <td>And so yes.</td>\n",
       "      <td>['And', 'so', 'yes', '.']</td>\n",
       "      <td>4</td>\n",
       "      <td>2.250000</td>\n",
       "      <td>['And so yes.']</td>\n",
       "      <td>1</td>\n",
       "    </tr>\n",
       "    <tr>\n",
       "      <th>ABCE3-P1</th>\n",
       "      <th>5</th>\n",
       "      <td>ABCE3</td>\n",
       "      <td>P</td>\n",
       "      <td>F</td>\n",
       "      <td>Wo we run.</td>\n",
       "      <td>['Wo', 'we', 'run', '.']</td>\n",
       "      <td>4</td>\n",
       "      <td>2.000000</td>\n",
       "      <td>['Wo we run.']</td>\n",
       "      <td>1</td>\n",
       "    </tr>\n",
       "  </tbody>\n",
       "</table>\n",
       "</div>"
      ],
      "text/plain": [
       "                          Segment Speaker_Type Gender  \\\n",
       "Speaker  Utterance_Number                               \n",
       "ABCE3-P1 1                  ABCE3            P      F   \n",
       "ABCE3-P2 2                  ABCE3            P      F   \n",
       "ABCE3-P1 3                  ABCE3            P      F   \n",
       "ABCE3-P2 4                  ABCE3            P      F   \n",
       "ABCE3-P1 5                  ABCE3            P      F   \n",
       "\n",
       "                                                                        Text  \\\n",
       "Speaker  Utterance_Number                                                      \n",
       "ABCE3-P1 1                 If you haven't been with us before this how it...   \n",
       "ABCE3-P2 2                                             Good afternoon Lynne.   \n",
       "ABCE3-P1 3                 <laughs> It's like being at school. And we tal...   \n",
       "ABCE3-P2 4                                                       And so yes.   \n",
       "ABCE3-P1 5                                                        Wo we run.   \n",
       "\n",
       "                                                                   Word_Toks  \\\n",
       "Speaker  Utterance_Number                                                      \n",
       "ABCE3-P1 1                 ['If', 'you', 'have', \"n't\", 'been', 'with', '...   \n",
       "ABCE3-P2 2                               ['Good', 'afternoon', 'Lynne', '.']   \n",
       "ABCE3-P1 3                 ['It', \"'s\", 'like', 'being', 'at', 'school', ...   \n",
       "ABCE3-P2 4                                         ['And', 'so', 'yes', '.']   \n",
       "ABCE3-P1 5                                          ['Wo', 'we', 'run', '.']   \n",
       "\n",
       "                           Num_Words  Avg_Word_Length  \\\n",
       "Speaker  Utterance_Number                               \n",
       "ABCE3-P1 1                        31         4.290323   \n",
       "ABCE3-P2 2                         4         4.750000   \n",
       "ABCE3-P1 3                        50         3.420000   \n",
       "ABCE3-P2 4                         4         2.250000   \n",
       "ABCE3-P1 5                         4         2.000000   \n",
       "\n",
       "                                                                       Sents  \\\n",
       "Speaker  Utterance_Number                                                      \n",
       "ABCE3-P1 1                 [\"If you haven't been with us before this how ...   \n",
       "ABCE3-P2 2                                         ['Good afternoon Lynne.']   \n",
       "ABCE3-P1 3                 [\" It's like being at school.\", \"And we talk a...   \n",
       "ABCE3-P2 4                                                   ['And so yes.']   \n",
       "ABCE3-P1 5                                                    ['Wo we run.']   \n",
       "\n",
       "                           Num_Sents  \n",
       "Speaker  Utterance_Number             \n",
       "ABCE3-P1 1                         1  \n",
       "ABCE3-P2 2                         1  \n",
       "ABCE3-P1 3                         2  \n",
       "ABCE3-P2 4                         1  \n",
       "ABCE3-P1 5                         1  "
      ]
     },
     "execution_count": 26,
     "metadata": {},
     "output_type": "execute_result"
    }
   ],
   "source": [
    "# Male and Female Presenter Lines Data Frames:\n",
    "M_P_art_df=P_art_df.loc[P_art_df[\"Gender\"]=='M',:]\n",
    "F_P_art_df=P_art_df.loc[P_art_df[\"Gender\"]=='F',:]\n",
    "\n",
    "M_P_art_df.head()\n",
    "F_P_art_df.head()"
   ]
  },
  {
   "cell_type": "markdown",
   "metadata": {},
   "source": [
    "### Presenter Gender Statistics:"
   ]
  },
  {
   "cell_type": "code",
   "execution_count": 27,
   "metadata": {},
   "outputs": [
    {
     "name": "stdout",
     "output_type": "stream",
     "text": [
      "Number of Utterances:\n"
     ]
    },
    {
     "data": {
      "text/plain": [
       "M    771\n",
       "F    699\n",
       "Name: Gender, dtype: int64"
      ]
     },
     "execution_count": 27,
     "metadata": {},
     "output_type": "execute_result"
    },
    {
     "name": "stdout",
     "output_type": "stream",
     "text": [
      "Number of Sentences:\n"
     ]
    },
    {
     "data": {
      "text/plain": [
       "1098"
      ]
     },
     "execution_count": 27,
     "metadata": {},
     "output_type": "execute_result"
    },
    {
     "data": {
      "text/plain": [
       "1169"
      ]
     },
     "execution_count": 27,
     "metadata": {},
     "output_type": "execute_result"
    },
    {
     "name": "stdout",
     "output_type": "stream",
     "text": [
      "Number of Words:\n"
     ]
    },
    {
     "data": {
      "text/plain": [
       "14958"
      ]
     },
     "execution_count": 27,
     "metadata": {},
     "output_type": "execute_result"
    },
    {
     "data": {
      "text/plain": [
       "19882"
      ]
     },
     "execution_count": 27,
     "metadata": {},
     "output_type": "execute_result"
    },
    {
     "name": "stdout",
     "output_type": "stream",
     "text": [
      "Average Word Length:\n"
     ]
    },
    {
     "data": {
      "text/plain": [
       "3.4874046778003658"
      ]
     },
     "execution_count": 27,
     "metadata": {},
     "output_type": "execute_result"
    },
    {
     "data": {
      "text/plain": [
       "3.3739954020033096"
      ]
     },
     "execution_count": 27,
     "metadata": {},
     "output_type": "execute_result"
    },
    {
     "name": "stdout",
     "output_type": "stream",
     "text": [
      "Average Sentence Length:\n"
     ]
    },
    {
     "data": {
      "text/plain": [
       "13.622950819672131"
      ]
     },
     "execution_count": 27,
     "metadata": {},
     "output_type": "execute_result"
    },
    {
     "data": {
      "text/plain": [
       "17.00769888793841"
      ]
     },
     "execution_count": 27,
     "metadata": {},
     "output_type": "execute_result"
    },
    {
     "name": "stdout",
     "output_type": "stream",
     "text": [
      "Average Number of Turns:\n"
     ]
    },
    {
     "data": {
      "text/plain": [
       "96.375"
      ]
     },
     "execution_count": 27,
     "metadata": {},
     "output_type": "execute_result"
    },
    {
     "data": {
      "text/plain": [
       "174.75"
      ]
     },
     "execution_count": 27,
     "metadata": {},
     "output_type": "execute_result"
    }
   ],
   "source": [
    "# utterances\n",
    "print(\"Number of Utterances:\")\n",
    "P_art_df[\"Gender\"].value_counts().reindex([\"M\",\"F\"])\n",
    "\n",
    "# sentences:\n",
    "print(\"Number of Sentences:\")\n",
    "M_P_art_df[\"Num_Sents\"].sum()\n",
    "F_P_art_df[\"Num_Sents\"].sum()\n",
    "\n",
    "# words\n",
    "print(\"Number of Words:\")\n",
    "M_P_art_df[\"Num_Words\"].sum()\n",
    "F_P_art_df[\"Num_Words\"].sum() \n",
    "\n",
    "# avg word length\n",
    "print(\"Average Word Length:\")\n",
    "M_P_art_df[\"Avg_Word_Length\"].mean()\n",
    "F_P_art_df[\"Avg_Word_Length\"].mean()\n",
    "\n",
    "# avg sent length\n",
    "print(\"Average Sentence Length:\")\n",
    "M_P_art_df[\"Num_Words\"].sum()/M_P_art_df[\"Num_Sents\"].sum()\n",
    "F_P_art_df[\"Num_Words\"].sum()/F_P_art_df[\"Num_Sents\"].sum()\n",
    "\n",
    "print(\"Average Number of Turns:\")\n",
    "M_P_df[\"Number_of_Utterances\"].mean()\n",
    "F_P_df[\"Number_of_Utterances\"].mean()"
   ]
  },
  {
   "cell_type": "markdown",
   "metadata": {},
   "source": [
    "Female Presenters have more sentences, and longer sentences. They also take on average more turns than Male Presenters."
   ]
  },
  {
   "cell_type": "markdown",
   "metadata": {},
   "source": [
    "## Presenter Gender Back Channel Analysis"
   ]
  },
  {
   "cell_type": "markdown",
   "metadata": {},
   "source": [
    "### Data Frame of Presenter Back Channels:"
   ]
  },
  {
   "cell_type": "code",
   "execution_count": 28,
   "metadata": {},
   "outputs": [
    {
     "name": "stdout",
     "output_type": "stream",
     "text": [
      "Presenters Uttering Back Channels:\n"
     ]
    },
    {
     "data": {
      "text/html": [
       "<div>\n",
       "<style scoped>\n",
       "    .dataframe tbody tr th:only-of-type {\n",
       "        vertical-align: middle;\n",
       "    }\n",
       "\n",
       "    .dataframe tbody tr th {\n",
       "        vertical-align: top;\n",
       "    }\n",
       "\n",
       "    .dataframe thead th {\n",
       "        text-align: right;\n",
       "    }\n",
       "</style>\n",
       "<table border=\"1\" class=\"dataframe\">\n",
       "  <thead>\n",
       "    <tr style=\"text-align: right;\">\n",
       "      <th></th>\n",
       "      <th>Speaker</th>\n",
       "      <th>Speaker_Type</th>\n",
       "      <th>Speaker_Gender</th>\n",
       "      <th>Back_Channel</th>\n",
       "      <th>Line_Speaker</th>\n",
       "      <th>Segment_Utterance_Number</th>\n",
       "      <th>Segment</th>\n",
       "      <th>Line_Speaker_Type</th>\n",
       "      <th>Line_Speaker_Gender</th>\n",
       "    </tr>\n",
       "    <tr>\n",
       "      <th></th>\n",
       "      <th></th>\n",
       "      <th></th>\n",
       "      <th></th>\n",
       "      <th></th>\n",
       "      <th></th>\n",
       "      <th></th>\n",
       "      <th></th>\n",
       "      <th></th>\n",
       "      <th></th>\n",
       "    </tr>\n",
       "  </thead>\n",
       "  <tbody>\n",
       "    <tr>\n",
       "      <th>2</th>\n",
       "      <td>ABCE1-P1</td>\n",
       "      <td>P</td>\n",
       "      <td>M</td>\n",
       "      <td>yes</td>\n",
       "      <td>ABCE1-C1</td>\n",
       "      <td>11</td>\n",
       "      <td>ABCE1</td>\n",
       "      <td>C</td>\n",
       "      <td>F</td>\n",
       "    </tr>\n",
       "    <tr>\n",
       "      <th>6</th>\n",
       "      <td>ABCE1-P1</td>\n",
       "      <td>P</td>\n",
       "      <td>M</td>\n",
       "      <td>mm</td>\n",
       "      <td>ABCE1-C1</td>\n",
       "      <td>13</td>\n",
       "      <td>ABCE1</td>\n",
       "      <td>C</td>\n",
       "      <td>F</td>\n",
       "    </tr>\n",
       "    <tr>\n",
       "      <th>19</th>\n",
       "      <td>ABCE1-P1</td>\n",
       "      <td>P</td>\n",
       "      <td>M</td>\n",
       "      <td>hundred years</td>\n",
       "      <td>ABCE1-E1</td>\n",
       "      <td>44</td>\n",
       "      <td>ABCE1</td>\n",
       "      <td>E</td>\n",
       "      <td>M</td>\n",
       "    </tr>\n",
       "    <tr>\n",
       "      <th>23</th>\n",
       "      <td>ABCE1-P1</td>\n",
       "      <td>P</td>\n",
       "      <td>M</td>\n",
       "      <td>can you</td>\n",
       "      <td>ABCE1-E1</td>\n",
       "      <td>48</td>\n",
       "      <td>ABCE1</td>\n",
       "      <td>E</td>\n",
       "      <td>M</td>\n",
       "    </tr>\n",
       "    <tr>\n",
       "      <th>30</th>\n",
       "      <td>ABCE1-P1</td>\n",
       "      <td>P</td>\n",
       "      <td>M</td>\n",
       "      <td>laughs</td>\n",
       "      <td>ABCE1-E1</td>\n",
       "      <td>68</td>\n",
       "      <td>ABCE1</td>\n",
       "      <td>E</td>\n",
       "      <td>M</td>\n",
       "    </tr>\n",
       "  </tbody>\n",
       "</table>\n",
       "</div>"
      ],
      "text/plain": [
       "     Speaker Speaker_Type Speaker_Gender   Back_Channel Line_Speaker  \\\n",
       "                                                                       \n",
       "2   ABCE1-P1            P              M            yes     ABCE1-C1   \n",
       "6   ABCE1-P1            P              M             mm     ABCE1-C1   \n",
       "19  ABCE1-P1            P              M  hundred years     ABCE1-E1   \n",
       "23  ABCE1-P1            P              M        can you     ABCE1-E1   \n",
       "30  ABCE1-P1            P              M         laughs     ABCE1-E1   \n",
       "\n",
       "    Segment_Utterance_Number Segment Line_Speaker_Type Line_Speaker_Gender  \n",
       "                                                                            \n",
       "2                         11   ABCE1                 C                   F  \n",
       "6                         13   ABCE1                 C                   F  \n",
       "19                        44   ABCE1                 E                   M  \n",
       "23                        48   ABCE1                 E                   M  \n",
       "30                        68   ABCE1                 E                   M  "
      ]
     },
     "execution_count": 28,
     "metadata": {},
     "output_type": "execute_result"
    }
   ],
   "source": [
    "# Presenter's saying back channels\n",
    "print(\"Presenters Uttering Back Channels:\")\n",
    "P_bk_df=bk_df.loc[bk_df[\"Speaker_Type\"]=='P',:]\n",
    "P_bk_df.head()"
   ]
  },
  {
   "cell_type": "code",
   "execution_count": 29,
   "metadata": {},
   "outputs": [
    {
     "name": "stdout",
     "output_type": "stream",
     "text": [
      "All Instances of Male and Female Presenters Contributing Back Channels:\n"
     ]
    },
    {
     "data": {
      "text/plain": [
       "M    241\n",
       "F    250\n",
       "Name: Speaker_Gender, dtype: int64"
      ]
     },
     "execution_count": 29,
     "metadata": {},
     "output_type": "execute_result"
    },
    {
     "name": "stdout",
     "output_type": "stream",
     "text": [
      "All Male and Female Lines that Contained Presenter Back Channels\n"
     ]
    },
    {
     "data": {
      "text/plain": [
       "M    199\n",
       "F    292\n",
       "Name: Line_Speaker_Gender, dtype: int64"
      ]
     },
     "execution_count": 29,
     "metadata": {},
     "output_type": "execute_result"
    }
   ],
   "source": [
    "print(\"All Instances of Male and Female Presenters Contributing Back Channels:\") \n",
    "P_bk_df[\"Speaker_Gender\"].value_counts().reindex([\"M\",\"F\"])\n",
    "print(\"All Male and Female Lines that Contained Presenter Back Channels\") \n",
    "P_bk_df[\"Line_Speaker_Gender\"].value_counts().reindex([\"M\",\"F\"])"
   ]
  },
  {
   "cell_type": "markdown",
   "metadata": {},
   "source": [
    "### Observations: \n",
    "\n",
    "- Male and Female Presenters uttered about the same number of back channels throughout the corpus.\n",
    "- More Females Lines had Female Presenter Back Channels.\n",
    "     - **Conclusion:** *Female Presenters* are more likely to utter Back Channels when talking to *other females.*"
   ]
  },
  {
   "cell_type": "markdown",
   "metadata": {},
   "source": [
    "### Data Frame of Presenter Lines with Back Channels:"
   ]
  },
  {
   "cell_type": "code",
   "execution_count": 30,
   "metadata": {},
   "outputs": [
    {
     "name": "stdout",
     "output_type": "stream",
     "text": [
      "Presenter Lines that Include Back Channels:\n"
     ]
    },
    {
     "data": {
      "text/html": [
       "<div>\n",
       "<style scoped>\n",
       "    .dataframe tbody tr th:only-of-type {\n",
       "        vertical-align: middle;\n",
       "    }\n",
       "\n",
       "    .dataframe tbody tr th {\n",
       "        vertical-align: top;\n",
       "    }\n",
       "\n",
       "    .dataframe thead th {\n",
       "        text-align: right;\n",
       "    }\n",
       "</style>\n",
       "<table border=\"1\" class=\"dataframe\">\n",
       "  <thead>\n",
       "    <tr style=\"text-align: right;\">\n",
       "      <th></th>\n",
       "      <th>Speaker</th>\n",
       "      <th>Speaker_Type</th>\n",
       "      <th>Speaker_Gender</th>\n",
       "      <th>Back_Channel</th>\n",
       "      <th>Line_Speaker</th>\n",
       "      <th>Segment_Utterance_Number</th>\n",
       "      <th>Segment</th>\n",
       "      <th>Line_Speaker_Type</th>\n",
       "      <th>Line_Speaker_Gender</th>\n",
       "    </tr>\n",
       "    <tr>\n",
       "      <th></th>\n",
       "      <th></th>\n",
       "      <th></th>\n",
       "      <th></th>\n",
       "      <th></th>\n",
       "      <th></th>\n",
       "      <th></th>\n",
       "      <th></th>\n",
       "      <th></th>\n",
       "      <th></th>\n",
       "    </tr>\n",
       "  </thead>\n",
       "  <tbody>\n",
       "    <tr>\n",
       "      <th>0</th>\n",
       "      <td>ABCE1-E1</td>\n",
       "      <td>E</td>\n",
       "      <td>M</td>\n",
       "      <td>sounds reasonable</td>\n",
       "      <td>ABCE1-P1</td>\n",
       "      <td>3</td>\n",
       "      <td>ABCE1</td>\n",
       "      <td>P</td>\n",
       "      <td>M</td>\n",
       "    </tr>\n",
       "    <tr>\n",
       "      <th>1</th>\n",
       "      <td>ABCE1-C1</td>\n",
       "      <td>C</td>\n",
       "      <td>F</td>\n",
       "      <td>laughs</td>\n",
       "      <td>ABCE1-P1</td>\n",
       "      <td>10</td>\n",
       "      <td>ABCE1</td>\n",
       "      <td>P</td>\n",
       "      <td>M</td>\n",
       "    </tr>\n",
       "    <tr>\n",
       "      <th>7</th>\n",
       "      <td>ABCE1-C1</td>\n",
       "      <td>C</td>\n",
       "      <td>F</td>\n",
       "      <td>mhm</td>\n",
       "      <td>ABCE1-P1</td>\n",
       "      <td>14</td>\n",
       "      <td>ABCE1</td>\n",
       "      <td>P</td>\n",
       "      <td>M</td>\n",
       "    </tr>\n",
       "    <tr>\n",
       "      <th>20</th>\n",
       "      <td>ABCE1-E1</td>\n",
       "      <td>E</td>\n",
       "      <td>M</td>\n",
       "      <td>mm</td>\n",
       "      <td>ABCE1-P1</td>\n",
       "      <td>45</td>\n",
       "      <td>ABCE1</td>\n",
       "      <td>P</td>\n",
       "      <td>M</td>\n",
       "    </tr>\n",
       "    <tr>\n",
       "      <th>21</th>\n",
       "      <td>ABCE1-E1</td>\n",
       "      <td>E</td>\n",
       "      <td>M</td>\n",
       "      <td>aerial roots</td>\n",
       "      <td>ABCE1-P1</td>\n",
       "      <td>45</td>\n",
       "      <td>ABCE1</td>\n",
       "      <td>P</td>\n",
       "      <td>M</td>\n",
       "    </tr>\n",
       "  </tbody>\n",
       "</table>\n",
       "</div>"
      ],
      "text/plain": [
       "     Speaker Speaker_Type Speaker_Gender       Back_Channel Line_Speaker  \\\n",
       "                                                                           \n",
       "0   ABCE1-E1            E              M  sounds reasonable     ABCE1-P1   \n",
       "1   ABCE1-C1            C              F             laughs     ABCE1-P1   \n",
       "7   ABCE1-C1            C              F                mhm     ABCE1-P1   \n",
       "20  ABCE1-E1            E              M                 mm     ABCE1-P1   \n",
       "21  ABCE1-E1            E              M       aerial roots     ABCE1-P1   \n",
       "\n",
       "    Segment_Utterance_Number Segment Line_Speaker_Type Line_Speaker_Gender  \n",
       "                                                                            \n",
       "0                          3   ABCE1                 P                   M  \n",
       "1                         10   ABCE1                 P                   M  \n",
       "7                         14   ABCE1                 P                   M  \n",
       "20                        45   ABCE1                 P                   M  \n",
       "21                        45   ABCE1                 P                   M  "
      ]
     },
     "execution_count": 30,
     "metadata": {},
     "output_type": "execute_result"
    }
   ],
   "source": [
    "# Presenter lines that include back channels\n",
    "print(\"Presenter Lines that Include Back Channels:\")\n",
    "P_line_bk_df=bk_df.loc[bk_df[\"Line_Speaker_Type\"]=='P',:]\n",
    "P_line_bk_df.head()"
   ]
  },
  {
   "cell_type": "code",
   "execution_count": 31,
   "metadata": {},
   "outputs": [
    {
     "name": "stdout",
     "output_type": "stream",
     "text": [
      "All Presenter Lines that Contained Back Channels (by Any Speaker Type):\n"
     ]
    },
    {
     "data": {
      "text/plain": [
       "M    301\n",
       "F    449\n",
       "Name: Speaker_Gender, dtype: int64"
      ]
     },
     "execution_count": 31,
     "metadata": {},
     "output_type": "execute_result"
    },
    {
     "name": "stdout",
     "output_type": "stream",
     "text": [
      "All Instances of Male and Female Presenter Lines that Contained Back Channels :\n"
     ]
    },
    {
     "data": {
      "text/plain": [
       "M    285\n",
       "F    465\n",
       "Name: Line_Speaker_Gender, dtype: int64"
      ]
     },
     "execution_count": 31,
     "metadata": {},
     "output_type": "execute_result"
    }
   ],
   "source": [
    "print(\"All Presenter Lines that Contained Back Channels (by Any Speaker Type):\")\n",
    "P_line_bk_df[\"Speaker_Gender\"].value_counts().reindex([\"M\",\"F\"])\n",
    "print(\"All Instances of Male and Female Presenter Lines that Contained Back Channels :\")\n",
    "P_line_bk_df[\"Line_Speaker_Gender\"].value_counts().reindex([\"M\",\"F\"])"
   ]
  },
  {
   "cell_type": "markdown",
   "metadata": {},
   "source": [
    "### Observations:\n",
    "\n",
    "- Of the Presenter Lines that contained Back Channels, more of those back channels came from fellow females.\n",
    "    - **Conclusion:** *Females* are more likely to contribute a back channel to a *Female Presenter* than a Male Presenter.\n",
    "- Of the Presenter Lines that contained Back Channels, more Female Presenter Lines contained back channels.\n",
    "    - **Conclusion:** *Speakers* are more likely to contribute a back channel to a *Female Presenter* than a Male Presenter."
   ]
  },
  {
   "cell_type": "code",
   "execution_count": null,
   "metadata": {},
   "outputs": [],
   "source": []
  }
 ],
 "metadata": {
  "kernelspec": {
   "display_name": "Python 3",
   "language": "python",
   "name": "python3"
  },
  "language_info": {
   "codemirror_mode": {
    "name": "ipython",
    "version": 3
   },
   "file_extension": ".py",
   "mimetype": "text/x-python",
   "name": "python",
   "nbconvert_exporter": "python",
   "pygments_lexer": "ipython3",
   "version": "3.5.2"
  }
 },
 "nbformat": 4,
 "nbformat_minor": 2
}
