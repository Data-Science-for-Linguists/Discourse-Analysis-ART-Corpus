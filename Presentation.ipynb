{
 "cells": [
  {
   "cell_type": "markdown",
   "metadata": {},
   "source": [
    "# Australian Radio Talkback Corpus Presentation"
   ]
  },
  {
   "cell_type": "code",
   "execution_count": 1,
   "metadata": {},
   "outputs": [],
   "source": [
    "%pprint"
   ]
  },
  {
   "cell_type": "code",
   "execution_count": 2,
   "metadata": {},
   "outputs": [],
   "source": [
    "from IPython.core.interactiveshell import InteractiveShell\n",
    "InteractiveShell.ast_node_interactivity = \"all\""
   ]
  },
  {
   "cell_type": "code",
   "execution_count": 18,
   "metadata": {},
   "outputs": [],
   "source": [
    "import nltk\n",
    "import pandas as pd\n",
    "\n",
    "# visualization tools\n",
    "import matplotlib as mpl\n",
    "import matplotlib.pyplot as plt\n",
    "plt.style.use('classic')"
   ]
  },
  {
   "cell_type": "markdown",
   "metadata": {},
   "source": [
    "## Reading in Data Frames"
   ]
  },
  {
   "cell_type": "code",
   "execution_count": 7,
   "metadata": {},
   "outputs": [],
   "source": [
    "# reading in data frames\n",
    "speaker_df=pd.read_csv(\"data_files/Speakers.csv\")\n",
    "art_df=pd.read_csv(\"data_files/Texts.csv\")\n",
    "bk_df=pd.read_csv(\"data_files/Back_Channels.csv\")\n",
    "\n",
    "# speaker_df.head()\n",
    "# art_df.head()\n",
    "# bk_df.head()"
   ]
  },
  {
   "cell_type": "markdown",
   "metadata": {},
   "source": [
    "## Data Frames:\n",
    "\n",
    "- speaker_df\n",
    "    - data frame of all unique speakers\n",
    "- art_df\n",
    "    - data frame of each line of text\n",
    "- bk_df\n",
    "    - data frame of all back channels"
   ]
  },
  {
   "cell_type": "code",
   "execution_count": 8,
   "metadata": {},
   "outputs": [
    {
     "data": {
      "text/html": [
       "<div>\n",
       "<style scoped>\n",
       "    .dataframe tbody tr th:only-of-type {\n",
       "        vertical-align: middle;\n",
       "    }\n",
       "\n",
       "    .dataframe tbody tr th {\n",
       "        vertical-align: top;\n",
       "    }\n",
       "\n",
       "    .dataframe thead th {\n",
       "        text-align: right;\n",
       "    }\n",
       "</style>\n",
       "<table border=\"1\" class=\"dataframe\">\n",
       "  <thead>\n",
       "    <tr style=\"text-align: right;\">\n",
       "      <th></th>\n",
       "      <th>Segment</th>\n",
       "      <th>Speaker_Type</th>\n",
       "      <th>Gender</th>\n",
       "      <th>Name</th>\n",
       "      <th>Number_of_Utterances</th>\n",
       "    </tr>\n",
       "    <tr>\n",
       "      <th>Speaker</th>\n",
       "      <th></th>\n",
       "      <th></th>\n",
       "      <th></th>\n",
       "      <th></th>\n",
       "      <th></th>\n",
       "    </tr>\n",
       "  </thead>\n",
       "  <tbody>\n",
       "    <tr>\n",
       "      <th>ABCE1-C1</th>\n",
       "      <td>ABCE1</td>\n",
       "      <td>C</td>\n",
       "      <td>F</td>\n",
       "      <td>Suzanne</td>\n",
       "      <td>17</td>\n",
       "    </tr>\n",
       "    <tr>\n",
       "      <th>ABCE1-C10</th>\n",
       "      <td>ABCE1</td>\n",
       "      <td>C</td>\n",
       "      <td>F</td>\n",
       "      <td>Beth</td>\n",
       "      <td>17</td>\n",
       "    </tr>\n",
       "    <tr>\n",
       "      <th>ABCE1-C11</th>\n",
       "      <td>ABCE1</td>\n",
       "      <td>C</td>\n",
       "      <td>F</td>\n",
       "      <td>Lynne</td>\n",
       "      <td>10</td>\n",
       "    </tr>\n",
       "    <tr>\n",
       "      <th>ABCE1-C12</th>\n",
       "      <td>ABCE1</td>\n",
       "      <td>C</td>\n",
       "      <td>M</td>\n",
       "      <td>Jack</td>\n",
       "      <td>12</td>\n",
       "    </tr>\n",
       "    <tr>\n",
       "      <th>ABCE1-C2</th>\n",
       "      <td>ABCE1</td>\n",
       "      <td>C</td>\n",
       "      <td>F</td>\n",
       "      <td>Lisa</td>\n",
       "      <td>13</td>\n",
       "    </tr>\n",
       "  </tbody>\n",
       "</table>\n",
       "</div>"
      ],
      "text/plain": [
       "          Segment Speaker_Type Gender     Name  Number_of_Utterances\n",
       "Speaker                                                             \n",
       "ABCE1-C1    ABCE1            C      F  Suzanne                    17\n",
       "ABCE1-C10   ABCE1            C      F     Beth                    17\n",
       "ABCE1-C11   ABCE1            C      F    Lynne                    10\n",
       "ABCE1-C12   ABCE1            C      M     Jack                    12\n",
       "ABCE1-C2    ABCE1            C      F     Lisa                    13"
      ]
     },
     "execution_count": 8,
     "metadata": {},
     "output_type": "execute_result"
    },
    {
     "data": {
      "text/html": [
       "<div>\n",
       "<style scoped>\n",
       "    .dataframe tbody tr th:only-of-type {\n",
       "        vertical-align: middle;\n",
       "    }\n",
       "\n",
       "    .dataframe tbody tr th {\n",
       "        vertical-align: top;\n",
       "    }\n",
       "\n",
       "    .dataframe thead th {\n",
       "        text-align: right;\n",
       "    }\n",
       "</style>\n",
       "<table border=\"1\" class=\"dataframe\">\n",
       "  <thead>\n",
       "    <tr style=\"text-align: right;\">\n",
       "      <th></th>\n",
       "      <th></th>\n",
       "      <th>Segment</th>\n",
       "      <th>Speaker_Type</th>\n",
       "      <th>Text</th>\n",
       "      <th>Word_Toks</th>\n",
       "      <th>Num_Words</th>\n",
       "      <th>Avg_Word_Length</th>\n",
       "      <th>Sents</th>\n",
       "      <th>Num_Sents</th>\n",
       "    </tr>\n",
       "    <tr>\n",
       "      <th>Speaker</th>\n",
       "      <th>Utterance_Number</th>\n",
       "      <th></th>\n",
       "      <th></th>\n",
       "      <th></th>\n",
       "      <th></th>\n",
       "      <th></th>\n",
       "      <th></th>\n",
       "      <th></th>\n",
       "      <th></th>\n",
       "    </tr>\n",
       "  </thead>\n",
       "  <tbody>\n",
       "    <tr>\n",
       "      <th>ABCE1-P1</th>\n",
       "      <th>1</th>\n",
       "      <td>ABCE1</td>\n",
       "      <td>P</td>\n",
       "      <td>Thanks for that John Hall now John Hall will b...</td>\n",
       "      <td>['Thanks', 'for', 'that', 'John', 'Hall', 'now...</td>\n",
       "      <td>80</td>\n",
       "      <td>4.700000</td>\n",
       "      <td>[\"Thanks for that John Hall now John Hall will...</td>\n",
       "      <td>2</td>\n",
       "    </tr>\n",
       "    <tr>\n",
       "      <th>ABCE1-E1</th>\n",
       "      <th>2</th>\n",
       "      <td>ABCE1</td>\n",
       "      <td>E</td>\n",
       "      <td>I guess yeah yeah &lt;laughs&gt;.</td>\n",
       "      <td>['I', 'guess', 'yeah', 'yeah', '.']</td>\n",
       "      <td>5</td>\n",
       "      <td>3.000000</td>\n",
       "      <td>['I guess yeah yeah .']</td>\n",
       "      <td>1</td>\n",
       "    </tr>\n",
       "    <tr>\n",
       "      <th>ABCE1-P1</th>\n",
       "      <th>3</th>\n",
       "      <td>ABCE1</td>\n",
       "      <td>P</td>\n",
       "      <td>He's also known &lt;E1 sounds reasonable&gt; for his...</td>\n",
       "      <td>['He', \"'s\", 'also', 'known', 'for', 'his', 'a...</td>\n",
       "      <td>159</td>\n",
       "      <td>5.062893</td>\n",
       "      <td>[\"He's also known  for his ability to open cos...</td>\n",
       "      <td>3</td>\n",
       "    </tr>\n",
       "    <tr>\n",
       "      <th>ABCE1-E1</th>\n",
       "      <th>4</th>\n",
       "      <td>ABCE1</td>\n",
       "      <td>E</td>\n",
       "      <td>Okay.</td>\n",
       "      <td>['Okay', '.']</td>\n",
       "      <td>2</td>\n",
       "      <td>2.500000</td>\n",
       "      <td>['Okay.']</td>\n",
       "      <td>1</td>\n",
       "    </tr>\n",
       "    <tr>\n",
       "      <th>ABCE1-P1</th>\n",
       "      <th>5</th>\n",
       "      <td>ABCE1</td>\n",
       "      <td>P</td>\n",
       "      <td>Jeanne Villani does and we'll find out the sec...</td>\n",
       "      <td>['Jeanne', 'Villani', 'does', 'and', 'we', \"'l...</td>\n",
       "      <td>50</td>\n",
       "      <td>3.980000</td>\n",
       "      <td>[\"Jeanne Villani does and we'll find out the s...</td>\n",
       "      <td>1</td>\n",
       "    </tr>\n",
       "  </tbody>\n",
       "</table>\n",
       "</div>"
      ],
      "text/plain": [
       "                          Segment Speaker_Type  \\\n",
       "Speaker  Utterance_Number                        \n",
       "ABCE1-P1 1                  ABCE1            P   \n",
       "ABCE1-E1 2                  ABCE1            E   \n",
       "ABCE1-P1 3                  ABCE1            P   \n",
       "ABCE1-E1 4                  ABCE1            E   \n",
       "ABCE1-P1 5                  ABCE1            P   \n",
       "\n",
       "                                                                        Text  \\\n",
       "Speaker  Utterance_Number                                                      \n",
       "ABCE1-P1 1                 Thanks for that John Hall now John Hall will b...   \n",
       "ABCE1-E1 2                                       I guess yeah yeah <laughs>.   \n",
       "ABCE1-P1 3                 He's also known <E1 sounds reasonable> for his...   \n",
       "ABCE1-E1 4                                                             Okay.   \n",
       "ABCE1-P1 5                 Jeanne Villani does and we'll find out the sec...   \n",
       "\n",
       "                                                                   Word_Toks  \\\n",
       "Speaker  Utterance_Number                                                      \n",
       "ABCE1-P1 1                 ['Thanks', 'for', 'that', 'John', 'Hall', 'now...   \n",
       "ABCE1-E1 2                               ['I', 'guess', 'yeah', 'yeah', '.']   \n",
       "ABCE1-P1 3                 ['He', \"'s\", 'also', 'known', 'for', 'his', 'a...   \n",
       "ABCE1-E1 4                                                     ['Okay', '.']   \n",
       "ABCE1-P1 5                 ['Jeanne', 'Villani', 'does', 'and', 'we', \"'l...   \n",
       "\n",
       "                           Num_Words  Avg_Word_Length  \\\n",
       "Speaker  Utterance_Number                               \n",
       "ABCE1-P1 1                        80         4.700000   \n",
       "ABCE1-E1 2                         5         3.000000   \n",
       "ABCE1-P1 3                       159         5.062893   \n",
       "ABCE1-E1 4                         2         2.500000   \n",
       "ABCE1-P1 5                        50         3.980000   \n",
       "\n",
       "                                                                       Sents  \\\n",
       "Speaker  Utterance_Number                                                      \n",
       "ABCE1-P1 1                 [\"Thanks for that John Hall now John Hall will...   \n",
       "ABCE1-E1 2                                           ['I guess yeah yeah .']   \n",
       "ABCE1-P1 3                 [\"He's also known  for his ability to open cos...   \n",
       "ABCE1-E1 4                                                         ['Okay.']   \n",
       "ABCE1-P1 5                 [\"Jeanne Villani does and we'll find out the s...   \n",
       "\n",
       "                           Num_Sents  \n",
       "Speaker  Utterance_Number             \n",
       "ABCE1-P1 1                         2  \n",
       "ABCE1-E1 2                         1  \n",
       "ABCE1-P1 3                         3  \n",
       "ABCE1-E1 4                         1  \n",
       "ABCE1-P1 5                         1  "
      ]
     },
     "execution_count": 8,
     "metadata": {},
     "output_type": "execute_result"
    },
    {
     "data": {
      "text/html": [
       "<div>\n",
       "<style scoped>\n",
       "    .dataframe tbody tr th:only-of-type {\n",
       "        vertical-align: middle;\n",
       "    }\n",
       "\n",
       "    .dataframe tbody tr th {\n",
       "        vertical-align: top;\n",
       "    }\n",
       "\n",
       "    .dataframe thead th {\n",
       "        text-align: right;\n",
       "    }\n",
       "</style>\n",
       "<table border=\"1\" class=\"dataframe\">\n",
       "  <thead>\n",
       "    <tr style=\"text-align: right;\">\n",
       "      <th></th>\n",
       "      <th>Speaker</th>\n",
       "      <th>Speaker_Type</th>\n",
       "      <th>Back_Channel</th>\n",
       "      <th>Line_Speaker</th>\n",
       "      <th>Segment_Utterance_Number</th>\n",
       "      <th>Segment</th>\n",
       "      <th>Line_Speaker_Type</th>\n",
       "    </tr>\n",
       "    <tr>\n",
       "      <th></th>\n",
       "      <th></th>\n",
       "      <th></th>\n",
       "      <th></th>\n",
       "      <th></th>\n",
       "      <th></th>\n",
       "      <th></th>\n",
       "      <th></th>\n",
       "    </tr>\n",
       "  </thead>\n",
       "  <tbody>\n",
       "    <tr>\n",
       "      <th>0</th>\n",
       "      <td>ABCE1-E1</td>\n",
       "      <td>E</td>\n",
       "      <td>sounds reasonable</td>\n",
       "      <td>ABCE1-P1</td>\n",
       "      <td>3</td>\n",
       "      <td>ABCE1</td>\n",
       "      <td>P</td>\n",
       "    </tr>\n",
       "    <tr>\n",
       "      <th>1</th>\n",
       "      <td>ABCE1-C1</td>\n",
       "      <td>C</td>\n",
       "      <td>laughs</td>\n",
       "      <td>ABCE1-P1</td>\n",
       "      <td>10</td>\n",
       "      <td>ABCE1</td>\n",
       "      <td>P</td>\n",
       "    </tr>\n",
       "    <tr>\n",
       "      <th>2</th>\n",
       "      <td>ABCE1-P1</td>\n",
       "      <td>P</td>\n",
       "      <td>yes</td>\n",
       "      <td>ABCE1-C1</td>\n",
       "      <td>11</td>\n",
       "      <td>ABCE1</td>\n",
       "      <td>C</td>\n",
       "    </tr>\n",
       "    <tr>\n",
       "      <th>3</th>\n",
       "      <td>ABCE1-E1</td>\n",
       "      <td>E</td>\n",
       "      <td>mm</td>\n",
       "      <td>ABCE1-C1</td>\n",
       "      <td>11</td>\n",
       "      <td>ABCE1</td>\n",
       "      <td>C</td>\n",
       "    </tr>\n",
       "    <tr>\n",
       "      <th>4</th>\n",
       "      <td>ABCE1-E1</td>\n",
       "      <td>E</td>\n",
       "      <td>mm</td>\n",
       "      <td>ABCE1-C1</td>\n",
       "      <td>11</td>\n",
       "      <td>ABCE1</td>\n",
       "      <td>C</td>\n",
       "    </tr>\n",
       "  </tbody>\n",
       "</table>\n",
       "</div>"
      ],
      "text/plain": [
       "    Speaker Speaker_Type       Back_Channel Line_Speaker  \\\n",
       "                                                           \n",
       "0  ABCE1-E1            E  sounds reasonable     ABCE1-P1   \n",
       "1  ABCE1-C1            C             laughs     ABCE1-P1   \n",
       "2  ABCE1-P1            P                yes     ABCE1-C1   \n",
       "3  ABCE1-E1            E                 mm     ABCE1-C1   \n",
       "4  ABCE1-E1            E                 mm     ABCE1-C1   \n",
       "\n",
       "   Segment_Utterance_Number Segment Line_Speaker_Type  \n",
       "                                                       \n",
       "0                         3   ABCE1                 P  \n",
       "1                        10   ABCE1                 P  \n",
       "2                        11   ABCE1                 C  \n",
       "3                        11   ABCE1                 C  \n",
       "4                        11   ABCE1                 C  "
      ]
     },
     "execution_count": 8,
     "metadata": {},
     "output_type": "execute_result"
    }
   ],
   "source": [
    "# modifying data frame column names\n",
    "speaker_df.columns = [\"Speaker\",\"Segment\",\"Speaker_Type\",\"Gender\",\"Name\",\"Number_of_Utterances\"]\n",
    "speaker_df = speaker_df.set_index(\"Speaker\")\n",
    "speaker_df.head()\n",
    "\n",
    "art_df.columns = [\"Speaker\",\"Utterance_Number\",\"Segment\",\"Speaker_Type\",\"Text\",\"Word_Toks\",\"Num_Words\",\"Avg_Word_Length\",\"Sents\",\"Num_Sents\"]\n",
    "art_df = art_df.set_index(keys=[\"Speaker\",\"Utterance_Number\"])\n",
    "art_df.head()\n",
    "\n",
    "bk_df.columns = [\"\",\"Speaker\",\"Speaker_Type\",\"Back_Channel\",\"Line_Speaker\",\"Segment_Utterance_Number\",\"Segment\",\"Line_Speaker_Type\"]\n",
    "bk_df = bk_df.set_index(\"\")\n",
    "bk_df.head()"
   ]
  },
  {
   "cell_type": "markdown",
   "metadata": {},
   "source": [
    "### Speakers Split by Role:"
   ]
  },
  {
   "cell_type": "code",
   "execution_count": 14,
   "metadata": {},
   "outputs": [],
   "source": [
    "# dataframe of presenters\n",
    "P_df=speaker_df.loc[speaker_df[\"Speaker_Type\"]=='P',:]\n",
    "\n",
    "# dataframe of callers\n",
    "C_df=speaker_df.loc[speaker_df[\"Speaker_Type\"]=='C',:]\n",
    "\n",
    "# dataframe of experts\n",
    "E_df=speaker_df.loc[speaker_df[\"Speaker_Type\"]=='E',:]"
   ]
  },
  {
   "cell_type": "code",
   "execution_count": 16,
   "metadata": {},
   "outputs": [
    {
     "data": {
      "text/html": [
       "<div>\n",
       "<style scoped>\n",
       "    .dataframe tbody tr th:only-of-type {\n",
       "        vertical-align: middle;\n",
       "    }\n",
       "\n",
       "    .dataframe tbody tr th {\n",
       "        vertical-align: top;\n",
       "    }\n",
       "\n",
       "    .dataframe thead th {\n",
       "        text-align: right;\n",
       "    }\n",
       "</style>\n",
       "<table border=\"1\" class=\"dataframe\">\n",
       "  <thead>\n",
       "    <tr style=\"text-align: right;\">\n",
       "      <th></th>\n",
       "      <th>Segment</th>\n",
       "      <th>Speaker_Type</th>\n",
       "      <th>Gender</th>\n",
       "      <th>Name</th>\n",
       "      <th>Number_of_Utterances</th>\n",
       "    </tr>\n",
       "    <tr>\n",
       "      <th>Speaker</th>\n",
       "      <th></th>\n",
       "      <th></th>\n",
       "      <th></th>\n",
       "      <th></th>\n",
       "      <th></th>\n",
       "    </tr>\n",
       "  </thead>\n",
       "  <tbody>\n",
       "    <tr>\n",
       "      <th>ABCE1-P1</th>\n",
       "      <td>ABCE1</td>\n",
       "      <td>P</td>\n",
       "      <td>M</td>\n",
       "      <td>Simon Marnie</td>\n",
       "      <td>155</td>\n",
       "    </tr>\n",
       "    <tr>\n",
       "      <th>ABCE2-P1</th>\n",
       "      <td>ABCE2</td>\n",
       "      <td>P</td>\n",
       "      <td>M</td>\n",
       "      <td>Simon Marnie</td>\n",
       "      <td>233</td>\n",
       "    </tr>\n",
       "    <tr>\n",
       "      <th>ABCE3-P1</th>\n",
       "      <td>ABCE3</td>\n",
       "      <td>P</td>\n",
       "      <td>F</td>\n",
       "      <td>Lynne Haultain</td>\n",
       "      <td>129</td>\n",
       "    </tr>\n",
       "    <tr>\n",
       "      <th>ABCE3-P2</th>\n",
       "      <td>ABCE3</td>\n",
       "      <td>P</td>\n",
       "      <td>F</td>\n",
       "      <td>Jurate Sasnaitis</td>\n",
       "      <td>56</td>\n",
       "    </tr>\n",
       "    <tr>\n",
       "      <th>ABCE4-P1</th>\n",
       "      <td>ABCE4</td>\n",
       "      <td>P</td>\n",
       "      <td>F</td>\n",
       "      <td>Kelly Higgins-Devine</td>\n",
       "      <td>23</td>\n",
       "    </tr>\n",
       "    <tr>\n",
       "      <th>ABCNE1-P1</th>\n",
       "      <td>ABCNE1</td>\n",
       "      <td>P</td>\n",
       "      <td>M</td>\n",
       "      <td>Trevor Jackson</td>\n",
       "      <td>64</td>\n",
       "    </tr>\n",
       "    <tr>\n",
       "      <th>ABCNE2-P1</th>\n",
       "      <td>ABCNE2</td>\n",
       "      <td>P</td>\n",
       "      <td>M</td>\n",
       "      <td>Trevor Jackson</td>\n",
       "      <td>58</td>\n",
       "    </tr>\n",
       "    <tr>\n",
       "      <th>COME1-P1</th>\n",
       "      <td>COME1</td>\n",
       "      <td>P</td>\n",
       "      <td>M</td>\n",
       "      <td>Luke Bona</td>\n",
       "      <td>67</td>\n",
       "    </tr>\n",
       "    <tr>\n",
       "      <th>COME2-P1</th>\n",
       "      <td>COME2</td>\n",
       "      <td>P</td>\n",
       "      <td>M</td>\n",
       "      <td>Luke Bona</td>\n",
       "      <td>68</td>\n",
       "    </tr>\n",
       "    <tr>\n",
       "      <th>COME3-P1</th>\n",
       "      <td>COME3</td>\n",
       "      <td>P</td>\n",
       "      <td>M</td>\n",
       "      <td>Luke Bona</td>\n",
       "      <td>61</td>\n",
       "    </tr>\n",
       "    <tr>\n",
       "      <th>COME5-P1</th>\n",
       "      <td>COME5</td>\n",
       "      <td>P</td>\n",
       "      <td>M</td>\n",
       "      <td>Spencer</td>\n",
       "      <td>65</td>\n",
       "    </tr>\n",
       "    <tr>\n",
       "      <th>COME5-P2</th>\n",
       "      <td>COME5</td>\n",
       "      <td>P</td>\n",
       "      <td>F</td>\n",
       "      <td>Sharina</td>\n",
       "      <td>491</td>\n",
       "    </tr>\n",
       "  </tbody>\n",
       "</table>\n",
       "</div>"
      ],
      "text/plain": [
       "          Segment Speaker_Type Gender                  Name  \\\n",
       "Speaker                                                       \n",
       "ABCE1-P1    ABCE1            P      M          Simon Marnie   \n",
       "ABCE2-P1    ABCE2            P      M          Simon Marnie   \n",
       "ABCE3-P1    ABCE3            P      F        Lynne Haultain   \n",
       "ABCE3-P2    ABCE3            P      F      Jurate Sasnaitis   \n",
       "ABCE4-P1    ABCE4            P      F  Kelly Higgins-Devine   \n",
       "ABCNE1-P1  ABCNE1            P      M        Trevor Jackson   \n",
       "ABCNE2-P1  ABCNE2            P      M        Trevor Jackson   \n",
       "COME1-P1    COME1            P      M             Luke Bona   \n",
       "COME2-P1    COME2            P      M             Luke Bona   \n",
       "COME3-P1    COME3            P      M             Luke Bona   \n",
       "COME5-P1    COME5            P      M               Spencer   \n",
       "COME5-P2    COME5            P      F               Sharina   \n",
       "\n",
       "           Number_of_Utterances  \n",
       "Speaker                          \n",
       "ABCE1-P1                    155  \n",
       "ABCE2-P1                    233  \n",
       "ABCE3-P1                    129  \n",
       "ABCE3-P2                     56  \n",
       "ABCE4-P1                     23  \n",
       "ABCNE1-P1                    64  \n",
       "ABCNE2-P1                    58  \n",
       "COME1-P1                     67  \n",
       "COME2-P1                     68  \n",
       "COME3-P1                     61  \n",
       "COME5-P1                     65  \n",
       "COME5-P2                    491  "
      ]
     },
     "execution_count": 16,
     "metadata": {},
     "output_type": "execute_result"
    }
   ],
   "source": [
    "P_df"
   ]
  },
  {
   "cell_type": "markdown",
   "metadata": {},
   "source": [
    "### How many Speakers are there for each Role?"
   ]
  },
  {
   "cell_type": "code",
   "execution_count": 19,
   "metadata": {},
   "outputs": [
    {
     "data": {
      "text/plain": [
       "<matplotlib.axes._subplots.AxesSubplot object at 0x02FDEDB0>"
      ]
     },
     "execution_count": 19,
     "metadata": {},
     "output_type": "execute_result"
    },
    {
     "data": {
      "text/plain": [
       "<matplotlib.text.Text object at 0x03029290>"
      ]
     },
     "execution_count": 19,
     "metadata": {},
     "output_type": "execute_result"
    },
    {
     "data": {
      "text/plain": [
       "<matplotlib.text.Text object at 0x02FF4890>"
      ]
     },
     "execution_count": 19,
     "metadata": {},
     "output_type": "execute_result"
    },
    {
     "data": {
      "text/plain": [
       "<matplotlib.text.Text object at 0x03016E70>"
      ]
     },
     "execution_count": 19,
     "metadata": {},
     "output_type": "execute_result"
    },
    {
     "data": {
      "image/png": "[encoded data removed]",
      "text/plain": [
       "<matplotlib.figure.Figure object at 0x02FA36D0>"
      ]
     },
     "metadata": {},
     "output_type": "display_data"
    }
   ],
   "source": [
    "# Number of Speakers per Role\n",
    "speaker_df[\"Speaker_Type\"].value_counts().reindex([\"P\",\"C\",\"E\"]).plot.bar()\n",
    "plt.title(\"Number of Speakers per Role\")\n",
    "plt.xlabel(\"Speaker Type\")\n",
    "plt.ylabel(\"Number of Speakers\")\n",
    "plt.show()"
   ]
  },
  {
   "cell_type": "code",
   "execution_count": 41,
   "metadata": {},
   "outputs": [
    {
     "name": "stdout",
     "output_type": "stream",
     "text": [
      "Total number of turns:\n"
     ]
    },
    {
     "data": {
      "text/plain": [
       "1470"
      ]
     },
     "execution_count": 41,
     "metadata": {},
     "output_type": "execute_result"
    },
    {
     "data": {
      "text/plain": [
       "1505"
      ]
     },
     "execution_count": 41,
     "metadata": {},
     "output_type": "execute_result"
    },
    {
     "data": {
      "text/plain": [
       "1464"
      ]
     },
     "execution_count": 41,
     "metadata": {},
     "output_type": "execute_result"
    },
    {
     "name": "stdout",
     "output_type": "stream",
     "text": [
      "Average number of turns per speaker in each role:\n"
     ]
    },
    {
     "data": {
      "text/plain": [
       "122.5"
      ]
     },
     "execution_count": 41,
     "metadata": {},
     "output_type": "execute_result"
    },
    {
     "data": {
      "text/plain": [
       "11.23134328358209"
      ]
     },
     "execution_count": 41,
     "metadata": {},
     "output_type": "execute_result"
    },
    {
     "data": {
      "text/plain": [
       "91.5"
      ]
     },
     "execution_count": 41,
     "metadata": {},
     "output_type": "execute_result"
    }
   ],
   "source": [
    "print(\"Total number of turns:\")\n",
    "P_df[\"Number_of_Utterances\"].sum()\n",
    "C_df[\"Number_of_Utterances\"].sum()\n",
    "E_df[\"Number_of_Utterances\"].sum() \n",
    "\n",
    "print(\"Average number of turns per speaker in each role:\")\n",
    "P_df[\"Number_of_Utterances\"].mean()\n",
    "C_df[\"Number_of_Utterances\"].mean()\n",
    "E_df[\"Number_of_Utterances\"].mean()"
   ]
  },
  {
   "cell_type": "markdown",
   "metadata": {},
   "source": [
    "Across the corpus, the three speaker types have about the same number of total turns. So even though there are more callers speaking fewer lines and fewer presenters speaking more lines, the corpus is equally represented in regards to the number of turns by speaker type."
   ]
  },
  {
   "cell_type": "markdown",
   "metadata": {},
   "source": [
    "### Average Sentence Length by Speaker Type:"
   ]
  },
  {
   "cell_type": "code",
   "execution_count": 35,
   "metadata": {},
   "outputs": [
    {
     "name": "stdout",
     "output_type": "stream",
     "text": [
      "Avg Length of Presenter Sentences: 15.368326722548709\n",
      "Avg Length of Caller Sentences: 12.838447706750003\n",
      "Avg Length of Expert Sentences: 18.63136134917563\n"
     ]
    }
   ],
   "source": [
    "# These numbers come from cells 44 - 45 in process-art-corpus.ipynb\n",
    "# and are based on the .describe() method\n",
    "\n",
    "\n",
    "print(\"Avg Length of Presenter Sentences:\",str(23.700680/1.542177))\n",
    "print(\"Avg Length of Caller Sentences:\",str(16.950166/1.320266))\n",
    "print(\"Avg Length of Expert Sentences:\",str(30.517760/1.637978))\n",
    "\n",
    "# # Data Frames of Texts Split by Role:\n",
    "# print(\"Presenter Lines Data Frame:\")\n",
    "# P_lines_df = art_df.loc[art_df[\"Speaker_Type\"]=='P',:]\n",
    "# P_lines_df.head()\n",
    "# P_lines_df.describe() # avg word len = 3.43\n",
    "\n",
    "# print(\"Caller Lines Data Frame:\")\n",
    "# C_lines_df = art_df.loc[art_df[\"Speaker_Type\"]=='C',:]\n",
    "# C_lines_df.head()\n",
    "# C_lines_df.describe() # avg word len = 3.13\n",
    "\n",
    "# print(\"Expert Lines Data Frame:\")\n",
    "# E_lines_df = art_df.loc[art_df[\"Speaker_Type\"]=='E',:]\n",
    "# E_lines_df.head()\n",
    "# E_lines_df.describe() # avg word len = 3.38"
   ]
  },
  {
   "cell_type": "markdown",
   "metadata": {},
   "source": [
    "### How many Males vs. Females?"
   ]
  },
  {
   "cell_type": "code",
   "execution_count": 20,
   "metadata": {},
   "outputs": [
    {
     "data": {
      "text/plain": [
       "<matplotlib.axes._subplots.AxesSubplot object at 0x0A720570>"
      ]
     },
     "execution_count": 20,
     "metadata": {},
     "output_type": "execute_result"
    },
    {
     "data": {
      "text/plain": [
       "<matplotlib.text.Text object at 0x0A72DFB0>"
      ]
     },
     "execution_count": 20,
     "metadata": {},
     "output_type": "execute_result"
    },
    {
     "data": {
      "text/plain": [
       "<matplotlib.text.Text object at 0x0A7283D0>"
      ]
     },
     "execution_count": 20,
     "metadata": {},
     "output_type": "execute_result"
    },
    {
     "data": {
      "text/plain": [
       "<matplotlib.text.Text object at 0x0A64AB50>"
      ]
     },
     "execution_count": 20,
     "metadata": {},
     "output_type": "execute_result"
    },
    {
     "data": {
      "image/png": "[encoded data removed]",
      "text/plain": [
       "<matplotlib.figure.Figure object at 0x0301C670>"
      ]
     },
     "metadata": {},
     "output_type": "display_data"
    }
   ],
   "source": [
    "speaker_df[\"Gender\"].value_counts().reindex([\"M\",\"F\"]).plot.bar()\n",
    "plt.title(\"Number of Males and Female Speakers in the Australian Radio Talkback Corpus\")\n",
    "plt.xlabel(\"Gender\")\n",
    "plt.ylabel(\"Number of Speakers\")\n",
    "plt.show()"
   ]
  },
  {
   "cell_type": "markdown",
   "metadata": {},
   "source": [
    "### How do Males and Females compare by Role?"
   ]
  },
  {
   "cell_type": "code",
   "execution_count": 22,
   "metadata": {},
   "outputs": [
    {
     "data": {
      "text/plain": [
       "<matplotlib.axes._subplots.AxesSubplot object at 0x03062F10>"
      ]
     },
     "execution_count": 22,
     "metadata": {},
     "output_type": "execute_result"
    },
    {
     "data": {
      "text/plain": [
       "<matplotlib.text.Text object at 0x0AA5EC90>"
      ]
     },
     "execution_count": 22,
     "metadata": {},
     "output_type": "execute_result"
    },
    {
     "data": {
      "text/plain": [
       "<matplotlib.text.Text object at 0x0A747B50>"
      ]
     },
     "execution_count": 22,
     "metadata": {},
     "output_type": "execute_result"
    },
    {
     "data": {
      "text/plain": [
       "<matplotlib.text.Text object at 0x0AA68590>"
      ]
     },
     "execution_count": 22,
     "metadata": {},
     "output_type": "execute_result"
    },
    {
     "data": {
      "image/png": "[encoded data removed]",
      "text/plain": [
       "<matplotlib.figure.Figure object at 0x0A696BF0>"
      ]
     },
     "metadata": {},
     "output_type": "display_data"
    },
    {
     "data": {
      "text/plain": [
       "<matplotlib.axes._subplots.AxesSubplot object at 0x0AA93210>"
      ]
     },
     "execution_count": 22,
     "metadata": {},
     "output_type": "execute_result"
    },
    {
     "data": {
      "text/plain": [
       "<matplotlib.text.Text object at 0x0AAB6430>"
      ]
     },
     "execution_count": 22,
     "metadata": {},
     "output_type": "execute_result"
    },
    {
     "data": {
      "text/plain": [
       "<matplotlib.text.Text object at 0x0AA8D0F0>"
      ]
     },
     "execution_count": 22,
     "metadata": {},
     "output_type": "execute_result"
    },
    {
     "data": {
      "text/plain": [
       "<matplotlib.text.Text object at 0x030266D0>"
      ]
     },
     "execution_count": 22,
     "metadata": {},
     "output_type": "execute_result"
    },
    {
     "data": {
      "image/png": "[encoded data removed]",
      "text/plain": [
       "<matplotlib.figure.Figure object at 0x0AA9D470>"
      ]
     },
     "metadata": {},
     "output_type": "display_data"
    },
    {
     "data": {
      "text/plain": [
       "<matplotlib.axes._subplots.AxesSubplot object at 0x0AA89450>"
      ]
     },
     "execution_count": 22,
     "metadata": {},
     "output_type": "execute_result"
    },
    {
     "data": {
      "text/plain": [
       "<matplotlib.text.Text object at 0x0AD24830>"
      ]
     },
     "execution_count": 22,
     "metadata": {},
     "output_type": "execute_result"
    },
    {
     "data": {
      "text/plain": [
       "<matplotlib.text.Text object at 0x0AA686D0>"
      ]
     },
     "execution_count": 22,
     "metadata": {},
     "output_type": "execute_result"
    },
    {
     "data": {
      "text/plain": [
       "<matplotlib.text.Text object at 0x0AD15230>"
      ]
     },
     "execution_count": 22,
     "metadata": {},
     "output_type": "execute_result"
    },
    {
     "data": {
      "image/png": "[encoded data removed]",
      "text/plain": [
       "<matplotlib.figure.Figure object at 0x0AD04830>"
      ]
     },
     "metadata": {},
     "output_type": "display_data"
    }
   ],
   "source": [
    "P_df[\"Gender\"].value_counts().reindex([\"M\",\"F\"]).plot.bar()\n",
    "plt.title(\"Male vs. Female Presenters\")\n",
    "plt.xlabel(\"Gender\")\n",
    "plt.ylabel(\"Number of Speakers\")\n",
    "plt.show()\n",
    "\n",
    "C_df[\"Gender\"].value_counts().reindex([\"M\",\"F\"]).plot.bar()\n",
    "plt.title(\"Male vs. Female Callers\")\n",
    "plt.xlabel(\"Gender\")\n",
    "plt.ylabel(\"Number of Speakers\")\n",
    "plt.show()\n",
    "\n",
    "E_df[\"Gender\"].value_counts().reindex([\"M\",\"F\"]).plot.bar()\n",
    "plt.title(\"Male vs. Female Callers\")\n",
    "plt.xlabel(\"Gender\")\n",
    "plt.ylabel(\"Number of Speakers\")\n",
    "plt.show()"
   ]
  },
  {
   "cell_type": "markdown",
   "metadata": {},
   "source": [
    "### What Speaker Type has the most Back Channels?\n",
    "\n",
    "Callers"
   ]
  },
  {
   "cell_type": "code",
   "execution_count": 34,
   "metadata": {},
   "outputs": [
    {
     "data": {
      "text/plain": [
       "P    467\n",
       "C    968\n",
       "E    743\n",
       "Name: Speaker_Type, dtype: int64"
      ]
     },
     "execution_count": 34,
     "metadata": {},
     "output_type": "execute_result"
    }
   ],
   "source": [
    "# number of back channels per speaker type\n",
    "bk_df[\"Speaker_Type\"].value_counts().reindex([\"P\",\"C\",\"E\"])"
   ]
  },
  {
   "cell_type": "code",
   "execution_count": 31,
   "metadata": {},
   "outputs": [
    {
     "data": {
      "text/plain": [
       "<matplotlib.axes._subplots.AxesSubplot object at 0x0AD75290>"
      ]
     },
     "execution_count": 31,
     "metadata": {},
     "output_type": "execute_result"
    },
    {
     "data": {
      "text/plain": [
       "<matplotlib.text.Text object at 0x0B00B090>"
      ]
     },
     "execution_count": 31,
     "metadata": {},
     "output_type": "execute_result"
    },
    {
     "data": {
      "text/plain": [
       "<matplotlib.text.Text object at 0x0AFF18D0>"
      ]
     },
     "execution_count": 31,
     "metadata": {},
     "output_type": "execute_result"
    },
    {
     "data": {
      "text/plain": [
       "<matplotlib.text.Text object at 0x0AAA6D70>"
      ]
     },
     "execution_count": 31,
     "metadata": {},
     "output_type": "execute_result"
    },
    {
     "data": {
      "image/png": "[encoded data removed]",
      "text/plain": [
       "<matplotlib.figure.Figure object at 0x0A808950>"
      ]
     },
     "metadata": {},
     "output_type": "display_data"
    }
   ],
   "source": [
    "bk_df[\"Speaker_Type\"].value_counts().reindex([\"P\",\"C\",\"E\"]).plot.bar()\n",
    "plt.title(\"Back Channels by Speaker Type\")\n",
    "plt.xlabel(\"Speaker Type\")\n",
    "plt.ylabel(\"Number of Back Channels\")\n",
    "plt.show()"
   ]
  },
  {
   "cell_type": "markdown",
   "metadata": {},
   "source": [
    "### What Speaker Type has the most number of Back Channels uttered during their lines?\n",
    "\n",
    "Experts"
   ]
  },
  {
   "cell_type": "code",
   "execution_count": 33,
   "metadata": {},
   "outputs": [
    {
     "data": {
      "text/plain": [
       "P    730\n",
       "C    554\n",
       "E    894\n",
       "Name: Line_Speaker_Type, dtype: int64"
      ]
     },
     "execution_count": 33,
     "metadata": {},
     "output_type": "execute_result"
    }
   ],
   "source": [
    "bk_df[\"Line_Speaker_Type\"].value_counts().reindex([\"P\",\"C\",\"E\"])"
   ]
  },
  {
   "cell_type": "code",
   "execution_count": 30,
   "metadata": {},
   "outputs": [
    {
     "data": {
      "text/plain": [
       "<matplotlib.axes._subplots.AxesSubplot object at 0x0A74C110>"
      ]
     },
     "execution_count": 30,
     "metadata": {},
     "output_type": "execute_result"
    },
    {
     "data": {
      "text/plain": [
       "<matplotlib.text.Text object at 0x0AFC6FF0>"
      ]
     },
     "execution_count": 30,
     "metadata": {},
     "output_type": "execute_result"
    },
    {
     "data": {
      "text/plain": [
       "<matplotlib.text.Text object at 0x0AFAC130>"
      ]
     },
     "execution_count": 30,
     "metadata": {},
     "output_type": "execute_result"
    },
    {
     "data": {
      "text/plain": [
       "<matplotlib.text.Text object at 0x0AFB6D90>"
      ]
     },
     "execution_count": 30,
     "metadata": {},
     "output_type": "execute_result"
    },
    {
     "data": {
      "image/png": "[encoded data removed]",
      "text/plain": [
       "<matplotlib.figure.Figure object at 0x0AD4C190>"
      ]
     },
     "metadata": {},
     "output_type": "display_data"
    }
   ],
   "source": [
    "bk_df[\"Line_Speaker_Type\"].value_counts().reindex([\"P\",\"C\",\"E\"]).plot.bar()\n",
    "plt.title(\"Back Channels by Line Speaker Type\")\n",
    "plt.xlabel(\"Line Speaker Type\")\n",
    "plt.ylabel(\"Number of Back Channels\")\n",
    "plt.show()"
   ]
  },
  {
   "cell_type": "markdown",
   "metadata": {},
   "source": [
    "### What are the Back Channels? Which ones are most common?"
   ]
  },
  {
   "cell_type": "code",
   "execution_count": 32,
   "metadata": {},
   "outputs": [
    {
     "data": {
      "text/plain": [
       "mm              266\n",
       "yeah            249\n",
       "yes             217\n",
       "laughs          178\n",
       "inaudible       175\n",
       "mhm             129\n",
       "right           125\n",
       "yep              76\n",
       "okay             52\n",
       "laugh            39\n",
       "oh               27\n",
       "oh okay          21\n",
       "uh               18\n",
       "no               18\n",
       "that's right     12\n",
       "thank you        11\n",
       "um               11\n",
       "uhuh             10\n",
       "ah                9\n",
       "alright           9\n",
       "Name: Back_Channel, dtype: int64"
      ]
     },
     "execution_count": 32,
     "metadata": {},
     "output_type": "execute_result"
    }
   ],
   "source": [
    "bk_df[\"Back_Channel\"].value_counts()[:20]"
   ]
  }
 ],
 "metadata": {
  "kernelspec": {
   "display_name": "Python 3",
   "language": "python",
   "name": "python3"
  },
  "language_info": {
   "codemirror_mode": {
    "name": "ipython",
    "version": 3
   },
   "file_extension": ".py",
   "mimetype": "text/x-python",
   "name": "python",
   "nbconvert_exporter": "python",
   "pygments_lexer": "ipython3",
   "version": "3.5.2"
  }
 },
 "nbformat": 4,
 "nbformat_minor": 2
}
