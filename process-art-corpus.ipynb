{
 "cells": [
  {
   "cell_type": "markdown",
   "metadata": {},
   "source": [
    "Alicia Sigmon\n",
    "\n",
    "als333@pitt.edu\n",
    "\n",
    "11/19/2017\n",
    "\n",
    "# Discourse Analysis of the Australian Radio Talkback Corpus\n",
    "This file creates data frames for speakers, lines of text, and back channels. See [analysis.ipynb](https://github.com/Data-Science-for-Linguists/Discourse-Analysis-ART-Corpus/blob/master/analysis.ipynb) for my analysis."
   ]
  },
  {
   "cell_type": "markdown",
   "metadata": {},
   "source": [
    "### Table of Contents\n",
    "- [About the Corpus](#About-the-Corpus)\n",
    "- [Discourse Analysis Goals](#Discourse-Analysis-Goals)\n",
    "- [Getting the Files](#Getting-the-Files)\n",
    "- [Getting the Texts](#Getting-the-Texts)\n",
    "    - [Original Speaker Data Format in the Raw Text Files](#Original-Speaker-Data-Format-in-the-Raw-Text-Files)\n",
    "    - [Splitting NAT4-raw.txt into 2 files](#Splitting-NAT4-raw.txt-into-2-files)\n",
    "    - [Trial Run Splitting Texts by Lines](#Trial-Run-Splitting-Texts-by-Lines)\n",
    "- [Data Cleaning](#Data-Cleaning)\n",
    "- [Speaker Information](#Speaker-Information)\n",
    "    - [Creating Unique Speaker Ids](#Creating-Unique-Speaker-Ids)\n",
    "    - [Speaker Dictionary](#Speaker-Dictionary)\n",
    "    - [Speaker Data Frame](#Speaker-Data-Frame)\n",
    "- [Splitting the Texts by Line](#Splitting-the-Texts-by-Line)\n",
    "     - [List of Each Line of Text](#List-of-Each-Line-of-Text)\n",
    "     - [Text Lines Data Frame](#Text-Lines-Data-Frame)\n",
    "- [Adding Number of Utterances per Speaker to the Speaker Data Frame](#Adding-Number-of-Utterances-per-Speaker-to-the-Speaker-Data-Frame)\n",
    "- [Creating Separate Presenter, Caller, and Expert Data Frames](#Creating-Separate-Presenter,-Caller,-and-Expert-Data-Frames)\n",
    "- [Calculating Average Sentence and Word Lengths by Speaker Type](#Calculating-Average-Sentence-and-Word-Lengths-by-Speaker-Type)\n",
    "    - [Trial Run Word and Sentence Tokeninzation](#Trial-Run-Word-and-Sentence-Tokeninzation)\n",
    "    - [Word and Sentence Tokenization](#Word-and-Sentence-Tokenization)\n",
    "    - [Expanding art_df to Include Word and Sentence Information](#Expanding-art_df-to-Include-Word-and-Sentence-Information)\n",
    "- [Back Channels](#Back-Channels)\n",
    "    - [Trial Run](#Trial-Run)\n",
    "    - [Finding Back Channels](#Finding-Back-Channels)\n",
    "    - [Back Channels Data Frame](#Back-Channels-Data-Frame)\n",
    "- [Writing Data Frames to CSV files](#Writing-Data-Frames-to-CSV-files)\n",
    "- [Analysis](#Analysis)"
   ]
  },
  {
   "cell_type": "markdown",
   "metadata": {},
   "source": [
    "## About the Corpus\n",
    "- The Australian Radio Talkback corpus contains raw text files of telephone conversations.\n",
    "- These conversations include the speaker's role (presenter, expert, or caller), name, and gender.\n",
    "- The conversations include other verbal cues such as laughter <laugh> and where a speaker says something during another speaker's turn <E1 yeah>. It also notes corrections to the transcription in squirrley brackets {}.\n",
    "\n",
    "## Discourse Analysis Goals\n",
    "- commparing speakers by role and gender\n",
    "- aspects to consider:\n",
    "    - back channels (yeah, uhhu, that's great!)\n",
    "    - vocabulary size (avg word length)\n",
    "    - number of turns, sentences, and words"
   ]
  },
  {
   "cell_type": "code",
   "execution_count": 1,
   "metadata": {},
   "outputs": [
    {
     "name": "stdout",
     "output_type": "stream",
     "text": [
      "Pretty printing has been turned OFF\n"
     ]
    }
   ],
   "source": [
    "%pprint"
   ]
  },
  {
   "cell_type": "code",
   "execution_count": 2,
   "metadata": {},
   "outputs": [],
   "source": [
    "from IPython.core.interactiveshell import InteractiveShell\n",
    "InteractiveShell.ast_node_interactivity = \"all\""
   ]
  },
  {
   "cell_type": "code",
   "execution_count": 3,
   "metadata": {},
   "outputs": [],
   "source": [
    "from nltk.corpus import PlaintextCorpusReader\n",
    "import pandas as pd\n",
    "import nltk\n",
    "import numpy as np\n",
    "import glob"
   ]
  },
  {
   "cell_type": "code",
   "execution_count": 4,
   "metadata": {},
   "outputs": [],
   "source": [
    "ART_fids=glob.glob('C:\\\\Users\\\\sigmo\\\\Documents\\\\Data_Science\\\\Discourse-Analysis-ART-Corpus\\\\data_files\\\\AustralianRadioTalkback\\\\files\\\\Raw\\\\*.txt')"
   ]
  },
  {
   "cell_type": "markdown",
   "metadata": {},
   "source": [
    "**Each filename contains 3-5 letters followed by a number. They all end in -raw.txt.**\n",
    "\n",
    "    ex: ABCE1-raw.txt, NAT4-raw.txt\n",
    "    \n",
    "## Getting the Files"
   ]
  },
  {
   "cell_type": "code",
   "execution_count": 5,
   "metadata": {},
   "outputs": [
    {
     "name": "stdout",
     "output_type": "stream",
     "text": [
      "There are 26 files in this corpus:\n",
      "C:\\Users\\sigmo\\Documents\\Data_Science\\Discourse-Analysis-ART-Corpus\\data_files\\AustralianRadioTalkback\\files\\Raw\\ABCE1-raw.txt\n",
      "C:\\Users\\sigmo\\Documents\\Data_Science\\Discourse-Analysis-ART-Corpus\\data_files\\AustralianRadioTalkback\\files\\Raw\\ABCE2-raw.txt\n",
      "C:\\Users\\sigmo\\Documents\\Data_Science\\Discourse-Analysis-ART-Corpus\\data_files\\AustralianRadioTalkback\\files\\Raw\\ABCE3-raw.txt\n",
      "C:\\Users\\sigmo\\Documents\\Data_Science\\Discourse-Analysis-ART-Corpus\\data_files\\AustralianRadioTalkback\\files\\Raw\\ABCE4-raw.txt\n",
      "C:\\Users\\sigmo\\Documents\\Data_Science\\Discourse-Analysis-ART-Corpus\\data_files\\AustralianRadioTalkback\\files\\Raw\\ABCNE1-raw.txt\n",
      "C:\\Users\\sigmo\\Documents\\Data_Science\\Discourse-Analysis-ART-Corpus\\data_files\\AustralianRadioTalkback\\files\\Raw\\ABCNE2-raw.txt\n",
      "C:\\Users\\sigmo\\Documents\\Data_Science\\Discourse-Analysis-ART-Corpus\\data_files\\AustralianRadioTalkback\\files\\Raw\\COME1-raw.txt\n",
      "C:\\Users\\sigmo\\Documents\\Data_Science\\Discourse-Analysis-ART-Corpus\\data_files\\AustralianRadioTalkback\\files\\Raw\\COME2-raw.txt\n",
      "C:\\Users\\sigmo\\Documents\\Data_Science\\Discourse-Analysis-ART-Corpus\\data_files\\AustralianRadioTalkback\\files\\Raw\\COME3-raw.txt\n",
      "C:\\Users\\sigmo\\Documents\\Data_Science\\Discourse-Analysis-ART-Corpus\\data_files\\AustralianRadioTalkback\\files\\Raw\\COME5-raw.txt\n",
      "C:\\Users\\sigmo\\Documents\\Data_Science\\Discourse-Analysis-ART-Corpus\\data_files\\AustralianRadioTalkback\\files\\Raw\\COME6-raw.txt\n",
      "C:\\Users\\sigmo\\Documents\\Data_Science\\Discourse-Analysis-ART-Corpus\\data_files\\AustralianRadioTalkback\\files\\Raw\\COME7-raw.txt\n",
      "C:\\Users\\sigmo\\Documents\\Data_Science\\Discourse-Analysis-ART-Corpus\\data_files\\AustralianRadioTalkback\\files\\Raw\\COMNE1-raw.txt\n",
      "C:\\Users\\sigmo\\Documents\\Data_Science\\Discourse-Analysis-ART-Corpus\\data_files\\AustralianRadioTalkback\\files\\Raw\\COMNE2-raw.txt\n",
      "C:\\Users\\sigmo\\Documents\\Data_Science\\Discourse-Analysis-ART-Corpus\\data_files\\AustralianRadioTalkback\\files\\Raw\\COMNE3-raw.txt\n",
      "C:\\Users\\sigmo\\Documents\\Data_Science\\Discourse-Analysis-ART-Corpus\\data_files\\AustralianRadioTalkback\\files\\Raw\\COMNE4-raw.txt\n",
      "C:\\Users\\sigmo\\Documents\\Data_Science\\Discourse-Analysis-ART-Corpus\\data_files\\AustralianRadioTalkback\\files\\Raw\\COMNE5-raw.txt\n",
      "C:\\Users\\sigmo\\Documents\\Data_Science\\Discourse-Analysis-ART-Corpus\\data_files\\AustralianRadioTalkback\\files\\Raw\\COMNE6-raw.txt\n",
      "C:\\Users\\sigmo\\Documents\\Data_Science\\Discourse-Analysis-ART-Corpus\\data_files\\AustralianRadioTalkback\\files\\Raw\\COMNE7-raw.txt\n",
      "C:\\Users\\sigmo\\Documents\\Data_Science\\Discourse-Analysis-ART-Corpus\\data_files\\AustralianRadioTalkback\\files\\Raw\\NAT1-raw.txt\n",
      "C:\\Users\\sigmo\\Documents\\Data_Science\\Discourse-Analysis-ART-Corpus\\data_files\\AustralianRadioTalkback\\files\\Raw\\NAT2-raw.txt\n",
      "C:\\Users\\sigmo\\Documents\\Data_Science\\Discourse-Analysis-ART-Corpus\\data_files\\AustralianRadioTalkback\\files\\Raw\\NAT3-raw.txt\n",
      "C:\\Users\\sigmo\\Documents\\Data_Science\\Discourse-Analysis-ART-Corpus\\data_files\\AustralianRadioTalkback\\files\\Raw\\NAT4-raw.txt\n",
      "C:\\Users\\sigmo\\Documents\\Data_Science\\Discourse-Analysis-ART-Corpus\\data_files\\AustralianRadioTalkback\\files\\Raw\\NAT6-raw.txt\n",
      "C:\\Users\\sigmo\\Documents\\Data_Science\\Discourse-Analysis-ART-Corpus\\data_files\\AustralianRadioTalkback\\files\\Raw\\NAT7-raw.txt\n",
      "C:\\Users\\sigmo\\Documents\\Data_Science\\Discourse-Analysis-ART-Corpus\\data_files\\AustralianRadioTalkback\\files\\Raw\\NAT8-raw.txt\n"
     ]
    }
   ],
   "source": [
    "# having trouble with glob..\n",
    "\n",
    "print(\"There are \" + str(len(ART_fids)) + \" files in this corpus:\") # 26\n",
    "for x in ART_fids: \n",
    "    print(x)"
   ]
  },
  {
   "cell_type": "code",
   "execution_count": 6,
   "metadata": {},
   "outputs": [
    {
     "data": {
      "text/plain": [
       "['__add__', '__class__', '__contains__', '__delattr__', '__delitem__', '__dir__', '__doc__', '__eq__', '__format__', '__ge__', '__getattribute__', '__getitem__', '__gt__', '__hash__', '__iadd__', '__imul__', '__init__', '__iter__', '__le__', '__len__', '__lt__', '__mul__', '__ne__', '__new__', '__reduce__', '__reduce_ex__', '__repr__', '__reversed__', '__rmul__', '__setattr__', '__setitem__', '__sizeof__', '__str__', '__subclasshook__', 'append', 'clear', 'copy', 'count', 'extend', 'index', 'insert', 'pop', 'remove', 'reverse', 'sort']"
      ]
     },
     "execution_count": 6,
     "metadata": {},
     "output_type": "execute_result"
    }
   ],
   "source": [
    "dir(ART_fids)"
   ]
  },
  {
   "cell_type": "markdown",
   "metadata": {},
   "source": [
    "## Getting the Texts"
   ]
  },
  {
   "cell_type": "code",
   "execution_count": 7,
   "metadata": {},
   "outputs": [],
   "source": [
    "# Creating a dictionary of each files' text\n",
    "    # keys = filenames\n",
    "    \n",
    "rawtext_dict = {}\n",
    "for fid in ART_fids:     \n",
    "    f=open(fid, 'r')  \n",
    "    last_slash=fid.rindex('\\\\') # the key will be only the file name, not the entire location\n",
    "    rawtext_dict[fid[last_slash+1:]] = f.read()\n",
    "    f.close() "
   ]
  },
  {
   "cell_type": "code",
   "execution_count": 8,
   "metadata": {},
   "outputs": [
    {
     "data": {
      "text/plain": [
       "\"[Presenter 1: Simon Marnie, M] Thanks for that John Hall now John Hall will be listening for the next hour 'cos Angus Stewart is here to take your calls eight-triple-three-one-thousand one-eight-hundred-eight-hundred-seven-oh-two something in the garden that's causing you problems give us a call right now and Angus can I mean y'know he is known in the trade as Mr popergation {propagation} Mr propagation. He's also known for his passion for natives and his love of o orchids am I right so far.\\n\\n[Expert 1: Angus Stewart, M] I guess yeah yeah <laughs>.\\n\\n[P1] He's also known <E1 sounds reasonable> for his ability to open cosposting {composting} toilets so he can tell you anything worm farm problems certainly helped us and although I'm still confused about dry ingredients we might talk about that as well but eight-triple-three-one-thousand one-eight-hundred-eight-hundred-seven-oh-two fine sunny day today top temperatures on the coast of twenty-seven inland thirty degrees Bowral enjoying twen\""
      ]
     },
     "execution_count": 8,
     "metadata": {},
     "output_type": "execute_result"
    }
   ],
   "source": [
    "rawtext_dict['ABCE1-raw.txt'][:1000]\n",
    "# Within this glimpse of the data, the speaker information data format is shown through Presenter 1."
   ]
  },
  {
   "cell_type": "markdown",
   "metadata": {},
   "source": [
    "### Original Speaker Data Format in the Raw Text Files\n",
    "\n",
    "   *There are multiple exceptions to this format that I will address later in the script.*\n",
    "\n",
    "All speaker information is contained within [ ].\n",
    "\n",
    "Each first instance of a speaker is in the following order:\n",
    "    - Speaker Type\n",
    "        - Presenter, Caller, or Expert\n",
    "    - Speaker Number\n",
    "        - the first presenter in a file is Presenter 1, the second presenter is Presenter 2, etc..\n",
    "    - The Speaker's Name\n",
    "        - ex: Simon Marnie\n",
    "    - The Speaker's gender:\n",
    "        - M / F\n",
    "    \n",
    "For every other instance of a speaker's line, the speaker is indicated by P, C, or E followed by their number.\n",
    "    - Ex: [Presenter 1: Simon Marnie, M] == [P1]"
   ]
  },
  {
   "cell_type": "code",
   "execution_count": 9,
   "metadata": {},
   "outputs": [],
   "source": [
    "# print(rawtext_dict['NAT4-raw.txt']) # both NAT4-raw.txt and NAT5-raw.txt are contained within this file\n",
    "# also, Caller 33b: Chris, male <-- fix gender"
   ]
  },
  {
   "cell_type": "markdown",
   "metadata": {},
   "source": [
    "### Splitting NAT4-raw.txt into 2 files\n",
    "\n",
    "**NAT4-raw.txt and NAT5-raw.txt**"
   ]
  },
  {
   "cell_type": "code",
   "execution_count": 10,
   "metadata": {},
   "outputs": [
    {
     "data": {
      "text/plain": [
       "\"[Presenter 1: John Cleary, M] So now it's welcome first to our expert panel. Dr Brian Edgar he is director of theology and public policy for the Evangelical Alliance a mainstream Protestant agency which have a website that canvases electoral issues. Brian welcome <Expert 1: Brian Edgar, M thank you John> to you.\\n\\n[E1] Thank you very much glad to <P1 Victoria> be here.\\n\\n[P1] Victoria Kearney is one of the coordinators of a website called PolMin which looks at lobbying for policies in harmony with\""
      ]
     },
     "execution_count": 10,
     "metadata": {},
     "output_type": "execute_result"
    }
   ],
   "source": [
    "# Modifying the text keys to separate the two radio talk shows from within NAT4-raw.txt to NAT4-raw.txt and NAT5-raw.txt\n",
    "\n",
    "seg2_start = rawtext_dict['NAT4-raw.txt'].rindex('[Presenter 1')   # Location of last mention of Presenter 1\n",
    "seg1 = rawtext_dict['NAT4-raw.txt'][:seg2_start]\n",
    "seg2 = rawtext_dict['NAT4-raw.txt'][seg2_start:]\n",
    "seg2[:500]\n",
    "\n",
    "rawtext_dict['NAT4-raw.txt'] = seg1\n",
    "rawtext_dict['NAT5-raw.txt'] = seg2\n",
    "\n",
    "files = sorted(rawtext_dict.keys()) # creates an accurate file list (ART_fids is missing NAT5-raw.txt!!)"
   ]
  },
  {
   "cell_type": "markdown",
   "metadata": {},
   "source": [
    "### Trial Run Splitting Texts by Lines"
   ]
  },
  {
   "cell_type": "code",
   "execution_count": 11,
   "metadata": {},
   "outputs": [
    {
     "data": {
      "text/plain": [
       "['Hello world', 'how are you', 'a new line', 'another newline', '']"
      ]
     },
     "execution_count": 11,
     "metadata": {},
     "output_type": "execute_result"
    },
    {
     "data": {
      "text/plain": [
       "['Hello world', 'how are you', 'a new line', 'another newline']"
      ]
     },
     "execution_count": 11,
     "metadata": {},
     "output_type": "execute_result"
    }
   ],
   "source": [
    "# How to split lines using regular expressions \n",
    "    # some lines appeared to contain \\r while most contained \\n\n",
    "import re\n",
    "foo = \"Hello world\\n\\nhow are you\\na new line\\r\\nanother newline\\n\"\n",
    "re.split(r'[\\n\\r]+', foo)\n",
    "re.split(r'[\\n\\r]+', foo.strip())"
   ]
  },
  {
   "cell_type": "code",
   "execution_count": 12,
   "metadata": {},
   "outputs": [],
   "source": [
    "# Splitting the texts by line:\n",
    "    # Trial run on the first 3 files and their first 20 lines:\n",
    "\n",
    "for fid in files[:3]: # files includes  NAT5-raw.txt\n",
    "    rawtext = rawtext_dict[fid] # already includes NAT5-raw.txt\n",
    "    rawlines = re.split(r'[\\n\\r]+', rawtext.strip())[:20]\n",
    "#     print(fid)\n",
    "    for l in rawlines:\n",
    "        if ']' in l:\n",
    "            where = l.index(']')\n",
    "            speaker = l[:where+1]\n",
    "            utterance = l[where+2:]\n",
    "#             print(speaker+' '+utterance)\n",
    "        else: \n",
    "#             print('***'+l+'******')    # {program advert}. What to do with these? \n",
    "            pass\n",
    "#     print()"
   ]
  },
  {
   "cell_type": "markdown",
   "metadata": {},
   "source": [
    "## Data Cleaning\n",
    "**Fixing Formatting Errors**"
   ]
  },
  {
   "cell_type": "code",
   "execution_count": 13,
   "metadata": {},
   "outputs": [],
   "source": [
    "# Data Cleaning:\n",
    "\n",
    "rawtext_dict['ABCE4-raw.txt'] = rawtext_dict['ABCE4-raw.txt'].replace('[E2]', '[E1]')\n",
    "\n",
    "# There is no E2 in this segment, but E2 is erroneously mentioned. Replacing. \n",
    "\n",
    "# $ grep Expert  ABCE4-raw.txt \n",
    "# [Expert 1: Ric Nattrass, M] Uh blue-tongues'd be {break} unlikely ...\n",
    "\n",
    "# $ grep E2  ABCE4-raw.txt \n",
    "# [E2] Yeah.\n",
    "# [E2] Yeah okay so your yours up there is the spotted catbird if you're on <C3 mm> ...\n",
    "\n",
    "\n",
    "rawtext_dict['COME2-raw.txt'] = rawtext_dict['COME2-raw.txt'].replace('[C5: Jenny, F]', '[Caller 5: Jenny, F]')\n",
    "\n",
    "\n",
    "# $ grep \"C5\" COME2-raw.txt \n",
    "# [C5: Jenny, F] Hello how are you.\n",
    "# [C5] That's good. Um I was just wondering for some information on my house at ...\n",
    "# [C5] Oh have I.\n",
    "\n",
    "rawtext_dict['ABCE3-raw.txt'] = rawtext_dict['ABCE3-raw.txt'].replace('[Caller 11, Robyn, F]', '[Caller 11: Robyn, F]')\n",
    "rawtext_dict['COME1-raw.txt'] = rawtext_dict['COME1-raw.txt'].replace('[Caller 23, Maureen, F]', '[Caller 23: Maureen, F]')\n",
    "rawtext_dict['NAT7-raw.txt'] = rawtext_dict['NAT7-raw.txt'].replace('[Caller 12, Brian, M]', '[Caller 12: Brian, M]')\n",
    "rawtext_dict['NAT8-raw.txt'] = rawtext_dict['NAT8-raw.txt'].replace('[Caller 10, Brett, M]', '[Caller 10: Brett, M]')\n",
    "\n",
    "rawtext_dict['NAT4-raw.txt'] = rawtext_dict['NAT4-raw.txt'].replace('[Caller 33b: Chris, male]', '[Caller 33b: Chris, M]')\n",
    "\n",
    "\n",
    "# $ grep -P 'Caller \\d+,' *\n",
    "# ABCE3-raw.txt:[Caller 11, Robyn, F] Hi um I read the book quite a while ago and ...\n",
    "# COME1-raw.txt:[Caller 23, Maureen, F] Yes good morning.\n",
    "# NAT7-raw.txt:[Caller 12, Brian, M] Yeah.\n",
    "# NAT8-raw.txt:[Caller 10, Brett, M] How're you going.\n",
    "\n",
    "\n",
    "rawtext_dict['COME3-raw.txt'] = rawtext_dict['COME3-raw.txt'].replace('[Caller 9 Maureen, F]', '[Caller 9: Maureen, F]')\n",
    "\n",
    "# $ grep -P '\\[\\S+ \\d+ ' *\n",
    "# COME3-raw.txt:[Caller 9 Maureen, F] Good morning Dr Graham.\n",
    "\n",
    "\n",
    "rawtext_dict['COME3-raw.txt'] = rawtext_dict['COME3-raw.txt'].replace('[CE1]', '[E1]')\n",
    "\n",
    "# $ grep CE1 *\n",
    "# COME3-raw.txt:[CE1] If it did become serious <,> \n",
    "\n",
    "\n",
    "rawtext_dict['COME6-raw.txt'] = rawtext_dict['COME6-raw.txt'].replace('P1a', 'P1')\n",
    "rawtext_dict['COME6-raw.txt'] = rawtext_dict['COME6-raw.txt'].replace('[P1b Paul Murray, M]', '[P1]').replace('P1b', 'P1')\n",
    "\n",
    "# COME6 presenter encoding scheme was generally messed up.\n",
    "\n",
    "\n",
    "rawtext_dict['COMNE4-raw.txt'] = rawtext_dict['COMNE4-raw.txt'].replace('[C14: Noelene, F]', '[Caller 14: Noelene, F]')\n",
    "\n",
    "rawtext_dict['NAT1-raw.txt'] = rawtext_dict['NAT1-raw.txt'].replace('[C11]', '[C10]')\n",
    "\n",
    "rawtext_dict['NAT5-raw.txt'] = rawtext_dict['NAT5-raw.txt'].replace('[E1] Thank you very much glad to', '[Expert 1: Brian Edgar, M] Thank you very much glad to')\n",
    "rawtext_dict['NAT5-raw.txt'] = rawtext_dict['NAT5-raw.txt'].replace('<Expert 1: Brian Edgar, M thank you John>', '<E1 thank you John>')\n",
    "\n",
    "rawtext_dict['COME3-raw.txt'] = rawtext_dict['COME3-raw.txt'].replace('[C4 Nah <E1 it ih thi> and because','[C4] Nah <E1 it ih thi> and because')\n",
    "rawtext_dict['COME3-raw.txt'] = rawtext_dict['COME3-raw.txt'].replace('[E1 No no no <P1 we haven\\'t had one> we','[E1] No no no <P1 we haven\\'t had one> we')\n",
    "\n",
    "# This is Marianna's only line - her speach is untranscribed: therefore I will skip her as a speaker\n",
    "# print(rawtext_dict['NAT7-raw.txt'])\n",
    "# rawtext_dict['NAT7-raw.txt'] = rawtext_dict['NAT7-raw.txt'].replace('{Caller 2: Marianna, F untranscribed overseas caller 04:32-07:18}','[Caller 2: Marianna, F untranscribed overseas caller 04:32-07:18]')\n",
    "\n",
    "# print(rawtext_dict['COME3-raw.txt'])\n",
    "rawtext_dict['COME3-raw.txt'] = rawtext_dict['COME3-raw.txt'].replace('of\\ncholesterol excess cigarette smoking and of course a lack of exercise and uh central truncal obesity','of cholesterol excess cigarette smoking and of course a lack of exercise and uh central truncal obesity')\n",
    "\n",
    "rawtext_dict['COME1-raw.txt'] = rawtext_dict['COME1-raw.txt'].replace('remember the name\\n<inaudible> chrysanthemums','remember the name <inaudible> chrysanthemums')\n",
    "\n",
    "# grep -P \"Juicy\" \"COME6-raw.txt\"\n",
    "rawtext_dict['COME6-raw.txt'] = rawtext_dict['COME6-raw.txt'].replace('from a beautiful name called Juicy.\\n\\nJuicy.','from a beautiful name called Juicy. Juicy.')\n",
    "\n",
    "# discovered while word and sentence tokenizing -- I was looking at all items within { } and < > so that I could remove them for the tokenization\n",
    "# and saw that in this line, P1 is quoting Michelle, and the quote is inside { } -- I decided to remove the { } since it is still P1 speaking. I also added a period at the end.\n",
    "\n",
    "# grep -P '{Hi Linda I have a Chinese lucky' 'COME1-raw.txt'\n",
    "rawtext_dict['COME1-raw.txt'] = rawtext_dict['COME1-raw.txt'].replace(\"{Hi Linda I have a Chinese lucky bamboo that is looking very sick. It is kept in a narrow glass vase with glass rocks the roots appear to be orange and the smell of the water is disgusting <E1 laughs>. I have two shoots one is yellow half way up the stem the other appears to be okay. The leaves are wilting and yellow can I save my plant love Michelle}\",\"Hi Linda I have a Chinese lucky bamboo that is looking very sick. It is kept in a narrow glass vase with glass rocks the roots appear to be orange and the smell of the water is disgusting <E1 laughs>. I have two shoots one is yellow half way up the stem the other appears to be okay. The leaves are wilting and yellow can I save my plant love Michelle.\") \n",
    "\n",
    "# discovered while looking through speaker_df: COME5-E2, Kate's name begins with the numbres (a time?) 33:16\n",
    "# grep -P \"33:16 Kate\" \"COME5-raw.txt\"\n",
    "rawtext_dict['COME5-raw.txt'] = rawtext_dict['COME5-raw.txt'].replace(\"[Expert 2: 33:16 Kate Curzon, F]\",\"[Expert 2: Kate Curzon, F]\")\n",
    "\n",
    "# discovered while looking at back channels: \n",
    "    # ABCNE2-raw.txt: C8 mislabeled as C18\n",
    "rawtext_dict['ABCNE2-raw.txt'] = rawtext_dict['ABCNE2-raw.txt'].replace(\"[E1] Um to kill ivy look um blackberry and tree killer <C18 yeah>\",\"[E1] Um to kill ivy look um blackberry and tree killer <C8 yeah>\")\n",
    "    # COME1-raw.txt: C22 mislabeled as C32\n",
    "rawtext_dict['COME1-raw.txt'] = rawtext_dict['COME1-raw.txt'].replace(\"keep him off it for a a week which is <C32 inaudible> sometimes difficult but yeah probably\",\"keep him off it for a a week which is <C22 inaudible> sometimes difficult but yeah probably\")\n",
    "    # COME3-raw.txt: C8 mislabeled as E8 (talking to E1)\n",
    "rawtext_dict['COME3-raw.txt'] = rawtext_dict['COME3-raw.txt'].replace(\"the medication that you're taking is doing any good <E8 yes>. But you are at risk.\",\" the medication that you're taking is doing any good <C8 yes>. But you are at risk.\")\n",
    "\n",
    "# Eddie, Caller 7 in NAT8-raw.txt\n",
    "    # first mention is a back channel - change to C7\n",
    "rawtext_dict['NAT8-raw.txt'] = rawtext_dict['NAT8-raw.txt'].replace(\"Let's talk to Eddie in Brisbane now g'day Eddie <Caller 7: Eddie, M hey how you going Gab>. Thanks\",\"Let's talk to Eddie in Brisbane now g'day Eddie <C7 hey how you going Gab>. Thanks f\")\n",
    "    # first full line, speaker information \n",
    "rawtext_dict['NAT8-raw.txt'] = rawtext_dict['NAT8-raw.txt'].replace(\"[C7] That's right mate they're all from England or Scotland Ireland or Welsh I mean my my grandfather\",\"[Caller 7: Eddie, M] That's right mate they're all from England or Scotland Ireland or Welsh I mean my my grandfather\")\n",
    "\n",
    "# <E1mm> has no space, P1 is reading and his text is in { } \n",
    "rawtext_dict['COMNE4-raw.txt'] = rawtext_dict['COMNE4-raw.txt'].replace(\"[P1] Oh dear. Here we go {a picture of an unhappy happy plant I had to cut} <E1mm> { its head off as I was having} <E1 laughs> {a pergola built}. Ruthless {and it was in the way it was too tall could you please tell me if I can cut it into a few pieces and} <E1 mm> {grow them. I've still got about three foot of the existing plant still in the place it was also could you tell me if I can cut my hibiscus back it's getting just too big} you've seen those haven't you.\",\"[P1] Oh dear. Here we go a picture of an unhappy happy plant I had to cut <E1 mm> its head off as I was having <E1 laughs> a pergola built. Ruthless and it was in the way it was too tall could you please tell me if I can cut it into a few pieces and <E1 mm> grow them. I've still got about three foot of the existing plant still in the place it was also could you tell me if I can cut my hibiscus back it's getting just too big you've seen those haven't you.\")\n",
    "\n",
    "# Caller 33a not Caller 33\n",
    "rawtext_dict['NAT4-raw.txt'] = rawtext_dict['NAT4-raw.txt'].replace(\"Uh <C33 laughs> the uh that is uh Sweet Corn. Suh someone <C33 ah> some somebody gave me\",\"Uh <C33a laughs> the uh that is uh Sweet Corn. Suh someone <C33a ah> some somebody gave me\")\n",
    "rawtext_dict['NAT4-raw.txt'] = rawtext_dict['NAT4-raw.txt'].replace(\"that dangling I think <C33 yeah> twenty-three what what is the name of the\",\"that dangling I think <C33a yeah> twenty-three what what is the name of the\")\n",
    "rawtext_dict['NAT4-raw.txt'] = rawtext_dict['NAT4-raw.txt'].replace(\"Men are from Mars Women are from Venus <C33 I>. They made an absolute stack out of it.\",\"Men are from Mars Women are from Venus <C33a I>. They made an absolute stack out of it.\")\n",
    "rawtext_dict['NAT4-raw.txt'] = rawtext_dict['NAT4-raw.txt'].replace(\"[P1] Mm <C33 Alinghi> and it's and it's uh it's had a\",\"[P1] Mm <C33a Alinghi> and it's and it's uh it's had a\")\n",
    "\n",
    "# missing space again\n",
    "rawtext_dict['NAT7-raw.txt'] = rawtext_dict['NAT7-raw.txt'].replace(\"An organic fruit <C7because I'm a> juicer.\",\"An organic fruit <C7 because I'm a> juicer.\")\n"
   ]
  },
  {
   "cell_type": "code",
   "execution_count": 14,
   "metadata": {},
   "outputs": [],
   "source": [
    "# Looking at all {...} lines to find errors.\n",
    "# The above cell accounts for the errors found here\n",
    "\n",
    "for fid in files:\n",
    "    rawtext = rawtext_dict[fid]\n",
    "    rawlines = re.split(r'[\\n\\r]+', rawtext.strip())\n",
    "#     print(fid)\n",
    "    for l in rawlines:\n",
    "        if ']' in l:\n",
    "            where = l.index(']')\n",
    "            speaker = l[:where+1]\n",
    "            utterance = l[where+2:]\n",
    "#             print(speaker+' '+utterance)\n",
    "        else: \n",
    "#             print('***'+l+'*****')    # {program advert}. What to do with these? \n",
    "            pass\n",
    "#     print()"
   ]
  },
  {
   "cell_type": "markdown",
   "metadata": {},
   "source": [
    "## Speaker Information\n",
    "### Creating Unique Speaker Ids"
   ]
  },
  {
   "cell_type": "code",
   "execution_count": 15,
   "metadata": {},
   "outputs": [
    {
     "data": {
      "text/plain": [
       "('ABCE3-P1', 'ABCE3', 'P', 'M', 'Simon Marnie')"
      ]
     },
     "execution_count": 15,
     "metadata": {},
     "output_type": "execute_result"
    },
    {
     "data": {
      "text/plain": [
       "('COMNE7-E1', 'COMNE7', 'E', 'M', 'Les')"
      ]
     },
     "execution_count": 15,
     "metadata": {},
     "output_type": "execute_result"
    },
    {
     "data": {
      "text/plain": [
       "('ABCE3-C10', 'ABCE3', 'C', 'F', 'Suzanne')"
      ]
     },
     "execution_count": 15,
     "metadata": {},
     "output_type": "execute_result"
    }
   ],
   "source": [
    "foo1 = \"[Presenter 1: Simon Marnie, M]\"\n",
    "foo2 = \"[Expert 1: Les, M]\"\n",
    "foo3 = \"[Caller 10: Suzanne, F]\"\n",
    "\n",
    "def get_speaker(fid, sp):\n",
    "    seg = fid[:-8]  # ABCE3-raw.txt -> ABCE3\n",
    "    col = sp.index(':')\n",
    "    \n",
    "    if sp.startswith('[Presenter') :\n",
    "        name = sp[col+2:-4].strip()\n",
    "        return (seg+'-P'+sp[11:col], seg, 'P', sp[-2].upper(), name)\n",
    "    elif sp.startswith('[Expert') :\n",
    "        name = sp[col+2:-4].strip()\n",
    "        return (seg+'-E'+sp[8:col], seg, 'E', sp[-2].upper(), name)\n",
    "    elif sp.startswith('[Caller') :\n",
    "        name = sp[col+2:-4].strip()\n",
    "        return (seg+'-C'+sp[8:col], seg, 'C', sp[-2].upper(), name)\n",
    "    else:\n",
    "        return ()\n",
    "get_speaker('ABCE3-raw.txt', foo1)\n",
    "get_speaker('COMNE7-raw.txt', foo2)\n",
    "get_speaker('ABCE3-raw.txt', foo3)"
   ]
  },
  {
   "cell_type": "markdown",
   "metadata": {},
   "source": [
    "### Speaker Dictionary\n",
    "**speaker_dict**\n",
    "\n",
    "- Key: unique speaker ID\n",
    "- Values:\n",
    "    - segment (ex: ABCE1, ABCE2, etc..)\n",
    "    - role (P/C/E)\n",
    "    - gender (F/M)\n",
    "    - name\n",
    "    \n",
    "**NOTE: speaker_dict will be used to create the data frame speaker_df**    "
   ]
  },
  {
   "cell_type": "code",
   "execution_count": 16,
   "metadata": {},
   "outputs": [],
   "source": [
    "# Creating a dictionary for each unique speaker\n",
    "\n",
    "speaker_dict = {}\n",
    "\n",
    "for fid in files: # includes NAT5-raw.txt\n",
    "    rawtext = rawtext_dict[fid]\n",
    "    rawlines = re.split(r'[\\n\\r]+', rawtext.strip())\n",
    "#     print(fid)\n",
    "    for l in rawlines:\n",
    "        if ']' in l:\n",
    "            where = l.index(']')\n",
    "            speaker = l[:where+1]\n",
    "            if speaker.startswith('[Presenter') or speaker.startswith('[Expert') or speaker.startswith('[Caller'):\n",
    "                #print(speaker)\n",
    "                (uniq_id, seg, role, gender, name) = get_speaker(fid, speaker)\n",
    "#                 print(uniq_id, seg, role, gender, name)\n",
    "                speaker_dict[uniq_id] = (seg, role, gender, name)\n",
    "        else: \n",
    "            #print('***'+l)    # {program advert}. What to do with these? \n",
    "            pass\n",
    "#     print()"
   ]
  },
  {
   "cell_type": "code",
   "execution_count": 17,
   "metadata": {},
   "outputs": [
    {
     "data": {
      "text/plain": [
       "430"
      ]
     },
     "execution_count": 17,
     "metadata": {},
     "output_type": "execute_result"
    }
   ],
   "source": [
    "# looking at each item in speaker_dict:\n",
    "\n",
    "# for s in sorted(speaker_dict):\n",
    "#     print (s, speaker_dict[s]) \n",
    "len(sorted(speaker_dict))"
   ]
  },
  {
   "cell_type": "markdown",
   "metadata": {},
   "source": [
    "### Speaker Data Frame\n",
    "**speaker_df**"
   ]
  },
  {
   "cell_type": "code",
   "execution_count": 18,
   "metadata": {},
   "outputs": [
    {
     "data": {
      "text/html": [
       "<div>\n",
       "<style scoped>\n",
       "    .dataframe tbody tr th:only-of-type {\n",
       "        vertical-align: middle;\n",
       "    }\n",
       "\n",
       "    .dataframe tbody tr th {\n",
       "        vertical-align: top;\n",
       "    }\n",
       "\n",
       "    .dataframe thead th {\n",
       "        text-align: right;\n",
       "    }\n",
       "</style>\n",
       "<table border=\"1\" class=\"dataframe\">\n",
       "  <thead>\n",
       "    <tr style=\"text-align: right;\">\n",
       "      <th></th>\n",
       "      <th>Segment</th>\n",
       "      <th>Speaker_Type</th>\n",
       "      <th>Gender</th>\n",
       "      <th>Name</th>\n",
       "    </tr>\n",
       "  </thead>\n",
       "  <tbody>\n",
       "    <tr>\n",
       "      <th>ABCE1-C1</th>\n",
       "      <td>NaN</td>\n",
       "      <td>NaN</td>\n",
       "      <td>NaN</td>\n",
       "      <td>NaN</td>\n",
       "    </tr>\n",
       "    <tr>\n",
       "      <th>ABCE1-C10</th>\n",
       "      <td>NaN</td>\n",
       "      <td>NaN</td>\n",
       "      <td>NaN</td>\n",
       "      <td>NaN</td>\n",
       "    </tr>\n",
       "    <tr>\n",
       "      <th>ABCE1-C11</th>\n",
       "      <td>NaN</td>\n",
       "      <td>NaN</td>\n",
       "      <td>NaN</td>\n",
       "      <td>NaN</td>\n",
       "    </tr>\n",
       "    <tr>\n",
       "      <th>ABCE1-C12</th>\n",
       "      <td>NaN</td>\n",
       "      <td>NaN</td>\n",
       "      <td>NaN</td>\n",
       "      <td>NaN</td>\n",
       "    </tr>\n",
       "    <tr>\n",
       "      <th>ABCE1-C2</th>\n",
       "      <td>NaN</td>\n",
       "      <td>NaN</td>\n",
       "      <td>NaN</td>\n",
       "      <td>NaN</td>\n",
       "    </tr>\n",
       "  </tbody>\n",
       "</table>\n",
       "</div>"
      ],
      "text/plain": [
       "          Segment Speaker_Type Gender Name\n",
       "ABCE1-C1      NaN          NaN    NaN  NaN\n",
       "ABCE1-C10     NaN          NaN    NaN  NaN\n",
       "ABCE1-C11     NaN          NaN    NaN  NaN\n",
       "ABCE1-C12     NaN          NaN    NaN  NaN\n",
       "ABCE1-C2      NaN          NaN    NaN  NaN"
      ]
     },
     "execution_count": 18,
     "metadata": {},
     "output_type": "execute_result"
    },
    {
     "data": {
      "text/html": [
       "<div>\n",
       "<style scoped>\n",
       "    .dataframe tbody tr th:only-of-type {\n",
       "        vertical-align: middle;\n",
       "    }\n",
       "\n",
       "    .dataframe tbody tr th {\n",
       "        vertical-align: top;\n",
       "    }\n",
       "\n",
       "    .dataframe thead th {\n",
       "        text-align: right;\n",
       "    }\n",
       "</style>\n",
       "<table border=\"1\" class=\"dataframe\">\n",
       "  <thead>\n",
       "    <tr style=\"text-align: right;\">\n",
       "      <th></th>\n",
       "      <th>Segment</th>\n",
       "      <th>Speaker_Type</th>\n",
       "      <th>Gender</th>\n",
       "      <th>Name</th>\n",
       "    </tr>\n",
       "  </thead>\n",
       "  <tbody>\n",
       "    <tr>\n",
       "      <th>NAT8-C6</th>\n",
       "      <td>NaN</td>\n",
       "      <td>NaN</td>\n",
       "      <td>NaN</td>\n",
       "      <td>NaN</td>\n",
       "    </tr>\n",
       "    <tr>\n",
       "      <th>NAT8-C7</th>\n",
       "      <td>NaN</td>\n",
       "      <td>NaN</td>\n",
       "      <td>NaN</td>\n",
       "      <td>NaN</td>\n",
       "    </tr>\n",
       "    <tr>\n",
       "      <th>NAT8-C8</th>\n",
       "      <td>NaN</td>\n",
       "      <td>NaN</td>\n",
       "      <td>NaN</td>\n",
       "      <td>NaN</td>\n",
       "    </tr>\n",
       "    <tr>\n",
       "      <th>NAT8-C9</th>\n",
       "      <td>NaN</td>\n",
       "      <td>NaN</td>\n",
       "      <td>NaN</td>\n",
       "      <td>NaN</td>\n",
       "    </tr>\n",
       "    <tr>\n",
       "      <th>NAT8-P1</th>\n",
       "      <td>NaN</td>\n",
       "      <td>NaN</td>\n",
       "      <td>NaN</td>\n",
       "      <td>NaN</td>\n",
       "    </tr>\n",
       "  </tbody>\n",
       "</table>\n",
       "</div>"
      ],
      "text/plain": [
       "        Segment Speaker_Type Gender Name\n",
       "NAT8-C6     NaN          NaN    NaN  NaN\n",
       "NAT8-C7     NaN          NaN    NaN  NaN\n",
       "NAT8-C8     NaN          NaN    NaN  NaN\n",
       "NAT8-C9     NaN          NaN    NaN  NaN\n",
       "NAT8-P1     NaN          NaN    NaN  NaN"
      ]
     },
     "execution_count": 18,
     "metadata": {},
     "output_type": "execute_result"
    }
   ],
   "source": [
    "speaker_df = pd.DataFrame(columns=['Segment', 'Speaker_Type', 'Gender', 'Name'], index=sorted(speaker_dict.keys()))\n",
    "speaker_df.head()\n",
    "speaker_df.tail()"
   ]
  },
  {
   "cell_type": "code",
   "execution_count": 19,
   "metadata": {},
   "outputs": [
    {
     "data": {
      "text/html": [
       "<div>\n",
       "<style scoped>\n",
       "    .dataframe tbody tr th:only-of-type {\n",
       "        vertical-align: middle;\n",
       "    }\n",
       "\n",
       "    .dataframe tbody tr th {\n",
       "        vertical-align: top;\n",
       "    }\n",
       "\n",
       "    .dataframe thead th {\n",
       "        text-align: right;\n",
       "    }\n",
       "</style>\n",
       "<table border=\"1\" class=\"dataframe\">\n",
       "  <thead>\n",
       "    <tr style=\"text-align: right;\">\n",
       "      <th></th>\n",
       "      <th>Segment</th>\n",
       "      <th>Speaker_Type</th>\n",
       "      <th>Gender</th>\n",
       "      <th>Name</th>\n",
       "    </tr>\n",
       "  </thead>\n",
       "  <tbody>\n",
       "    <tr>\n",
       "      <th>ABCE1-C1</th>\n",
       "      <td>ABCE1</td>\n",
       "      <td>C</td>\n",
       "      <td>F</td>\n",
       "      <td>Suzanne</td>\n",
       "    </tr>\n",
       "    <tr>\n",
       "      <th>ABCE1-C10</th>\n",
       "      <td>ABCE1</td>\n",
       "      <td>C</td>\n",
       "      <td>F</td>\n",
       "      <td>Beth</td>\n",
       "    </tr>\n",
       "    <tr>\n",
       "      <th>ABCE1-C11</th>\n",
       "      <td>ABCE1</td>\n",
       "      <td>C</td>\n",
       "      <td>F</td>\n",
       "      <td>Lynne</td>\n",
       "    </tr>\n",
       "    <tr>\n",
       "      <th>ABCE1-C12</th>\n",
       "      <td>ABCE1</td>\n",
       "      <td>C</td>\n",
       "      <td>M</td>\n",
       "      <td>Jack</td>\n",
       "    </tr>\n",
       "    <tr>\n",
       "      <th>ABCE1-C2</th>\n",
       "      <td>ABCE1</td>\n",
       "      <td>C</td>\n",
       "      <td>F</td>\n",
       "      <td>Lisa</td>\n",
       "    </tr>\n",
       "  </tbody>\n",
       "</table>\n",
       "</div>"
      ],
      "text/plain": [
       "          Segment Speaker_Type Gender     Name\n",
       "ABCE1-C1    ABCE1            C      F  Suzanne\n",
       "ABCE1-C10   ABCE1            C      F     Beth\n",
       "ABCE1-C11   ABCE1            C      F    Lynne\n",
       "ABCE1-C12   ABCE1            C      M     Jack\n",
       "ABCE1-C2    ABCE1            C      F     Lisa"
      ]
     },
     "execution_count": 19,
     "metadata": {},
     "output_type": "execute_result"
    },
    {
     "data": {
      "text/html": [
       "<div>\n",
       "<style scoped>\n",
       "    .dataframe tbody tr th:only-of-type {\n",
       "        vertical-align: middle;\n",
       "    }\n",
       "\n",
       "    .dataframe tbody tr th {\n",
       "        vertical-align: top;\n",
       "    }\n",
       "\n",
       "    .dataframe thead th {\n",
       "        text-align: right;\n",
       "    }\n",
       "</style>\n",
       "<table border=\"1\" class=\"dataframe\">\n",
       "  <thead>\n",
       "    <tr style=\"text-align: right;\">\n",
       "      <th></th>\n",
       "      <th>Segment</th>\n",
       "      <th>Speaker_Type</th>\n",
       "      <th>Gender</th>\n",
       "      <th>Name</th>\n",
       "    </tr>\n",
       "  </thead>\n",
       "  <tbody>\n",
       "    <tr>\n",
       "      <th>NAT8-C6</th>\n",
       "      <td>NAT8</td>\n",
       "      <td>C</td>\n",
       "      <td>F</td>\n",
       "      <td>Britney</td>\n",
       "    </tr>\n",
       "    <tr>\n",
       "      <th>NAT8-C7</th>\n",
       "      <td>NAT8</td>\n",
       "      <td>C</td>\n",
       "      <td>M</td>\n",
       "      <td>Eddie</td>\n",
       "    </tr>\n",
       "    <tr>\n",
       "      <th>NAT8-C8</th>\n",
       "      <td>NAT8</td>\n",
       "      <td>C</td>\n",
       "      <td>M</td>\n",
       "      <td>Peter</td>\n",
       "    </tr>\n",
       "    <tr>\n",
       "      <th>NAT8-C9</th>\n",
       "      <td>NAT8</td>\n",
       "      <td>C</td>\n",
       "      <td>M</td>\n",
       "      <td>Michael</td>\n",
       "    </tr>\n",
       "    <tr>\n",
       "      <th>NAT8-P1</th>\n",
       "      <td>NAT8</td>\n",
       "      <td>P</td>\n",
       "      <td>F</td>\n",
       "      <td>Gaby Brown</td>\n",
       "    </tr>\n",
       "  </tbody>\n",
       "</table>\n",
       "</div>"
      ],
      "text/plain": [
       "        Segment Speaker_Type Gender        Name\n",
       "NAT8-C6    NAT8            C      F     Britney\n",
       "NAT8-C7    NAT8            C      M       Eddie\n",
       "NAT8-C8    NAT8            C      M       Peter\n",
       "NAT8-C9    NAT8            C      M     Michael\n",
       "NAT8-P1    NAT8            P      F  Gaby Brown"
      ]
     },
     "execution_count": 19,
     "metadata": {},
     "output_type": "execute_result"
    }
   ],
   "source": [
    "speaker_df['Segment'] = speaker_df.index.map(lambda x: speaker_dict[x][0])\n",
    "speaker_df['Speaker_Type'] = speaker_df.index.map(lambda x: speaker_dict[x][1])\n",
    "speaker_df['Gender'] = speaker_df.index.map(lambda x: speaker_dict[x][2])\n",
    "speaker_df['Name'] = speaker_df.index.map(lambda x: speaker_dict[x][3])\n",
    "speaker_df.head()\n",
    "speaker_df.tail()"
   ]
  },
  {
   "cell_type": "code",
   "execution_count": 20,
   "metadata": {},
   "outputs": [
    {
     "data": {
      "text/html": [
       "<div>\n",
       "<style scoped>\n",
       "    .dataframe tbody tr th:only-of-type {\n",
       "        vertical-align: middle;\n",
       "    }\n",
       "\n",
       "    .dataframe tbody tr th {\n",
       "        vertical-align: top;\n",
       "    }\n",
       "\n",
       "    .dataframe thead th {\n",
       "        text-align: right;\n",
       "    }\n",
       "</style>\n",
       "<table border=\"1\" class=\"dataframe\">\n",
       "  <thead>\n",
       "    <tr style=\"text-align: right;\">\n",
       "      <th></th>\n",
       "      <th>Segment</th>\n",
       "      <th>Speaker_Type</th>\n",
       "      <th>Gender</th>\n",
       "      <th>Name</th>\n",
       "    </tr>\n",
       "  </thead>\n",
       "  <tbody>\n",
       "    <tr>\n",
       "      <th>NAT8-C6</th>\n",
       "      <td>NAT8</td>\n",
       "      <td>C</td>\n",
       "      <td>F</td>\n",
       "      <td>Britney</td>\n",
       "    </tr>\n",
       "    <tr>\n",
       "      <th>NAT8-C7</th>\n",
       "      <td>NAT8</td>\n",
       "      <td>C</td>\n",
       "      <td>M</td>\n",
       "      <td>Eddie</td>\n",
       "    </tr>\n",
       "    <tr>\n",
       "      <th>NAT8-C8</th>\n",
       "      <td>NAT8</td>\n",
       "      <td>C</td>\n",
       "      <td>M</td>\n",
       "      <td>Peter</td>\n",
       "    </tr>\n",
       "    <tr>\n",
       "      <th>NAT8-C9</th>\n",
       "      <td>NAT8</td>\n",
       "      <td>C</td>\n",
       "      <td>M</td>\n",
       "      <td>Michael</td>\n",
       "    </tr>\n",
       "    <tr>\n",
       "      <th>NAT8-P1</th>\n",
       "      <td>NAT8</td>\n",
       "      <td>P</td>\n",
       "      <td>F</td>\n",
       "      <td>Gaby Brown</td>\n",
       "    </tr>\n",
       "  </tbody>\n",
       "</table>\n",
       "</div>"
      ],
      "text/plain": [
       "        Segment Speaker_Type Gender        Name\n",
       "NAT8-C6    NAT8            C      F     Britney\n",
       "NAT8-C7    NAT8            C      M       Eddie\n",
       "NAT8-C8    NAT8            C      M       Peter\n",
       "NAT8-C9    NAT8            C      M     Michael\n",
       "NAT8-P1    NAT8            P      F  Gaby Brown"
      ]
     },
     "execution_count": 20,
     "metadata": {},
     "output_type": "execute_result"
    }
   ],
   "source": [
    "speaker_df.tail()"
   ]
  },
  {
   "cell_type": "markdown",
   "metadata": {},
   "source": [
    "## Splitting the Texts by Line\n",
    "\n",
    "### List of Each Line of Text\n",
    "**art_list**\n",
    "\n",
    "- unique speaker id for the line (ex: ABCE1-P1)\n",
    "- utterance number of the *file*\n",
    "- segment (ex: ABCE1)\n",
    "- role (P/C/E)\n",
    "- gender (M/F)\n",
    "- line of text\n",
    "\n",
    "**NOTE: art_list will be used to create the data frame art_df**"
   ]
  },
  {
   "cell_type": "code",
   "execution_count": 21,
   "metadata": {},
   "outputs": [
    {
     "data": {
      "text/plain": [
       "('NAT8', 'C', 'M', 'Eddie')"
      ]
     },
     "execution_count": 21,
     "metadata": {},
     "output_type": "execute_result"
    }
   ],
   "source": [
    "speaker_dict[\"NAT8-C7\"]"
   ]
  },
  {
   "cell_type": "code",
   "execution_count": 22,
   "metadata": {},
   "outputs": [],
   "source": [
    "# Creating a list of all the lines of text including the unique speaker id, utterance number (of the file), segment, and text line\n",
    "    \n",
    "art_list = []\n",
    "\n",
    "for fid in files:\n",
    "    rawtext = rawtext_dict[fid]\n",
    "    rawlines = re.split(r'[\\n\\r]+', rawtext.strip())\n",
    "#     print(fid)\n",
    "    utterance_num = 0\n",
    "    for l in rawlines:\n",
    "        if ']' in l:\n",
    "            where = l.index(']')\n",
    "            speaker = l[:where+1]\n",
    "            utterance = l[where+2:]\n",
    "            if speaker.startswith('[Presenter') or speaker.startswith('[Expert') or speaker.startswith('[Caller'):\n",
    "                (uniq_id, seg, role, gender, name) = get_speaker(fid, speaker)\n",
    "            else:\n",
    "#                 print(l)\n",
    "                seg = fid[:-8] # removes \"-raw.txt\"\n",
    "                uniq_id = seg+'-'+speaker[1:-1]   # ex: ABCE1-C1\n",
    "                (seg, role, gender, name) = speaker_dict[uniq_id]\n",
    "            utterance_num += 1\n",
    "            art_list.append((uniq_id, utterance_num, seg, role, gender, utterance))\n",
    "        else: \n",
    "#             print('***'+l)    # {program advert}. What to do with these? \n",
    "            pass"
   ]
  },
  {
   "cell_type": "code",
   "execution_count": 23,
   "metadata": {},
   "outputs": [
    {
     "data": {
      "text/plain": [
       "('ABCE1-P1', 1, 'ABCE1', 'P', 'M', \"Thanks for that John Hall now John Hall will be listening for the next hour 'cos Angus Stewart is here to take your calls eight-triple-three-one-thousand one-eight-hundred-eight-hundred-seven-oh-two something in the garden that's causing you problems give us a call right now and Angus can I mean y'know he is known in the trade as Mr popergation {propagation} Mr propagation. He's also known for his passion for natives and his love of o orchids am I right so far.\")"
      ]
     },
     "execution_count": 23,
     "metadata": {},
     "output_type": "execute_result"
    },
    {
     "data": {
      "text/plain": [
       "('ABCE1-E1', 2, 'ABCE1', 'E', 'M', 'I guess yeah yeah <laughs>.')"
      ]
     },
     "execution_count": 23,
     "metadata": {},
     "output_type": "execute_result"
    },
    {
     "data": {
      "text/plain": [
       "('ABCE1-P1', 3, 'ABCE1', 'P', 'M', \"He's also known <E1 sounds reasonable> for his ability to open cosposting {composting} toilets so he can tell you anything worm farm problems certainly helped us and although I'm still confused about dry ingredients we might talk about that as well but eight-triple-three-one-thousand one-eight-hundred-eight-hundred-seven-oh-two fine sunny day today top temperatures on the coast of twenty-seven inland thirty degrees Bowral enjoying twenty-seven and Katoomba twenty-five degrees currently around town on the coast it's seventeen that's four below <,> r Richmond and Bankstown are fifteen degrees Penrith sixteen Katoomba thirteen and Gosford twelve. One of the jewels in the open garden scheme crown is opening today and this is just a garden to envy how would you like <,> to have <,> a beautiful sandstone cottage nestled underneath a waterfall with a little pond and then a creek that runs through with thousands of water dragons so tame they come up and just <,> kiss you. Would you like to live there.\")"
      ]
     },
     "execution_count": 23,
     "metadata": {},
     "output_type": "execute_result"
    },
    {
     "data": {
      "text/plain": [
       "('ABCE1-E1', 4, 'ABCE1', 'E', 'M', 'Okay.')"
      ]
     },
     "execution_count": 23,
     "metadata": {},
     "output_type": "execute_result"
    },
    {
     "data": {
      "text/plain": [
       "('NAT8-C17', 363, 'NAT8', 'C', 'M', \"Um and now that last caller I was just gunna say the thing about what you say uh I don't think you should really look at people as if n n they're tools that can be used for you but anyway I think it comes down to that like in this country we have uh like we're just lucky to be born here basically we're lucky to be and it's just by chance that you end up here Australia isn't uh Australia needs to like ignore their like uh commercial news outlets that don't show you what happens in the rest of the world but you need to look out and you need to like maybe meet some of the people who've been in these situations. And we can't comprehend what kind of hell they've been through. And then we bring 'em here 'n' we put 'em in jail. 'N' make it worse. And so I think it just comes down to looking at yourself and going well am I glad that I'm in this country do I know how good it <inaudible>.\")"
      ]
     },
     "execution_count": 23,
     "metadata": {},
     "output_type": "execute_result"
    }
   ],
   "source": [
    "# Examples from art_list:\n",
    "\n",
    "art_list[0] # starts with ABCE1-raw.txt\n",
    "art_list[1]\n",
    "art_list[2]\n",
    "art_list[3]\n",
    "art_list[-1] # ends with NAT8-raw.txt"
   ]
  },
  {
   "cell_type": "markdown",
   "metadata": {},
   "source": [
    "### Text Lines Data Frame\n",
    "**art_df**\n",
    "\n",
    "Content reminder:\n",
    "- unique speaker ID\n",
    "- utterance number\n",
    "- segment\n",
    "- role\n",
    "- gender\n",
    "- line of text\n",
    "\n",
    "**Note: The Data Frame will be indexed by unique speaker and the utterance number of the corresponding file.**"
   ]
  },
  {
   "cell_type": "code",
   "execution_count": 24,
   "metadata": {},
   "outputs": [
    {
     "data": {
      "text/html": [
       "<div>\n",
       "<style scoped>\n",
       "    .dataframe tbody tr th:only-of-type {\n",
       "        vertical-align: middle;\n",
       "    }\n",
       "\n",
       "    .dataframe tbody tr th {\n",
       "        vertical-align: top;\n",
       "    }\n",
       "\n",
       "    .dataframe thead th {\n",
       "        text-align: right;\n",
       "    }\n",
       "</style>\n",
       "<table border=\"1\" class=\"dataframe\">\n",
       "  <thead>\n",
       "    <tr style=\"text-align: right;\">\n",
       "      <th></th>\n",
       "      <th>Speaker</th>\n",
       "      <th>Utterance_Number</th>\n",
       "      <th>Segment</th>\n",
       "      <th>Speaker_Type</th>\n",
       "      <th>Gender</th>\n",
       "      <th>Text</th>\n",
       "    </tr>\n",
       "  </thead>\n",
       "  <tbody>\n",
       "    <tr>\n",
       "      <th>0</th>\n",
       "      <td>ABCE1-P1</td>\n",
       "      <td>1</td>\n",
       "      <td>ABCE1</td>\n",
       "      <td>P</td>\n",
       "      <td>M</td>\n",
       "      <td>Thanks for that John Hall now John Hall will b...</td>\n",
       "    </tr>\n",
       "    <tr>\n",
       "      <th>1</th>\n",
       "      <td>ABCE1-E1</td>\n",
       "      <td>2</td>\n",
       "      <td>ABCE1</td>\n",
       "      <td>E</td>\n",
       "      <td>M</td>\n",
       "      <td>I guess yeah yeah &lt;laughs&gt;.</td>\n",
       "    </tr>\n",
       "    <tr>\n",
       "      <th>2</th>\n",
       "      <td>ABCE1-P1</td>\n",
       "      <td>3</td>\n",
       "      <td>ABCE1</td>\n",
       "      <td>P</td>\n",
       "      <td>M</td>\n",
       "      <td>He's also known &lt;E1 sounds reasonable&gt; for his...</td>\n",
       "    </tr>\n",
       "    <tr>\n",
       "      <th>3</th>\n",
       "      <td>ABCE1-E1</td>\n",
       "      <td>4</td>\n",
       "      <td>ABCE1</td>\n",
       "      <td>E</td>\n",
       "      <td>M</td>\n",
       "      <td>Okay.</td>\n",
       "    </tr>\n",
       "    <tr>\n",
       "      <th>4</th>\n",
       "      <td>ABCE1-P1</td>\n",
       "      <td>5</td>\n",
       "      <td>ABCE1</td>\n",
       "      <td>P</td>\n",
       "      <td>M</td>\n",
       "      <td>Jeanne Villani does and we'll find out the sec...</td>\n",
       "    </tr>\n",
       "  </tbody>\n",
       "</table>\n",
       "</div>"
      ],
      "text/plain": [
       "    Speaker  Utterance_Number Segment Speaker_Type Gender  \\\n",
       "0  ABCE1-P1                 1   ABCE1            P      M   \n",
       "1  ABCE1-E1                 2   ABCE1            E      M   \n",
       "2  ABCE1-P1                 3   ABCE1            P      M   \n",
       "3  ABCE1-E1                 4   ABCE1            E      M   \n",
       "4  ABCE1-P1                 5   ABCE1            P      M   \n",
       "\n",
       "                                                Text  \n",
       "0  Thanks for that John Hall now John Hall will b...  \n",
       "1                        I guess yeah yeah <laughs>.  \n",
       "2  He's also known <E1 sounds reasonable> for his...  \n",
       "3                                              Okay.  \n",
       "4  Jeanne Villani does and we'll find out the sec...  "
      ]
     },
     "execution_count": 24,
     "metadata": {},
     "output_type": "execute_result"
    },
    {
     "data": {
      "text/html": [
       "<div>\n",
       "<style scoped>\n",
       "    .dataframe tbody tr th:only-of-type {\n",
       "        vertical-align: middle;\n",
       "    }\n",
       "\n",
       "    .dataframe tbody tr th {\n",
       "        vertical-align: top;\n",
       "    }\n",
       "\n",
       "    .dataframe thead th {\n",
       "        text-align: right;\n",
       "    }\n",
       "</style>\n",
       "<table border=\"1\" class=\"dataframe\">\n",
       "  <thead>\n",
       "    <tr style=\"text-align: right;\">\n",
       "      <th></th>\n",
       "      <th>Speaker</th>\n",
       "      <th>Utterance_Number</th>\n",
       "      <th>Segment</th>\n",
       "      <th>Speaker_Type</th>\n",
       "      <th>Gender</th>\n",
       "      <th>Text</th>\n",
       "    </tr>\n",
       "  </thead>\n",
       "  <tbody>\n",
       "    <tr>\n",
       "      <th>9024</th>\n",
       "      <td>NAT8-C16</td>\n",
       "      <td>359</td>\n",
       "      <td>NAT8</td>\n",
       "      <td>C</td>\n",
       "      <td>M</td>\n",
       "      <td>Thanks for that.</td>\n",
       "    </tr>\n",
       "    <tr>\n",
       "      <th>9025</th>\n",
       "      <td>NAT8-P1</td>\n",
       "      <td>360</td>\n",
       "      <td>NAT8</td>\n",
       "      <td>P</td>\n",
       "      <td>F</td>\n",
       "      <td>Uh let's see if we can just squeeze in one mor...</td>\n",
       "    </tr>\n",
       "    <tr>\n",
       "      <th>9026</th>\n",
       "      <td>NAT8-C17</td>\n",
       "      <td>361</td>\n",
       "      <td>NAT8</td>\n",
       "      <td>C</td>\n",
       "      <td>M</td>\n",
       "      <td>Um okay yeah thanks for that Gaby.</td>\n",
       "    </tr>\n",
       "    <tr>\n",
       "      <th>9027</th>\n",
       "      <td>NAT8-P1</td>\n",
       "      <td>362</td>\n",
       "      <td>NAT8</td>\n",
       "      <td>P</td>\n",
       "      <td>F</td>\n",
       "      <td>That's alright.</td>\n",
       "    </tr>\n",
       "    <tr>\n",
       "      <th>9028</th>\n",
       "      <td>NAT8-C17</td>\n",
       "      <td>363</td>\n",
       "      <td>NAT8</td>\n",
       "      <td>C</td>\n",
       "      <td>M</td>\n",
       "      <td>Um and now that last caller I was just gunna s...</td>\n",
       "    </tr>\n",
       "  </tbody>\n",
       "</table>\n",
       "</div>"
      ],
      "text/plain": [
       "       Speaker  Utterance_Number Segment Speaker_Type Gender  \\\n",
       "9024  NAT8-C16               359    NAT8            C      M   \n",
       "9025   NAT8-P1               360    NAT8            P      F   \n",
       "9026  NAT8-C17               361    NAT8            C      M   \n",
       "9027   NAT8-P1               362    NAT8            P      F   \n",
       "9028  NAT8-C17               363    NAT8            C      M   \n",
       "\n",
       "                                                   Text  \n",
       "9024                                   Thanks for that.  \n",
       "9025  Uh let's see if we can just squeeze in one mor...  \n",
       "9026                 Um okay yeah thanks for that Gaby.  \n",
       "9027                                    That's alright.  \n",
       "9028  Um and now that last caller I was just gunna s...  "
      ]
     },
     "execution_count": 24,
     "metadata": {},
     "output_type": "execute_result"
    }
   ],
   "source": [
    "# art_df = pd.DataFrame(columns=['Speaker', 'Utterance_Number', 'Segment', 'Speaker_Type', 'Gender', 'Text'], data=art1+art2+art3+art4+art5+art6+art7+art8+art9+art10)\n",
    "art_df = pd.DataFrame(columns=['Speaker', 'Utterance_Number', 'Segment', 'Speaker_Type', 'Gender', 'Text'], data=art_list)\n",
    "art_df.head()\n",
    "art_df.tail()"
   ]
  },
  {
   "cell_type": "code",
   "execution_count": 25,
   "metadata": {},
   "outputs": [
    {
     "data": {
      "text/html": [
       "<div>\n",
       "<style scoped>\n",
       "    .dataframe tbody tr th:only-of-type {\n",
       "        vertical-align: middle;\n",
       "    }\n",
       "\n",
       "    .dataframe tbody tr th {\n",
       "        vertical-align: top;\n",
       "    }\n",
       "\n",
       "    .dataframe thead th {\n",
       "        text-align: right;\n",
       "    }\n",
       "</style>\n",
       "<table border=\"1\" class=\"dataframe\">\n",
       "  <thead>\n",
       "    <tr style=\"text-align: right;\">\n",
       "      <th></th>\n",
       "      <th></th>\n",
       "      <th>Segment</th>\n",
       "      <th>Speaker_Type</th>\n",
       "      <th>Gender</th>\n",
       "      <th>Text</th>\n",
       "    </tr>\n",
       "    <tr>\n",
       "      <th>Speaker</th>\n",
       "      <th>Utterance_Number</th>\n",
       "      <th></th>\n",
       "      <th></th>\n",
       "      <th></th>\n",
       "      <th></th>\n",
       "    </tr>\n",
       "  </thead>\n",
       "  <tbody>\n",
       "    <tr>\n",
       "      <th>ABCE1-P1</th>\n",
       "      <th>1</th>\n",
       "      <td>ABCE1</td>\n",
       "      <td>P</td>\n",
       "      <td>M</td>\n",
       "      <td>Thanks for that John Hall now John Hall will b...</td>\n",
       "    </tr>\n",
       "    <tr>\n",
       "      <th>ABCE1-E1</th>\n",
       "      <th>2</th>\n",
       "      <td>ABCE1</td>\n",
       "      <td>E</td>\n",
       "      <td>M</td>\n",
       "      <td>I guess yeah yeah &lt;laughs&gt;.</td>\n",
       "    </tr>\n",
       "    <tr>\n",
       "      <th>ABCE1-P1</th>\n",
       "      <th>3</th>\n",
       "      <td>ABCE1</td>\n",
       "      <td>P</td>\n",
       "      <td>M</td>\n",
       "      <td>He's also known &lt;E1 sounds reasonable&gt; for his...</td>\n",
       "    </tr>\n",
       "    <tr>\n",
       "      <th>ABCE1-E1</th>\n",
       "      <th>4</th>\n",
       "      <td>ABCE1</td>\n",
       "      <td>E</td>\n",
       "      <td>M</td>\n",
       "      <td>Okay.</td>\n",
       "    </tr>\n",
       "    <tr>\n",
       "      <th>ABCE1-P1</th>\n",
       "      <th>5</th>\n",
       "      <td>ABCE1</td>\n",
       "      <td>P</td>\n",
       "      <td>M</td>\n",
       "      <td>Jeanne Villani does and we'll find out the sec...</td>\n",
       "    </tr>\n",
       "  </tbody>\n",
       "</table>\n",
       "</div>"
      ],
      "text/plain": [
       "                          Segment Speaker_Type Gender  \\\n",
       "Speaker  Utterance_Number                               \n",
       "ABCE1-P1 1                  ABCE1            P      M   \n",
       "ABCE1-E1 2                  ABCE1            E      M   \n",
       "ABCE1-P1 3                  ABCE1            P      M   \n",
       "ABCE1-E1 4                  ABCE1            E      M   \n",
       "ABCE1-P1 5                  ABCE1            P      M   \n",
       "\n",
       "                                                                        Text  \n",
       "Speaker  Utterance_Number                                                     \n",
       "ABCE1-P1 1                 Thanks for that John Hall now John Hall will b...  \n",
       "ABCE1-E1 2                                       I guess yeah yeah <laughs>.  \n",
       "ABCE1-P1 3                 He's also known <E1 sounds reasonable> for his...  \n",
       "ABCE1-E1 4                                                             Okay.  \n",
       "ABCE1-P1 5                 Jeanne Villani does and we'll find out the sec...  "
      ]
     },
     "execution_count": 25,
     "metadata": {},
     "output_type": "execute_result"
    },
    {
     "data": {
      "text/html": [
       "<div>\n",
       "<style scoped>\n",
       "    .dataframe tbody tr th:only-of-type {\n",
       "        vertical-align: middle;\n",
       "    }\n",
       "\n",
       "    .dataframe tbody tr th {\n",
       "        vertical-align: top;\n",
       "    }\n",
       "\n",
       "    .dataframe thead th {\n",
       "        text-align: right;\n",
       "    }\n",
       "</style>\n",
       "<table border=\"1\" class=\"dataframe\">\n",
       "  <thead>\n",
       "    <tr style=\"text-align: right;\">\n",
       "      <th></th>\n",
       "      <th></th>\n",
       "      <th>Segment</th>\n",
       "      <th>Speaker_Type</th>\n",
       "      <th>Gender</th>\n",
       "      <th>Text</th>\n",
       "    </tr>\n",
       "    <tr>\n",
       "      <th>Speaker</th>\n",
       "      <th>Utterance_Number</th>\n",
       "      <th></th>\n",
       "      <th></th>\n",
       "      <th></th>\n",
       "      <th></th>\n",
       "    </tr>\n",
       "  </thead>\n",
       "  <tbody>\n",
       "    <tr>\n",
       "      <th>NAT8-C16</th>\n",
       "      <th>359</th>\n",
       "      <td>NAT8</td>\n",
       "      <td>C</td>\n",
       "      <td>M</td>\n",
       "      <td>Thanks for that.</td>\n",
       "    </tr>\n",
       "    <tr>\n",
       "      <th>NAT8-P1</th>\n",
       "      <th>360</th>\n",
       "      <td>NAT8</td>\n",
       "      <td>P</td>\n",
       "      <td>F</td>\n",
       "      <td>Uh let's see if we can just squeeze in one mor...</td>\n",
       "    </tr>\n",
       "    <tr>\n",
       "      <th>NAT8-C17</th>\n",
       "      <th>361</th>\n",
       "      <td>NAT8</td>\n",
       "      <td>C</td>\n",
       "      <td>M</td>\n",
       "      <td>Um okay yeah thanks for that Gaby.</td>\n",
       "    </tr>\n",
       "    <tr>\n",
       "      <th>NAT8-P1</th>\n",
       "      <th>362</th>\n",
       "      <td>NAT8</td>\n",
       "      <td>P</td>\n",
       "      <td>F</td>\n",
       "      <td>That's alright.</td>\n",
       "    </tr>\n",
       "    <tr>\n",
       "      <th>NAT8-C17</th>\n",
       "      <th>363</th>\n",
       "      <td>NAT8</td>\n",
       "      <td>C</td>\n",
       "      <td>M</td>\n",
       "      <td>Um and now that last caller I was just gunna s...</td>\n",
       "    </tr>\n",
       "  </tbody>\n",
       "</table>\n",
       "</div>"
      ],
      "text/plain": [
       "                          Segment Speaker_Type Gender  \\\n",
       "Speaker  Utterance_Number                               \n",
       "NAT8-C16 359                 NAT8            C      M   \n",
       "NAT8-P1  360                 NAT8            P      F   \n",
       "NAT8-C17 361                 NAT8            C      M   \n",
       "NAT8-P1  362                 NAT8            P      F   \n",
       "NAT8-C17 363                 NAT8            C      M   \n",
       "\n",
       "                                                                        Text  \n",
       "Speaker  Utterance_Number                                                     \n",
       "NAT8-C16 359                                                Thanks for that.  \n",
       "NAT8-P1  360               Uh let's see if we can just squeeze in one mor...  \n",
       "NAT8-C17 361                              Um okay yeah thanks for that Gaby.  \n",
       "NAT8-P1  362                                                 That's alright.  \n",
       "NAT8-C17 363               Um and now that last caller I was just gunna s...  "
      ]
     },
     "execution_count": 25,
     "metadata": {},
     "output_type": "execute_result"
    }
   ],
   "source": [
    "# Sets the index to the speaker and utterance number\n",
    "\n",
    "art_df = art_df.set_index(keys=[\"Speaker\",\"Utterance_Number\"])\n",
    "art_df.head()\n",
    "art_df.tail() "
   ]
  },
  {
   "cell_type": "markdown",
   "metadata": {},
   "source": [
    "## Adding Number of Utterances per Speaker to the Speaker Data Frame"
   ]
  },
  {
   "cell_type": "code",
   "execution_count": 26,
   "metadata": {},
   "outputs": [
    {
     "data": {
      "text/plain": [
       "430"
      ]
     },
     "execution_count": 26,
     "metadata": {},
     "output_type": "execute_result"
    }
   ],
   "source": [
    "# utterance dictionary\n",
    "utt_dict=dict(art_df.groupby(\"Speaker\").size())\n",
    "# for s in sorted(utt_dict):\n",
    "#     print (s, utt_dict[s]) \n",
    "(len(sorted(utt_dict)))"
   ]
  },
  {
   "cell_type": "code",
   "execution_count": 27,
   "metadata": {},
   "outputs": [
    {
     "data": {
      "text/html": [
       "<div>\n",
       "<style scoped>\n",
       "    .dataframe tbody tr th:only-of-type {\n",
       "        vertical-align: middle;\n",
       "    }\n",
       "\n",
       "    .dataframe tbody tr th {\n",
       "        vertical-align: top;\n",
       "    }\n",
       "\n",
       "    .dataframe thead th {\n",
       "        text-align: right;\n",
       "    }\n",
       "</style>\n",
       "<table border=\"1\" class=\"dataframe\">\n",
       "  <thead>\n",
       "    <tr style=\"text-align: right;\">\n",
       "      <th></th>\n",
       "      <th>Segment</th>\n",
       "      <th>Speaker_Type</th>\n",
       "      <th>Gender</th>\n",
       "      <th>Name</th>\n",
       "    </tr>\n",
       "  </thead>\n",
       "  <tbody>\n",
       "    <tr>\n",
       "      <th>ABCE1-C1</th>\n",
       "      <td>ABCE1</td>\n",
       "      <td>C</td>\n",
       "      <td>F</td>\n",
       "      <td>Suzanne</td>\n",
       "    </tr>\n",
       "    <tr>\n",
       "      <th>ABCE1-C10</th>\n",
       "      <td>ABCE1</td>\n",
       "      <td>C</td>\n",
       "      <td>F</td>\n",
       "      <td>Beth</td>\n",
       "    </tr>\n",
       "    <tr>\n",
       "      <th>ABCE1-C11</th>\n",
       "      <td>ABCE1</td>\n",
       "      <td>C</td>\n",
       "      <td>F</td>\n",
       "      <td>Lynne</td>\n",
       "    </tr>\n",
       "    <tr>\n",
       "      <th>ABCE1-C12</th>\n",
       "      <td>ABCE1</td>\n",
       "      <td>C</td>\n",
       "      <td>M</td>\n",
       "      <td>Jack</td>\n",
       "    </tr>\n",
       "    <tr>\n",
       "      <th>ABCE1-C2</th>\n",
       "      <td>ABCE1</td>\n",
       "      <td>C</td>\n",
       "      <td>F</td>\n",
       "      <td>Lisa</td>\n",
       "    </tr>\n",
       "  </tbody>\n",
       "</table>\n",
       "</div>"
      ],
      "text/plain": [
       "          Segment Speaker_Type Gender     Name\n",
       "ABCE1-C1    ABCE1            C      F  Suzanne\n",
       "ABCE1-C10   ABCE1            C      F     Beth\n",
       "ABCE1-C11   ABCE1            C      F    Lynne\n",
       "ABCE1-C12   ABCE1            C      M     Jack\n",
       "ABCE1-C2    ABCE1            C      F     Lisa"
      ]
     },
     "execution_count": 27,
     "metadata": {},
     "output_type": "execute_result"
    }
   ],
   "source": [
    "# Reminder what speaker_df looks like:\n",
    "speaker_df.head()"
   ]
  },
  {
   "cell_type": "code",
   "execution_count": 28,
   "metadata": {},
   "outputs": [
    {
     "data": {
      "text/html": [
       "<div>\n",
       "<style scoped>\n",
       "    .dataframe tbody tr th:only-of-type {\n",
       "        vertical-align: middle;\n",
       "    }\n",
       "\n",
       "    .dataframe tbody tr th {\n",
       "        vertical-align: top;\n",
       "    }\n",
       "\n",
       "    .dataframe thead th {\n",
       "        text-align: right;\n",
       "    }\n",
       "</style>\n",
       "<table border=\"1\" class=\"dataframe\">\n",
       "  <thead>\n",
       "    <tr style=\"text-align: right;\">\n",
       "      <th></th>\n",
       "      <th>Number_of_Utterances</th>\n",
       "    </tr>\n",
       "  </thead>\n",
       "  <tbody>\n",
       "    <tr>\n",
       "      <th>ABCE1-C1</th>\n",
       "      <td>17</td>\n",
       "    </tr>\n",
       "    <tr>\n",
       "      <th>ABCE1-C10</th>\n",
       "      <td>17</td>\n",
       "    </tr>\n",
       "    <tr>\n",
       "      <th>ABCE1-C11</th>\n",
       "      <td>10</td>\n",
       "    </tr>\n",
       "    <tr>\n",
       "      <th>ABCE1-C12</th>\n",
       "      <td>12</td>\n",
       "    </tr>\n",
       "    <tr>\n",
       "      <th>ABCE1-C2</th>\n",
       "      <td>13</td>\n",
       "    </tr>\n",
       "  </tbody>\n",
       "</table>\n",
       "</div>"
      ],
      "text/plain": [
       "           Number_of_Utterances\n",
       "ABCE1-C1                     17\n",
       "ABCE1-C10                    17\n",
       "ABCE1-C11                    10\n",
       "ABCE1-C12                    12\n",
       "ABCE1-C2                     13"
      ]
     },
     "execution_count": 28,
     "metadata": {},
     "output_type": "execute_result"
    }
   ],
   "source": [
    "utt_df = pd.DataFrame(columns=['Number_of_Utterances'], index=sorted(utt_dict.keys()))\n",
    "utt_df['Number_of_Utterances'] = utt_df.index.map(lambda x: utt_dict[x])\n",
    "utt_df.head()"
   ]
  },
  {
   "cell_type": "code",
   "execution_count": 29,
   "metadata": {},
   "outputs": [],
   "source": [
    "# For this cell, I referenced Kyle Landin's project for his use of pd.merge\n",
    "\n",
    "speaker_df=pd.merge(speaker_df,utt_df,right_index=True,left_index=True)"
   ]
  },
  {
   "cell_type": "code",
   "execution_count": 30,
   "metadata": {},
   "outputs": [
    {
     "data": {
      "text/html": [
       "<div>\n",
       "<style scoped>\n",
       "    .dataframe tbody tr th:only-of-type {\n",
       "        vertical-align: middle;\n",
       "    }\n",
       "\n",
       "    .dataframe tbody tr th {\n",
       "        vertical-align: top;\n",
       "    }\n",
       "\n",
       "    .dataframe thead th {\n",
       "        text-align: right;\n",
       "    }\n",
       "</style>\n",
       "<table border=\"1\" class=\"dataframe\">\n",
       "  <thead>\n",
       "    <tr style=\"text-align: right;\">\n",
       "      <th></th>\n",
       "      <th>Segment</th>\n",
       "      <th>Speaker_Type</th>\n",
       "      <th>Gender</th>\n",
       "      <th>Name</th>\n",
       "      <th>Number_of_Utterances</th>\n",
       "    </tr>\n",
       "  </thead>\n",
       "  <tbody>\n",
       "    <tr>\n",
       "      <th>ABCE1-C1</th>\n",
       "      <td>ABCE1</td>\n",
       "      <td>C</td>\n",
       "      <td>F</td>\n",
       "      <td>Suzanne</td>\n",
       "      <td>17</td>\n",
       "    </tr>\n",
       "    <tr>\n",
       "      <th>ABCE1-C10</th>\n",
       "      <td>ABCE1</td>\n",
       "      <td>C</td>\n",
       "      <td>F</td>\n",
       "      <td>Beth</td>\n",
       "      <td>17</td>\n",
       "    </tr>\n",
       "    <tr>\n",
       "      <th>ABCE1-C11</th>\n",
       "      <td>ABCE1</td>\n",
       "      <td>C</td>\n",
       "      <td>F</td>\n",
       "      <td>Lynne</td>\n",
       "      <td>10</td>\n",
       "    </tr>\n",
       "    <tr>\n",
       "      <th>ABCE1-C12</th>\n",
       "      <td>ABCE1</td>\n",
       "      <td>C</td>\n",
       "      <td>M</td>\n",
       "      <td>Jack</td>\n",
       "      <td>12</td>\n",
       "    </tr>\n",
       "    <tr>\n",
       "      <th>ABCE1-C2</th>\n",
       "      <td>ABCE1</td>\n",
       "      <td>C</td>\n",
       "      <td>F</td>\n",
       "      <td>Lisa</td>\n",
       "      <td>13</td>\n",
       "    </tr>\n",
       "  </tbody>\n",
       "</table>\n",
       "</div>"
      ],
      "text/plain": [
       "          Segment Speaker_Type Gender     Name  Number_of_Utterances\n",
       "ABCE1-C1    ABCE1            C      F  Suzanne                    17\n",
       "ABCE1-C10   ABCE1            C      F     Beth                    17\n",
       "ABCE1-C11   ABCE1            C      F    Lynne                    10\n",
       "ABCE1-C12   ABCE1            C      M     Jack                    12\n",
       "ABCE1-C2    ABCE1            C      F     Lisa                    13"
      ]
     },
     "execution_count": 30,
     "metadata": {},
     "output_type": "execute_result"
    },
    {
     "data": {
      "text/html": [
       "<div>\n",
       "<style scoped>\n",
       "    .dataframe tbody tr th:only-of-type {\n",
       "        vertical-align: middle;\n",
       "    }\n",
       "\n",
       "    .dataframe tbody tr th {\n",
       "        vertical-align: top;\n",
       "    }\n",
       "\n",
       "    .dataframe thead th {\n",
       "        text-align: right;\n",
       "    }\n",
       "</style>\n",
       "<table border=\"1\" class=\"dataframe\">\n",
       "  <thead>\n",
       "    <tr style=\"text-align: right;\">\n",
       "      <th></th>\n",
       "      <th>Segment</th>\n",
       "      <th>Speaker_Type</th>\n",
       "      <th>Gender</th>\n",
       "      <th>Name</th>\n",
       "      <th>Number_of_Utterances</th>\n",
       "    </tr>\n",
       "  </thead>\n",
       "  <tbody>\n",
       "    <tr>\n",
       "      <th>NAT8-C6</th>\n",
       "      <td>NAT8</td>\n",
       "      <td>C</td>\n",
       "      <td>F</td>\n",
       "      <td>Britney</td>\n",
       "      <td>15</td>\n",
       "    </tr>\n",
       "    <tr>\n",
       "      <th>NAT8-C7</th>\n",
       "      <td>NAT8</td>\n",
       "      <td>C</td>\n",
       "      <td>M</td>\n",
       "      <td>Eddie</td>\n",
       "      <td>8</td>\n",
       "    </tr>\n",
       "    <tr>\n",
       "      <th>NAT8-C8</th>\n",
       "      <td>NAT8</td>\n",
       "      <td>C</td>\n",
       "      <td>M</td>\n",
       "      <td>Peter</td>\n",
       "      <td>13</td>\n",
       "    </tr>\n",
       "    <tr>\n",
       "      <th>NAT8-C9</th>\n",
       "      <td>NAT8</td>\n",
       "      <td>C</td>\n",
       "      <td>M</td>\n",
       "      <td>Michael</td>\n",
       "      <td>11</td>\n",
       "    </tr>\n",
       "    <tr>\n",
       "      <th>NAT8-P1</th>\n",
       "      <td>NAT8</td>\n",
       "      <td>P</td>\n",
       "      <td>F</td>\n",
       "      <td>Gaby Brown</td>\n",
       "      <td>188</td>\n",
       "    </tr>\n",
       "  </tbody>\n",
       "</table>\n",
       "</div>"
      ],
      "text/plain": [
       "        Segment Speaker_Type Gender        Name  Number_of_Utterances\n",
       "NAT8-C6    NAT8            C      F     Britney                    15\n",
       "NAT8-C7    NAT8            C      M       Eddie                     8\n",
       "NAT8-C8    NAT8            C      M       Peter                    13\n",
       "NAT8-C9    NAT8            C      M     Michael                    11\n",
       "NAT8-P1    NAT8            P      F  Gaby Brown                   188"
      ]
     },
     "execution_count": 30,
     "metadata": {},
     "output_type": "execute_result"
    }
   ],
   "source": [
    "speaker_df.head()\n",
    "speaker_df.tail()"
   ]
  },
  {
   "cell_type": "markdown",
   "metadata": {},
   "source": [
    "## Creating Separate Presenter, Caller, and Expert Data Frames"
   ]
  },
  {
   "cell_type": "code",
   "execution_count": 31,
   "metadata": {},
   "outputs": [
    {
     "data": {
      "text/html": [
       "<div>\n",
       "<style scoped>\n",
       "    .dataframe tbody tr th:only-of-type {\n",
       "        vertical-align: middle;\n",
       "    }\n",
       "\n",
       "    .dataframe tbody tr th {\n",
       "        vertical-align: top;\n",
       "    }\n",
       "\n",
       "    .dataframe thead th {\n",
       "        text-align: right;\n",
       "    }\n",
       "</style>\n",
       "<table border=\"1\" class=\"dataframe\">\n",
       "  <thead>\n",
       "    <tr style=\"text-align: right;\">\n",
       "      <th></th>\n",
       "      <th>Segment</th>\n",
       "      <th>Speaker_Type</th>\n",
       "      <th>Gender</th>\n",
       "      <th>Name</th>\n",
       "      <th>Number_of_Utterances</th>\n",
       "    </tr>\n",
       "  </thead>\n",
       "  <tbody>\n",
       "    <tr>\n",
       "      <th>ABCE1-P1</th>\n",
       "      <td>ABCE1</td>\n",
       "      <td>P</td>\n",
       "      <td>M</td>\n",
       "      <td>Simon Marnie</td>\n",
       "      <td>155</td>\n",
       "    </tr>\n",
       "    <tr>\n",
       "      <th>ABCE2-P1</th>\n",
       "      <td>ABCE2</td>\n",
       "      <td>P</td>\n",
       "      <td>M</td>\n",
       "      <td>Simon Marnie</td>\n",
       "      <td>233</td>\n",
       "    </tr>\n",
       "    <tr>\n",
       "      <th>ABCE3-P1</th>\n",
       "      <td>ABCE3</td>\n",
       "      <td>P</td>\n",
       "      <td>F</td>\n",
       "      <td>Lynne Haultain</td>\n",
       "      <td>129</td>\n",
       "    </tr>\n",
       "    <tr>\n",
       "      <th>ABCE3-P2</th>\n",
       "      <td>ABCE3</td>\n",
       "      <td>P</td>\n",
       "      <td>F</td>\n",
       "      <td>Jurate Sasnaitis</td>\n",
       "      <td>56</td>\n",
       "    </tr>\n",
       "    <tr>\n",
       "      <th>ABCE4-P1</th>\n",
       "      <td>ABCE4</td>\n",
       "      <td>P</td>\n",
       "      <td>F</td>\n",
       "      <td>Kelly Higgins-Devine</td>\n",
       "      <td>23</td>\n",
       "    </tr>\n",
       "  </tbody>\n",
       "</table>\n",
       "</div>"
      ],
      "text/plain": [
       "         Segment Speaker_Type Gender                  Name  \\\n",
       "ABCE1-P1   ABCE1            P      M          Simon Marnie   \n",
       "ABCE2-P1   ABCE2            P      M          Simon Marnie   \n",
       "ABCE3-P1   ABCE3            P      F        Lynne Haultain   \n",
       "ABCE3-P2   ABCE3            P      F      Jurate Sasnaitis   \n",
       "ABCE4-P1   ABCE4            P      F  Kelly Higgins-Devine   \n",
       "\n",
       "          Number_of_Utterances  \n",
       "ABCE1-P1                   155  \n",
       "ABCE2-P1                   233  \n",
       "ABCE3-P1                   129  \n",
       "ABCE3-P2                    56  \n",
       "ABCE4-P1                    23  "
      ]
     },
     "execution_count": 31,
     "metadata": {},
     "output_type": "execute_result"
    },
    {
     "data": {
      "text/html": [
       "<div>\n",
       "<style scoped>\n",
       "    .dataframe tbody tr th:only-of-type {\n",
       "        vertical-align: middle;\n",
       "    }\n",
       "\n",
       "    .dataframe tbody tr th {\n",
       "        vertical-align: top;\n",
       "    }\n",
       "\n",
       "    .dataframe thead th {\n",
       "        text-align: right;\n",
       "    }\n",
       "</style>\n",
       "<table border=\"1\" class=\"dataframe\">\n",
       "  <thead>\n",
       "    <tr style=\"text-align: right;\">\n",
       "      <th></th>\n",
       "      <th>Segment</th>\n",
       "      <th>Speaker_Type</th>\n",
       "      <th>Gender</th>\n",
       "      <th>Name</th>\n",
       "      <th>Number_of_Utterances</th>\n",
       "    </tr>\n",
       "  </thead>\n",
       "  <tbody>\n",
       "    <tr>\n",
       "      <th>ABCE1-C1</th>\n",
       "      <td>ABCE1</td>\n",
       "      <td>C</td>\n",
       "      <td>F</td>\n",
       "      <td>Suzanne</td>\n",
       "      <td>17</td>\n",
       "    </tr>\n",
       "    <tr>\n",
       "      <th>ABCE1-C10</th>\n",
       "      <td>ABCE1</td>\n",
       "      <td>C</td>\n",
       "      <td>F</td>\n",
       "      <td>Beth</td>\n",
       "      <td>17</td>\n",
       "    </tr>\n",
       "    <tr>\n",
       "      <th>ABCE1-C11</th>\n",
       "      <td>ABCE1</td>\n",
       "      <td>C</td>\n",
       "      <td>F</td>\n",
       "      <td>Lynne</td>\n",
       "      <td>10</td>\n",
       "    </tr>\n",
       "    <tr>\n",
       "      <th>ABCE1-C12</th>\n",
       "      <td>ABCE1</td>\n",
       "      <td>C</td>\n",
       "      <td>M</td>\n",
       "      <td>Jack</td>\n",
       "      <td>12</td>\n",
       "    </tr>\n",
       "    <tr>\n",
       "      <th>ABCE1-C2</th>\n",
       "      <td>ABCE1</td>\n",
       "      <td>C</td>\n",
       "      <td>F</td>\n",
       "      <td>Lisa</td>\n",
       "      <td>13</td>\n",
       "    </tr>\n",
       "  </tbody>\n",
       "</table>\n",
       "</div>"
      ],
      "text/plain": [
       "          Segment Speaker_Type Gender     Name  Number_of_Utterances\n",
       "ABCE1-C1    ABCE1            C      F  Suzanne                    17\n",
       "ABCE1-C10   ABCE1            C      F     Beth                    17\n",
       "ABCE1-C11   ABCE1            C      F    Lynne                    10\n",
       "ABCE1-C12   ABCE1            C      M     Jack                    12\n",
       "ABCE1-C2    ABCE1            C      F     Lisa                    13"
      ]
     },
     "execution_count": 31,
     "metadata": {},
     "output_type": "execute_result"
    },
    {
     "data": {
      "text/html": [
       "<div>\n",
       "<style scoped>\n",
       "    .dataframe tbody tr th:only-of-type {\n",
       "        vertical-align: middle;\n",
       "    }\n",
       "\n",
       "    .dataframe tbody tr th {\n",
       "        vertical-align: top;\n",
       "    }\n",
       "\n",
       "    .dataframe thead th {\n",
       "        text-align: right;\n",
       "    }\n",
       "</style>\n",
       "<table border=\"1\" class=\"dataframe\">\n",
       "  <thead>\n",
       "    <tr style=\"text-align: right;\">\n",
       "      <th></th>\n",
       "      <th>Segment</th>\n",
       "      <th>Speaker_Type</th>\n",
       "      <th>Gender</th>\n",
       "      <th>Name</th>\n",
       "      <th>Number_of_Utterances</th>\n",
       "    </tr>\n",
       "  </thead>\n",
       "  <tbody>\n",
       "    <tr>\n",
       "      <th>ABCE1-E1</th>\n",
       "      <td>ABCE1</td>\n",
       "      <td>E</td>\n",
       "      <td>M</td>\n",
       "      <td>Angus Stewart</td>\n",
       "      <td>139</td>\n",
       "    </tr>\n",
       "    <tr>\n",
       "      <th>ABCE1-E2</th>\n",
       "      <td>ABCE1</td>\n",
       "      <td>E</td>\n",
       "      <td>F</td>\n",
       "      <td>Jeanne Villani</td>\n",
       "      <td>27</td>\n",
       "    </tr>\n",
       "    <tr>\n",
       "      <th>ABCE2-E1</th>\n",
       "      <td>ABCE2</td>\n",
       "      <td>E</td>\n",
       "      <td>M</td>\n",
       "      <td>Les</td>\n",
       "      <td>192</td>\n",
       "    </tr>\n",
       "    <tr>\n",
       "      <th>ABCE2-E2</th>\n",
       "      <td>ABCE2</td>\n",
       "      <td>E</td>\n",
       "      <td>M</td>\n",
       "      <td>Pete</td>\n",
       "      <td>166</td>\n",
       "    </tr>\n",
       "    <tr>\n",
       "      <th>ABCE2-E3</th>\n",
       "      <td>ABCE2</td>\n",
       "      <td>E</td>\n",
       "      <td>M</td>\n",
       "      <td>John Hall</td>\n",
       "      <td>6</td>\n",
       "    </tr>\n",
       "  </tbody>\n",
       "</table>\n",
       "</div>"
      ],
      "text/plain": [
       "         Segment Speaker_Type Gender            Name  Number_of_Utterances\n",
       "ABCE1-E1   ABCE1            E      M   Angus Stewart                   139\n",
       "ABCE1-E2   ABCE1            E      F  Jeanne Villani                    27\n",
       "ABCE2-E1   ABCE2            E      M             Les                   192\n",
       "ABCE2-E2   ABCE2            E      M            Pete                   166\n",
       "ABCE2-E3   ABCE2            E      M       John Hall                     6"
      ]
     },
     "execution_count": 31,
     "metadata": {},
     "output_type": "execute_result"
    }
   ],
   "source": [
    "# dataframe of presenters\n",
    "P_df=speaker_df.loc[speaker_df[\"Speaker_Type\"]=='P',:]\n",
    "P_df.head()\n",
    "\n",
    "# dataframe of callers\n",
    "C_df=speaker_df.loc[speaker_df[\"Speaker_Type\"]=='C',:]\n",
    "C_df.head()\n",
    "\n",
    "# dataframe of experts\n",
    "E_df=speaker_df.loc[speaker_df[\"Speaker_Type\"]=='E',:]\n",
    "E_df.head()"
   ]
  },
  {
   "cell_type": "code",
   "execution_count": 32,
   "metadata": {},
   "outputs": [
    {
     "data": {
      "text/plain": [
       "P     31\n",
       "C    362\n",
       "E     37\n",
       "Name: Speaker_Type, dtype: int64"
      ]
     },
     "execution_count": 32,
     "metadata": {},
     "output_type": "execute_result"
    }
   ],
   "source": [
    "speaker_df[\"Speaker_Type\"].value_counts().reindex([\"P\",\"C\",\"E\"])"
   ]
  },
  {
   "cell_type": "markdown",
   "metadata": {},
   "source": [
    "## Calculating Average Sentence and Word Lengths by Speaker Type"
   ]
  },
  {
   "cell_type": "code",
   "execution_count": 33,
   "metadata": {},
   "outputs": [
    {
     "data": {
      "text/plain": [
       "('ABCE1-P1', 1, 'ABCE1', 'P', 'M', \"Thanks for that John Hall now John Hall will be listening for the next hour 'cos Angus Stewart is here to take your calls eight-triple-three-one-thousand one-eight-hundred-eight-hundred-seven-oh-two something in the garden that's causing you problems give us a call right now and Angus can I mean y'know he is known in the trade as Mr popergation {propagation} Mr propagation. He's also known for his passion for natives and his love of o orchids am I right so far.\")"
      ]
     },
     "execution_count": 33,
     "metadata": {},
     "output_type": "execute_result"
    },
    {
     "name": "stdout",
     "output_type": "stream",
     "text": [
      "Thanks for that John Hall now John Hall will be listening for the next hour 'cos Angus Stewart is here to take your calls eight-triple-three-one-thousand one-eight-hundred-eight-hundred-seven-oh-two something in the garden that's causing you problems give us a call right now and Angus can I mean y'know he is known in the trade as Mr popergation {propagation} Mr propagation. He's also known for his passion for natives and his love of o orchids am I right so far.\n",
      "I guess yeah yeah <laughs>.\n"
     ]
    }
   ],
   "source": [
    "# art_list content reminder:\n",
    "art_list[0]\n",
    "\n",
    "for x in art_list[:2]:\n",
    "    print(x[5])"
   ]
  },
  {
   "cell_type": "code",
   "execution_count": 34,
   "metadata": {},
   "outputs": [
    {
     "name": "stdout",
     "output_type": "stream",
     "text": [
      "Help on function sub in module re:\n",
      "\n",
      "sub(pattern, repl, string, count=0, flags=0)\n",
      "    Return the string obtained by replacing the leftmost\n",
      "    non-overlapping occurrences of the pattern in string by the\n",
      "    replacement repl.  repl can be either a string or a callable;\n",
      "    if a string, backslash escapes in it are processed.  If it is\n",
      "    a callable, it's passed the match object and must return\n",
      "    a replacement string to be used.\n",
      "\n"
     ]
    },
    {
     "data": {
      "text/plain": [
       "'mary {had} a lamb'"
      ]
     },
     "execution_count": 34,
     "metadata": {},
     "output_type": "execute_result"
    },
    {
     "data": {
      "text/plain": [
       "'mary a <little> lamb'"
      ]
     },
     "execution_count": 34,
     "metadata": {},
     "output_type": "execute_result"
    }
   ],
   "source": [
    "# How to replace part of a string using regular expressions (re.sub):\n",
    "\n",
    "# help(re)\n",
    "help(re.sub)\n",
    "\n",
    "foo = \"mary {had} a <little> lamb\"\n",
    "\n",
    "re.sub(r' <.*?>','',foo)\n",
    "re.sub(r' {.*?}','',foo)\n",
    "# re.findall(r'<.*?>',foo)\n",
    "# re.findall(r'{.*?}',foo)"
   ]
  },
  {
   "cell_type": "code",
   "execution_count": 35,
   "metadata": {},
   "outputs": [],
   "source": [
    "# Checking the contents of { } and < > before ignoring them\n",
    "squir = []\n",
    "for x in art_list:\n",
    "    if re.findall(r'{.*?}',x[5]):\n",
    "        squir.append([x[0],x[1],re.findall(r'{.*?}',x[5])]) # addressed issue with COME1-raw.txt line in the Data Cleaning Cell\n",
    "# print(squir)\n",
    "\n",
    "carr = []\n",
    "for x in art_list:\n",
    "    if re.findall(r'<.*?>',x[5]):\n",
    "        carr.append(re.findall(r'<.*?>',x[5])) # addressed issue with COME1-raw.txt line in the Data Cleaning Cell\n",
    "# print(carr)"
   ]
  },
  {
   "cell_type": "markdown",
   "metadata": {},
   "source": [
    "### Trial Run Word and Sentence Tokeninzation"
   ]
  },
  {
   "cell_type": "code",
   "execution_count": 36,
   "metadata": {},
   "outputs": [
    {
     "name": "stdout",
     "output_type": "stream",
     "text": [
      "Thanks for that John Hall now John Hall will be listening for the next hour 'cos Angus Stewart is here to take your calls eight-triple-three-one-thousand one-eight-hundred-eight-hundred-seven-oh-two something in the garden that's causing you problems give us a call right now and Angus can I mean y'know he is known in the trade as Mr popergation {propagation} Mr propagation. He's also known for his passion for natives and his love of o orchids am I right so far.\n",
      "Thanks for that John Hall now John Hall will be listening for the next hour 'cos Angus Stewart is here to take your calls eight-triple-three-one-thousand one-eight-hundred-eight-hundred-seven-oh-two something in the garden that's causing you problems give us a call right now and Angus can I mean y'know he is known in the trade as Mr popergation Mr propagation. He's also known for his passion for natives and his love of o orchids am I right so far.\n",
      "I guess yeah yeah <laughs>.\n",
      "I guess yeah yeah.\n"
     ]
    },
    {
     "data": {
      "text/plain": [
       "[['ABCE1-P1', 1, ['Thanks', 'for', 'that', 'John', 'Hall', 'now', 'John', 'Hall', 'will', 'be', 'listening', 'for', 'the', 'next', 'hour', \"'cos\", 'Angus', 'Stewart', 'is', 'here', 'to', 'take', 'your', 'calls', 'eight-triple-three-one-thousand', 'one-eight-hundred-eight-hundred-seven-oh-two', 'something', 'in', 'the', 'garden', 'that', \"'s\", 'causing', 'you', 'problems', 'give', 'us', 'a', 'call', 'right', 'now', 'and', 'Angus', 'can', 'I', 'mean', \"y'know\", 'he', 'is', 'known', 'in', 'the', 'trade', 'as', 'Mr', 'popergation', 'Mr', 'propagation', '.', 'He', \"'s\", 'also', 'known', 'for', 'his', 'passion', 'for', 'natives', 'and', 'his', 'love', 'of', 'o', 'orchids', 'am', 'I', 'right', 'so', 'far', '.']], ['ABCE1-E1', 2, ['I', 'guess', 'yeah', 'yeah', '.']]]"
      ]
     },
     "execution_count": 36,
     "metadata": {},
     "output_type": "execute_result"
    },
    {
     "data": {
      "text/plain": [
       "[['ABCE1-P1', 1, [\"Thanks for that John Hall now John Hall will be listening for the next hour 'cos Angus Stewart is here to take your calls eight-triple-three-one-thousand one-eight-hundred-eight-hundred-seven-oh-two something in the garden that's causing you problems give us a call right now and Angus can I mean y'know he is known in the trade as Mr popergation Mr propagation.\", \"He's also known for his passion for natives and his love of o orchids am I right so far.\"]], ['ABCE1-E1', 2, ['I guess yeah yeah.']]]"
      ]
     },
     "execution_count": 36,
     "metadata": {},
     "output_type": "execute_result"
    }
   ],
   "source": [
    "# Trial run on the first two lines:\n",
    "word_toks = []\n",
    "sents = []\n",
    "\n",
    "for x in art_list[:2]:\n",
    "    line = x[5]\n",
    "    print(line)\n",
    "    \n",
    "    line = re.sub(r' <.*?>','',line)\n",
    "    line = re.sub(r' {.*?}','',line) # for now, removing all spelling corrections\n",
    "    \n",
    "    print(line)\n",
    "    \n",
    "    speaker=x[0]\n",
    "    utt_num=x[1]\n",
    "    \n",
    "    # for now, including the speaker and utterance number of the file to make sure that word_toks and sents line up with art_df's indices\n",
    "    word_toks.append([speaker,utt_num,nltk.word_tokenize(line)]) \n",
    "    sents.append([speaker,utt_num,nltk.sent_tokenize(line)])  \n",
    "    \n",
    "word_toks\n",
    "sents"
   ]
  },
  {
   "cell_type": "markdown",
   "metadata": {},
   "source": [
    "### Word and Sentence Tokenization"
   ]
  },
  {
   "cell_type": "code",
   "execution_count": 37,
   "metadata": {},
   "outputs": [
    {
     "data": {
      "text/plain": [
       "Segment                 COME6\n",
       "Speaker_Type                C\n",
       "Gender                      M\n",
       "Name                    Ruben\n",
       "Number_of_Utterances        3\n",
       "Name: COME6-C4, dtype: object"
      ]
     },
     "execution_count": 37,
     "metadata": {},
     "output_type": "execute_result"
    }
   ],
   "source": [
    "speaker_df.loc[\"COME6-C4\"]"
   ]
  },
  {
   "cell_type": "code",
   "execution_count": 38,
   "metadata": {},
   "outputs": [
    {
     "name": "stdout",
     "output_type": "stream",
     "text": [
      "Word Tokens:\n"
     ]
    },
    {
     "data": {
      "text/plain": [
       "[['Thanks', 'for', 'that', 'John', 'Hall', 'now', 'John', 'Hall', 'will', 'be', 'listening', 'for', 'the', 'next', 'hour', \"'cos\", 'Angus', 'Stewart', 'is', 'here', 'to', 'take', 'your', 'calls', 'eight-triple-three-one-thousand', 'one-eight-hundred-eight-hundred-seven-oh-two', 'something', 'in', 'the', 'garden', 'that', \"'s\", 'causing', 'you', 'problems', 'give', 'us', 'a', 'call', 'right', 'now', 'and', 'Angus', 'can', 'I', 'mean', \"y'know\", 'he', 'is', 'known', 'in', 'the', 'trade', 'as', 'Mr', 'popergation', 'Mr', 'propagation', '.', 'He', \"'s\", 'also', 'known', 'for', 'his', 'passion', 'for', 'natives', 'and', 'his', 'love', 'of', 'o', 'orchids', 'am', 'I', 'right', 'so', 'far', '.'], ['I', 'guess', 'yeah', 'yeah', '.'], ['He', \"'s\", 'also', 'known', 'for', 'his', 'ability', 'to', 'open', 'cosposting', 'toilets', 'so', 'he', 'can', 'tell', 'you', 'anything', 'worm', 'farm', 'problems', 'certainly', 'helped', 'us', 'and', 'although', 'I', \"'m\", 'still', 'confused', 'about', 'dry', 'ingredients', 'we', 'might', 'talk', 'about', 'that', 'as', 'well', 'but', 'eight-triple-three-one-thousand', 'one-eight-hundred-eight-hundred-seven-oh-two', 'fine', 'sunny', 'day', 'today', 'top', 'temperatures', 'on', 'the', 'coast', 'of', 'twenty-seven', 'inland', 'thirty', 'degrees', 'Bowral', 'enjoying', 'twenty-seven', 'and', 'Katoomba', 'twenty-five', 'degrees', 'currently', 'around', 'town', 'on', 'the', 'coast', 'it', \"'s\", 'seventeen', 'that', \"'s\", 'four', 'below', 'r', 'Richmond', 'and', 'Bankstown', 'are', 'fifteen', 'degrees', 'Penrith', 'sixteen', 'Katoomba', 'thirteen', 'and', 'Gosford', 'twelve', '.', 'One', 'of', 'the', 'jewels', 'in', 'the', 'open', 'garden', 'scheme', 'crown', 'is', 'opening', 'today', 'and', 'this', 'is', 'just', 'a', 'garden', 'to', 'envy', 'how', 'would', 'you', 'like', 'to', 'have', 'a', 'beautiful', 'sandstone', 'cottage', 'nestled', 'underneath', 'a', 'waterfall', 'with', 'a', 'little', 'pond', 'and', 'then', 'a', 'creek', 'that', 'runs', 'through', 'with', 'thousands', 'of', 'water', 'dragons', 'so', 'tame', 'they', 'come', 'up', 'and', 'just', 'kiss', 'you', '.', 'Would', 'you', 'like', 'to', 'live', 'there', '.'], ['Okay', '.'], ['Jeanne', 'Villani', 'does', 'and', 'we', \"'ll\", 'find', 'out', 'the', 'secret', 'of', 'her', 'open', 'garden', 'and', 'give', 'you', 'the', 'address', 'so', 'that', 'you', 'can', 'go', 'along', 'today', 'and', 'tomorrow', 'to', 'see', 'Waterfall', 'Cottage', 'which', 'is', 'a', 'part', 'of', 'the', 'open', 'garden', 'scheme', 'all', 'this', 'and', 'more', 'because', 'it', 'is', 'Saturday', '.']]"
      ]
     },
     "execution_count": 38,
     "metadata": {},
     "output_type": "execute_result"
    },
    {
     "data": {
      "text/plain": [
       "9029"
      ]
     },
     "execution_count": 38,
     "metadata": {},
     "output_type": "execute_result"
    },
    {
     "name": "stdout",
     "output_type": "stream",
     "text": [
      "\n",
      "Number of Words:\n"
     ]
    },
    {
     "data": {
      "text/plain": [
       "[80, 5, 159, 2, 50]"
      ]
     },
     "execution_count": 38,
     "metadata": {},
     "output_type": "execute_result"
    },
    {
     "data": {
      "text/plain": [
       "9029"
      ]
     },
     "execution_count": 38,
     "metadata": {},
     "output_type": "execute_result"
    },
    {
     "name": "stdout",
     "output_type": "stream",
     "text": [
      "\n",
      "Average Word Length:\n"
     ]
    },
    {
     "data": {
      "text/plain": [
       "[4.7, 3.0, 5.062893081761007, 2.5, 3.98, 8.692307692307692, 3.0, 2.5, 2.6666666666666665, 2.9]"
      ]
     },
     "execution_count": 38,
     "metadata": {},
     "output_type": "execute_result"
    },
    {
     "data": {
      "text/plain": [
       "9029"
      ]
     },
     "execution_count": 38,
     "metadata": {},
     "output_type": "execute_result"
    },
    {
     "name": "stdout",
     "output_type": "stream",
     "text": [
      "\n",
      "Sentences:\n"
     ]
    },
    {
     "data": {
      "text/plain": [
       "[[\"Thanks for that John Hall now John Hall will be listening for the next hour 'cos Angus Stewart is here to take your calls eight-triple-three-one-thousand one-eight-hundred-eight-hundred-seven-oh-two something in the garden that's causing you problems give us a call right now and Angus can I mean y'know he is known in the trade as Mr popergation  Mr propagation.\", \"He's also known for his passion for natives and his love of o orchids am I right so far.\"], ['I guess yeah yeah .'], [\"He's also known  for his ability to open cosposting  toilets so he can tell you anything worm farm problems certainly helped us and although I'm still confused about dry ingredients we might talk about that as well but eight-triple-three-one-thousand one-eight-hundred-eight-hundred-seven-oh-two fine sunny day today top temperatures on the coast of twenty-seven inland thirty degrees Bowral enjoying twenty-seven and Katoomba twenty-five degrees currently around town on the coast it's seventeen that's four below  r Richmond and Bankstown are fifteen degrees Penrith sixteen Katoomba thirteen and Gosford twelve.\", 'One of the jewels in the open garden scheme crown is opening today and this is just a garden to envy how would you like  to have  a beautiful sandstone cottage nestled underneath a waterfall with a little pond and then a creek that runs through with thousands of water dragons so tame they come up and just  kiss you.', 'Would you like to live there.'], ['Okay.'], [\"Jeanne Villani does and we'll find out the secret of her open garden and give you the address so that you can go along today and tomorrow to see Waterfall Cottage which is a part of the open garden scheme all this and more because it is Saturday.\"], [\"Eight-triple-three-one-thousand one-eight-hundred-eight-hundred-seven-oh-two Suzanne's on the line in McMahon's Point and.\"], ['Hello.'], ['How are you.'], [\"I'm good thank you.\"], [\"You've got a big fat  Morton Bay fig.\"], [\"Well it's not that bit it's um it's about three feet 'cos I only know feet .\", \"About three feet high and um it's been doing so well my partner actually grew it from a seed we picked it up in a church garden  and our intention was to buy a house and plant it but we haven't got the house yet.\", \"So we've still got the fig and it's doing so well until recently.\", \"My um I think it's under stress God knows why  it's only on a balcony in a pot but it's getting a sort first of all I thought it was sunburn but the the leaves are getting oh um a pale ring and then after a while they crack .\", \"And  and then they break off first of all I thought oh golly it's a bug or something eating it.\", \"But no it seems to be happening as they're growing they're perfectly fine and then intermittently they get this it's it's as if somebody has um um put some hydrogen peroxide on them or something and then.\"], ['Is there plenty of drainage in the pot.'], [\"Yes uhuh um plenty I'm just wondering well obviously it's gotta come out of the pot and be planted in   a proper place but.\"], [\"You think it's a case of Free Willy it wants to just go into the  into the open.\"], [\"It does 'cos it's meant.\"], [\"I don't know Angus is that the case.\"], ['Well the symptoms you describe um it it sounds could it possibly be water stress.', 'Do you think the plant could be drying out from time to time.'], [\"Yeah well it could be maybe I'm not giving it enough.\"], [\"Yeah they uh I mean they are a a rainforest tree that that's used to fairly constant moisture and and mulch y'know plenty of leaf mulch uh froh in the natural sort of environment um.\"], ['Should I feed it some more.', 'Ih feed it .']]"
      ]
     },
     "execution_count": 38,
     "metadata": {},
     "output_type": "execute_result"
    },
    {
     "data": {
      "text/plain": [
       "9029"
      ]
     },
     "execution_count": 38,
     "metadata": {},
     "output_type": "execute_result"
    },
    {
     "name": "stdout",
     "output_type": "stream",
     "text": [
      "\n",
      "Number of Sentences:\n"
     ]
    },
    {
     "data": {
      "text/plain": [
       "[2, 1, 3, 1, 1, 1, 1, 1, 1, 1, 6, 1, 1, 1, 1, 1, 2, 1, 1, 2]"
      ]
     },
     "execution_count": 38,
     "metadata": {},
     "output_type": "execute_result"
    },
    {
     "data": {
      "text/plain": [
       "9029"
      ]
     },
     "execution_count": 38,
     "metadata": {},
     "output_type": "execute_result"
    }
   ],
   "source": [
    "# Word and Sentence Tokenziation:\n",
    "word_toks = []\n",
    "sents = []\n",
    "num_words = []\n",
    "num_sents = []\n",
    "avg_word_len = []\n",
    "\n",
    "for x in art_list:\n",
    "    word_len=0\n",
    "    \n",
    "    line = x[5]\n",
    "\n",
    "    # regular expressions\n",
    "    line = re.sub(r'<.*?>','',line)\n",
    "    line = re.sub(r'{.*?}','',line) # for now, removing all spelling corrections\n",
    "    \n",
    "    # tokenizing and calculating the length\n",
    "    word_toks_1 = nltk.word_tokenize(line)\n",
    "    sents_1 = nltk.sent_tokenize(line)\n",
    "    num_words_1 = len(word_toks_1)\n",
    "    num_sents_1 = len(sents_1)\n",
    "\n",
    "    # COME6-C7 Ruben's first line is <inaudible>, but all items within < > were removed, resulting in a length of 0\n",
    "        # this loop sets all 0 values to \"NaN\" <- This only occurs in Ruben's line.\n",
    "    if num_words_1==0 or num_sents_1==0:\n",
    "#         num_words_1 = \"NaN\"\n",
    "#         num_sents_1 = \"NaN\"\n",
    "        num_words_1 = 1\n",
    "        num_sents_1 = 1\n",
    "   \n",
    "    # finding the average word length for the line\n",
    "    for word in word_toks_1:\n",
    "        word_len+=len(word)\n",
    "    \n",
    "    # average word length for the line\n",
    "        # skips Ruben\n",
    "#     if num_words_1 != \"NaN\":\n",
    "#         avg_word_len.append(word_len/num_words_1)\n",
    "#     else: \n",
    "#         avg_word_len.append(\"NaN\")\n",
    "\n",
    "    avg_word_len.append(word_len/num_words_1)\n",
    "\n",
    "    # appending to the lists of word tokens, sentences, and number of words\n",
    "    word_toks.append(word_toks_1)\n",
    "    sents.append(sents_1)    \n",
    "    num_words.append(num_words_1)\n",
    "    num_sents.append(num_sents_1)\n",
    "    \n",
    "# checking the lists\n",
    "print(\"Word Tokens:\")\n",
    "word_toks[:5]\n",
    "len(word_toks)\n",
    "\n",
    "print(\"\\nNumber of Words:\")\n",
    "num_words[:5]\n",
    "len(num_words)\n",
    "\n",
    "print(\"\\nAverage Word Length:\")\n",
    "avg_word_len[:10]\n",
    "len(avg_word_len)\n",
    "\n",
    "print(\"\\nSentences:\")\n",
    "sents[:20]\n",
    "len(sents)\n",
    "\n",
    "print(\"\\nNumber of Sentences:\")\n",
    "num_sents[:20]\n",
    "len(num_sents)"
   ]
  },
  {
   "cell_type": "code",
   "execution_count": 39,
   "metadata": {},
   "outputs": [
    {
     "data": {
      "text/html": [
       "<div>\n",
       "<style scoped>\n",
       "    .dataframe tbody tr th:only-of-type {\n",
       "        vertical-align: middle;\n",
       "    }\n",
       "\n",
       "    .dataframe tbody tr th {\n",
       "        vertical-align: top;\n",
       "    }\n",
       "\n",
       "    .dataframe thead th {\n",
       "        text-align: right;\n",
       "    }\n",
       "</style>\n",
       "<table border=\"1\" class=\"dataframe\">\n",
       "  <thead>\n",
       "    <tr style=\"text-align: right;\">\n",
       "      <th></th>\n",
       "      <th></th>\n",
       "      <th>Segment</th>\n",
       "      <th>Speaker_Type</th>\n",
       "      <th>Gender</th>\n",
       "      <th>Text</th>\n",
       "    </tr>\n",
       "    <tr>\n",
       "      <th>Speaker</th>\n",
       "      <th>Utterance_Number</th>\n",
       "      <th></th>\n",
       "      <th></th>\n",
       "      <th></th>\n",
       "      <th></th>\n",
       "    </tr>\n",
       "  </thead>\n",
       "  <tbody>\n",
       "    <tr>\n",
       "      <th>ABCE1-P1</th>\n",
       "      <th>1</th>\n",
       "      <td>ABCE1</td>\n",
       "      <td>P</td>\n",
       "      <td>M</td>\n",
       "      <td>Thanks for that John Hall now John Hall will b...</td>\n",
       "    </tr>\n",
       "    <tr>\n",
       "      <th>ABCE1-E1</th>\n",
       "      <th>2</th>\n",
       "      <td>ABCE1</td>\n",
       "      <td>E</td>\n",
       "      <td>M</td>\n",
       "      <td>I guess yeah yeah &lt;laughs&gt;.</td>\n",
       "    </tr>\n",
       "    <tr>\n",
       "      <th>ABCE1-P1</th>\n",
       "      <th>3</th>\n",
       "      <td>ABCE1</td>\n",
       "      <td>P</td>\n",
       "      <td>M</td>\n",
       "      <td>He's also known &lt;E1 sounds reasonable&gt; for his...</td>\n",
       "    </tr>\n",
       "    <tr>\n",
       "      <th>ABCE1-E1</th>\n",
       "      <th>4</th>\n",
       "      <td>ABCE1</td>\n",
       "      <td>E</td>\n",
       "      <td>M</td>\n",
       "      <td>Okay.</td>\n",
       "    </tr>\n",
       "    <tr>\n",
       "      <th>ABCE1-P1</th>\n",
       "      <th>5</th>\n",
       "      <td>ABCE1</td>\n",
       "      <td>P</td>\n",
       "      <td>M</td>\n",
       "      <td>Jeanne Villani does and we'll find out the sec...</td>\n",
       "    </tr>\n",
       "  </tbody>\n",
       "</table>\n",
       "</div>"
      ],
      "text/plain": [
       "                          Segment Speaker_Type Gender  \\\n",
       "Speaker  Utterance_Number                               \n",
       "ABCE1-P1 1                  ABCE1            P      M   \n",
       "ABCE1-E1 2                  ABCE1            E      M   \n",
       "ABCE1-P1 3                  ABCE1            P      M   \n",
       "ABCE1-E1 4                  ABCE1            E      M   \n",
       "ABCE1-P1 5                  ABCE1            P      M   \n",
       "\n",
       "                                                                        Text  \n",
       "Speaker  Utterance_Number                                                     \n",
       "ABCE1-P1 1                 Thanks for that John Hall now John Hall will b...  \n",
       "ABCE1-E1 2                                       I guess yeah yeah <laughs>.  \n",
       "ABCE1-P1 3                 He's also known <E1 sounds reasonable> for his...  \n",
       "ABCE1-E1 4                                                             Okay.  \n",
       "ABCE1-P1 5                 Jeanne Villani does and we'll find out the sec...  "
      ]
     },
     "execution_count": 39,
     "metadata": {},
     "output_type": "execute_result"
    }
   ],
   "source": [
    "# art_df content reminder:\n",
    "art_df.head()"
   ]
  },
  {
   "cell_type": "markdown",
   "metadata": {},
   "source": [
    "### Expanding art_df to Include Word and Sentence Information\n",
    "- word tokens \n",
    "- number of words\n",
    "- average word length\n",
    "- sentences\n",
    "- number of sentences"
   ]
  },
  {
   "cell_type": "code",
   "execution_count": 40,
   "metadata": {},
   "outputs": [
    {
     "data": {
      "text/html": [
       "<div>\n",
       "<style scoped>\n",
       "    .dataframe tbody tr th:only-of-type {\n",
       "        vertical-align: middle;\n",
       "    }\n",
       "\n",
       "    .dataframe tbody tr th {\n",
       "        vertical-align: top;\n",
       "    }\n",
       "\n",
       "    .dataframe thead th {\n",
       "        text-align: right;\n",
       "    }\n",
       "</style>\n",
       "<table border=\"1\" class=\"dataframe\">\n",
       "  <thead>\n",
       "    <tr style=\"text-align: right;\">\n",
       "      <th></th>\n",
       "      <th></th>\n",
       "      <th>Segment</th>\n",
       "      <th>Speaker_Type</th>\n",
       "      <th>Gender</th>\n",
       "      <th>Text</th>\n",
       "      <th>Word_Toks</th>\n",
       "      <th>Num_Words</th>\n",
       "      <th>Avg_Word_Length</th>\n",
       "      <th>Sents</th>\n",
       "      <th>Num_Sents</th>\n",
       "    </tr>\n",
       "    <tr>\n",
       "      <th>Speaker</th>\n",
       "      <th>Utterance_Number</th>\n",
       "      <th></th>\n",
       "      <th></th>\n",
       "      <th></th>\n",
       "      <th></th>\n",
       "      <th></th>\n",
       "      <th></th>\n",
       "      <th></th>\n",
       "      <th></th>\n",
       "      <th></th>\n",
       "    </tr>\n",
       "  </thead>\n",
       "  <tbody>\n",
       "    <tr>\n",
       "      <th>ABCE1-P1</th>\n",
       "      <th>1</th>\n",
       "      <td>ABCE1</td>\n",
       "      <td>P</td>\n",
       "      <td>M</td>\n",
       "      <td>Thanks for that John Hall now John Hall will b...</td>\n",
       "      <td>[Thanks, for, that, John, Hall, now, John, Hal...</td>\n",
       "      <td>80</td>\n",
       "      <td>4.700000</td>\n",
       "      <td>[Thanks for that John Hall now John Hall will ...</td>\n",
       "      <td>2</td>\n",
       "    </tr>\n",
       "    <tr>\n",
       "      <th>ABCE1-E1</th>\n",
       "      <th>2</th>\n",
       "      <td>ABCE1</td>\n",
       "      <td>E</td>\n",
       "      <td>M</td>\n",
       "      <td>I guess yeah yeah &lt;laughs&gt;.</td>\n",
       "      <td>[I, guess, yeah, yeah, .]</td>\n",
       "      <td>5</td>\n",
       "      <td>3.000000</td>\n",
       "      <td>[I guess yeah yeah .]</td>\n",
       "      <td>1</td>\n",
       "    </tr>\n",
       "    <tr>\n",
       "      <th>ABCE1-P1</th>\n",
       "      <th>3</th>\n",
       "      <td>ABCE1</td>\n",
       "      <td>P</td>\n",
       "      <td>M</td>\n",
       "      <td>He's also known &lt;E1 sounds reasonable&gt; for his...</td>\n",
       "      <td>[He, 's, also, known, for, his, ability, to, o...</td>\n",
       "      <td>159</td>\n",
       "      <td>5.062893</td>\n",
       "      <td>[He's also known  for his ability to open cosp...</td>\n",
       "      <td>3</td>\n",
       "    </tr>\n",
       "    <tr>\n",
       "      <th>ABCE1-E1</th>\n",
       "      <th>4</th>\n",
       "      <td>ABCE1</td>\n",
       "      <td>E</td>\n",
       "      <td>M</td>\n",
       "      <td>Okay.</td>\n",
       "      <td>[Okay, .]</td>\n",
       "      <td>2</td>\n",
       "      <td>2.500000</td>\n",
       "      <td>[Okay.]</td>\n",
       "      <td>1</td>\n",
       "    </tr>\n",
       "    <tr>\n",
       "      <th>ABCE1-P1</th>\n",
       "      <th>5</th>\n",
       "      <td>ABCE1</td>\n",
       "      <td>P</td>\n",
       "      <td>M</td>\n",
       "      <td>Jeanne Villani does and we'll find out the sec...</td>\n",
       "      <td>[Jeanne, Villani, does, and, we, 'll, find, ou...</td>\n",
       "      <td>50</td>\n",
       "      <td>3.980000</td>\n",
       "      <td>[Jeanne Villani does and we'll find out the se...</td>\n",
       "      <td>1</td>\n",
       "    </tr>\n",
       "  </tbody>\n",
       "</table>\n",
       "</div>"
      ],
      "text/plain": [
       "                          Segment Speaker_Type Gender  \\\n",
       "Speaker  Utterance_Number                               \n",
       "ABCE1-P1 1                  ABCE1            P      M   \n",
       "ABCE1-E1 2                  ABCE1            E      M   \n",
       "ABCE1-P1 3                  ABCE1            P      M   \n",
       "ABCE1-E1 4                  ABCE1            E      M   \n",
       "ABCE1-P1 5                  ABCE1            P      M   \n",
       "\n",
       "                                                                        Text  \\\n",
       "Speaker  Utterance_Number                                                      \n",
       "ABCE1-P1 1                 Thanks for that John Hall now John Hall will b...   \n",
       "ABCE1-E1 2                                       I guess yeah yeah <laughs>.   \n",
       "ABCE1-P1 3                 He's also known <E1 sounds reasonable> for his...   \n",
       "ABCE1-E1 4                                                             Okay.   \n",
       "ABCE1-P1 5                 Jeanne Villani does and we'll find out the sec...   \n",
       "\n",
       "                                                                   Word_Toks  \\\n",
       "Speaker  Utterance_Number                                                      \n",
       "ABCE1-P1 1                 [Thanks, for, that, John, Hall, now, John, Hal...   \n",
       "ABCE1-E1 2                                         [I, guess, yeah, yeah, .]   \n",
       "ABCE1-P1 3                 [He, 's, also, known, for, his, ability, to, o...   \n",
       "ABCE1-E1 4                                                         [Okay, .]   \n",
       "ABCE1-P1 5                 [Jeanne, Villani, does, and, we, 'll, find, ou...   \n",
       "\n",
       "                           Num_Words  Avg_Word_Length  \\\n",
       "Speaker  Utterance_Number                               \n",
       "ABCE1-P1 1                        80         4.700000   \n",
       "ABCE1-E1 2                         5         3.000000   \n",
       "ABCE1-P1 3                       159         5.062893   \n",
       "ABCE1-E1 4                         2         2.500000   \n",
       "ABCE1-P1 5                        50         3.980000   \n",
       "\n",
       "                                                                       Sents  \\\n",
       "Speaker  Utterance_Number                                                      \n",
       "ABCE1-P1 1                 [Thanks for that John Hall now John Hall will ...   \n",
       "ABCE1-E1 2                                             [I guess yeah yeah .]   \n",
       "ABCE1-P1 3                 [He's also known  for his ability to open cosp...   \n",
       "ABCE1-E1 4                                                           [Okay.]   \n",
       "ABCE1-P1 5                 [Jeanne Villani does and we'll find out the se...   \n",
       "\n",
       "                           Num_Sents  \n",
       "Speaker  Utterance_Number             \n",
       "ABCE1-P1 1                         2  \n",
       "ABCE1-E1 2                         1  \n",
       "ABCE1-P1 3                         3  \n",
       "ABCE1-E1 4                         1  \n",
       "ABCE1-P1 5                         1  "
      ]
     },
     "execution_count": 40,
     "metadata": {},
     "output_type": "execute_result"
    },
    {
     "data": {
      "text/html": [
       "<div>\n",
       "<style scoped>\n",
       "    .dataframe tbody tr th:only-of-type {\n",
       "        vertical-align: middle;\n",
       "    }\n",
       "\n",
       "    .dataframe tbody tr th {\n",
       "        vertical-align: top;\n",
       "    }\n",
       "\n",
       "    .dataframe thead th {\n",
       "        text-align: right;\n",
       "    }\n",
       "</style>\n",
       "<table border=\"1\" class=\"dataframe\">\n",
       "  <thead>\n",
       "    <tr style=\"text-align: right;\">\n",
       "      <th></th>\n",
       "      <th></th>\n",
       "      <th>Segment</th>\n",
       "      <th>Speaker_Type</th>\n",
       "      <th>Gender</th>\n",
       "      <th>Text</th>\n",
       "      <th>Word_Toks</th>\n",
       "      <th>Num_Words</th>\n",
       "      <th>Avg_Word_Length</th>\n",
       "      <th>Sents</th>\n",
       "      <th>Num_Sents</th>\n",
       "    </tr>\n",
       "    <tr>\n",
       "      <th>Speaker</th>\n",
       "      <th>Utterance_Number</th>\n",
       "      <th></th>\n",
       "      <th></th>\n",
       "      <th></th>\n",
       "      <th></th>\n",
       "      <th></th>\n",
       "      <th></th>\n",
       "      <th></th>\n",
       "      <th></th>\n",
       "      <th></th>\n",
       "    </tr>\n",
       "  </thead>\n",
       "  <tbody>\n",
       "    <tr>\n",
       "      <th>NAT8-C16</th>\n",
       "      <th>359</th>\n",
       "      <td>NAT8</td>\n",
       "      <td>C</td>\n",
       "      <td>M</td>\n",
       "      <td>Thanks for that.</td>\n",
       "      <td>[Thanks, for, that, .]</td>\n",
       "      <td>4</td>\n",
       "      <td>3.50000</td>\n",
       "      <td>[Thanks for that.]</td>\n",
       "      <td>1</td>\n",
       "    </tr>\n",
       "    <tr>\n",
       "      <th>NAT8-P1</th>\n",
       "      <th>360</th>\n",
       "      <td>NAT8</td>\n",
       "      <td>P</td>\n",
       "      <td>F</td>\n",
       "      <td>Uh let's see if we can just squeeze in one mor...</td>\n",
       "      <td>[Uh, let, 's, see, if, we, can, just, squeeze,...</td>\n",
       "      <td>32</td>\n",
       "      <td>3.53125</td>\n",
       "      <td>[Uh let's see if we can just squeeze in one mo...</td>\n",
       "      <td>1</td>\n",
       "    </tr>\n",
       "    <tr>\n",
       "      <th>NAT8-C17</th>\n",
       "      <th>361</th>\n",
       "      <td>NAT8</td>\n",
       "      <td>C</td>\n",
       "      <td>M</td>\n",
       "      <td>Um okay yeah thanks for that Gaby.</td>\n",
       "      <td>[Um, okay, yeah, thanks, for, that, Gaby, .]</td>\n",
       "      <td>8</td>\n",
       "      <td>3.50000</td>\n",
       "      <td>[Um okay yeah thanks for that Gaby.]</td>\n",
       "      <td>1</td>\n",
       "    </tr>\n",
       "    <tr>\n",
       "      <th>NAT8-P1</th>\n",
       "      <th>362</th>\n",
       "      <td>NAT8</td>\n",
       "      <td>P</td>\n",
       "      <td>F</td>\n",
       "      <td>That's alright.</td>\n",
       "      <td>[That, 's, alright, .]</td>\n",
       "      <td>4</td>\n",
       "      <td>3.50000</td>\n",
       "      <td>[That's alright.]</td>\n",
       "      <td>1</td>\n",
       "    </tr>\n",
       "    <tr>\n",
       "      <th>NAT8-C17</th>\n",
       "      <th>363</th>\n",
       "      <td>NAT8</td>\n",
       "      <td>C</td>\n",
       "      <td>M</td>\n",
       "      <td>Um and now that last caller I was just gunna s...</td>\n",
       "      <td>[Um, and, now, that, last, caller, I, was, jus...</td>\n",
       "      <td>200</td>\n",
       "      <td>3.49000</td>\n",
       "      <td>[Um and now that last caller I was just gunna ...</td>\n",
       "      <td>5</td>\n",
       "    </tr>\n",
       "  </tbody>\n",
       "</table>\n",
       "</div>"
      ],
      "text/plain": [
       "                          Segment Speaker_Type Gender  \\\n",
       "Speaker  Utterance_Number                               \n",
       "NAT8-C16 359                 NAT8            C      M   \n",
       "NAT8-P1  360                 NAT8            P      F   \n",
       "NAT8-C17 361                 NAT8            C      M   \n",
       "NAT8-P1  362                 NAT8            P      F   \n",
       "NAT8-C17 363                 NAT8            C      M   \n",
       "\n",
       "                                                                        Text  \\\n",
       "Speaker  Utterance_Number                                                      \n",
       "NAT8-C16 359                                                Thanks for that.   \n",
       "NAT8-P1  360               Uh let's see if we can just squeeze in one mor...   \n",
       "NAT8-C17 361                              Um okay yeah thanks for that Gaby.   \n",
       "NAT8-P1  362                                                 That's alright.   \n",
       "NAT8-C17 363               Um and now that last caller I was just gunna s...   \n",
       "\n",
       "                                                                   Word_Toks  \\\n",
       "Speaker  Utterance_Number                                                      \n",
       "NAT8-C16 359                                          [Thanks, for, that, .]   \n",
       "NAT8-P1  360               [Uh, let, 's, see, if, we, can, just, squeeze,...   \n",
       "NAT8-C17 361                    [Um, okay, yeah, thanks, for, that, Gaby, .]   \n",
       "NAT8-P1  362                                          [That, 's, alright, .]   \n",
       "NAT8-C17 363               [Um, and, now, that, last, caller, I, was, jus...   \n",
       "\n",
       "                           Num_Words  Avg_Word_Length  \\\n",
       "Speaker  Utterance_Number                               \n",
       "NAT8-C16 359                       4          3.50000   \n",
       "NAT8-P1  360                      32          3.53125   \n",
       "NAT8-C17 361                       8          3.50000   \n",
       "NAT8-P1  362                       4          3.50000   \n",
       "NAT8-C17 363                     200          3.49000   \n",
       "\n",
       "                                                                       Sents  \\\n",
       "Speaker  Utterance_Number                                                      \n",
       "NAT8-C16 359                                              [Thanks for that.]   \n",
       "NAT8-P1  360               [Uh let's see if we can just squeeze in one mo...   \n",
       "NAT8-C17 361                            [Um okay yeah thanks for that Gaby.]   \n",
       "NAT8-P1  362                                               [That's alright.]   \n",
       "NAT8-C17 363               [Um and now that last caller I was just gunna ...   \n",
       "\n",
       "                           Num_Sents  \n",
       "Speaker  Utterance_Number             \n",
       "NAT8-C16 359                       1  \n",
       "NAT8-P1  360                       1  \n",
       "NAT8-C17 361                       1  \n",
       "NAT8-P1  362                       1  \n",
       "NAT8-C17 363                       5  "
      ]
     },
     "execution_count": 40,
     "metadata": {},
     "output_type": "execute_result"
    }
   ],
   "source": [
    "# Adding Data Frame columns:\n",
    "\n",
    "art_df[\"Word_Toks\"] = word_toks\n",
    "art_df[\"Num_Words\"] = num_words\n",
    "art_df[\"Avg_Word_Length\"] = avg_word_len\n",
    "art_df[\"Sents\"] = sents\n",
    "art_df[\"Num_Sents\"] = num_sents\n",
    "art_df.head()\n",
    "art_df.tail()"
   ]
  },
  {
   "cell_type": "code",
   "execution_count": 41,
   "metadata": {},
   "outputs": [
    {
     "data": {
      "text/plain": [
       "M    218\n",
       "F    212\n",
       "Name: Gender, dtype: int64"
      ]
     },
     "execution_count": 41,
     "metadata": {},
     "output_type": "execute_result"
    }
   ],
   "source": [
    "speaker_df[\"Gender\"].value_counts().reindex([\"M\",\"F\"])"
   ]
  },
  {
   "cell_type": "markdown",
   "metadata": {},
   "source": [
    "## Back Channels \n",
    "### Trial Run"
   ]
  },
  {
   "cell_type": "code",
   "execution_count": 42,
   "metadata": {},
   "outputs": [
    {
     "name": "stdout",
     "output_type": "stream",
     "text": [
      "ABCE1-P1\n",
      "1\n",
      "ABCE1\n",
      "M\n",
      "Thanks for that John Hall now John Hall will be listening for the next hour 'cos Angus Stewart is here to take your calls eight-triple-three-one-thousand one-eight-hundred-eight-hundred-seven-oh-two something in the garden that's causing you problems give us a call right now and Angus can I mean y'know he is known in the trade as Mr popergation {propagation} Mr propagation. He's also known for his passion for natives and his love of o orchids am I right so far.\n"
     ]
    },
    {
     "data": {
      "text/plain": [
       "[]"
      ]
     },
     "execution_count": 42,
     "metadata": {},
     "output_type": "execute_result"
    },
    {
     "name": "stdout",
     "output_type": "stream",
     "text": [
      "ABCE1-E1\n",
      "2\n",
      "ABCE1\n",
      "M\n",
      "I guess yeah yeah <laughs>.\n"
     ]
    },
    {
     "data": {
      "text/plain": [
       "[]"
      ]
     },
     "execution_count": 42,
     "metadata": {},
     "output_type": "execute_result"
    },
    {
     "name": "stdout",
     "output_type": "stream",
     "text": [
      "ABCE1-P1\n",
      "3\n",
      "ABCE1\n",
      "M\n",
      "He's also known <E1 sounds reasonable> for his ability to open cosposting {composting} toilets so he can tell you anything worm farm problems certainly helped us and although I'm still confused about dry ingredients we might talk about that as well but eight-triple-three-one-thousand one-eight-hundred-eight-hundred-seven-oh-two fine sunny day today top temperatures on the coast of twenty-seven inland thirty degrees Bowral enjoying twenty-seven and Katoomba twenty-five degrees currently around town on the coast it's seventeen that's four below <,> r Richmond and Bankstown are fifteen degrees Penrith sixteen Katoomba thirteen and Gosford twelve. One of the jewels in the open garden scheme crown is opening today and this is just a garden to envy how would you like <,> to have <,> a beautiful sandstone cottage nestled underneath a waterfall with a little pond and then a creek that runs through with thousands of water dragons so tame they come up and just <,> kiss you. Would you like to live there.\n"
     ]
    },
    {
     "data": {
      "text/plain": [
       "['<E1 sounds reasonable>']"
      ]
     },
     "execution_count": 42,
     "metadata": {},
     "output_type": "execute_result"
    },
    {
     "name": "stdout",
     "output_type": "stream",
     "text": [
      "ABCE1-E1\n",
      "4\n",
      "ABCE1\n",
      "M\n",
      "Okay.\n"
     ]
    },
    {
     "data": {
      "text/plain": [
       "[]"
      ]
     },
     "execution_count": 42,
     "metadata": {},
     "output_type": "execute_result"
    },
    {
     "name": "stdout",
     "output_type": "stream",
     "text": [
      "ABCE1-P1\n",
      "5\n",
      "ABCE1\n",
      "M\n",
      "Jeanne Villani does and we'll find out the secret of her open garden and give you the address so that you can go along today and tomorrow to see Waterfall Cottage which is a part of the open garden scheme all this and more because it is Saturday.\n"
     ]
    },
    {
     "data": {
      "text/plain": [
       "[]"
      ]
     },
     "execution_count": 42,
     "metadata": {},
     "output_type": "execute_result"
    },
    {
     "name": "stdout",
     "output_type": "stream",
     "text": [
      "ABCE1-P1\n",
      "6\n",
      "ABCE1\n",
      "M\n",
      "Eight-triple-three-one-thousand one-eight-hundred-eight-hundred-seven-oh-two Suzanne's on the line in McMahon's Point and.\n"
     ]
    },
    {
     "data": {
      "text/plain": [
       "[]"
      ]
     },
     "execution_count": 42,
     "metadata": {},
     "output_type": "execute_result"
    },
    {
     "name": "stdout",
     "output_type": "stream",
     "text": [
      "ABCE1-C1\n",
      "7\n",
      "ABCE1\n",
      "F\n",
      "Hello.\n"
     ]
    },
    {
     "data": {
      "text/plain": [
       "[]"
      ]
     },
     "execution_count": 42,
     "metadata": {},
     "output_type": "execute_result"
    },
    {
     "name": "stdout",
     "output_type": "stream",
     "text": [
      "ABCE1-P1\n",
      "8\n",
      "ABCE1\n",
      "M\n",
      "How are you.\n"
     ]
    },
    {
     "data": {
      "text/plain": [
       "[]"
      ]
     },
     "execution_count": 42,
     "metadata": {},
     "output_type": "execute_result"
    },
    {
     "name": "stdout",
     "output_type": "stream",
     "text": [
      "ABCE1-C1\n",
      "9\n",
      "ABCE1\n",
      "F\n",
      "I'm good thank you.\n"
     ]
    },
    {
     "data": {
      "text/plain": [
       "[]"
      ]
     },
     "execution_count": 42,
     "metadata": {},
     "output_type": "execute_result"
    },
    {
     "name": "stdout",
     "output_type": "stream",
     "text": [
      "ABCE1-P1\n",
      "10\n",
      "ABCE1\n",
      "M\n",
      "You've got a big fat <C1 laughs> Morton Bay fig.\n"
     ]
    },
    {
     "data": {
      "text/plain": [
       "['<C1 laughs>']"
      ]
     },
     "execution_count": 42,
     "metadata": {},
     "output_type": "execute_result"
    },
    {
     "name": "stdout",
     "output_type": "stream",
     "text": [
      "ABCE1-C1\n",
      "11\n",
      "ABCE1\n",
      "F\n",
      "Well it's not that bit it's um it's about three feet 'cos I only know feet <P1 yes>. About three feet high and um it's been doing so well my partner actually grew it from a seed we picked it up in a church garden <E1 mm> and our intention was to buy a house and plant it but we haven't got the house yet. So we've still got the fig and it's doing so well until recently. My um I think it's under stress God knows why <E1 mm> it's only on a balcony in a pot but it's getting a sort first of all I thought it was sunburn but the the leaves are getting oh um a pale ring and then after a while they crack <E1 mm>. And <,> and then they break off first of all I thought oh golly it's a bug or something eating it. But no it seems to be happening as they're growing they're perfectly fine and then intermittently they get this it's it's as if somebody has um um put some hydrogen peroxide on them or something and then.\n"
     ]
    },
    {
     "data": {
      "text/plain": [
       "['<P1 yes>', '<E1 mm>', '<E1 mm>', '<E1 mm>']"
      ]
     },
     "execution_count": 42,
     "metadata": {},
     "output_type": "execute_result"
    },
    {
     "name": "stdout",
     "output_type": "stream",
     "text": [
      "ABCE1-P1\n",
      "12\n",
      "ABCE1\n",
      "M\n",
      "Is there plenty of drainage in the pot.\n"
     ]
    },
    {
     "data": {
      "text/plain": [
       "[]"
      ]
     },
     "execution_count": 42,
     "metadata": {},
     "output_type": "execute_result"
    },
    {
     "name": "stdout",
     "output_type": "stream",
     "text": [
      "ABCE1-C1\n",
      "13\n",
      "ABCE1\n",
      "F\n",
      "Yes uhuh um plenty I'm just wondering well obviously it's gotta come out of the pot and be planted in <,> <P1 mm> a proper place but.\n"
     ]
    },
    {
     "data": {
      "text/plain": [
       "['<P1 mm>']"
      ]
     },
     "execution_count": 42,
     "metadata": {},
     "output_type": "execute_result"
    },
    {
     "name": "stdout",
     "output_type": "stream",
     "text": [
      "ABCE1-P1\n",
      "14\n",
      "ABCE1\n",
      "M\n",
      "You think it's a case of Free Willy it wants to just go into the <C1 mhm> into the open.\n"
     ]
    },
    {
     "data": {
      "text/plain": [
       "['<C1 mhm>']"
      ]
     },
     "execution_count": 42,
     "metadata": {},
     "output_type": "execute_result"
    },
    {
     "name": "stdout",
     "output_type": "stream",
     "text": [
      "ABCE1-C1\n",
      "15\n",
      "ABCE1\n",
      "F\n",
      "It does 'cos it's meant.\n"
     ]
    },
    {
     "data": {
      "text/plain": [
       "[]"
      ]
     },
     "execution_count": 42,
     "metadata": {},
     "output_type": "execute_result"
    },
    {
     "name": "stdout",
     "output_type": "stream",
     "text": [
      "ABCE1-P1\n",
      "16\n",
      "ABCE1\n",
      "M\n",
      "I don't know Angus is that the case.\n"
     ]
    },
    {
     "data": {
      "text/plain": [
       "[]"
      ]
     },
     "execution_count": 42,
     "metadata": {},
     "output_type": "execute_result"
    },
    {
     "name": "stdout",
     "output_type": "stream",
     "text": [
      "ABCE1-E1\n",
      "17\n",
      "ABCE1\n",
      "M\n",
      "Well the symptoms you describe um it it sounds could it possibly be water stress. Do you think the plant could be drying out from time to time.\n"
     ]
    },
    {
     "data": {
      "text/plain": [
       "[]"
      ]
     },
     "execution_count": 42,
     "metadata": {},
     "output_type": "execute_result"
    },
    {
     "name": "stdout",
     "output_type": "stream",
     "text": [
      "ABCE1-C1\n",
      "18\n",
      "ABCE1\n",
      "F\n",
      "Yeah well it could be maybe I'm not giving it enough.\n"
     ]
    },
    {
     "data": {
      "text/plain": [
       "[]"
      ]
     },
     "execution_count": 42,
     "metadata": {},
     "output_type": "execute_result"
    },
    {
     "name": "stdout",
     "output_type": "stream",
     "text": [
      "ABCE1-E1\n",
      "19\n",
      "ABCE1\n",
      "M\n",
      "Yeah they uh I mean they are a a rainforest tree that that's used to fairly constant moisture and and mulch y'know plenty of leaf mulch uh froh in the natural sort of environment um.\n"
     ]
    },
    {
     "data": {
      "text/plain": [
       "[]"
      ]
     },
     "execution_count": 42,
     "metadata": {},
     "output_type": "execute_result"
    },
    {
     "name": "stdout",
     "output_type": "stream",
     "text": [
      "ABCE1-C1\n",
      "20\n",
      "ABCE1\n",
      "F\n",
      "Should I feed it some more. Ih feed it <inaudible>.\n"
     ]
    },
    {
     "data": {
      "text/plain": [
       "[]"
      ]
     },
     "execution_count": 42,
     "metadata": {},
     "output_type": "execute_result"
    },
    {
     "data": {
      "text/plain": [
       "[[], [], ['<E1 sounds reasonable>'], [], [], [], [], [], [], ['<C1 laughs>'], ['<P1 yes>', '<E1 mm>', '<E1 mm>', '<E1 mm>'], [], ['<P1 mm>'], ['<C1 mhm>'], [], [], [], [], [], []]"
      ]
     },
     "execution_count": 42,
     "metadata": {},
     "output_type": "execute_result"
    },
    {
     "data": {
      "text/plain": [
       "[['ABCE1-E1', 'E', 'M', 'sounds reasonable', 'ABCE1-P1', 3, 'ABCE1', 'P', 'M'], ['ABCE1-C1', 'C', 'F', 'laughs', 'ABCE1-P1', 10, 'ABCE1', 'P', 'M'], ['ABCE1-P1', 'P', 'M', 'yes', 'ABCE1-C1', 11, 'ABCE1', 'C', 'F'], ['ABCE1-E1', 'E', 'M', 'mm', 'ABCE1-C1', 11, 'ABCE1', 'C', 'F'], ['ABCE1-E1', 'E', 'M', 'mm', 'ABCE1-C1', 11, 'ABCE1', 'C', 'F'], ['ABCE1-E1', 'E', 'M', 'mm', 'ABCE1-C1', 11, 'ABCE1', 'C', 'F'], ['ABCE1-P1', 'P', 'M', 'mm', 'ABCE1-C1', 13, 'ABCE1', 'C', 'F'], ['ABCE1-C1', 'C', 'F', 'mhm', 'ABCE1-P1', 14, 'ABCE1', 'P', 'M']]"
      ]
     },
     "execution_count": 42,
     "metadata": {},
     "output_type": "execute_result"
    }
   ],
   "source": [
    "# # Regular Expressions - Trial run with back channels: \n",
    "\n",
    "bk_chnl_list = []\n",
    "bk_chnls = []\n",
    "\n",
    "foo=art_list[:20]\n",
    "# foo[:3]\n",
    "\n",
    "for x in foo:\n",
    "    \n",
    "    speaker=x[0]\n",
    "    utt=x[1]\n",
    "    segment=x[2]\n",
    "    role=x[3]\n",
    "    gender=x[4]\n",
    "    line=x[5]\n",
    "    \n",
    "    print(speaker)\n",
    "    print(utt)\n",
    "    print(segment)\n",
    "    print(gender)\n",
    "    print(line)\n",
    "    \n",
    "#     re.findall(r'<.*?>',line)) # includes <,>, <inaudible>, <laughs>, etc... but these are not back channels\n",
    "    re.findall(r'<[PCE]+[0-9]+.*?>',line)\n",
    "\n",
    "    bk_chnl_list.append(re.findall(r'<[PCE]+[0-9]+.*?>',line)) # every instance of a < > containing a different speaker\n",
    "    \n",
    "#     print(\"speaker:\")\n",
    "#     found = re.findall(r'<[PCE]+[0-9]+',line) # includes < \n",
    "\n",
    "    for b in bk_chnl_list[-1]:\n",
    "    # a for loop to remove '<' from the other speakers list and replace with the segment (creating unique speaker ID):\n",
    "    \n",
    "        b=str(b) # CONVERT TO STRING FOR NEXT FOR LOOP\n",
    "#         print(\"STRINGY\",b)\n",
    "#         print(\"BKchan\",str(bk_chnl_list[-1]))\n",
    "        b_index=bk_chnl_list[-1].index(b)\n",
    "#         bk_chnl_list[-1]\n",
    "        \n",
    "#         print(b_index)\n",
    "        space=b.index(\" \")\n",
    "#             bk_chnl_list[-1][b_index]=b.replace('<',segment+\"-\")\n",
    "        channel = b[space+1:-1]\n",
    "        channel_speaker = segment+\"-\"+b[1:space]\n",
    "        channel_role = b[1]\n",
    "        channel_gen = speaker_df.loc[channel_speaker][\"Gender\"]\n",
    "#             bk_chnl_list[-1][b_index].replace(b,[speaker,utt,segment,channel_speaker,channel])\n",
    "\n",
    "        bk_chnls.append([channel_speaker,channel_role,channel_gen,channel,speaker,utt,segment,role,gender])\n",
    "#         bk_chnls[-1]\n",
    "        \n",
    "bk_chnl_list\n",
    "bk_chnls"
   ]
  },
  {
   "cell_type": "markdown",
   "metadata": {},
   "source": [
    "### Finding Back Channels"
   ]
  },
  {
   "cell_type": "code",
   "execution_count": 43,
   "metadata": {},
   "outputs": [
    {
     "data": {
      "text/html": [
       "<div>\n",
       "<style scoped>\n",
       "    .dataframe tbody tr th:only-of-type {\n",
       "        vertical-align: middle;\n",
       "    }\n",
       "\n",
       "    .dataframe tbody tr th {\n",
       "        vertical-align: top;\n",
       "    }\n",
       "\n",
       "    .dataframe thead th {\n",
       "        text-align: right;\n",
       "    }\n",
       "</style>\n",
       "<table border=\"1\" class=\"dataframe\">\n",
       "  <thead>\n",
       "    <tr style=\"text-align: right;\">\n",
       "      <th></th>\n",
       "      <th>Segment</th>\n",
       "      <th>Speaker_Type</th>\n",
       "      <th>Gender</th>\n",
       "      <th>Name</th>\n",
       "      <th>Number_of_Utterances</th>\n",
       "    </tr>\n",
       "  </thead>\n",
       "  <tbody>\n",
       "    <tr>\n",
       "      <th>ABCE1-C1</th>\n",
       "      <td>ABCE1</td>\n",
       "      <td>C</td>\n",
       "      <td>F</td>\n",
       "      <td>Suzanne</td>\n",
       "      <td>17</td>\n",
       "    </tr>\n",
       "    <tr>\n",
       "      <th>ABCE1-C10</th>\n",
       "      <td>ABCE1</td>\n",
       "      <td>C</td>\n",
       "      <td>F</td>\n",
       "      <td>Beth</td>\n",
       "      <td>17</td>\n",
       "    </tr>\n",
       "    <tr>\n",
       "      <th>ABCE1-C11</th>\n",
       "      <td>ABCE1</td>\n",
       "      <td>C</td>\n",
       "      <td>F</td>\n",
       "      <td>Lynne</td>\n",
       "      <td>10</td>\n",
       "    </tr>\n",
       "    <tr>\n",
       "      <th>ABCE1-C12</th>\n",
       "      <td>ABCE1</td>\n",
       "      <td>C</td>\n",
       "      <td>M</td>\n",
       "      <td>Jack</td>\n",
       "      <td>12</td>\n",
       "    </tr>\n",
       "    <tr>\n",
       "      <th>ABCE1-C2</th>\n",
       "      <td>ABCE1</td>\n",
       "      <td>C</td>\n",
       "      <td>F</td>\n",
       "      <td>Lisa</td>\n",
       "      <td>13</td>\n",
       "    </tr>\n",
       "  </tbody>\n",
       "</table>\n",
       "</div>"
      ],
      "text/plain": [
       "          Segment Speaker_Type Gender     Name  Number_of_Utterances\n",
       "ABCE1-C1    ABCE1            C      F  Suzanne                    17\n",
       "ABCE1-C10   ABCE1            C      F     Beth                    17\n",
       "ABCE1-C11   ABCE1            C      F    Lynne                    10\n",
       "ABCE1-C12   ABCE1            C      M     Jack                    12\n",
       "ABCE1-C2    ABCE1            C      F     Lisa                    13"
      ]
     },
     "execution_count": 43,
     "metadata": {},
     "output_type": "execute_result"
    },
    {
     "data": {
      "text/plain": [
       "'F'"
      ]
     },
     "execution_count": 43,
     "metadata": {},
     "output_type": "execute_result"
    }
   ],
   "source": [
    "# How to locate specific items in a data frame:\n",
    "    # I will use this to find the gender of the back channel speaker\n",
    "speaker_df.head()\n",
    "speaker_df.loc[\"ABCE1-C1\",\"Gender\"]"
   ]
  },
  {
   "cell_type": "code",
   "execution_count": 44,
   "metadata": {},
   "outputs": [
    {
     "data": {
      "text/plain": [
       "[('ABCE1-P1', 1, 'ABCE1', 'P', 'M', \"Thanks for that John Hall now John Hall will be listening for the next hour 'cos Angus Stewart is here to take your calls eight-triple-three-one-thousand one-eight-hundred-eight-hundred-seven-oh-two something in the garden that's causing you problems give us a call right now and Angus can I mean y'know he is known in the trade as Mr popergation {propagation} Mr propagation. He's also known for his passion for natives and his love of o orchids am I right so far.\"), ('ABCE1-E1', 2, 'ABCE1', 'E', 'M', 'I guess yeah yeah <laughs>.'), ('ABCE1-P1', 3, 'ABCE1', 'P', 'M', \"He's also known <E1 sounds reasonable> for his ability to open cosposting {composting} toilets so he can tell you anything worm farm problems certainly helped us and although I'm still confused about dry ingredients we might talk about that as well but eight-triple-three-one-thousand one-eight-hundred-eight-hundred-seven-oh-two fine sunny day today top temperatures on the coast of twenty-seven inland thirty degrees Bowral enjoying twenty-seven and Katoomba twenty-five degrees currently around town on the coast it's seventeen that's four below <,> r Richmond and Bankstown are fifteen degrees Penrith sixteen Katoomba thirteen and Gosford twelve. One of the jewels in the open garden scheme crown is opening today and this is just a garden to envy how would you like <,> to have <,> a beautiful sandstone cottage nestled underneath a waterfall with a little pond and then a creek that runs through with thousands of water dragons so tame they come up and just <,> kiss you. Would you like to live there.\"), ('ABCE1-E1', 4, 'ABCE1', 'E', 'M', 'Okay.'), ('ABCE1-P1', 5, 'ABCE1', 'P', 'M', \"Jeanne Villani does and we'll find out the secret of her open garden and give you the address so that you can go along today and tomorrow to see Waterfall Cottage which is a part of the open garden scheme all this and more because it is Saturday.\")]"
      ]
     },
     "execution_count": 44,
     "metadata": {},
     "output_type": "execute_result"
    }
   ],
   "source": [
    "art_list[:5]"
   ]
  },
  {
   "cell_type": "code",
   "execution_count": 45,
   "metadata": {},
   "outputs": [
    {
     "data": {
      "text/plain": [
       "9029"
      ]
     },
     "execution_count": 45,
     "metadata": {},
     "output_type": "execute_result"
    },
    {
     "data": {
      "text/plain": [
       "4646"
      ]
     },
     "execution_count": 45,
     "metadata": {},
     "output_type": "execute_result"
    },
    {
     "data": {
      "text/plain": [
       "[['ABCE1-E1', 'E', 'M', 'sounds reasonable', 'ABCE1-P1', 3, 'ABCE1', 'P', 'M'], ['ABCE1-C1', 'C', 'F', 'laughs', 'ABCE1-P1', 10, 'ABCE1', 'P', 'M'], ['ABCE1-P1', 'P', 'M', 'yes', 'ABCE1-C1', 11, 'ABCE1', 'C', 'F'], ['ABCE1-E1', 'E', 'M', 'mm', 'ABCE1-C1', 11, 'ABCE1', 'C', 'F'], ['ABCE1-E1', 'E', 'M', 'mm', 'ABCE1-C1', 11, 'ABCE1', 'C', 'F'], ['ABCE1-E1', 'E', 'M', 'mm', 'ABCE1-C1', 11, 'ABCE1', 'C', 'F'], ['ABCE1-P1', 'P', 'M', 'mm', 'ABCE1-C1', 13, 'ABCE1', 'C', 'F'], ['ABCE1-C1', 'C', 'F', 'mhm', 'ABCE1-P1', 14, 'ABCE1', 'P', 'M'], ['ABCE1-C1', 'C', 'F', 'uh', 'ABCE1-E1', 23, 'ABCE1', 'E', 'M'], ['ABCE1-E1', 'E', 'M', 'mhm', 'ABCE1-C1', 24, 'ABCE1', 'C', 'F'], ['ABCE1-E1', 'E', 'M', 'laugh', 'ABCE1-C1', 24, 'ABCE1', 'C', 'F'], ['ABCE1-C1', 'C', 'F', 'laugh', 'ABCE1-C1', 24, 'ABCE1', 'C', 'F'], ['ABCE1-E1', 'E', 'M', 'mm', 'ABCE1-C1', 24, 'ABCE1', 'C', 'F'], ['ABCE1-E1', 'E', 'M', 'yeah', 'ABCE1-C1', 30, 'ABCE1', 'C', 'F'], ['ABCE1-C1', 'C', 'F', 'mm', 'ABCE1-E1', 31, 'ABCE1', 'E', 'M'], ['ABCE1-C1', 'C', 'F', 'yes', 'ABCE1-E1', 31, 'ABCE1', 'E', 'M'], ['ABCE1-C1', 'C', 'F', 'inaudible', 'ABCE1-E1', 35, 'ABCE1', 'E', 'M'], ['ABCE1-C1', 'C', 'F', 'laugh', 'ABCE1-E1', 35, 'ABCE1', 'E', 'M'], ['ABCE1-E1', 'E', 'M', 'laugh', 'ABCE1-E1', 35, 'ABCE1', 'E', 'M'], ['ABCE1-P1', 'P', 'M', 'hundred years', 'ABCE1-E1', 44, 'ABCE1', 'E', 'M']]"
      ]
     },
     "execution_count": 45,
     "metadata": {},
     "output_type": "execute_result"
    },
    {
     "data": {
      "text/plain": [
       "[['NAT8-P1', 'P', 'F', 'inaudible', 'NAT8-C14', 321, 'NAT8', 'C', 'M'], ['NAT8-C14', 'C', 'M', 'bye', 'NAT8-P1', 328, 'NAT8', 'P', 'F'], ['NAT8-P1', 'P', 'F', 'mhm', 'NAT8-C15', 333, 'NAT8', 'C', 'F'], ['NAT8-P1', 'P', 'F', 'mm', 'NAT8-C15', 335, 'NAT8', 'C', 'F'], ['NAT8-C15', 'C', 'F', 'so', 'NAT8-P1', 336, 'NAT8', 'P', 'F'], ['NAT8-P1', 'P', 'F', 'mhm', 'NAT8-C15', 337, 'NAT8', 'C', 'F'], ['NAT8-P1', 'P', 'F', 'yeah', 'NAT8-C15', 339, 'NAT8', 'C', 'F'], ['NAT8-P1', 'P', 'F', 'mm', 'NAT8-C15', 341, 'NAT8', 'C', 'F'], ['NAT8-P1', 'P', 'F', 'mhm', 'NAT8-C15', 341, 'NAT8', 'C', 'F'], ['NAT8-P1', 'P', 'F', 'mm', 'NAT8-C15', 341, 'NAT8', 'C', 'F'], ['NAT8-P1', 'P', 'F', 'tt', 'NAT8-C15', 341, 'NAT8', 'C', 'F'], ['NAT8-P1', 'P', 'F', 'yeah', 'NAT8-C15', 341, 'NAT8', 'C', 'F'], ['NAT8-C15', 'C', 'F', 'bye', 'NAT8-P1', 346, 'NAT8', 'P', 'F'], ['NAT8-P1', 'P', 'F', 'mm', 'NAT8-C16', 351, 'NAT8', 'C', 'M'], ['NAT8-P1', 'P', 'F', 'sighs', 'NAT8-C16', 351, 'NAT8', 'C', 'M'], ['NAT8-P1', 'P', 'F', 'mm', 'NAT8-C16', 351, 'NAT8', 'C', 'M'], ['NAT8-P1', 'P', 'F', 'mm', 'NAT8-C16', 351, 'NAT8', 'C', 'M'], ['NAT8-P1', 'P', 'F', 'mhm', 'NAT8-C16', 353, 'NAT8', 'C', 'M'], ['NAT8-P1', 'P', 'F', 'yeah', 'NAT8-C16', 353, 'NAT8', 'C', 'M'], ['NAT8-P1', 'P', 'F', 'mm', 'NAT8-C16', 353, 'NAT8', 'C', 'M']]"
      ]
     },
     "execution_count": 45,
     "metadata": {},
     "output_type": "execute_result"
    }
   ],
   "source": [
    "# Regular Expressions - back channels: \n",
    "\n",
    "bk_chnl_list = []\n",
    "bk_chnls = []\n",
    "\n",
    "for x in art_list:\n",
    "    \n",
    "    speaker=x[0]\n",
    "    utt=x[1]\n",
    "    segment=x[2]\n",
    "    role=x[3]\n",
    "    gender=x[4]\n",
    "    line=x[5]\n",
    "    \n",
    "    # sometimes there are 2 speakers in 1 back channel (ex: <P1 and E1 laugh>)\n",
    "    bk_chnl_list.append(re.findall(r'<[PCE]+[0-9]+.*?>',line)) # every instance of a < > containing a different speaker than the line's speaker\n",
    "\n",
    "    for b in bk_chnl_list[-1]:\n",
    "    # a for loop to remove '<' from the other speakers list and replace with the segment (creating unique speaker ID):\n",
    "\n",
    "        b=str(b) # CONVERT TO STRING FOR NEXT FOR LOOP\n",
    "        b_index=bk_chnl_list[-1].index(b)\n",
    "        \n",
    "        # finding all back channels with multiple speakers\n",
    "        if re.findall(r'and [PCE]+[0-9]+',b):\n",
    "#             print(b)\n",
    "            \n",
    "            # NOTE: the 2-speaker back channels are all only one word (laugh or yes)\n",
    "            # so the right space separates the speakers from the back channels\n",
    "            \n",
    "            # space separating the speakers from the back channel (one word)\n",
    "            rspace = b.rindex(\" \")\n",
    "            # space after the first speaker\n",
    "            lspace = b.index(\" \")\n",
    "            \n",
    "            # extracting the back channel\n",
    "            channel = b[rspace+1:-1]\n",
    "            \n",
    "            # separating the 2 speakers, giving them their unique speakekr identities, and saving their roles \n",
    "            speaker1 = segment+\"-\"+b[1:lspace]\n",
    "            speaker1_role = b[1]\n",
    "            speaker2 = segment+\"-\"+b[lspace+5:rspace]\n",
    "            speaker2_role = b[lspace+5:rspace-1]\n",
    "            \n",
    "            # the 2 channel speakers' genders\n",
    "            speaker1_gen = speaker_df.loc[speaker1][\"Gender\"]\n",
    "            speaker2_gen = speaker_df.loc[speaker2][\"Gender\"]\n",
    "            \n",
    "            # Self-Check\n",
    "#             print(channel)\n",
    "#             print(speaker1)\n",
    "#             print(speaker1_role)\n",
    "#             print(speaker1_gen)\n",
    "#             print(speaker2)\n",
    "#             print(speaker2_role)\n",
    "#             print(speaker2_gen)\n",
    "            \n",
    "            # appending the separate back channels to the overall list\n",
    "            bk_chnls.append([speaker1,speaker1_role,speaker1_gen,channel,speaker,utt,segment,role,gender])\n",
    "            bk_chnls.append([speaker2,speaker2_role,speaker2_gen,channel,speaker,utt,segment,role,gender])\n",
    "            \n",
    "        else:\n",
    "            \n",
    "            # space separating the speaker from the back channel\n",
    "            space=b.index(\" \")\n",
    "            \n",
    "            # extracting the back channel, speaker, and role \n",
    "            channel = b[space+1:-1]\n",
    "            channel_speaker = segment+\"-\"+b[1:space]\n",
    "            channel_role = b[1]\n",
    "            \n",
    "            # finding back channel speaker gender\n",
    "            channel_gen = speaker_df.loc[channel_speaker][\"Gender\"]\n",
    "            \n",
    "            # appending the back channels to the overall list\n",
    "            bk_chnls.append([channel_speaker,channel_role,channel_gen,channel,speaker,utt,segment,role,gender])\n",
    "        \n",
    "len(bk_chnl_list)\n",
    "len(bk_chnls)\n",
    "bk_chnls[:20]\n",
    "bk_chnls[-20:]"
   ]
  },
  {
   "cell_type": "markdown",
   "metadata": {},
   "source": [
    "During this process, I found 3 more errors in the transcription, where speakers listed as the speakers of a back channel did\n",
    "not exist, because there was a typo. This means that there are likely more typos, but that the typo is a speaker that does exist."
   ]
  },
  {
   "cell_type": "markdown",
   "metadata": {},
   "source": [
    "### Back Channels Data Frame\n",
    "**bk_df**\n",
    "\n",
    "The first 4 columns are the new information about the back channel: \n",
    "- back channel speaker\n",
    "- back channel speaker type\n",
    "- back channel speaker gender\n",
    "- back channel\n",
    "\n",
    "The last 5 columns are the information from art_df about the line that the back channel comes from:\n",
    "- line speaker\n",
    "- segment's utterance nubmer \n",
    "- segment\n",
    "- line's speaker type\n",
    "- line's speaker gender"
   ]
  },
  {
   "cell_type": "code",
   "execution_count": 46,
   "metadata": {},
   "outputs": [
    {
     "data": {
      "text/html": [
       "<div>\n",
       "<style scoped>\n",
       "    .dataframe tbody tr th:only-of-type {\n",
       "        vertical-align: middle;\n",
       "    }\n",
       "\n",
       "    .dataframe tbody tr th {\n",
       "        vertical-align: top;\n",
       "    }\n",
       "\n",
       "    .dataframe thead th {\n",
       "        text-align: right;\n",
       "    }\n",
       "</style>\n",
       "<table border=\"1\" class=\"dataframe\">\n",
       "  <thead>\n",
       "    <tr style=\"text-align: right;\">\n",
       "      <th></th>\n",
       "      <th>Speaker</th>\n",
       "      <th>Speaker_Type</th>\n",
       "      <th>Speaker_Gender</th>\n",
       "      <th>Back_Channel</th>\n",
       "      <th>Line_Speaker</th>\n",
       "      <th>Segment_Utterance_Number</th>\n",
       "      <th>Segment</th>\n",
       "      <th>Line_Speaker_Type</th>\n",
       "      <th>Line_Speaker_Gender</th>\n",
       "    </tr>\n",
       "  </thead>\n",
       "  <tbody>\n",
       "    <tr>\n",
       "      <th>0</th>\n",
       "      <td>ABCE1-E1</td>\n",
       "      <td>E</td>\n",
       "      <td>M</td>\n",
       "      <td>sounds reasonable</td>\n",
       "      <td>ABCE1-P1</td>\n",
       "      <td>3</td>\n",
       "      <td>ABCE1</td>\n",
       "      <td>P</td>\n",
       "      <td>M</td>\n",
       "    </tr>\n",
       "    <tr>\n",
       "      <th>1</th>\n",
       "      <td>ABCE1-C1</td>\n",
       "      <td>C</td>\n",
       "      <td>F</td>\n",
       "      <td>laughs</td>\n",
       "      <td>ABCE1-P1</td>\n",
       "      <td>10</td>\n",
       "      <td>ABCE1</td>\n",
       "      <td>P</td>\n",
       "      <td>M</td>\n",
       "    </tr>\n",
       "    <tr>\n",
       "      <th>2</th>\n",
       "      <td>ABCE1-P1</td>\n",
       "      <td>P</td>\n",
       "      <td>M</td>\n",
       "      <td>yes</td>\n",
       "      <td>ABCE1-C1</td>\n",
       "      <td>11</td>\n",
       "      <td>ABCE1</td>\n",
       "      <td>C</td>\n",
       "      <td>F</td>\n",
       "    </tr>\n",
       "    <tr>\n",
       "      <th>3</th>\n",
       "      <td>ABCE1-E1</td>\n",
       "      <td>E</td>\n",
       "      <td>M</td>\n",
       "      <td>mm</td>\n",
       "      <td>ABCE1-C1</td>\n",
       "      <td>11</td>\n",
       "      <td>ABCE1</td>\n",
       "      <td>C</td>\n",
       "      <td>F</td>\n",
       "    </tr>\n",
       "    <tr>\n",
       "      <th>4</th>\n",
       "      <td>ABCE1-E1</td>\n",
       "      <td>E</td>\n",
       "      <td>M</td>\n",
       "      <td>mm</td>\n",
       "      <td>ABCE1-C1</td>\n",
       "      <td>11</td>\n",
       "      <td>ABCE1</td>\n",
       "      <td>C</td>\n",
       "      <td>F</td>\n",
       "    </tr>\n",
       "  </tbody>\n",
       "</table>\n",
       "</div>"
      ],
      "text/plain": [
       "    Speaker Speaker_Type Speaker_Gender       Back_Channel Line_Speaker  \\\n",
       "0  ABCE1-E1            E              M  sounds reasonable     ABCE1-P1   \n",
       "1  ABCE1-C1            C              F             laughs     ABCE1-P1   \n",
       "2  ABCE1-P1            P              M                yes     ABCE1-C1   \n",
       "3  ABCE1-E1            E              M                 mm     ABCE1-C1   \n",
       "4  ABCE1-E1            E              M                 mm     ABCE1-C1   \n",
       "\n",
       "   Segment_Utterance_Number Segment Line_Speaker_Type Line_Speaker_Gender  \n",
       "0                         3   ABCE1                 P                   M  \n",
       "1                        10   ABCE1                 P                   M  \n",
       "2                        11   ABCE1                 C                   F  \n",
       "3                        11   ABCE1                 C                   F  \n",
       "4                        11   ABCE1                 C                   F  "
      ]
     },
     "execution_count": 46,
     "metadata": {},
     "output_type": "execute_result"
    },
    {
     "data": {
      "text/html": [
       "<div>\n",
       "<style scoped>\n",
       "    .dataframe tbody tr th:only-of-type {\n",
       "        vertical-align: middle;\n",
       "    }\n",
       "\n",
       "    .dataframe tbody tr th {\n",
       "        vertical-align: top;\n",
       "    }\n",
       "\n",
       "    .dataframe thead th {\n",
       "        text-align: right;\n",
       "    }\n",
       "</style>\n",
       "<table border=\"1\" class=\"dataframe\">\n",
       "  <thead>\n",
       "    <tr style=\"text-align: right;\">\n",
       "      <th></th>\n",
       "      <th>Speaker</th>\n",
       "      <th>Speaker_Type</th>\n",
       "      <th>Speaker_Gender</th>\n",
       "      <th>Back_Channel</th>\n",
       "      <th>Line_Speaker</th>\n",
       "      <th>Segment_Utterance_Number</th>\n",
       "      <th>Segment</th>\n",
       "      <th>Line_Speaker_Type</th>\n",
       "      <th>Line_Speaker_Gender</th>\n",
       "    </tr>\n",
       "  </thead>\n",
       "  <tbody>\n",
       "    <tr>\n",
       "      <th>4641</th>\n",
       "      <td>NAT8-P1</td>\n",
       "      <td>P</td>\n",
       "      <td>F</td>\n",
       "      <td>mm</td>\n",
       "      <td>NAT8-C16</td>\n",
       "      <td>351</td>\n",
       "      <td>NAT8</td>\n",
       "      <td>C</td>\n",
       "      <td>M</td>\n",
       "    </tr>\n",
       "    <tr>\n",
       "      <th>4642</th>\n",
       "      <td>NAT8-P1</td>\n",
       "      <td>P</td>\n",
       "      <td>F</td>\n",
       "      <td>mm</td>\n",
       "      <td>NAT8-C16</td>\n",
       "      <td>351</td>\n",
       "      <td>NAT8</td>\n",
       "      <td>C</td>\n",
       "      <td>M</td>\n",
       "    </tr>\n",
       "    <tr>\n",
       "      <th>4643</th>\n",
       "      <td>NAT8-P1</td>\n",
       "      <td>P</td>\n",
       "      <td>F</td>\n",
       "      <td>mhm</td>\n",
       "      <td>NAT8-C16</td>\n",
       "      <td>353</td>\n",
       "      <td>NAT8</td>\n",
       "      <td>C</td>\n",
       "      <td>M</td>\n",
       "    </tr>\n",
       "    <tr>\n",
       "      <th>4644</th>\n",
       "      <td>NAT8-P1</td>\n",
       "      <td>P</td>\n",
       "      <td>F</td>\n",
       "      <td>yeah</td>\n",
       "      <td>NAT8-C16</td>\n",
       "      <td>353</td>\n",
       "      <td>NAT8</td>\n",
       "      <td>C</td>\n",
       "      <td>M</td>\n",
       "    </tr>\n",
       "    <tr>\n",
       "      <th>4645</th>\n",
       "      <td>NAT8-P1</td>\n",
       "      <td>P</td>\n",
       "      <td>F</td>\n",
       "      <td>mm</td>\n",
       "      <td>NAT8-C16</td>\n",
       "      <td>353</td>\n",
       "      <td>NAT8</td>\n",
       "      <td>C</td>\n",
       "      <td>M</td>\n",
       "    </tr>\n",
       "  </tbody>\n",
       "</table>\n",
       "</div>"
      ],
      "text/plain": [
       "      Speaker Speaker_Type Speaker_Gender Back_Channel Line_Speaker  \\\n",
       "4641  NAT8-P1            P              F           mm     NAT8-C16   \n",
       "4642  NAT8-P1            P              F           mm     NAT8-C16   \n",
       "4643  NAT8-P1            P              F          mhm     NAT8-C16   \n",
       "4644  NAT8-P1            P              F         yeah     NAT8-C16   \n",
       "4645  NAT8-P1            P              F           mm     NAT8-C16   \n",
       "\n",
       "      Segment_Utterance_Number Segment Line_Speaker_Type Line_Speaker_Gender  \n",
       "4641                       351    NAT8                 C                   M  \n",
       "4642                       351    NAT8                 C                   M  \n",
       "4643                       353    NAT8                 C                   M  \n",
       "4644                       353    NAT8                 C                   M  \n",
       "4645                       353    NAT8                 C                   M  "
      ]
     },
     "execution_count": 46,
     "metadata": {},
     "output_type": "execute_result"
    }
   ],
   "source": [
    "bk_df=pd.DataFrame(columns=[\"Speaker\",\"Speaker_Type\",\"Speaker_Gender\",\"Back_Channel\",\"Line_Speaker\",\"Segment_Utterance_Number\",\"Segment\",\"Line_Speaker_Type\",\"Line_Speaker_Gender\"], data=bk_chnls)\n",
    "bk_df.head()\n",
    "bk_df.tail() # still has an inaudible, but it was spoken by someone besides the line's speaker"
   ]
  },
  {
   "cell_type": "markdown",
   "metadata": {},
   "source": [
    "## Writing Data Frames to CSV files\n",
    "\n",
    "Because I am not allowed to distribute the data, these csv files are sent to my data_files folder, whose contents are not visible on GitHub."
   ]
  },
  {
   "cell_type": "code",
   "execution_count": 47,
   "metadata": {},
   "outputs": [],
   "source": [
    "# Writing data frames to CSV files\n",
    "speaker_df.to_csv(\"data_files/Speakers.csv\")\n",
    "art_df.to_csv(\"data_files/Texts.csv\")\n",
    "bk_df.to_csv(\"data_files/Back_Channels.csv\")"
   ]
  },
  {
   "cell_type": "markdown",
   "metadata": {},
   "source": [
    "## Analysis\n",
    "This concludes the construction of the 3 data frames. The analysis can be found in a separate file, [analysis.ipynb](https://github.com/Data-Science-for-Linguists/Discourse-Analysis-ART-Corpus/blob/master/analysis.ipynb)."
   ]
  },
  {
   "cell_type": "code",
   "execution_count": null,
   "metadata": {},
   "outputs": [],
   "source": []
  }
 ],
 "metadata": {
  "kernelspec": {
   "display_name": "Python 3",
   "language": "python",
   "name": "python3"
  },
  "language_info": {
   "codemirror_mode": {
    "name": "ipython",
    "version": 3
   },
   "file_extension": ".py",
   "mimetype": "text/x-python",
   "name": "python",
   "nbconvert_exporter": "python",
   "pygments_lexer": "ipython3",
   "version": "3.5.2"
  }
 },
 "nbformat": 4,
 "nbformat_minor": 2
}
